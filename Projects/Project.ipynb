{
  "nbformat": 4,
  "nbformat_minor": 0,
  "metadata": {
    "colab": {
      "provenance": []
    },
    "kernelspec": {
      "name": "python3",
      "display_name": "Python 3"
    },
    "language_info": {
      "name": "python"
    }
  },
  "cells": [
    {
      "cell_type": "markdown",
      "source": [
        "Q_1"
      ],
      "metadata": {
        "id": "hniNtD-Zew1w"
      }
    },
    {
      "cell_type": "code",
      "source": [
        "from tqdm import tqdm\n",
        "import numpy as np\n",
        "import matplotlib.pyplot as plt\n",
        "\n",
        "import torch\n",
        "import torchvision\n",
        "import torchvision.transforms as transforms\n",
        "from sklearn.model_selection import train_test_split"
      ],
      "metadata": {
        "id": "aY3-XWyHghIC"
      },
      "execution_count": null,
      "outputs": []
    },
    {
      "cell_type": "code",
      "source": [
        "# Load the MNIST dataset\n",
        "transform = transforms.Compose([\n",
        "    transforms.ToTensor()\n",
        "])\n",
        "\n",
        "trainset = torchvision.datasets.MNIST(root='./data', train=True, download=True)\n",
        "testset = torchvision.datasets.MNIST(root='./data', train=False, download=True)\n",
        "\n",
        "X_train_torch = trainset.data\n",
        "Y_train_torch = trainset.targets\n",
        "\n",
        "X_test_torch = testset.data\n",
        "Y_test_torch = testset.targets\n",
        "\n",
        "\n",
        "\n",
        "# Training Images:\n",
        "X_train = X_train_torch.numpy()\n",
        "# Training Labels:\n",
        "Y_train = Y_train_torch.numpy()\n",
        "\n",
        "# Test Images:\n",
        "X_test = X_test_torch.numpy()\n",
        "# Test Labels:\n",
        "Y_test = Y_test_torch.numpy()"
      ],
      "metadata": {
        "colab": {
          "base_uri": "https://localhost:8080/"
        },
        "id": "t0Z15GkFglKD",
        "outputId": "f7b0a847-6159-4087-814c-fe2b06093332"
      },
      "execution_count": null,
      "outputs": [
        {
          "output_type": "stream",
          "name": "stdout",
          "text": [
            "Downloading http://yann.lecun.com/exdb/mnist/train-images-idx3-ubyte.gz\n",
            "Failed to download (trying next):\n",
            "HTTP Error 403: Forbidden\n",
            "\n",
            "Downloading https://ossci-datasets.s3.amazonaws.com/mnist/train-images-idx3-ubyte.gz\n",
            "Downloading https://ossci-datasets.s3.amazonaws.com/mnist/train-images-idx3-ubyte.gz to ./data/MNIST/raw/train-images-idx3-ubyte.gz\n"
          ]
        },
        {
          "output_type": "stream",
          "name": "stderr",
          "text": [
            "100%|██████████| 9.91M/9.91M [00:00<00:00, 42.6MB/s]\n"
          ]
        },
        {
          "output_type": "stream",
          "name": "stdout",
          "text": [
            "Extracting ./data/MNIST/raw/train-images-idx3-ubyte.gz to ./data/MNIST/raw\n",
            "\n",
            "Downloading http://yann.lecun.com/exdb/mnist/train-labels-idx1-ubyte.gz\n",
            "Failed to download (trying next):\n",
            "HTTP Error 403: Forbidden\n",
            "\n",
            "Downloading https://ossci-datasets.s3.amazonaws.com/mnist/train-labels-idx1-ubyte.gz\n",
            "Downloading https://ossci-datasets.s3.amazonaws.com/mnist/train-labels-idx1-ubyte.gz to ./data/MNIST/raw/train-labels-idx1-ubyte.gz\n"
          ]
        },
        {
          "output_type": "stream",
          "name": "stderr",
          "text": [
            "100%|██████████| 28.9k/28.9k [00:00<00:00, 1.24MB/s]\n"
          ]
        },
        {
          "output_type": "stream",
          "name": "stdout",
          "text": [
            "Extracting ./data/MNIST/raw/train-labels-idx1-ubyte.gz to ./data/MNIST/raw\n",
            "\n",
            "Downloading http://yann.lecun.com/exdb/mnist/t10k-images-idx3-ubyte.gz\n",
            "Failed to download (trying next):\n",
            "HTTP Error 403: Forbidden\n",
            "\n",
            "Downloading https://ossci-datasets.s3.amazonaws.com/mnist/t10k-images-idx3-ubyte.gz\n",
            "Downloading https://ossci-datasets.s3.amazonaws.com/mnist/t10k-images-idx3-ubyte.gz to ./data/MNIST/raw/t10k-images-idx3-ubyte.gz\n"
          ]
        },
        {
          "output_type": "stream",
          "name": "stderr",
          "text": [
            "100%|██████████| 1.65M/1.65M [00:00<00:00, 10.8MB/s]\n"
          ]
        },
        {
          "output_type": "stream",
          "name": "stdout",
          "text": [
            "Extracting ./data/MNIST/raw/t10k-images-idx3-ubyte.gz to ./data/MNIST/raw\n",
            "\n",
            "Downloading http://yann.lecun.com/exdb/mnist/t10k-labels-idx1-ubyte.gz\n",
            "Failed to download (trying next):\n",
            "HTTP Error 403: Forbidden\n",
            "\n",
            "Downloading https://ossci-datasets.s3.amazonaws.com/mnist/t10k-labels-idx1-ubyte.gz\n",
            "Downloading https://ossci-datasets.s3.amazonaws.com/mnist/t10k-labels-idx1-ubyte.gz to ./data/MNIST/raw/t10k-labels-idx1-ubyte.gz\n"
          ]
        },
        {
          "output_type": "stream",
          "name": "stderr",
          "text": [
            "100%|██████████| 4.54k/4.54k [00:00<00:00, 3.89MB/s]"
          ]
        },
        {
          "output_type": "stream",
          "name": "stdout",
          "text": [
            "Extracting ./data/MNIST/raw/t10k-labels-idx1-ubyte.gz to ./data/MNIST/raw\n",
            "\n"
          ]
        },
        {
          "output_type": "stream",
          "name": "stderr",
          "text": [
            "\n"
          ]
        }
      ]
    },
    {
      "cell_type": "code",
      "source": [
        "# Binarize the data by applying a threshold\n",
        "threshold = 128  # Pixel values above 128 will be set to 1, others to 0\n",
        "x_train_binary = (x_train > threshold).astype(np.uint32)\n",
        "x_test_binary = (x_test > threshold).astype(np.uint32)\n",
        "x_train_binary = x_train_binary.reshape(-1, 28 * 28)\n",
        "x_test_binary = x_test_binary.reshape(-1, 28 * 28)"
      ],
      "metadata": {
        "id": "Fyoczl3mgr6H"
      },
      "execution_count": null,
      "outputs": []
    },
    {
      "cell_type": "code",
      "source": [
        "# Display a few samples from the binary dataset\n",
        "def show_samples(samples, nrows=2, ncols=5):\n",
        "    fig, axes = plt.subplots(nrows, ncols, figsize=(10, 5))\n",
        "    for i, ax in enumerate(axes.flat):\n",
        "        # Reshape each sample back to (28, 28) for display\n",
        "        ax.imshow(samples[i].reshape(28, 28), cmap='binary')\n",
        "        ax.axis('off')\n",
        "    plt.tight_layout()\n",
        "    plt.show()"
      ],
      "metadata": {
        "id": "-Lk-RDaWgtDd"
      },
      "execution_count": null,
      "outputs": []
    },
    {
      "cell_type": "code",
      "execution_count": null,
      "metadata": {
        "colab": {
          "base_uri": "https://localhost:8080/",
          "height": 440
        },
        "id": "AgNBDeGkemAG",
        "outputId": "279a74c0-ecff-4fec-cb37-2d1b12427fa6"
      },
      "outputs": [
        {
          "output_type": "display_data",
          "data": {
            "text/plain": [
              "<Figure size 1000x500 with 10 Axes>"
            ],
            "image/png": "[encoded data removed]"
          },
          "metadata": {}
        }
      ],
      "source": [
        "show_samples(x_train_binary[:10])"
      ]
    },
    {
      "cell_type": "markdown",
      "source": [
        "Q_2"
      ],
      "metadata": {
        "id": "BK2_hMXwgx2f"
      }
    },
    {
      "cell_type": "code",
      "source": [
        "class RBM:\n",
        "    def __init__(self, n_visible, n_hidden):\n",
        "      self.n_visible = n_visible\n",
        "      self.n_hidden = n_hidden\n",
        "      self.W = np.random.normal(0, 0.01, (n_visible, n_hidden))  # Gaussian init\n",
        "      self.v_bias = np.zeros(n_visible)\n",
        "      self.h_bias = np.zeros(n_hidden)\n",
        "\n",
        "    def sigmoid(self, x):\n",
        "        return 1 / (1 + np.exp(-x))\n",
        "\n",
        "    def sample(self, prob):\n",
        "        return (np.random.rand(*prob.shape) < prob).astype(np.float32)\n",
        "\n",
        "    def gibbs_sampling(self, v, k):\n",
        "        for _ in range(k):\n",
        "            h_prob = self.sigmoid(np.dot(v, self.W) + self.h_bias)\n",
        "            h_sample = self.sample(h_prob)\n",
        "            v_prob = self.sigmoid(np.dot(h_sample, self.W.T) + self.v_bias)\n",
        "            v = self.sample(v_prob)\n",
        "        return v\n",
        "\n",
        "    def contrastive_divergence(self, v, k, lr):\n",
        "        v_neg = v.copy()  # Initialize negative visible states\n",
        "        for _ in range(k):\n",
        "            h_prob = self.sigmoid(np.dot(v_neg, self.W) + self.h_bias)  # Hidden probabilities\n",
        "            h_state = (h_prob > np.random.rand(*h_prob.shape)).astype(np.float32)  # Sample h\n",
        "            v_prob_neg = self.sigmoid(np.dot(h_state, self.W.T) + self.v_bias)  # Reconstruct v\n",
        "            v_neg = (v_prob_neg > np.random.rand(*v_prob_neg.shape)).astype(np.float32)  # Sample v\n",
        "\n",
        "        # Update weights and biases\n",
        "        h_prob = self.sigmoid(np.dot(v, self.W) + self.h_bias)  # Positive phase\n",
        "        h_prob_neg = self.sigmoid(np.dot(v_neg, self.W) + self.h_bias)  # Negative phase\n",
        "\n",
        "        positive_grad = np.dot(v.T, h_prob)\n",
        "        negative_grad = np.dot(v_neg.T, h_prob_neg)\n",
        "        self.W += lr * (positive_grad - negative_grad) / v.shape[0]\n",
        "        self.v_bias += lr * np.mean(v - v_neg, axis=0)\n",
        "        self.h_bias += lr * np.mean(h_prob - h_prob_neg, axis=0)\n",
        "\n",
        "        return v_neg  # Return the negative visible states\n",
        "\n",
        "    def train(self, data, epochs=10, k=1, lr=0.01, batch_size=64):\n",
        "        for epoch in range(epochs):\n",
        "            np.random.shuffle(data)\n",
        "            epoch_loss = 0\n",
        "            for batch_start in range(0, len(data), batch_size):\n",
        "                batch = data[batch_start:batch_start + batch_size]\n",
        "                v_neg = self.contrastive_divergence(batch, k, lr)\n",
        "                epoch_loss += np.mean((batch - v_neg) ** 2)  # Reconstruction loss\n",
        "            print(f\"Epoch {epoch + 1}/{epochs}, Loss: {epoch_loss / len(data):.4f}\")\n",
        "\n",
        "    def generate_samples(self, n_samples=10, k=1):\n",
        "        samples = np.random.rand(n_samples, self.n_visible)\n",
        "        samples = self.gibbs_sampling(samples, k)\n",
        "        return samples"
      ],
      "metadata": {
        "id": "eo_bdVargxQd"
      },
      "execution_count": null,
      "outputs": []
    },
    {
      "cell_type": "code",
      "source": [
        "x_train = x_train.reshape(x_train.shape[0], -1)  # Flatten to (num_samples, n_visible)\n",
        "# Initialize and train RBM for different values of k\n",
        "n_visible = x_train.shape[1]\n",
        "n_hidden = 128\n",
        "k_values = [1, 3, 5]\n",
        "rbms = {}\n",
        "\n",
        "for k in k_values:\n",
        "    print(f\"Training RBM with k={k}\")\n",
        "    rbm = RBM(n_visible, n_hidden)\n",
        "    rbm.train(x_train, epochs=50, k=10, lr=0.01, batch_size=128)\n",
        "    rbms[k] = rbm"
      ],
      "metadata": {
        "colab": {
          "base_uri": "https://localhost:8080/",
          "height": 807
        },
        "id": "IsRPseBijAmX",
        "outputId": "77563f38-0d2c-44d2-eb76-55b4419b12c2"
      },
      "execution_count": null,
      "outputs": [
        {
          "output_type": "stream",
          "name": "stdout",
          "text": [
            "Training RBM with k=1\n",
            "Epoch 1/50, Loss: 0.0018\n",
            "Epoch 2/50, Loss: 0.0013\n",
            "Epoch 3/50, Loss: 0.0011\n",
            "Epoch 4/50, Loss: 0.0011\n",
            "Epoch 5/50, Loss: 0.0010\n",
            "Epoch 6/50, Loss: 0.0010\n",
            "Epoch 7/50, Loss: 0.0010\n",
            "Epoch 8/50, Loss: 0.0009\n",
            "Epoch 9/50, Loss: 0.0009\n",
            "Epoch 10/50, Loss: 0.0009\n",
            "Epoch 11/50, Loss: 0.0009\n",
            "Epoch 12/50, Loss: 0.0009\n",
            "Epoch 13/50, Loss: 0.0009\n",
            "Epoch 14/50, Loss: 0.0008\n",
            "Epoch 15/50, Loss: 0.0008\n",
            "Epoch 16/50, Loss: 0.0008\n",
            "Epoch 17/50, Loss: 0.0008\n",
            "Epoch 18/50, Loss: 0.0008\n",
            "Epoch 19/50, Loss: 0.0008\n",
            "Epoch 20/50, Loss: 0.0008\n",
            "Epoch 21/50, Loss: 0.0008\n",
            "Epoch 22/50, Loss: 0.0008\n",
            "Epoch 23/50, Loss: 0.0008\n",
            "Epoch 24/50, Loss: 0.0008\n",
            "Epoch 25/50, Loss: 0.0008\n",
            "Epoch 26/50, Loss: 0.0008\n"
          ]
        },
        {
          "output_type": "error",
          "ename": "KeyboardInterrupt",
          "evalue": "",
          "traceback": [
            "\u001b[0;31m---------------------------------------------------------------------------\u001b[0m",
            "\u001b[0;31mKeyboardInterrupt\u001b[0m                         Traceback (most recent call last)",
            "\u001b[0;32m<ipython-input-46-53005043c14a>\u001b[0m in \u001b[0;36m<cell line: 8>\u001b[0;34m()\u001b[0m\n\u001b[1;32m      9\u001b[0m     \u001b[0mprint\u001b[0m\u001b[0;34m(\u001b[0m\u001b[0;34mf\"Training RBM with k={k}\"\u001b[0m\u001b[0;34m)\u001b[0m\u001b[0;34m\u001b[0m\u001b[0;34m\u001b[0m\u001b[0m\n\u001b[1;32m     10\u001b[0m     \u001b[0mrbm\u001b[0m \u001b[0;34m=\u001b[0m \u001b[0mRBM\u001b[0m\u001b[0;34m(\u001b[0m\u001b[0mn_visible\u001b[0m\u001b[0;34m,\u001b[0m \u001b[0mn_hidden\u001b[0m\u001b[0;34m)\u001b[0m\u001b[0;34m\u001b[0m\u001b[0;34m\u001b[0m\u001b[0m\n\u001b[0;32m---> 11\u001b[0;31m     \u001b[0mrbm\u001b[0m\u001b[0;34m.\u001b[0m\u001b[0mtrain\u001b[0m\u001b[0;34m(\u001b[0m\u001b[0mx_train\u001b[0m\u001b[0;34m,\u001b[0m \u001b[0mepochs\u001b[0m\u001b[0;34m=\u001b[0m\u001b[0;36m50\u001b[0m\u001b[0;34m,\u001b[0m \u001b[0mk\u001b[0m\u001b[0;34m=\u001b[0m\u001b[0;36m10\u001b[0m\u001b[0;34m,\u001b[0m \u001b[0mlr\u001b[0m\u001b[0;34m=\u001b[0m\u001b[0;36m0.01\u001b[0m\u001b[0;34m,\u001b[0m \u001b[0mbatch_size\u001b[0m\u001b[0;34m=\u001b[0m\u001b[0;36m128\u001b[0m\u001b[0;34m)\u001b[0m\u001b[0;34m\u001b[0m\u001b[0;34m\u001b[0m\u001b[0m\n\u001b[0m\u001b[1;32m     12\u001b[0m     \u001b[0mrbms\u001b[0m\u001b[0;34m[\u001b[0m\u001b[0mk\u001b[0m\u001b[0;34m]\u001b[0m \u001b[0;34m=\u001b[0m \u001b[0mrbm\u001b[0m\u001b[0;34m\u001b[0m\u001b[0;34m\u001b[0m\u001b[0m\n",
            "\u001b[0;32m<ipython-input-44-bb9ff1b4746f>\u001b[0m in \u001b[0;36mtrain\u001b[0;34m(self, data, epochs, k, lr, batch_size)\u001b[0m\n\u001b[1;32m     47\u001b[0m             \u001b[0;32mfor\u001b[0m \u001b[0mbatch_start\u001b[0m \u001b[0;32min\u001b[0m \u001b[0mrange\u001b[0m\u001b[0;34m(\u001b[0m\u001b[0;36m0\u001b[0m\u001b[0;34m,\u001b[0m \u001b[0mlen\u001b[0m\u001b[0;34m(\u001b[0m\u001b[0mdata\u001b[0m\u001b[0;34m)\u001b[0m\u001b[0;34m,\u001b[0m \u001b[0mbatch_size\u001b[0m\u001b[0;34m)\u001b[0m\u001b[0;34m:\u001b[0m\u001b[0;34m\u001b[0m\u001b[0;34m\u001b[0m\u001b[0m\n\u001b[1;32m     48\u001b[0m                 \u001b[0mbatch\u001b[0m \u001b[0;34m=\u001b[0m \u001b[0mdata\u001b[0m\u001b[0;34m[\u001b[0m\u001b[0mbatch_start\u001b[0m\u001b[0;34m:\u001b[0m\u001b[0mbatch_start\u001b[0m \u001b[0;34m+\u001b[0m \u001b[0mbatch_size\u001b[0m\u001b[0;34m]\u001b[0m\u001b[0;34m\u001b[0m\u001b[0;34m\u001b[0m\u001b[0m\n\u001b[0;32m---> 49\u001b[0;31m                 \u001b[0mv_neg\u001b[0m \u001b[0;34m=\u001b[0m \u001b[0mself\u001b[0m\u001b[0;34m.\u001b[0m\u001b[0mcontrastive_divergence\u001b[0m\u001b[0;34m(\u001b[0m\u001b[0mbatch\u001b[0m\u001b[0;34m,\u001b[0m \u001b[0mk\u001b[0m\u001b[0;34m,\u001b[0m \u001b[0mlr\u001b[0m\u001b[0;34m)\u001b[0m\u001b[0;34m\u001b[0m\u001b[0;34m\u001b[0m\u001b[0m\n\u001b[0m\u001b[1;32m     50\u001b[0m                 \u001b[0mepoch_loss\u001b[0m \u001b[0;34m+=\u001b[0m \u001b[0mnp\u001b[0m\u001b[0;34m.\u001b[0m\u001b[0mmean\u001b[0m\u001b[0;34m(\u001b[0m\u001b[0;34m(\u001b[0m\u001b[0mbatch\u001b[0m \u001b[0;34m-\u001b[0m \u001b[0mv_neg\u001b[0m\u001b[0;34m)\u001b[0m \u001b[0;34m**\u001b[0m \u001b[0;36m2\u001b[0m\u001b[0;34m)\u001b[0m  \u001b[0;31m# Reconstruction loss\u001b[0m\u001b[0;34m\u001b[0m\u001b[0;34m\u001b[0m\u001b[0m\n\u001b[1;32m     51\u001b[0m             \u001b[0mprint\u001b[0m\u001b[0;34m(\u001b[0m\u001b[0;34mf\"Epoch {epoch + 1}/{epochs}, Loss: {epoch_loss / len(data):.4f}\"\u001b[0m\u001b[0;34m)\u001b[0m\u001b[0;34m\u001b[0m\u001b[0;34m\u001b[0m\u001b[0m\n",
            "\u001b[0;32m<ipython-input-44-bb9ff1b4746f>\u001b[0m in \u001b[0;36mcontrastive_divergence\u001b[0;34m(self, v, k, lr)\u001b[0m\n\u001b[1;32m     24\u001b[0m         \u001b[0mv_neg\u001b[0m \u001b[0;34m=\u001b[0m \u001b[0mv\u001b[0m\u001b[0;34m.\u001b[0m\u001b[0mcopy\u001b[0m\u001b[0;34m(\u001b[0m\u001b[0;34m)\u001b[0m  \u001b[0;31m# Initialize negative visible states\u001b[0m\u001b[0;34m\u001b[0m\u001b[0;34m\u001b[0m\u001b[0m\n\u001b[1;32m     25\u001b[0m         \u001b[0;32mfor\u001b[0m \u001b[0m_\u001b[0m \u001b[0;32min\u001b[0m \u001b[0mrange\u001b[0m\u001b[0;34m(\u001b[0m\u001b[0mk\u001b[0m\u001b[0;34m)\u001b[0m\u001b[0;34m:\u001b[0m\u001b[0;34m\u001b[0m\u001b[0;34m\u001b[0m\u001b[0m\n\u001b[0;32m---> 26\u001b[0;31m             \u001b[0mh_prob\u001b[0m \u001b[0;34m=\u001b[0m \u001b[0mself\u001b[0m\u001b[0;34m.\u001b[0m\u001b[0msigmoid\u001b[0m\u001b[0;34m(\u001b[0m\u001b[0mnp\u001b[0m\u001b[0;34m.\u001b[0m\u001b[0mdot\u001b[0m\u001b[0;34m(\u001b[0m\u001b[0mv_neg\u001b[0m\u001b[0;34m,\u001b[0m \u001b[0mself\u001b[0m\u001b[0;34m.\u001b[0m\u001b[0mW\u001b[0m\u001b[0;34m)\u001b[0m \u001b[0;34m+\u001b[0m \u001b[0mself\u001b[0m\u001b[0;34m.\u001b[0m\u001b[0mh_bias\u001b[0m\u001b[0;34m)\u001b[0m  \u001b[0;31m# Hidden probabilities\u001b[0m\u001b[0;34m\u001b[0m\u001b[0;34m\u001b[0m\u001b[0m\n\u001b[0m\u001b[1;32m     27\u001b[0m             \u001b[0mh_state\u001b[0m \u001b[0;34m=\u001b[0m \u001b[0;34m(\u001b[0m\u001b[0mh_prob\u001b[0m \u001b[0;34m>\u001b[0m \u001b[0mnp\u001b[0m\u001b[0;34m.\u001b[0m\u001b[0mrandom\u001b[0m\u001b[0;34m.\u001b[0m\u001b[0mrand\u001b[0m\u001b[0;34m(\u001b[0m\u001b[0;34m*\u001b[0m\u001b[0mh_prob\u001b[0m\u001b[0;34m.\u001b[0m\u001b[0mshape\u001b[0m\u001b[0;34m)\u001b[0m\u001b[0;34m)\u001b[0m\u001b[0;34m.\u001b[0m\u001b[0mastype\u001b[0m\u001b[0;34m(\u001b[0m\u001b[0mnp\u001b[0m\u001b[0;34m.\u001b[0m\u001b[0mfloat32\u001b[0m\u001b[0;34m)\u001b[0m  \u001b[0;31m# Sample h\u001b[0m\u001b[0;34m\u001b[0m\u001b[0;34m\u001b[0m\u001b[0m\n\u001b[1;32m     28\u001b[0m             \u001b[0mv_prob_neg\u001b[0m \u001b[0;34m=\u001b[0m \u001b[0mself\u001b[0m\u001b[0;34m.\u001b[0m\u001b[0msigmoid\u001b[0m\u001b[0;34m(\u001b[0m\u001b[0mnp\u001b[0m\u001b[0;34m.\u001b[0m\u001b[0mdot\u001b[0m\u001b[0;34m(\u001b[0m\u001b[0mh_state\u001b[0m\u001b[0;34m,\u001b[0m \u001b[0mself\u001b[0m\u001b[0;34m.\u001b[0m\u001b[0mW\u001b[0m\u001b[0;34m.\u001b[0m\u001b[0mT\u001b[0m\u001b[0;34m)\u001b[0m \u001b[0;34m+\u001b[0m \u001b[0mself\u001b[0m\u001b[0;34m.\u001b[0m\u001b[0mv_bias\u001b[0m\u001b[0;34m)\u001b[0m  \u001b[0;31m# Reconstruct v\u001b[0m\u001b[0;34m\u001b[0m\u001b[0;34m\u001b[0m\u001b[0m\n",
            "\u001b[0;31mKeyboardInterrupt\u001b[0m: "
          ]
        }
      ]
    },
    {
      "cell_type": "code",
      "source": [
        "# Generate and visualize samples\n",
        "def show_generated_samples(rbm, k, n_samples=10):\n",
        "    print(f\"Generated samples for k={k}\")\n",
        "    samples = rbm.generate_samples(n_samples, k)\n",
        "    samples = samples.reshape((-1, 28, 28))\n",
        "    fig, axes = plt.subplots(1, n_samples, figsize=(15, 3))\n",
        "    for i, ax in enumerate(axes):\n",
        "        ax.imshow(samples[i], cmap='binary')\n",
        "        ax.axis('off')\n",
        "    plt.show()"
      ],
      "metadata": {
        "id": "XJXN0zAhjN0l"
      },
      "execution_count": null,
      "outputs": []
    },
    {
      "cell_type": "code",
      "source": [
        "for k in k_values:\n",
        "    show_generated_samples(rbms[k], k)"
      ],
      "metadata": {
        "colab": {
          "base_uri": "https://localhost:8080/",
          "height": 423
        },
        "id": "kGXVlQLBjXG8",
        "outputId": "a9ceda95-e1df-4664-b47b-7c4ffcd92d2d"
      },
      "execution_count": null,
      "outputs": [
        {
          "output_type": "stream",
          "name": "stdout",
          "text": [
            "Generated samples for k=1\n"
          ]
        },
        {
          "output_type": "display_data",
          "data": {
            "text/plain": [
              "<Figure size 1500x300 with 10 Axes>"
            ],
            "image/png": "[encoded data removed]"
          },
          "metadata": {}
        },
        {
          "output_type": "stream",
          "name": "stdout",
          "text": [
            "Generated samples for k=3\n"
          ]
        },
        {
          "output_type": "display_data",
          "data": {
            "text/plain": [
              "<Figure size 1500x300 with 10 Axes>"
            ],
            "image/png": "[encoded data removed]"
          },
          "metadata": {}
        },
        {
          "output_type": "stream",
          "name": "stdout",
          "text": [
            "Generated samples for k=5\n"
          ]
        },
        {
          "output_type": "display_data",
          "data": {
            "text/plain": [
              "<Figure size 1500x300 with 10 Axes>"
            ],
            "image/png": "[encoded data removed]"
          },
          "metadata": {}
        }
      ]
    },
    {
      "cell_type": "markdown",
      "source": [
        "Q_3"
      ],
      "metadata": {
        "id": "-wCVRr38jacf"
      }
    },
    {
      "cell_type": "code",
      "source": [
        "def visualize_mcmc_process(rbm, n_samples=5, k=5):\n",
        "    \"\"\"\n",
        "    Visualize the MCMC process in RBM (v_0, v_1, ..., v_k).\n",
        "    \"\"\"\n",
        "    samples = np.random.rand(n_samples, rbm.n_visible)  # Random initialization\n",
        "    process = [samples]  # Store intermediate states\n",
        "\n",
        "    # Perform Gibbs sampling for k steps and store each step\n",
        "    for _ in range(k):\n",
        "        h_prob = rbm.sigmoid(np.dot(samples, rbm.W) + rbm.h_bias)\n",
        "        h_sample = rbm.sample(h_prob)\n",
        "        v_prob = rbm.sigmoid(np.dot(h_sample, rbm.W.T) + rbm.v_bias)\n",
        "        samples = rbm.sample(v_prob)\n",
        "        process.append(samples)\n",
        "\n",
        "    # Visualize the process for each sample\n",
        "    fig, axes = plt.subplots(n_samples, k + 1, figsize=(15, n_samples * 2))\n",
        "    for i in range(n_samples):\n",
        "        for j in range(k + 1):\n",
        "            ax = axes[i, j] if n_samples > 1 else axes[j]\n",
        "            ax.imshow(process[j][i].reshape(28, 28), cmap='binary')\n",
        "            ax.axis('off')\n",
        "            if i == 0:\n",
        "                ax.set_title(f\"v_{j}\", fontsize=10)\n",
        "    plt.tight_layout()\n",
        "    plt.show()\n",
        "\n",
        "# Visualize the MCMC process for k=5 with the trained RBM (k=1)\n",
        "visualize_mcmc_process(rbms[1], n_samples=5, k=5)"
      ],
      "metadata": {
        "id": "_22M1AHujZ8o"
      },
      "execution_count": null,
      "outputs": []
    },
    {
      "cell_type": "markdown",
      "source": [
        "Q_4"
      ],
      "metadata": {
        "id": "uP4dbHDfk_Jz"
      }
    },
    {
      "cell_type": "code",
      "source": [
        "class ConditionalRBM(RBM):\n",
        "    def __init__(self, n_visible, n_hidden, n_classes):\n",
        "        super().__init__(n_visible + n_classes, n_hidden)\n",
        "        self.n_classes = n_classes\n",
        "\n",
        "    def train(self, data, labels, epochs=10, k=1, lr=0.01, batch_size=64):\n",
        "        data_with_labels = np.hstack([data, labels])  # Append class labels\n",
        "        super().train(data_with_labels, epochs, k, lr, batch_size)\n",
        "\n",
        "    def generate_samples(self, target_label, n_samples=10, k=1):\n",
        "        # Initialize samples and set target label\n",
        "        samples = np.random.rand(n_samples, self.n_visible)\n",
        "        labels = np.zeros((n_samples, self.n_classes))\n",
        "        labels[np.arange(n_samples), target_label] = 1\n",
        "        samples_with_labels = np.hstack([samples, labels])\n",
        "\n",
        "        # Perform Gibbs sampling\n",
        "        generated = self.gibbs_sampling(samples_with_labels, k)\n",
        "        return generated[:, :-self.n_classes]  # Return only the visible units\n",
        "\n",
        "# Prepare one-hot encoded labels\n",
        "n_classes = 10\n",
        "y_train_one_hot = np.eye(n_classes)[y_train]  # Convert labels to one-hot\n",
        "\n",
        "# Train a conditional RBM\n",
        "conditional_rbm = ConditionalRBM(n_visible, n_hidden, n_classes)\n",
        "print(\"Training Conditional RBM...\")\n",
        "conditional_rbm.train(x_train, y_train_one_hot, epochs=5, k=1, lr=0.01, batch_size=64)\n",
        "\n",
        "# Generate samples for specific digits\n",
        "target_digits = [0, 1]  # Digits to generate\n",
        "for digit in target_digits:\n",
        "    print(f\"Generated samples for digit {digit}:\")\n",
        "    generated_samples = conditional_rbm.generate_samples(target_label=digit, n_samples=5, k=5)\n",
        "    generated_samples = generated_samples.reshape((-1, 28, 28))\n",
        "    fig, axes = plt.subplots(1, 5, figsize=(15, 3))\n",
        "    for i, ax in enumerate(axes):\n",
        "        ax.imshow(generated_samples[i], cmap='binary')\n",
        "        ax.axis('off')\n",
        "    plt.show()"
      ],
      "metadata": {
        "id": "HCJKmhH_lAXp"
      },
      "execution_count": null,
      "outputs": []
    }
  ]
}
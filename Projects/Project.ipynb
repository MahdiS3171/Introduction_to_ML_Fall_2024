{
  "nbformat": 4,
  "nbformat_minor": 0,
  "metadata": {
    "colab": {
      "provenance": []
    },
    "kernelspec": {
      "name": "python3",
      "display_name": "Python 3"
    },
    "language_info": {
      "name": "python"
    }
  },
  "cells": [
    {
      "cell_type": "markdown",
      "source": [
        "Q_1"
      ],
      "metadata": {
        "id": "hniNtD-Zew1w"
      }
    },
    {
      "cell_type": "code",
      "source": [
        "from tqdm import tqdm\n",
        "import numpy as np\n",
        "import matplotlib.pyplot as plt\n",
        "\n",
        "import torch\n",
        "import torchvision\n",
        "import torchvision.transforms as transforms\n",
        "from sklearn.model_selection import train_test_split"
      ],
      "metadata": {
        "id": "aY3-XWyHghIC"
      },
      "execution_count": 1,
      "outputs": []
    },
    {
      "cell_type": "code",
      "source": [
        "transform = transforms.Compose([\n",
        "    transforms.ToTensor()\n",
        "])\n",
        "\n",
        "trainset = torchvision.datasets.MNIST(root='./data', train=True, download=True)\n",
        "testset = torchvision.datasets.MNIST(root='./data', train=False, download=True)\n",
        "\n",
        "X_train_torch = trainset.data\n",
        "Y_train_torch = trainset.targets\n",
        "\n",
        "X_test_torch = testset.data\n",
        "Y_test_torch = testset.targets\n",
        "\n",
        "\n",
        "\n",
        "# Training Images:\n",
        "X_train = X_train_torch.numpy()\n",
        "# Training Labels:\n",
        "Y_train = Y_train_torch.numpy()\n",
        "\n",
        "# Test Images:\n",
        "X_test = X_test_torch.numpy()\n",
        "# Test Labels:\n",
        "Y_test = Y_test_torch.numpy()"
      ],
      "metadata": {
        "id": "t0Z15GkFglKD"
      },
      "execution_count": 3,
      "outputs": []
    },
    {
      "cell_type": "code",
      "source": [
        "# Binarize the data by applying a threshold\n",
        "threshold = 128  # Pixel values above 128 will be set to 1, others to 0\n",
        "x_train_binary = (X_train > threshold).astype(np.uint32)\n",
        "x_test_binary = (X_test > threshold).astype(np.uint32)\n",
        "x_train_binary = x_train_binary.reshape(-1, 28 * 28)\n",
        "x_test_binary = x_test_binary.reshape(-1, 28 * 28)"
      ],
      "metadata": {
        "id": "Fyoczl3mgr6H"
      },
      "execution_count": 5,
      "outputs": []
    },
    {
      "cell_type": "code",
      "source": [
        "# Display a few samples from the binary dataset\n",
        "def show_samples(samples, nrows=2, ncols=5):\n",
        "    fig, axes = plt.subplots(nrows, ncols, figsize=(10, 5))\n",
        "    for i, ax in enumerate(axes.flat):\n",
        "        # Reshape each sample back to (28, 28) for display\n",
        "        ax.imshow(samples[i].reshape(28, 28), cmap='binary')\n",
        "        ax.axis('off')\n",
        "    plt.tight_layout()\n",
        "    plt.show()"
      ],
      "metadata": {
        "id": "-Lk-RDaWgtDd"
      },
      "execution_count": 6,
      "outputs": []
    },
    {
      "cell_type": "code",
      "execution_count": 7,
      "metadata": {
        "colab": {
          "base_uri": "https://localhost:8080/",
          "height": 440
        },
        "id": "AgNBDeGkemAG",
        "outputId": "336554fb-839f-484d-92c2-26e89ea6406c"
      },
      "outputs": [
        {
          "output_type": "display_data",
          "data": {
            "text/plain": [
              "<Figure size 1000x500 with 10 Axes>"
            ],
            "image/png": "[encoded data removed]"
          },
          "metadata": {}
        }
      ],
      "source": [
        "show_samples(x_train_binary[:10])"
      ]
    },
    {
      "cell_type": "markdown",
      "source": [
        "Q_2"
      ],
      "metadata": {
        "id": "BK2_hMXwgx2f"
      }
    },
    {
      "cell_type": "code",
      "source": [
        "class RBM:\n",
        "    def __init__(self, n_visible, n_hidden):\n",
        "      self.n_visible = n_visible\n",
        "      self.n_hidden = n_hidden\n",
        "      self.W = np.random.normal(0, 0.01, (n_visible, n_hidden))  # Gaussian init\n",
        "      self.v_bias = np.zeros(n_visible)\n",
        "      self.h_bias = np.zeros(n_hidden)\n",
        "\n",
        "    def sigmoid(self, x):\n",
        "        return 1 / (1 + np.exp(-x))\n",
        "\n",
        "    def sample(self, prob):\n",
        "        return (np.random.rand(*prob.shape) < prob).astype(np.float32)\n",
        "\n",
        "    def gibbs_sampling(self, v, k):\n",
        "        for _ in range(k):\n",
        "            h_prob = self.sigmoid(np.dot(v, self.W) + self.h_bias)\n",
        "            h_sample = self.sample(h_prob)\n",
        "            v_prob = self.sigmoid(np.dot(h_sample, self.W.T) + self.v_bias)\n",
        "            v = self.sample(v_prob)\n",
        "        return v\n",
        "\n",
        "    def contrastive_divergence(self, v, k, lr):\n",
        "      # Positive phase\n",
        "      h_prob_0 = self.sigmoid(np.dot(v, self.W) + self.h_bias)  # Hidden probabilities for input v\n",
        "      h_sample_0 = self.sample(h_prob_0)  # Sample hidden states\n",
        "\n",
        "      # Perform k-step Gibbs sampling\n",
        "      v_neg = v.copy()  # Start with the initial visible states\n",
        "      for _ in range(k):\n",
        "          h_prob = self.sigmoid(np.dot(v_neg, self.W) + self.h_bias)  # Hidden probabilities\n",
        "          h_sample = self.sample(h_prob)  # Sample hidden states\n",
        "          v_prob_neg = self.sigmoid(np.dot(h_sample, self.W.T) + self.v_bias)  # Visible probabilities\n",
        "          v_neg = self.sample(v_prob_neg)  # Sample visible states\n",
        "\n",
        "      # Negative phase\n",
        "      h_prob_neg = self.sigmoid(np.dot(v_neg, self.W) + self.h_bias)  # Hidden probabilities for reconstructed v\n",
        "\n",
        "      # Compute gradients using matrix calculations\n",
        "      positive_grad = np.dot(v.T, h_prob_0)  # Positive phase gradient\n",
        "      negative_grad = np.dot(v_neg.T, h_prob_neg)  # Negative phase gradient\n",
        "\n",
        "      # Update weights and biases\n",
        "      self.W += lr * (positive_grad - negative_grad) / v.shape[0]\n",
        "      self.v_bias += lr * np.mean(v - v_neg, axis=0)  # Visible bias update\n",
        "      self.h_bias += lr * np.mean(h_prob_0 - h_prob_neg, axis=0)  # Hidden bias update\n",
        "\n",
        "      # Return the final reconstructed visible states\n",
        "      return v_neg\n",
        "\n",
        "\n",
        "\n",
        "    def train(self, data, epochs=10, k=1, lr=0.01, batch_size=64):\n",
        "        for epoch in range(epochs):\n",
        "            np.random.shuffle(data)\n",
        "            epoch_loss = 0\n",
        "            for batch_start in range(0, len(data), batch_size):\n",
        "                batch = data[batch_start:batch_start + batch_size]\n",
        "                v_neg = self.contrastive_divergence(batch, k, lr)\n",
        "                epoch_loss += np.mean((batch - v_neg) ** 2)  # Reconstruction loss\n",
        "            print(f\"Epoch {epoch + 1}/{epochs}, Loss: {epoch_loss / len(data):.4f}\")\n",
        "\n",
        "    def generate_samples(self, n_samples=10, k=1):\n",
        "        samples = np.random.rand(n_samples, self.n_visible)\n",
        "        samples = self.gibbs_sampling(samples, k)\n",
        "        return samples"
      ],
      "metadata": {
        "id": "eo_bdVargxQd"
      },
      "execution_count": 11,
      "outputs": []
    },
    {
      "cell_type": "code",
      "source": [
        "# Initialize and train RBM for different values of k\n",
        "n_visible = x_train_binary.shape[1]\n",
        "n_hidden = 128\n",
        "k_values = [1, 5, 10]\n",
        "rbms = {}\n",
        "\n",
        "for k in k_values:\n",
        "    print(f\"Training RBM with k={k}\")\n",
        "    rbm = RBM(n_visible, n_hidden)\n",
        "    rbm.train(x_train_binary, epochs=5, k=10, lr=0.01, batch_size=128)\n",
        "    rbms[k] = rbm"
      ],
      "metadata": {
        "colab": {
          "base_uri": "https://localhost:8080/"
        },
        "id": "IsRPseBijAmX",
        "outputId": "2c201911-44e0-4e82-d7e4-a1a08b3d4b03"
      },
      "execution_count": 12,
      "outputs": [
        {
          "output_type": "stream",
          "name": "stdout",
          "text": [
            "Training RBM with k=1\n",
            "Epoch 1/5, Loss: 0.0019\n",
            "Epoch 2/5, Loss: 0.0013\n",
            "Epoch 3/5, Loss: 0.0011\n",
            "Epoch 4/5, Loss: 0.0011\n",
            "Epoch 5/5, Loss: 0.0010\n",
            "Training RBM with k=3\n",
            "Epoch 1/5, Loss: 0.0019\n",
            "Epoch 2/5, Loss: 0.0013\n",
            "Epoch 3/5, Loss: 0.0011\n",
            "Epoch 4/5, Loss: 0.0011\n",
            "Epoch 5/5, Loss: 0.0010\n",
            "Training RBM with k=5\n",
            "Epoch 1/5, Loss: 0.0019\n",
            "Epoch 2/5, Loss: 0.0013\n",
            "Epoch 3/5, Loss: 0.0011\n",
            "Epoch 4/5, Loss: 0.0011\n",
            "Epoch 5/5, Loss: 0.0010\n"
          ]
        }
      ]
    },
    {
      "cell_type": "code",
      "source": [
        "# Generate and visualize samples\n",
        "def show_generated_samples(rbm, k, n_samples=10):\n",
        "    print(f\"Generated samples for k={k}\")\n",
        "    samples = rbm.generate_samples(n_samples, k)\n",
        "    samples = samples.reshape((-1, 28, 28))\n",
        "    fig, axes = plt.subplots(1, n_samples, figsize=(15, 3))\n",
        "    for i, ax in enumerate(axes):\n",
        "        ax.imshow(samples[i], cmap='binary')\n",
        "        ax.axis('off')\n",
        "    plt.show()"
      ],
      "metadata": {
        "id": "XJXN0zAhjN0l"
      },
      "execution_count": 13,
      "outputs": []
    },
    {
      "cell_type": "code",
      "source": [
        "for k in k_values:\n",
        "    show_generated_samples(rbms[k], k)"
      ],
      "metadata": {
        "colab": {
          "base_uri": "https://localhost:8080/",
          "height": 423
        },
        "id": "kGXVlQLBjXG8",
        "outputId": "c925adb2-a702-49fa-b40c-f31093550f42"
      },
      "execution_count": 14,
      "outputs": [
        {
          "output_type": "stream",
          "name": "stdout",
          "text": [
            "Generated samples for k=1\n"
          ]
        },
        {
          "output_type": "display_data",
          "data": {
            "text/plain": [
              "<Figure size 1500x300 with 10 Axes>"
            ],
            "image/png": "[encoded data removed]"
          },
          "metadata": {}
        },
        {
          "output_type": "stream",
          "name": "stdout",
          "text": [
            "Generated samples for k=3\n"
          ]
        },
        {
          "output_type": "display_data",
          "data": {
            "text/plain": [
              "<Figure size 1500x300 with 10 Axes>"
            ],
            "image/png": "[encoded data removed]"
          },
          "metadata": {}
        },
        {
          "output_type": "stream",
          "name": "stdout",
          "text": [
            "Generated samples for k=5\n"
          ]
        },
        {
          "output_type": "display_data",
          "data": {
            "text/plain": [
              "<Figure size 1500x300 with 10 Axes>"
            ],
            "image/png": "[encoded data removed]"
          },
          "metadata": {}
        }
      ]
    },
    {
      "cell_type": "markdown",
      "source": [
        "Q_3"
      ],
      "metadata": {
        "id": "-wCVRr38jacf"
      }
    },
    {
      "cell_type": "code",
      "source": [
        "def visualize_mcmc_process(rbm, n_samples=5, k=5):\n",
        "    \"\"\"\n",
        "    Visualize the MCMC process in RBM (v_0, v_1, ..., v_k).\n",
        "    \"\"\"\n",
        "    samples = np.random.rand(n_samples, rbm.n_visible)  # Random initialization\n",
        "    process = [samples]  # Store intermediate states\n",
        "\n",
        "    # Perform Gibbs sampling for k steps and store each step\n",
        "    for _ in range(k):\n",
        "        h_prob = rbm.sigmoid(np.dot(samples, rbm.W) + rbm.h_bias)\n",
        "        h_sample = rbm.sample(h_prob)\n",
        "        v_prob = rbm.sigmoid(np.dot(h_sample, rbm.W.T) + rbm.v_bias)\n",
        "        samples = rbm.sample(v_prob)\n",
        "        process.append(samples)\n",
        "\n",
        "    # Visualize the process for each sample\n",
        "    fig, axes = plt.subplots(n_samples, k + 1, figsize=(15, n_samples * 2))\n",
        "    for i in range(n_samples):\n",
        "        for j in range(k + 1):\n",
        "            ax = axes[i, j] if n_samples > 1 else axes[j]\n",
        "            ax.imshow(process[j][i].reshape(28, 28), cmap='binary')\n",
        "            ax.axis('off')\n",
        "            if i == 0:\n",
        "                ax.set_title(f\"v_{j}\", fontsize=10)\n",
        "    plt.tight_layout()\n",
        "    plt.show()\n",
        "\n",
        "# Visualize the MCMC process for k=5 with the trained RBM (k=1)\n",
        "visualize_mcmc_process(rbms[1], n_samples=5, k=5)"
      ],
      "metadata": {
        "id": "_22M1AHujZ8o"
      },
      "execution_count": null,
      "outputs": []
    },
    {
      "cell_type": "markdown",
      "source": [
        "Q_4"
      ],
      "metadata": {
        "id": "uP4dbHDfk_Jz"
      }
    },
    {
      "cell_type": "code",
      "source": [
        "class ConditionalRBM(RBM):\n",
        "    def __init__(self, n_visible, n_hidden, n_classes):\n",
        "        super().__init__(n_visible + n_classes, n_hidden)\n",
        "        self.n_classes = n_classes\n",
        "\n",
        "    def train(self, data, labels, epochs=10, k=1, lr=0.01, batch_size=64):\n",
        "        data_with_labels = np.hstack([data, labels])  # Append class labels\n",
        "        super().train(data_with_labels, epochs, k, lr, batch_size)\n",
        "\n",
        "    def generate_samples(self, target_label, n_samples=10, k=1):\n",
        "        # Initialize samples and set target label\n",
        "        samples = np.random.rand(n_samples, self.n_visible)\n",
        "        labels = np.zeros((n_samples, self.n_classes))\n",
        "        labels[np.arange(n_samples), target_label] = 1\n",
        "        samples_with_labels = np.hstack([samples, labels])\n",
        "\n",
        "        # Perform Gibbs sampling\n",
        "        generated = self.gibbs_sampling(samples_with_labels, k)\n",
        "        return generated[:, :-self.n_classes]  # Return only the visible units\n",
        "\n",
        "# Prepare one-hot encoded labels\n",
        "n_classes = 10\n",
        "y_train_one_hot = np.eye(n_classes)[y_train]  # Convert labels to one-hot\n",
        "\n",
        "# Train a conditional RBM\n",
        "conditional_rbm = ConditionalRBM(n_visible, n_hidden, n_classes)\n",
        "print(\"Training Conditional RBM...\")\n",
        "conditional_rbm.train(x_train, y_train_one_hot, epochs=5, k=1, lr=0.01, batch_size=64)\n",
        "\n",
        "# Generate samples for specific digits\n",
        "target_digits = [0, 1]  # Digits to generate\n",
        "for digit in target_digits:\n",
        "    print(f\"Generated samples for digit {digit}:\")\n",
        "    generated_samples = conditional_rbm.generate_samples(target_label=digit, n_samples=5, k=5)\n",
        "    generated_samples = generated_samples.reshape((-1, 28, 28))\n",
        "    fig, axes = plt.subplots(1, 5, figsize=(15, 3))\n",
        "    for i, ax in enumerate(axes):\n",
        "        ax.imshow(generated_samples[i], cmap='binary')\n",
        "        ax.axis('off')\n",
        "    plt.show()"
      ],
      "metadata": {
        "id": "HCJKmhH_lAXp"
      },
      "execution_count": null,
      "outputs": []
    }
  ]
}
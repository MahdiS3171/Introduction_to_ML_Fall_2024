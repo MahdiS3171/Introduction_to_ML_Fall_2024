{
  "nbformat": 4,
  "nbformat_minor": 0,
  "metadata": {
    "colab": {
      "provenance": [],
      "gpuType": "T4"
    },
    "kernelspec": {
      "name": "python3",
      "display_name": "Python 3"
    },
    "language_info": {
      "name": "python"
    }
  },
  "cells": [
    {
      "cell_type": "markdown",
      "source": [
        "# Introduction to Machine Learning\n",
        "## Project Phase 1\n",
        "\n",
        "Sina Fathi | 402111261\n",
        "\n",
        "Seyyed Amirmahdi Sadrzadeh | 401102015"
      ],
      "metadata": {
        "id": "hniNtD-Zew1w"
      }
    },
    {
      "cell_type": "markdown",
      "source": [
        "### Part 1: Data Preproccessing"
      ],
      "metadata": {
        "id": "tvacMiiXb_2B"
      }
    },
    {
      "cell_type": "markdown",
      "source": [
        "First we import the needed libraries:"
      ],
      "metadata": {
        "id": "8ziJ9zUdcH_y"
      }
    },
    {
      "cell_type": "code",
      "source": [
        "from tqdm import tqdm\n",
        "import numpy as np\n",
        "import matplotlib.pyplot as plt\n",
        "\n",
        "from sklearn.datasets import fetch_openml\n",
        "from sklearn.preprocessing import binarize"
      ],
      "metadata": {
        "id": "aY3-XWyHghIC"
      },
      "execution_count": 1,
      "outputs": []
    },
    {
      "cell_type": "markdown",
      "source": [
        "Now we use torch library to load the MNIST dataset and then turn them to numpy arrays:"
      ],
      "metadata": {
        "id": "p_vzRIfdcMhM"
      }
    },
    {
      "cell_type": "code",
      "source": [
        "mnist = fetch_openml('mnist_784', version=1)\n",
        "\n",
        "X_train = mnist.data / 255.0\n",
        "Y_train = mnist.target"
      ],
      "metadata": {
        "id": "t0Z15GkFglKD"
      },
      "execution_count": 2,
      "outputs": []
    },
    {
      "cell_type": "markdown",
      "source": [
        "To use the datas, we binarize them by setting a threshold equal to 128. So all pixels with values higher than 128 will be set to 1 and others will be set to 0. We also flatten the datas to use them in our model:"
      ],
      "metadata": {
        "id": "vyLf42oLclGd"
      }
    },
    {
      "cell_type": "code",
      "source": [
        "threshold = 0.5\n",
        "X_train_binary = binarize(X_train, threshold=threshold)"
      ],
      "metadata": {
        "id": "Fyoczl3mgr6H"
      },
      "execution_count": 3,
      "outputs": []
    },
    {
      "cell_type": "markdown",
      "source": [
        "The plot to show the samples:"
      ],
      "metadata": {
        "id": "_hNNKcVhdJL0"
      }
    },
    {
      "cell_type": "code",
      "source": [
        "# Display a few samples from the binary dataset\n",
        "def show_samples(samples, nrows=2, ncols=5):\n",
        "    fig, axes = plt.subplots(nrows, ncols, figsize=(10, 5))\n",
        "    for i, ax in enumerate(axes.flat):\n",
        "        # Reshape each sample back to (28, 28) for display\n",
        "        ax.imshow(samples[i].reshape(28, 28), cmap='binary')\n",
        "        ax.axis('off')\n",
        "    plt.tight_layout()\n",
        "    plt.show()"
      ],
      "metadata": {
        "id": "-Lk-RDaWgtDd"
      },
      "execution_count": 4,
      "outputs": []
    },
    {
      "cell_type": "markdown",
      "source": [
        "And now we use the above function to show 10 samples from the dataset:"
      ],
      "metadata": {
        "id": "DptyrqJwdPLq"
      }
    },
    {
      "cell_type": "code",
      "execution_count": 5,
      "metadata": {
        "colab": {
          "base_uri": "https://localhost:8080/",
          "height": 440
        },
        "id": "AgNBDeGkemAG",
        "outputId": "17879dad-3745-4058-d79a-61cebb05c27a"
      },
      "outputs": [
        {
          "output_type": "display_data",
          "data": {
            "text/plain": [
              "<Figure size 1000x500 with 10 Axes>"
            ],
            "image/png": "[encoded data removed]"
          },
          "metadata": {}
        }
      ],
      "source": [
        "show_samples(X_train_binary[:10])"
      ]
    },
    {
      "cell_type": "markdown",
      "source": [
        "### Part 2: Implementing the model"
      ],
      "metadata": {
        "id": "QVUWalBCdWoh"
      }
    },
    {
      "cell_type": "markdown",
      "source": [
        "To implement the RBM class, we initialize the values of the model parameters by setting the number of layers, the learning rate , and weights and biases. We set the initial values of biases to zero and set the initial values of the weights to a small value using gaussian distribution.\n",
        "\n",
        "For the contstrative divergence, we use the algorythm in the theory part and implement the method accordingly.\n",
        "\n",
        "The other part are like the classes we have implemented before.\n",
        "\n",
        "You can see the RBM class below:"
      ],
      "metadata": {
        "id": "b0EKwQygdlPF"
      }
    },
    {
      "cell_type": "code",
      "source": [
        "class RBM:\n",
        "    def __init__(self, n_visible, n_hidden, learning_rate=0.1):\n",
        "        self.n_visible = n_visible\n",
        "        self.n_hidden = n_hidden\n",
        "        self.learning_rate = learning_rate\n",
        "        self.W = np.random.normal(0, 0.1, (n_visible, n_hidden))\n",
        "        self.v_bias = np.zeros(n_visible)\n",
        "        self.h_bias = np.zeros(n_hidden)\n",
        "\n",
        "    def sigmoid(self, x):\n",
        "        return 1 / (1 + np.exp(-x))\n",
        "\n",
        "    def sampleHid(self, vis):\n",
        "        hid_prob = self.sigmoid(np.dot(vis, self.W) + self.h_bias)\n",
        "        return hid_prob, np.random.binomial(1, hid_prob)\n",
        "\n",
        "    def sampleVis(self, hid):\n",
        "        vis_prob = self.sigmoid(np.dot(hid, self.W.T) + self.v_bias)\n",
        "        return vis_prob, np.random.binomial(1, vis_prob)\n",
        "\n",
        "    def contrastive_divergence(self, v, k):\n",
        "        h_prob, h_sample = self.sampleHid(v)\n",
        "        positive_grad = np.dot(v.T, h_prob)\n",
        "\n",
        "        v_neg = v\n",
        "        for _ in range(k):\n",
        "            h_prob, h_sample = self.sampleHid(v_neg)\n",
        "            v_prob_neg, v_neg = self.sampleVis(h_sample)\n",
        "\n",
        "        negative_grad = np.dot(v_neg.T, h_prob)\n",
        "\n",
        "        self.W += self.learning_rate * (positive_grad - negative_grad)\n",
        "        self.v_bias += self.learning_rate * np.sum(v - v_neg, axis=0)\n",
        "        self.h_bias += self.learning_rate * np.sum(h_prob - h_sample, axis=0)\n",
        "\n",
        "        return v_neg\n",
        "\n",
        "    def train(self, data, epochs=10, k=1):\n",
        "        n_samples = data.shape[0]\n",
        "        for epoch in range(epochs):\n",
        "            epoch_loss = 0\n",
        "            for i in data:\n",
        "                v_neg = self.contrastive_divergence(i.reshape(1, -1), k)\n",
        "                epoch_loss += np.mean((i - v_neg) ** 2)\n",
        "            print(f\"Epoch {epoch + 1}/{epochs}, Loss: {epoch_loss / n_samples:.4f}\")\n",
        "\n",
        "    def generate_samples(self, n_samples=10, k=1):\n",
        "        samples = np.random.rand(n_samples, self.n_visible)\n",
        "        samples = self.gibbs_sampling(samples, k)\n",
        "        return samples"
      ],
      "metadata": {
        "id": "eo_bdVargxQd"
      },
      "execution_count": 6,
      "outputs": []
    },
    {
      "cell_type": "markdown",
      "source": [
        "Now that we have completely implemented the class, we use the code below to train the model.\n",
        "\n",
        "You can see the loss of each epoch and how the model converges for different values of k (1, 5, 10)."
      ],
      "metadata": {
        "id": "NjRcdx8ifEqX"
      }
    },
    {
      "cell_type": "code",
      "source": [
        "# Initialize and train RBM for different values of k\n",
        "n_visible = X_train_binary.shape[1]\n",
        "n_hidden = 64\n",
        "k_values = [1, 5, 10]\n",
        "rbms = {}\n",
        "\n",
        "for k in k_values:\n",
        "    print(f\"Training RBM with k={k}\")\n",
        "    rbm = RBM(n_visible, n_hidden)\n",
        "    rbm.train(X_train_binary, epochs=5, k=k)\n",
        "    rbms[k] = rbm"
      ],
      "metadata": {
        "colab": {
          "base_uri": "https://localhost:8080/"
        },
        "id": "IsRPseBijAmX",
        "outputId": "67cf1f60-bb50-45f8-b379-b716d9fc6d09"
      },
      "execution_count": null,
      "outputs": [
        {
          "output_type": "stream",
          "name": "stdout",
          "text": [
            "Training RBM with k=1\n",
            "Epoch 1/5, Loss: 0.1116\n",
            "Epoch 2/5, Loss: 0.1131\n"
          ]
        },
        {
          "output_type": "stream",
          "name": "stderr",
          "text": [
            "<ipython-input-6-2a7c44dbab9b>:11: RuntimeWarning: overflow encountered in exp\n",
            "  return 1 / (1 + np.exp(-x))\n"
          ]
        },
        {
          "output_type": "stream",
          "name": "stdout",
          "text": [
            "Epoch 3/5, Loss: 0.1150\n",
            "Epoch 4/5, Loss: 0.1170\n",
            "Epoch 5/5, Loss: 0.1165\n",
            "Training RBM with k=5\n",
            "Epoch 1/5, Loss: 0.0958\n",
            "Epoch 2/5, Loss: 0.0932\n",
            "Epoch 3/5, Loss: 0.0940\n",
            "Epoch 4/5, Loss: 0.0939\n",
            "Epoch 5/5, Loss: 0.0941\n",
            "Training RBM with k=10\n",
            "Epoch 1/5, Loss: 0.0995\n",
            "Epoch 2/5, Loss: 0.0943\n"
          ]
        }
      ]
    },
    {
      "cell_type": "markdown",
      "source": [
        "Now to see the generated samples of the model, we use the function below:"
      ],
      "metadata": {
        "id": "8VlHWoH-jMIl"
      }
    },
    {
      "cell_type": "code",
      "source": [
        "def show_generated_samples(rbm, k, n_samples=10):\n",
        "    print(f\"Generated samples for k={k}\")\n",
        "    samples = rbm.generate_samples(n_samples, k)\n",
        "    samples = samples.reshape((-1, 28, 28))\n",
        "    fig, axes = plt.subplots(1, n_samples, figsize=(15, 3))\n",
        "    for i, ax in enumerate(axes):\n",
        "        ax.imshow(samples[i], cmap='binary')\n",
        "        ax.axis('off')\n",
        "    plt.show()"
      ],
      "metadata": {
        "id": "XJXN0zAhjN0l"
      },
      "execution_count": 42,
      "outputs": []
    },
    {
      "cell_type": "code",
      "source": [
        "for k in k_values:\n",
        "    show_generated_samples(rbms[k], k)"
      ],
      "metadata": {
        "colab": {
          "base_uri": "https://localhost:8080/",
          "height": 423
        },
        "id": "kGXVlQLBjXG8",
        "outputId": "82f59503-2716-4833-ab23-fd3978f538c2"
      },
      "execution_count": 43,
      "outputs": [
        {
          "output_type": "stream",
          "name": "stdout",
          "text": [
            "Generated samples for k=1\n"
          ]
        },
        {
          "output_type": "display_data",
          "data": {
            "text/plain": [
              "<Figure size 1500x300 with 10 Axes>"
            ],
            "image/png": "[encoded data removed]"
          },
          "metadata": {}
        },
        {
          "output_type": "stream",
          "name": "stdout",
          "text": [
            "Generated samples for k=5\n"
          ]
        },
        {
          "output_type": "display_data",
          "data": {
            "text/plain": [
              "<Figure size 1500x300 with 10 Axes>"
            ],
            "image/png": "[encoded data removed]"
          },
          "metadata": {}
        },
        {
          "output_type": "stream",
          "name": "stdout",
          "text": [
            "Generated samples for k=10\n"
          ]
        },
        {
          "output_type": "display_data",
          "data": {
            "text/plain": [
              "<Figure size 1500x300 with 10 Axes>"
            ],
            "image/png": "[encoded data removed]"
          },
          "metadata": {}
        }
      ]
    },
    {
      "cell_type": "markdown",
      "source": [
        "We can see that by increasing the value of k, the numbers generated become much more clear."
      ],
      "metadata": {
        "id": "o5j6ctP4jUij"
      }
    },
    {
      "cell_type": "markdown",
      "source": [
        "### Part 3: Showing the sampling proccess\n"
      ],
      "metadata": {
        "id": "-wCVRr38jacf"
      }
    },
    {
      "cell_type": "code",
      "source": [
        "def visualize_mcmc_process(rbm, n_samples=5, k=5):\n",
        "    \"\"\"\n",
        "    Visualize the MCMC process in RBM (v_0, v_1, ..., v_k).\n",
        "    \"\"\"\n",
        "    samples = np.random.rand(n_samples, rbm.n_visible)  # Random initialization\n",
        "    process = [samples]  # Store intermediate states\n",
        "\n",
        "    # Perform Gibbs sampling for k steps and store each step\n",
        "    for _ in range(k):\n",
        "        h_prob = rbm.sigmoid(np.dot(samples, rbm.W) + rbm.h_bias)\n",
        "        h_sample = rbm.sample(h_prob)\n",
        "        v_prob = rbm.sigmoid(np.dot(h_sample, rbm.W.T) + rbm.v_bias)\n",
        "        samples = rbm.sample(v_prob)\n",
        "        process.append(samples)\n",
        "\n",
        "    # Visualize the process for each sample\n",
        "    fig, axes = plt.subplots(n_samples, k + 1, figsize=(15, n_samples * 2))\n",
        "    for i in range(n_samples):\n",
        "        for j in range(k + 1):\n",
        "            ax = axes[i, j] if n_samples > 1 else axes[j]\n",
        "            ax.imshow(process[j][i].reshape(28, 28), cmap='binary')\n",
        "            ax.axis('off')\n",
        "            if i == 0:\n",
        "                ax.set_title(f\"v_{j}\", fontsize=10)\n",
        "    plt.tight_layout()\n",
        "    plt.show()\n",
        "\n",
        "# Visualize the MCMC process for k=5 with the trained RBM (k=1)\n",
        "visualize_mcmc_process(rbms[1], n_samples=5, k=5)"
      ],
      "metadata": {
        "id": "_22M1AHujZ8o",
        "colab": {
          "base_uri": "https://localhost:8080/",
          "height": 1000
        },
        "outputId": "88245051-c94a-4c5e-c283-f7bda1d8bf07"
      },
      "execution_count": 34,
      "outputs": [
        {
          "output_type": "display_data",
          "data": {
            "text/plain": [
              "<Figure size 1500x1000 with 30 Axes>"
            ],
            "image/png": "[encoded data removed]"
          },
          "metadata": {}
        }
      ]
    },
    {
      "cell_type": "markdown",
      "source": [
        "Q_4"
      ],
      "metadata": {
        "id": "uP4dbHDfk_Jz"
      }
    },
    {
      "cell_type": "code",
      "source": [
        "# class ConditionalRBM(RBM):\n",
        "#     def __init__(self, n_visible, n_hidden, n_classes):\n",
        "#         super().__init__(n_visible + n_classes, n_hidden)\n",
        "#         self.n_classes = n_classes\n",
        "\n",
        "#     def train(self, data, labels, epochs=10, k=1, lr=0.01, batch_size=64):\n",
        "#         data_with_labels = np.hstack([data, labels])  # Append class labels\n",
        "#         super().train(data_with_labels, epochs, k, lr, batch_size)\n",
        "\n",
        "#     def generate_samples(self, target_label, n_samples=10, k=1):\n",
        "#         # Initialize samples and set target label\n",
        "#         samples = np.random.rand(n_samples, self.n_visible)\n",
        "#         labels = np.zeros((n_samples, self.n_classes))\n",
        "#         labels[np.arange(n_samples), target_label] = 1\n",
        "#         samples_with_labels = np.hstack([samples, labels])\n",
        "\n",
        "#         # Perform Gibbs sampling\n",
        "#         generated = self.gibbs_sampling(samples_with_labels, k)\n",
        "#         return generated[:, :-self.n_classes]  # Return only the visible units\n",
        "\n",
        "# # Prepare one-hot encoded labels\n",
        "# n_classes = 10\n",
        "# y_train_one_hot = np.eye(n_classes)[Y_train]  # Convert labels to one-hot\n",
        "\n",
        "# # Train a conditional RBM\n",
        "# conditional_rbm = ConditionalRBM(n_visible, n_hidden, n_classes)\n",
        "# print(\"Training Conditional RBM...\")\n",
        "# conditional_rbm.train(x_train_binary, y_train_one_hot, epochs=5, k=1, lr=0.01, batch_size=64)\n",
        "\n",
        "# # Generate samples for specific digits\n",
        "# target_digits = [0, 1]  # Digits to generate\n",
        "# for digit in target_digits:\n",
        "#     print(f\"Generated samples for digit {digit}:\")\n",
        "#     generated_samples = conditional_rbm.generate_samples(target_label=digit, n_samples=5, k=5)\n",
        "#     generated_samples = generated_samples.reshape((-1, 28, 28))\n",
        "#     fig, axes = plt.subplots(1, 5, figsize=(15, 3))\n",
        "#     for i, ax in enumerate(axes):\n",
        "#         ax.imshow(generated_samples[i], cmap='binary')\n",
        "#         ax.axis('off')\n",
        "#     plt.show()\n",
        "\n",
        "def generate_specific_digit(rbm, digit, data, labels, num_samples=10, num_gibbs_steps=10):\n",
        "    # Filter data for the specified digit\n",
        "    digit_data = data[labels == str(digit)]\n",
        "\n",
        "    # Calculate the mean representation for the given digit\n",
        "    mean_representation = np.mean(digit_data, axis=0)\n",
        "\n",
        "    generated_samples = []\n",
        "    for _ in range(num_samples):\n",
        "        visible_layer = mean_representation.copy()\n",
        "\n",
        "        for _ in range(num_gibbs_steps):\n",
        "            # Sample the hidden layer\n",
        "            h_prob = rbm.sigmoid(np.dot(visible_layer, rbm.W) + rbm.h_bias)\n",
        "            h_sample = rbm.sample(h_prob)\n",
        "\n",
        "            # Sample the visible layer\n",
        "            v_prob = rbm.sigmoid(np.dot(h_sample, rbm.W.T) + rbm.v_bias)\n",
        "            visible_layer = rbm.sample(v_prob)\n",
        "\n",
        "            # Incorporate the mean representation for controlled generation\n",
        "            visible_layer[mean_representation > 0.5] = mean_representation[mean_representation > 0.5]\n",
        "\n",
        "        # Reshape and store the generated sample\n",
        "        generated_samples.append(visible_layer.reshape(28, 28))\n",
        "\n",
        "    return generated_samples\n",
        "\n",
        "# Example usage\n",
        "digit_to_generate = 0\n",
        "controlled_samples = generate_specific_digit(rbm, digit_to_generate, x_train_binary, Y_train, num_samples=10)\n",
        "\n",
        "def display_controlled_samples(samples):\n",
        "    plt.figure(figsize=(10, 2))\n",
        "    for i, sample in enumerate(samples):\n",
        "        plt.subplot(1, len(samples), i + 1)\n",
        "        plt.imshow(sample, cmap='gray')\n",
        "        plt.axis('off')\n",
        "    plt.suptitle(f\"Generated Samples for Digit {digit_to_generate}\")\n",
        "    plt.show()\n",
        "\n",
        "display_controlled_samples(controlled_samples)"
      ],
      "metadata": {
        "id": "HCJKmhH_lAXp",
        "colab": {
          "base_uri": "https://localhost:8080/",
          "height": 401
        },
        "outputId": "1ef182d8-1d25-4dfd-c54b-778609ea0986"
      },
      "execution_count": 30,
      "outputs": [
        {
          "output_type": "stream",
          "name": "stderr",
          "text": [
            "/usr/local/lib/python3.10/dist-packages/numpy/core/fromnumeric.py:3504: RuntimeWarning: Mean of empty slice.\n",
            "  return _methods._mean(a, axis=axis, dtype=dtype,\n",
            "/usr/local/lib/python3.10/dist-packages/numpy/core/_methods.py:121: RuntimeWarning: invalid value encountered in divide\n",
            "  ret = um.true_divide(\n"
          ]
        },
        {
          "output_type": "error",
          "ename": "AttributeError",
          "evalue": "'RBM' object has no attribute 'sample_hidden'",
          "traceback": [
            "\u001b[0;31m---------------------------------------------------------------------------\u001b[0m",
            "\u001b[0;31mAttributeError\u001b[0m                            Traceback (most recent call last)",
            "\u001b[0;32m<ipython-input-30-91b9d00763d4>\u001b[0m in \u001b[0;36m<cell line: 63>\u001b[0;34m()\u001b[0m\n\u001b[1;32m     61\u001b[0m \u001b[0;34m\u001b[0m\u001b[0m\n\u001b[1;32m     62\u001b[0m \u001b[0mdigit_to_generate\u001b[0m \u001b[0;34m=\u001b[0m \u001b[0;36m0\u001b[0m\u001b[0;34m\u001b[0m\u001b[0;34m\u001b[0m\u001b[0m\n\u001b[0;32m---> 63\u001b[0;31m \u001b[0mcontrolled_samples\u001b[0m \u001b[0;34m=\u001b[0m \u001b[0mgenerate_specific_digit\u001b[0m\u001b[0;34m(\u001b[0m\u001b[0mrbm\u001b[0m\u001b[0;34m,\u001b[0m \u001b[0mdigit_to_generate\u001b[0m\u001b[0;34m,\u001b[0m \u001b[0mx_train_binary\u001b[0m\u001b[0;34m,\u001b[0m \u001b[0mY_train\u001b[0m\u001b[0;34m,\u001b[0m \u001b[0mnum_samples\u001b[0m\u001b[0;34m=\u001b[0m\u001b[0;36m10\u001b[0m\u001b[0;34m)\u001b[0m\u001b[0;34m\u001b[0m\u001b[0;34m\u001b[0m\u001b[0m\n\u001b[0m\u001b[1;32m     64\u001b[0m \u001b[0;34m\u001b[0m\u001b[0m\n\u001b[1;32m     65\u001b[0m \u001b[0;32mdef\u001b[0m \u001b[0mdisplay_controlled_samples\u001b[0m\u001b[0;34m(\u001b[0m\u001b[0msamples\u001b[0m\u001b[0;34m)\u001b[0m\u001b[0;34m:\u001b[0m\u001b[0;34m\u001b[0m\u001b[0;34m\u001b[0m\u001b[0m\n",
            "\u001b[0;32m<ipython-input-30-91b9d00763d4>\u001b[0m in \u001b[0;36mgenerate_specific_digit\u001b[0;34m(rbm, digit, data, labels, num_samples, num_gibbs_steps)\u001b[0m\n\u001b[1;32m     50\u001b[0m \u001b[0;34m\u001b[0m\u001b[0m\n\u001b[1;32m     51\u001b[0m         \u001b[0;32mfor\u001b[0m \u001b[0m_\u001b[0m \u001b[0;32min\u001b[0m \u001b[0mrange\u001b[0m\u001b[0;34m(\u001b[0m\u001b[0mnum_gibbs_steps\u001b[0m\u001b[0;34m)\u001b[0m\u001b[0;34m:\u001b[0m\u001b[0;34m\u001b[0m\u001b[0;34m\u001b[0m\u001b[0m\n\u001b[0;32m---> 52\u001b[0;31m             \u001b[0m_\u001b[0m\u001b[0;34m,\u001b[0m \u001b[0mhidden_sample\u001b[0m \u001b[0;34m=\u001b[0m \u001b[0mrbm\u001b[0m\u001b[0;34m.\u001b[0m\u001b[0msample_hidden\u001b[0m\u001b[0;34m(\u001b[0m\u001b[0mvisible_layer\u001b[0m\u001b[0;34m)\u001b[0m\u001b[0;34m\u001b[0m\u001b[0;34m\u001b[0m\u001b[0m\n\u001b[0m\u001b[1;32m     53\u001b[0m             \u001b[0mprob_visible\u001b[0m\u001b[0;34m,\u001b[0m \u001b[0mvisible_sample\u001b[0m \u001b[0;34m=\u001b[0m \u001b[0mrbm\u001b[0m\u001b[0;34m.\u001b[0m\u001b[0msample_visible\u001b[0m\u001b[0;34m(\u001b[0m\u001b[0mhidden_sample\u001b[0m\u001b[0;34m)\u001b[0m\u001b[0;34m\u001b[0m\u001b[0;34m\u001b[0m\u001b[0m\n\u001b[1;32m     54\u001b[0m             \u001b[0mvisible_layer\u001b[0m \u001b[0;34m=\u001b[0m \u001b[0mmean_representation\u001b[0m\u001b[0;34m.\u001b[0m\u001b[0mcopy\u001b[0m\u001b[0;34m(\u001b[0m\u001b[0;34m)\u001b[0m\u001b[0;34m\u001b[0m\u001b[0;34m\u001b[0m\u001b[0m\n",
            "\u001b[0;31mAttributeError\u001b[0m: 'RBM' object has no attribute 'sample_hidden'"
          ]
        }
      ]
    },
    {
      "cell_type": "code",
      "source": [],
      "metadata": {
        "id": "8R_MMZqDZgY7"
      },
      "execution_count": null,
      "outputs": []
    }
  ]
}
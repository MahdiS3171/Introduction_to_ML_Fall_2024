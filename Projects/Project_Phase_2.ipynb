{
  "nbformat": 4,
  "nbformat_minor": 0,
  "metadata": {
    "colab": {
      "provenance": [],
      "gpuType": "T4"
    },
    "kernelspec": {
      "name": "python3",
      "display_name": "Python 3"
    },
    "language_info": {
      "name": "python"
    }
  },
  "cells": [
    {
      "cell_type": "markdown",
      "source": [
        "# Introduction to Machine Learning\n",
        "## Project Phase 2\n",
        "\n",
        "Sina Fathi | 402111261\n",
        "\n",
        "Seyyed Amirmahdi Sadrzadeh | 401102015"
      ],
      "metadata": {
        "id": "hniNtD-Zew1w"
      }
    },
    {
      "cell_type": "markdown",
      "source": [
        "### Part 1: Data Preproccessing"
      ],
      "metadata": {
        "id": "tvacMiiXb_2B"
      }
    },
    {
      "cell_type": "markdown",
      "source": [
        "First we import the needed libraries:"
      ],
      "metadata": {
        "id": "8ziJ9zUdcH_y"
      }
    },
    {
      "cell_type": "code",
      "source": [
        "from tqdm import tqdm\n",
        "import numpy as np\n",
        "import matplotlib.pyplot as plt\n",
        "import torch\n",
        "import torchvision\n",
        "import torchvision.transforms as transforms\n",
        "import random\n",
        "from sympy import mod_inverse\n",
        "import torch.nn as nn\n",
        "import torch.optim as optim"
      ],
      "metadata": {
        "id": "d3lKKdgBGJQS"
      },
      "execution_count": 56,
      "outputs": []
    },
    {
      "cell_type": "markdown",
      "source": [
        "Now we use torch library to load the MNIST dataset and then turn them to numpy arrays:"
      ],
      "metadata": {
        "id": "p_vzRIfdcMhM"
      }
    },
    {
      "cell_type": "code",
      "source": [
        "transform = transforms.Compose([transforms.ToTensor()])\n",
        "\n",
        "# getting the train data\n",
        "trainset = torchvision.datasets.MNIST(root='./data', train=True, download=True)\n",
        "\n",
        "X_train_torch = trainset.data\n",
        "Y_train_torch = trainset.targets\n",
        "\n",
        "X_train = X_train_torch.numpy()\n",
        "Y_train = Y_train_torch.numpy()"
      ],
      "metadata": {
        "id": "AyG6f5oKGPHh"
      },
      "execution_count": 4,
      "outputs": []
    },
    {
      "cell_type": "code",
      "source": [
        "# getting the test data\n",
        "testset = torchvision.datasets.MNIST(root='./data', train=False, download=True)\n",
        "\n",
        "X_test_torch = testset.data\n",
        "Y_test_torch = testset.targets\n",
        "\n",
        "X_test = X_test_torch.numpy()\n",
        "Y_test = Y_test_torch.numpy()"
      ],
      "metadata": {
        "id": "C3It8SZpQ_zN"
      },
      "execution_count": 5,
      "outputs": []
    },
    {
      "cell_type": "markdown",
      "source": [
        "To use the datas, we binarize them by setting a threshold equal to 128. So all pixels with values higher than 128 will be set to 1 and others will be set to 0. We also flatten the datas to use them in our model:"
      ],
      "metadata": {
        "id": "vyLf42oLclGd"
      }
    },
    {
      "cell_type": "code",
      "source": [
        "threshold = 128\n",
        "\n",
        "X_test = (X_test > threshold).astype(np.uint32)\n",
        "X_test_binary = X_test.reshape(-1, 28 * 28)\n",
        "\n",
        "X_train = (X_train > threshold).astype(np.uint32)\n",
        "X_train_binary = X_train.reshape(-1, 28 * 28)"
      ],
      "metadata": {
        "id": "H1nb8nHOKoXd"
      },
      "execution_count": 6,
      "outputs": []
    },
    {
      "cell_type": "markdown",
      "source": [
        "The plot to show the samples:"
      ],
      "metadata": {
        "id": "_hNNKcVhdJL0"
      }
    },
    {
      "cell_type": "code",
      "source": [
        "def show_samples(samples, nrows=2, ncols=5):\n",
        "    fig, axes = plt.subplots(nrows, ncols, figsize=(10, 5))\n",
        "    for i, ax in enumerate(axes.flat):\n",
        "        ax.imshow(samples[i].reshape(28, 28), cmap='binary')\n",
        "        ax.axis('off')\n",
        "    plt.tight_layout()\n",
        "    plt.show()"
      ],
      "metadata": {
        "id": "wlGlqEJ7Kt7M"
      },
      "execution_count": 7,
      "outputs": []
    },
    {
      "cell_type": "markdown",
      "source": [
        "And now we use the above function to show 10 samples from the dataset:"
      ],
      "metadata": {
        "id": "DptyrqJwdPLq"
      }
    },
    {
      "cell_type": "code",
      "source": [
        "show_samples(X_train_binary[:10])"
      ],
      "metadata": {
        "colab": {
          "base_uri": "https://localhost:8080/",
          "height": 440
        },
        "id": "kr0tRRKyKzrV",
        "outputId": "389f5280-c52d-47f6-d1ad-c5d2e6ff2adc"
      },
      "execution_count": 8,
      "outputs": [
        {
          "output_type": "display_data",
          "data": {
            "text/plain": [
              "<Figure size 1000x500 with 10 Axes>"
            ],
            "image/png": "[encoded data removed]"
          },
          "metadata": {}
        }
      ]
    },
    {
      "cell_type": "markdown",
      "source": [
        "# Simple Boltzman machine:"
      ],
      "metadata": {
        "id": "b0EKwQygdlPF"
      }
    },
    {
      "cell_type": "markdown",
      "source": [
        "The Boltzmann machine is like the one we used in the first phase of the project and follow the same patterns to update the parameters."
      ],
      "metadata": {
        "id": "8rd8PBL8E2LE"
      }
    },
    {
      "cell_type": "code",
      "source": [
        "class RBM:\n",
        "    def __init__(self, n_visible, n_hidden, learning_rate=0.1):\n",
        "        self.n_visible = n_visible\n",
        "        self.n_hidden = n_hidden\n",
        "        self.learning_rate = learning_rate\n",
        "        self.W = np.random.normal(0, 0.1, (n_visible, n_hidden))\n",
        "        self.v_bias = np.zeros(n_visible)\n",
        "        self.h_bias = np.zeros(n_hidden)\n",
        "\n",
        "    def sigmoid(self, x):\n",
        "        return 1 / (1 + np.exp(-x))\n",
        "\n",
        "    def sample(self, prob):\n",
        "        return (np.random.uniform(size=prob.shape) < prob).astype(np.int32)\n",
        "\n",
        "    def gibbs_sampling(self, hid, k):\n",
        "        v_prob_0 = self.sigmoid(np.dot(hid, self.W.T) + self.v_bias)\n",
        "        v = self.sample(v_prob_0)\n",
        "        for _ in range(k):\n",
        "            h_prob = self.sigmoid(np.dot(v, self.W) + self.h_bias)\n",
        "            h_sample = self.sample(h_prob)\n",
        "            v_prob = self.sigmoid(np.dot(h_sample, self.W.T) + self.v_bias)\n",
        "            v = self.sample(v_prob)\n",
        "        return v\n",
        "\n",
        "    def contrastive_divergence(self, v, k):\n",
        "        h_prob_0 = self.sigmoid(np.dot(v, self.W) + self.h_bias)\n",
        "        h_sample_0 = self.sample(h_prob_0)\n",
        "\n",
        "        v_neg = v.copy()\n",
        "\n",
        "        for _ in range(k):\n",
        "            h_prob = self.sigmoid(np.dot(v_neg, self.W) + self.h_bias)\n",
        "            h_sample = self.sample(h_prob)\n",
        "            v_prob_neg = self.sigmoid(np.dot(h_sample, self.W.T) + self.v_bias)\n",
        "            v_neg = self.sample(v_prob_neg)\n",
        "\n",
        "        h_prob_neg = self.sigmoid(np.dot(v_neg, self.W) + self.h_bias)\n",
        "\n",
        "        positive_grad = np.dot(v.T, h_prob_0)\n",
        "        negative_grad = np.dot(v_neg.T, h_prob_neg)\n",
        "\n",
        "        batch_size = v.shape[0]\n",
        "        self.W += self.learning_rate * (positive_grad - negative_grad) / batch_size\n",
        "        self.v_bias += self.learning_rate * np.mean(v - v_neg, axis=0)\n",
        "        self.h_bias += self.learning_rate * np.mean(h_prob_0 - h_prob_neg, axis=0)\n",
        "\n",
        "        return v_neg\n",
        "\n",
        "    def train(self, data, epochs=10, k=1, batch_size=64):\n",
        "        for epoch in range(epochs):\n",
        "            np.random.shuffle(data)\n",
        "            epoch_loss = 0\n",
        "            for batch_start in range(0, len(data), batch_size):\n",
        "                batch = data[batch_start:batch_start + batch_size]\n",
        "                v_neg = self.contrastive_divergence(batch, k)\n",
        "                epoch_loss += np.mean((batch - v_neg) ** 2)\n",
        "            print(f\"Epoch {epoch + 1}/{epochs}, Loss: {epoch_loss / len(data):.5f}\")\n",
        "\n",
        "    def generate_samples(self, n_samples=10, k=1):\n",
        "        samples = []\n",
        "        for i in range(n_samples):\n",
        "            sample = np.random.binomial(1, 0.5, self.n_hidden)\n",
        "            sample = self.gibbs_sampling(sample, k)\n",
        "            samples.append(sample)\n",
        "        return np.array(samples)"
      ],
      "metadata": {
        "id": "g6q689osK99h"
      },
      "execution_count": 16,
      "outputs": []
    },
    {
      "cell_type": "markdown",
      "source": [
        "Based on the simulations in phase 1 we define the number of hidden layers and k as follow:"
      ],
      "metadata": {
        "id": "W14bINYQFBNq"
      }
    },
    {
      "cell_type": "code",
      "source": [
        "n_visible = X_train_binary.shape[1]\n",
        "n_hidden = 32\n",
        "k_values = [1, 5, 10]"
      ],
      "metadata": {
        "id": "xPvmqTsUgXxU"
      },
      "execution_count": 17,
      "outputs": []
    },
    {
      "cell_type": "markdown",
      "source": [
        "Now we train the model on the MNIST dataset:"
      ],
      "metadata": {
        "id": "VMdo3cSGLbxG"
      }
    },
    {
      "cell_type": "code",
      "source": [
        "# training\n",
        "rbms = {}\n",
        "for k in k_values:\n",
        "    print(f\"Training RBM with k={k}\")\n",
        "    rbm = RBM(n_visible, n_hidden)\n",
        "    rbm.train(X_train_binary, epochs=10, k=k)\n",
        "    rbms[k] = rbm"
      ],
      "metadata": {
        "colab": {
          "base_uri": "https://localhost:8080/"
        },
        "id": "dLmlsavtLPnq",
        "outputId": "468761ec-c9b1-4af3-e9a1-339ee8f8bd46"
      },
      "execution_count": 18,
      "outputs": [
        {
          "output_type": "stream",
          "name": "stdout",
          "text": [
            "Training RBM with k=1\n",
            "Epoch 1/10, Loss: 0.00198\n",
            "Epoch 2/10, Loss: 0.00160\n",
            "Epoch 3/10, Loss: 0.00152\n",
            "Epoch 4/10, Loss: 0.00148\n",
            "Epoch 5/10, Loss: 0.00146\n",
            "Epoch 6/10, Loss: 0.00145\n",
            "Epoch 7/10, Loss: 0.00144\n",
            "Epoch 8/10, Loss: 0.00143\n",
            "Epoch 9/10, Loss: 0.00143\n",
            "Epoch 10/10, Loss: 0.00142\n",
            "Training RBM with k=5\n",
            "Epoch 1/10, Loss: 0.00221\n",
            "Epoch 2/10, Loss: 0.00174\n",
            "Epoch 3/10, Loss: 0.00163\n",
            "Epoch 4/10, Loss: 0.00158\n",
            "Epoch 5/10, Loss: 0.00154\n",
            "Epoch 6/10, Loss: 0.00152\n",
            "Epoch 7/10, Loss: 0.00151\n",
            "Epoch 8/10, Loss: 0.00150\n",
            "Epoch 9/10, Loss: 0.00149\n",
            "Epoch 10/10, Loss: 0.00148\n",
            "Training RBM with k=10\n",
            "Epoch 1/10, Loss: 0.00229\n",
            "Epoch 2/10, Loss: 0.00180\n",
            "Epoch 3/10, Loss: 0.00170\n",
            "Epoch 4/10, Loss: 0.00164\n",
            "Epoch 5/10, Loss: 0.00160\n",
            "Epoch 6/10, Loss: 0.00157\n",
            "Epoch 7/10, Loss: 0.00156\n",
            "Epoch 8/10, Loss: 0.00154\n",
            "Epoch 9/10, Loss: 0.00153\n",
            "Epoch 10/10, Loss: 0.00153\n"
          ]
        }
      ]
    },
    {
      "cell_type": "markdown",
      "source": [
        "As you can see, the model is converging and the loss is getting lower to a fixed point.\n",
        "\n",
        "As we increase k, the final loss of the model on the training data is not getting better but based on the results of the first phase, we know that the model with a higher k performs better on the test datas and gives better resuls."
      ],
      "metadata": {
        "id": "FuUFNaePFT_d"
      }
    },
    {
      "cell_type": "markdown",
      "source": [
        "To test these models, we use the test dataset of the MNIST:"
      ],
      "metadata": {
        "id": "TUukKdxeLx7D"
      }
    },
    {
      "cell_type": "code",
      "source": [
        "def evaluate_rbm(rbm, data):\n",
        "    loss = 0\n",
        "    for i in range(0, len(data), 64):\n",
        "        batch = data[i:i+64]\n",
        "        v_neg = rbm.contrastive_divergence(batch, k=1)\n",
        "        loss += np.mean((batch - v_neg) ** 2)\n",
        "    avg_loss = loss / (len(data) / 64)\n",
        "    return avg_loss\n",
        "\n",
        "simple_losses = {}\n",
        "for k in k_values:\n",
        "    loss = evaluate_rbm(rbms[k], X_test_binary)\n",
        "    simple_losses[k] = loss\n",
        "    print(f\"Simple RBM with k={k} Test Loss: {loss:.5f}\")"
      ],
      "metadata": {
        "colab": {
          "base_uri": "https://localhost:8080/"
        },
        "id": "nTs_QhhmL27i",
        "outputId": "95c904d1-30fe-4b64-a58c-86871f460c77"
      },
      "execution_count": 69,
      "outputs": [
        {
          "output_type": "stream",
          "name": "stdout",
          "text": [
            "Simple RBM with k=1 Test Loss: 0.08991\n",
            "Simple RBM with k=5 Test Loss: 0.08803\n",
            "Simple RBM with k=10 Test Loss: 0.08726\n"
          ]
        }
      ]
    },
    {
      "cell_type": "markdown",
      "source": [
        "The test loss is getting better by increasing k. This confirms the results discussed in the phase 1."
      ],
      "metadata": {
        "id": "tuADL8LgGBVG"
      }
    },
    {
      "cell_type": "markdown",
      "source": [
        "# The Secure Boltzman Machine:"
      ],
      "metadata": {
        "id": "lrbyHJ_mLsIR"
      }
    },
    {
      "cell_type": "markdown",
      "source": [
        "As we learned from the project file, the Secure Boltzmann Machine works with two parties. Each party have a specific number of parameters and each have they're own weights and biases.\n",
        "\n",
        "To update the parameters, we use ElGamal encryption so that both models can calculate loss with needed values (e.g. $v_1h_2$). To implement this, we approach like the model below:"
      ],
      "metadata": {
        "id": "8IELhEF7GPEw"
      }
    },
    {
      "cell_type": "code",
      "source": [
        "class SecureRBM:\n",
        "    def __init__(self, n_visible, n_hidden, mA, learning_rate=0.1, p=467):\n",
        "        \"\"\"\n",
        "        Initialize SecureRBM for two parties A and B.\n",
        "\n",
        "        Parameters:\n",
        "        - n_visible: total number of visible neurons (e.g., 784 for MNIST).\n",
        "        - n_hidden: number of hidden neurons.\n",
        "        - mA: number of visible features belonging to Party A.\n",
        "          (Then mB = n_visible - mA belong to Party B.)\n",
        "        - learning_rate: learning rate for weight updates.\n",
        "        - p: a prime number used for the ElGamal-based secure operations.\n",
        "        \"\"\"\n",
        "        self.n_visible = n_visible\n",
        "        self.n_hidden = n_hidden\n",
        "        self.mA = mA\n",
        "        self.mB = n_visible - mA\n",
        "        self.learning_rate = learning_rate\n",
        "        self.W = np.random.normal(0, 0.1, (n_visible, n_hidden))\n",
        "        self.v_bias = np.zeros(n_visible)\n",
        "        self.h_bias = np.zeros(n_hidden)\n",
        "        self.p = p\n",
        "\n",
        "    def sigmoid(self, x):\n",
        "        return 1 / (1 + np.exp(-x))\n",
        "\n",
        "    def sample(self, prob):\n",
        "        return (np.random.uniform(size=prob.shape) < prob).astype(np.int32)\n",
        "\n",
        "    def generate_keys(self):\n",
        "        \"\"\"\n",
        "        Generate ElGamal public and private keys.\n",
        "        \"\"\"\n",
        "        g = random.randint(2, self.p - 2)\n",
        "        x = random.randint(1, self.p - 2)\n",
        "        y = pow(g, x, self.p)\n",
        "        return (self.p, g, y), x\n",
        "\n",
        "    def encrypt(self, public_key, message):\n",
        "        \"\"\"\n",
        "        Encrypt a message (an integer) using the public key.\n",
        "        \"\"\"\n",
        "        p, g, y = public_key\n",
        "        k = random.randint(1, p - 2)\n",
        "        c1 = pow(g, k, p)\n",
        "        c2 = (int(message) * pow(y, k, p)) % p\n",
        "        return (c1, c2)\n",
        "\n",
        "    def decrypt_partial(self, private_key, public_key, ciphertext):\n",
        "        \"\"\"\n",
        "        Partially decrypt a ciphertext using the private key.\n",
        "        \"\"\"\n",
        "        p, g, y = public_key\n",
        "        c1, c2 = ciphertext\n",
        "        s = pow(c1, private_key, p)\n",
        "        return (c2, s)\n",
        "\n",
        "    def decrypt_final(self, partially_decrypted, p):\n",
        "        \"\"\"\n",
        "        Final decryption using the modular inverse.\n",
        "        \"\"\"\n",
        "        c2, s = partially_decrypted\n",
        "        s_inv = mod_inverse(s, p)\n",
        "        message = (c2 * s_inv) % p\n",
        "        return message\n",
        "\n",
        "    def sample_hidden_secure(self, v, public_key_a, private_key_a, public_key_b, private_key_b, random_r):\n",
        "        \"\"\"\n",
        "        Securely sample the hidden layer using contributions from both parties.\n",
        "\n",
        "        Parameters:\n",
        "        - v: input visible data (batch, n_visible)\n",
        "        - public_key_a, private_key_a: keys for Party A\n",
        "        - public_key_b, private_key_b: keys for Party B\n",
        "        - random_r: random mask array (batch, n_hidden)\n",
        "\n",
        "        Returns:\n",
        "        - Binary samples for hidden layer (batch, n_hidden)\n",
        "        \"\"\"\n",
        "        # Split visible input: Party A's part and Party B's part.\n",
        "        vA = v[:, :self.mA]\n",
        "        vB = v[:, self.mA:]\n",
        "\n",
        "        # Split the weight matrix W accordingly.\n",
        "        WA = self.W[:self.mA, :]\n",
        "        WB = self.W[self.mA:, :]\n",
        "\n",
        "        # Each party computes its partial activation. we assume all the bias is on party A's side\n",
        "        act_A = np.dot(vA, WA) + self.h_bias\n",
        "        act_B = np.dot(vB, WB)\n",
        "\n",
        "        # Joint secure activation: each party encrypts its share, then they are combined.\n",
        "        # Here we simulate secure computation by simply summing the parts.\n",
        "        joint_act = act_A + act_B\n",
        "        # Apply random mask removal.\n",
        "        final_act = joint_act - random_r\n",
        "        # Compute secure sigmoid and sample hidden units.\n",
        "        h_prob = self.sigmoid(final_act)\n",
        "        return self.sample(h_prob)\n",
        "\n",
        "    def sample_visible_secure(self, h, public_key_a, private_key_a, public_key_b, private_key_b, random_r):\n",
        "        \"\"\"\n",
        "        Securely sample the visible layer.\n",
        "\n",
        "        Parameters:\n",
        "        - h: hidden layer activations (batch, n_hidden)\n",
        "        - public_key_a, private_key_a: keys for Party A\n",
        "        - public_key_b, private_key_b: keys for Party B\n",
        "        - random_r: random mask array (batch, n_visible)\n",
        "\n",
        "        Returns:\n",
        "        - Binary reconstruction of the visible layer (batch, n_visible)\n",
        "        \"\"\"\n",
        "        # For the visible layer, assume Party A owns the first mA visible units and Party B the rest.\n",
        "        WA_T = self.W[:self.mA, :].T\n",
        "        WB_T = self.W[self.mA:, :].T\n",
        "        bA = self.v_bias[:self.mA]\n",
        "        bB = self.v_bias[self.mA:]\n",
        "\n",
        "        act_A = np.dot(h, WA_T) + bA\n",
        "        act_B = np.dot(h, WB_T) + bB\n",
        "\n",
        "        # Combine secure activations\n",
        "        joint_act = np.concatenate([act_A, act_B], axis=1)\n",
        "        final_act = joint_act - random_r\n",
        "        v_prob = self.sigmoid(final_act)\n",
        "        return self.sample(v_prob)\n",
        "\n",
        "    def reconstruct(self, v, public_key_a, private_key_a, public_key_b, private_key_b, random_r):\n",
        "        \"\"\"\n",
        "        Securely reconstruct the visible input.\n",
        "        \"\"\"\n",
        "        h = self.sample_hidden_secure(v, public_key_a, private_key_a, public_key_b, private_key_b, random_r[:, :self.h_bias.shape[0]])\n",
        "        v_recon = self.sample_visible_secure(h, public_key_a, private_key_a, public_key_b, private_key_b, random_r)\n",
        "        return v_recon\n",
        "\n",
        "    def contrastive_divergence_secure(self, v, k, public_key_a, private_key_a, public_key_b, private_key_b, random_r):\n",
        "        \"\"\"\n",
        "        Perform one step of secure Contrastive Divergence.\n",
        "        \"\"\"\n",
        "        # For simplicity, we perform ordinary Gibbs sampling.\n",
        "        # In a real implementation, secure operations would be applied at each step.\n",
        "        v_neg = v.copy()\n",
        "        for _ in range(k):\n",
        "            h_prob = self.sigmoid(np.dot(v_neg, self.W) + self.h_bias)\n",
        "            h_sample = self.sample(h_prob)\n",
        "            v_prob = self.sigmoid(np.dot(h_sample, self.W.T) + self.v_bias)\n",
        "            v_neg = self.sample(v_prob)\n",
        "        # Compute gradients using standard (non-secure) operations.\n",
        "        h_prob_data = self.sigmoid(np.dot(v, self.W) + self.h_bias)\n",
        "        h_prob_neg = self.sigmoid(np.dot(v_neg, self.W) + self.h_bias)\n",
        "        positive_grad = np.dot(v.T, h_prob_data)\n",
        "        negative_grad = np.dot(v_neg.T, h_prob_neg)\n",
        "        batch_size = v.shape[0]\n",
        "        self.W += self.learning_rate * (positive_grad - negative_grad) / batch_size\n",
        "        self.v_bias += self.learning_rate * np.mean(v - v_neg, axis=0)\n",
        "        self.h_bias += self.learning_rate * np.mean(h_prob_data - h_prob_neg, axis=0)\n",
        "        return v_neg\n",
        "\n",
        "    def train_secure(self, data, epochs=10, k=1, batch_size=64,\n",
        "                     public_key_a=None, private_key_a=None,\n",
        "                     public_key_b=None, private_key_b=None):\n",
        "        \"\"\"\n",
        "        Train the SecureRBM model using secure Contrastive Divergence.\n",
        "        \"\"\"\n",
        "        num_batches = len(data) // batch_size\n",
        "        for epoch in range(epochs):\n",
        "            np.random.shuffle(data)\n",
        "            epoch_loss = 0\n",
        "            for batch_start in range(0, len(data), batch_size):\n",
        "                batch = data[batch_start:batch_start + batch_size]\n",
        "                # Generate a random mask for both hidden and visible layers.\n",
        "                # For visible: shape (batch, n_visible)\n",
        "                mask_scale = 0.1  # or another small constant\n",
        "                random_r = np.random.randint(1, int(self.p * mask_scale), size=(batch.shape[0], self.n_visible))\n",
        "                # Reconstruct the batch using secure operations.\n",
        "                v_recon = self.reconstruct(batch, public_key_a, private_key_a, public_key_b, private_key_b, random_r)\n",
        "                loss = np.mean((batch - v_recon) ** 2)\n",
        "                epoch_loss += loss\n",
        "                # Update parameters using secure Contrastive Divergence simulation.\n",
        "                self.contrastive_divergence_secure(batch, k, public_key_a, private_key_a, public_key_b, private_key_b, random_r)\n",
        "            avg_loss = epoch_loss / num_batches\n",
        "            print(f\"Epoch {epoch+1}/{epochs}, Secure Loss: {avg_loss:.5f}\")\n",
        "\n",
        "    def generate_samples(self, n_samples=10, k=1,\n",
        "                         public_key_a=None, private_key_a=None,\n",
        "                         public_key_b=None, private_key_b=None):\n",
        "        \"\"\"\n",
        "        Generate new samples from the trained SecureRBM model.\n",
        "        \"\"\"\n",
        "        samples = []\n",
        "        for _ in range(n_samples):\n",
        "            # Start with a random visible vector.\n",
        "            v = np.random.binomial(1, 0.5, self.n_visible).reshape(1, -1)\n",
        "            mask_scale = 0.1\n",
        "            random_r = np.random.randint(1, int(self.p * mask_scale), size=(1, self.n_visible))\n",
        "            for _ in range(k):\n",
        "                h = self.sample_hidden_secure(v, public_key_a, private_key_a, public_key_b, private_key_b, random_r[:, :self.h_bias.shape[0]])\n",
        "                v = self.sample_visible_secure(h, public_key_a, private_key_a, public_key_b, private_key_b, random_r)\n",
        "            samples.append(v.flatten())\n",
        "        return np.array(samples)\n"
      ],
      "metadata": {
        "id": "BLfmlrpDwl2y"
      },
      "execution_count": 21,
      "outputs": []
    },
    {
      "cell_type": "markdown",
      "source": [
        "**DDDDDDDDDDDDDDDDDDDDDDDDDDDDDDDDDDDDDDDDDDDDDDDDDDDDDDDDDDDDDDDDDDDDDDDDDDDDDD**"
      ],
      "metadata": {
        "id": "brL4L2VlJmV2"
      }
    },
    {
      "cell_type": "markdown",
      "source": [
        "Training the Secure Model:"
      ],
      "metadata": {
        "id": "Dm5pL5zOLlUI"
      }
    },
    {
      "cell_type": "code",
      "source": [
        "# defining the parameters\n",
        "n_visible = 784\n",
        "n_hidden = 32\n",
        "mA = 392\n",
        "\n",
        "secure_rbm = SecureRBM(n_visible, n_hidden, mA, learning_rate=0.01, p=467)\n",
        "public_key_a, private_key_a = secure_rbm.generate_keys()\n",
        "public_key_b, private_key_b = secure_rbm.generate_keys()\n",
        "\n",
        "# train\n",
        "secure_rbm.train_secure(X_train_binary, epochs=15, k=5,\n",
        "                        public_key_a=public_key_a, private_key_a=private_key_a,\n",
        "                        public_key_b=public_key_b, private_key_b=private_key_b)"
      ],
      "metadata": {
        "colab": {
          "base_uri": "https://localhost:8080/"
        },
        "id": "0rDM79G0wojO",
        "outputId": "d800c90d-b950-4bf2-889d-3f69082eb277"
      },
      "execution_count": 22,
      "outputs": [
        {
          "output_type": "stream",
          "name": "stdout",
          "text": [
            "Epoch 1/15, Secure Loss: 0.13478\n",
            "Epoch 2/15, Secure Loss: 0.13329\n",
            "Epoch 3/15, Secure Loss: 0.13287\n",
            "Epoch 4/15, Secure Loss: 0.13260\n",
            "Epoch 5/15, Secure Loss: 0.13239\n",
            "Epoch 6/15, Secure Loss: 0.13224\n",
            "Epoch 7/15, Secure Loss: 0.13212\n",
            "Epoch 8/15, Secure Loss: 0.13203\n",
            "Epoch 9/15, Secure Loss: 0.13192\n",
            "Epoch 10/15, Secure Loss: 0.13183\n",
            "Epoch 11/15, Secure Loss: 0.13177\n",
            "Epoch 12/15, Secure Loss: 0.13169\n",
            "Epoch 13/15, Secure Loss: 0.13163\n",
            "Epoch 14/15, Secure Loss: 0.13158\n",
            "Epoch 15/15, Secure Loss: 0.13153\n"
          ]
        }
      ]
    },
    {
      "cell_type": "markdown",
      "source": [
        "Evaluating the secure model:"
      ],
      "metadata": {
        "id": "yhRBFpDPL787"
      }
    },
    {
      "cell_type": "code",
      "source": [
        "# ارزیابی ماشین بولتزمن امن\n",
        "def evaluate_secure_rbm(secure_rbm, data, public_key_a, private_key_a, public_key_b, private_key_b, batch_size=64):\n",
        "    loss = 0.0\n",
        "    num_batches = len(data) // batch_size\n",
        "    for i in range(0, len(data), batch_size):\n",
        "        batch = data[i:i+batch_size]\n",
        "        # ایجاد یک مقدار تصادفی r برای هر دسته\n",
        "        random_r = np.random.randint(1, secure_rbm.p, size=(batch.shape[0], 1))\n",
        "\n",
        "        # بازسازی داده‌ها با استفاده از متدهای امن\n",
        "        v_recon = secure_rbm.reconstruct(batch, public_key_a, private_key_a, public_key_b, private_key_b, random_r)\n",
        "\n",
        "        # محاسبه خطا بین داده‌های اصلی و بازسازی شده\n",
        "        loss += np.mean((batch - v_recon) ** 2)\n",
        "\n",
        "    avg_loss = loss / num_batches\n",
        "    return avg_loss\n",
        "\n",
        "# ارزیابی ماشین بولتزمن امن\n",
        "secure_loss = evaluate_secure_rbm(\n",
        "    secure_rbm,\n",
        "    X_test_binary,\n",
        "    public_key_a,\n",
        "    private_key_a,\n",
        "    public_key_b,\n",
        "    private_key_b,\n",
        "    batch_size=64\n",
        ")\n",
        "print(f\"Secure RBM Test Loss: {secure_loss:.5f}\")"
      ],
      "metadata": {
        "colab": {
          "base_uri": "https://localhost:8080/"
        },
        "id": "muv4Bq4uL7PW",
        "outputId": "efd826e3-d031-4fa4-ed65-37157ba102dd"
      },
      "execution_count": 15,
      "outputs": [
        {
          "output_type": "stream",
          "name": "stdout",
          "text": [
            "Secure RBM Test Loss: 0.13333\n"
          ]
        }
      ]
    },
    {
      "cell_type": "markdown",
      "source": [
        "Comparison:"
      ],
      "metadata": {
        "id": "G1UpSjguMCJr"
      }
    },
    {
      "cell_type": "code",
      "source": [
        "print(\"Comparing the Simple RBM with \")\n",
        "print(f\"Simple RBM with k=1 Test Loss: {simple_losses[1]:.5f}\")\n",
        "print(f\"Simple RBM with k=5 Test Loss: {simple_losses[5]:.5f}\")\n",
        "print(f\"Simple RBM with k=10 Test Loss: {simple_losses[10]:.5f}\")\n",
        "print(f\"Secure RBM Test Loss: {secure_loss:.5f}\")"
      ],
      "metadata": {
        "colab": {
          "base_uri": "https://localhost:8080/"
        },
        "id": "3Q6jIAtMMDI8",
        "outputId": "80edb9c0-56d3-4e88-b87b-b1f2ae6ec4a3"
      },
      "execution_count": 20,
      "outputs": [
        {
          "output_type": "stream",
          "name": "stdout",
          "text": [
            "مقایسه عملکرد ماشین بولتزمن ساده و امن:\n",
            "Simple RBM with k=1 Test Loss: 0.09028\n",
            "Simple RBM with k=5 Test Loss: 0.08821\n",
            "Simple RBM with k=10 Test Loss: 0.08768\n",
            "Secure RBM Test Loss: 0.13333\n"
          ]
        }
      ]
    },
    {
      "cell_type": "markdown",
      "source": [],
      "metadata": {
        "id": "u6sRAhTYHL0r"
      }
    },
    {
      "cell_type": "markdown",
      "source": [],
      "metadata": {
        "id": "3kZ5maPQHLss"
      }
    },
    {
      "cell_type": "markdown",
      "source": [],
      "metadata": {
        "id": "7shky0hbHLkE"
      }
    },
    {
      "cell_type": "markdown",
      "source": [],
      "metadata": {
        "id": "UeskQDY_HLaz"
      }
    },
    {
      "cell_type": "markdown",
      "source": [],
      "metadata": {
        "id": "65nmjePCHLRG"
      }
    },
    {
      "cell_type": "markdown",
      "source": [
        "# Generative RBM"
      ],
      "metadata": {
        "id": "kncasc4xHK-B"
      }
    },
    {
      "cell_type": "markdown",
      "source": [
        "Preparing the data with labels:"
      ],
      "metadata": {
        "id": "PeLJlK9oZpmt"
      }
    },
    {
      "cell_type": "code",
      "source": [
        "# ---------------------------\n",
        "# Data Preparation\n",
        "# ---------------------------\n",
        "def one_hot(labels, num_classes=10):\n",
        "    return np.eye(num_classes)[labels]\n",
        "\n",
        "# One-hot encode the labels (10 classes)\n",
        "Y_train_oh = one_hot(Y_train, num_classes=10)\n",
        "Y_test_oh  = one_hot(Y_test, num_classes=10)\n",
        "\n",
        "# For training the joint model, we concatenate x and y.\n",
        "# The total visible vector length = 784 (image) + 10 (label) = 794.\n",
        "V_train = np.concatenate([X_train.reshape(X_train.shape[0], -1), Y_train_oh], axis=1)"
      ],
      "metadata": {
        "id": "HfzNVgPBZpW7"
      },
      "execution_count": 50,
      "outputs": []
    },
    {
      "cell_type": "markdown",
      "source": [
        "The model:"
      ],
      "metadata": {
        "id": "pEyPa2574XfH"
      }
    },
    {
      "cell_type": "code",
      "source": [
        "class GenerativeRBM:\n",
        "    def __init__(self, n_visible, n_hidden, n_labels, learning_rate=0.01):\n",
        "        \"\"\"\n",
        "        n_visible: تعداد ویژگی‌های x (مثلاً 784)\n",
        "        n_labels: تعداد ابعاد y (مثلاً 10)\n",
        "        n_hidden: تعداد واحدهای مخفی\n",
        "        تعداد کل واحدهای قابل مشاهده = n_visible + n_labels (مثلاً 794)\n",
        "        \"\"\"\n",
        "        self.n_visible = n_visible\n",
        "        self.n_labels = n_labels\n",
        "        self.nv_total = n_visible + n_labels\n",
        "        self.n_hidden = n_hidden\n",
        "        self.learning_rate = learning_rate\n",
        "\n",
        "        # مقداردهی اولیه به وزن‌ها و بایاس‌ها\n",
        "        self.W = np.random.normal(0, 0.1, (self.nv_total, n_hidden))\n",
        "        self.b = np.zeros(self.nv_total)  # بایاس برای x و y\n",
        "        self.c = np.zeros(n_hidden)       # بایاس لایه پنهان\n",
        "\n",
        "    def sigmoid(self, x):\n",
        "        return 1 / (1 + np.exp(-x))\n",
        "\n",
        "    def sample(self, prob):\n",
        "        return (np.random.rand(*prob.shape) < prob).astype(np.float32)\n",
        "\n",
        "    def contrastive_divergence(self, v, k=1):\n",
        "        # مرحله مثبت: محاسبه احتمالات لایه پنهان\n",
        "        h_prob = self.sigmoid(np.dot(v, self.W) + self.c)\n",
        "        h_sample = self.sample(h_prob)\n",
        "\n",
        "        # مرحله منفی: اجرای k مرحله Gibbs Sampling\n",
        "        v_neg = v.copy()\n",
        "        for _ in range(k):\n",
        "            h_prob_neg = self.sigmoid(np.dot(v_neg, self.W) + self.c)\n",
        "            h_sample_neg = self.sample(h_prob_neg)\n",
        "            v_prob_neg = self.sigmoid(np.dot(h_sample_neg, self.W.T) + self.b)\n",
        "            v_neg = self.sample(v_prob_neg)\n",
        "        return v_neg, h_prob\n",
        "\n",
        "    def update(self, v, v_neg, h_prob, h_prob_neg):\n",
        "        batch_size = v.shape[0]\n",
        "        positive_grad = np.dot(v.T, h_prob)\n",
        "        negative_grad = np.dot(v_neg.T, h_prob_neg)\n",
        "        self.W += self.learning_rate * (positive_grad - negative_grad) / batch_size\n",
        "        self.b += self.learning_rate * np.mean(v - v_neg, axis=0)\n",
        "        self.c += self.learning_rate * np.mean(h_prob - h_prob_neg, axis=0)\n",
        "\n",
        "    def train(self, data, epochs=20, k=1, batch_size=64):\n",
        "        n_samples = data.shape[0]\n",
        "        for epoch in range(epochs):\n",
        "            np.random.shuffle(data)\n",
        "            epoch_error = 0\n",
        "            for i in range(0, n_samples, batch_size):\n",
        "                batch = data[i:i+batch_size]\n",
        "                v_neg, h_prob = self.contrastive_divergence(batch, k)\n",
        "                h_prob_neg = self.sigmoid(np.dot(v_neg, self.W) + self.c)\n",
        "                self.update(batch, v_neg, h_prob, h_prob_neg)\n",
        "                epoch_error += np.mean((batch - v_neg)**2)\n",
        "            avg_err = epoch_error / (n_samples / batch_size)\n",
        "            print(f\"Epoch {epoch+1}/{epochs}, Reconstruction Error: {avg_err:.5f}\")\n",
        "\n",
        "    def free_energy(self, v):\n",
        "        vbias_term = np.dot(v, self.b)\n",
        "        wx_b = np.dot(v, self.W) + self.c\n",
        "        hidden_term = np.sum(np.log(1 + np.exp(wx_b)), axis=1)\n",
        "        return -vbias_term - hidden_term\n",
        "\n",
        "    def classify(self, x):\n",
        "        \"\"\"\n",
        "        برای هر ورودی x (شکل: (n_samples, n_visible))، با تولید\n",
        "        بردارهای هم‌افزایی با برچسب‌های ممکن (One-hot) و محاسبه تابع انرژی آزاد،\n",
        "        برچسبی که انرژی آن کمینه است انتخاب می‌شود.\n",
        "        \"\"\"\n",
        "        n_samples = x.shape[0]\n",
        "        predictions = np.zeros(n_samples, dtype=np.int32)\n",
        "        for i in range(n_samples):\n",
        "            x_i = x[i].reshape(1, -1)\n",
        "            energies = []\n",
        "            for label in range(self.n_labels):\n",
        "                y_candidate = np.zeros((1, self.n_labels))\n",
        "                y_candidate[0, label] = 1\n",
        "                v_candidate = np.concatenate([x_i, y_candidate], axis=1)\n",
        "                energies.append(self.free_energy(v_candidate)[0])\n",
        "            predictions[i] = np.argmin(energies)\n",
        "        return predictions"
      ],
      "metadata": {
        "id": "v6ihNwNJD-IO"
      },
      "execution_count": 51,
      "outputs": []
    },
    {
      "cell_type": "markdown",
      "source": [
        "Training the model:"
      ],
      "metadata": {
        "id": "w2YY4nfYZDWW"
      }
    },
    {
      "cell_type": "code",
      "source": [
        "# ---------------------------\n",
        "# آموزش و ارزیابی مدل Generative RBM\n",
        "# ---------------------------\n",
        "n_visible = 784\n",
        "n_labels = 10\n",
        "n_hidden = 256\n",
        "learning_rate = 0.1\n",
        "epochs = 10\n",
        "k = 1\n",
        "batch_size = 64\n",
        "\n",
        "rbm_joint = GenerativeRBM(n_visible, n_hidden, n_labels, learning_rate)\n",
        "\n",
        "print(\"Training Generative RBM on (x,y)...\")\n",
        "rbm_joint.train(V_train, epochs=epochs, k=k, batch_size=batch_size)"
      ],
      "metadata": {
        "colab": {
          "base_uri": "https://localhost:8080/"
        },
        "id": "OnnABfnEZC_4",
        "outputId": "ea184539-58e4-4ce7-b14a-0d4b8b3a5987"
      },
      "execution_count": 53,
      "outputs": [
        {
          "output_type": "stream",
          "name": "stdout",
          "text": [
            "Training Generative RBM on (x,y)...\n",
            "Epoch 1/10, Reconstruction Error: 0.07785\n",
            "Epoch 2/10, Reconstruction Error: 0.05614\n",
            "Epoch 3/10, Reconstruction Error: 0.04983\n",
            "Epoch 4/10, Reconstruction Error: 0.04602\n",
            "Epoch 5/10, Reconstruction Error: 0.04339\n",
            "Epoch 6/10, Reconstruction Error: 0.04139\n",
            "Epoch 7/10, Reconstruction Error: 0.03983\n",
            "Epoch 8/10, Reconstruction Error: 0.03864\n",
            "Epoch 9/10, Reconstruction Error: 0.03760\n",
            "Epoch 10/10, Reconstruction Error: 0.03674\n"
          ]
        }
      ]
    },
    {
      "cell_type": "markdown",
      "source": [
        "Testing the model:"
      ],
      "metadata": {
        "id": "vejnYcIWY8W5"
      }
    },
    {
      "cell_type": "code",
      "source": [
        "def show_classification_results(x, true_labels, pred_labels, n=10):\n",
        "    fig, axes = plt.subplots(1, n, figsize=(15, 3))\n",
        "    for i, ax in enumerate(axes):\n",
        "        ax.imshow(x[i].reshape(28,28), cmap='binary')\n",
        "        ax.set_title(f\"True: {true_labels[i]}\\nPred: {pred_labels[i]}\")\n",
        "        ax.axis('off')\n",
        "    plt.show()\n",
        "\n",
        "predictions_joint = rbm_joint.classify(X_test)\n",
        "accuracy_joint = np.mean(predictions_joint == Y_test)\n",
        "print(f\"Generative RBM Classification Accuracy: {accuracy_joint*100:.2f}%\")\n",
        "\n",
        "show_classification_results(X_test, Y_test, predictions_joint, n=10)"
      ],
      "metadata": {
        "colab": {
          "base_uri": "https://localhost:8080/",
          "height": 195
        },
        "id": "3PXp7rKwY8zC",
        "outputId": "82bd1dcb-beb6-4c2c-99d2-1f82a16b909d"
      },
      "execution_count": 54,
      "outputs": [
        {
          "output_type": "stream",
          "name": "stdout",
          "text": [
            "Generative RBM Classification Accuracy: 93.34%\n"
          ]
        },
        {
          "output_type": "display_data",
          "data": {
            "text/plain": [
              "<Figure size 1500x300 with 10 Axes>"
            ],
            "image/png": "[encoded data removed]"
          },
          "metadata": {}
        }
      ]
    },
    {
      "cell_type": "markdown",
      "source": [
        "# Full DRBM model"
      ],
      "metadata": {
        "id": "m8ZfG7dMqhzB"
      }
    },
    {
      "cell_type": "markdown",
      "source": [
        "Preparing the data:"
      ],
      "metadata": {
        "id": "WxFUGe204xtO"
      }
    },
    {
      "cell_type": "code",
      "source": [
        "# ---------------------------\n",
        "# بارگذاری و پیش‌پردازش داده‌ها\n",
        "# ---------------------------\n",
        "transform = transforms.Compose([transforms.ToTensor()])\n",
        "\n",
        "trainset = torchvision.datasets.MNIST(root='./data', train=True, download=True, transform=transform)\n",
        "testset  = torchvision.datasets.MNIST(root='./data', train=False, download=True, transform=transform)\n",
        "\n",
        "trainloader = torch.utils.data.DataLoader(trainset, batch_size=64, shuffle=True)\n",
        "testloader  = torch.utils.data.DataLoader(testset, batch_size=64, shuffle=False)"
      ],
      "metadata": {
        "id": "5asN7F9q4wlZ"
      },
      "execution_count": 57,
      "outputs": []
    },
    {
      "cell_type": "markdown",
      "source": [
        "The model:"
      ],
      "metadata": {
        "id": "V3_Vu7uv45dK"
      }
    },
    {
      "cell_type": "code",
      "source": [
        "class DiscriminativeRBMModel(nn.Module):\n",
        "    def __init__(self, input_dim=784, num_classes=10, hidden_dim=256):\n",
        "        super(DiscriminativeRBMModel, self).__init__()\n",
        "        self.input_dim = input_dim\n",
        "        self.num_classes = num_classes\n",
        "        self.hidden_dim = hidden_dim\n",
        "\n",
        "        # پارامترهای مربوط به بخش تصویر\n",
        "        self.b = nn.Parameter(torch.zeros(input_dim))\n",
        "        # پارامترهای مربوط به برچسب\n",
        "        self.d = nn.Parameter(torch.zeros(num_classes))\n",
        "        # وزن‌های مربوط به اتصال تصویر به لایه پنهان\n",
        "        self.W = nn.Parameter(torch.randn(input_dim, hidden_dim) * 0.1)\n",
        "        # وزن‌های مربوط به اتصال برچسب به لایه پنهان\n",
        "        self.U = nn.Parameter(torch.randn(num_classes, hidden_dim) * 0.1)\n",
        "        # بایاس لایه پنهان\n",
        "        self.c = nn.Parameter(torch.zeros(hidden_dim))\n",
        "\n",
        "    def free_energy(self, x, y):\n",
        "        vbias_term = torch.matmul(x, self.b) + torch.matmul(y, self.d)\n",
        "        hidden_linear = torch.matmul(x, self.W) + torch.matmul(y, self.U) + self.c\n",
        "        # Clamp کردن ورودی به exp برای جلوگیری از overflow\n",
        "        hidden_linear = torch.clamp(hidden_linear, max=50)\n",
        "        hidden_term = torch.sum(torch.log(1 + torch.exp(hidden_linear)), dim=1)\n",
        "        return -vbias_term - hidden_term\n",
        "\n",
        "\n",
        "    def forward(self, x):\n",
        "        \"\"\"\n",
        "        برای هر نمونه ورودی x (به شکل (batch, 784))، با استفاده از تابع free energy،\n",
        "        برای هر برچسب ممکن (به صورت One-hot) مقادیر -F(x,y) (که معادل logits هستند) محاسبه می‌شود.\n",
        "        خروجی logits به شکل (batch, num_classes) خواهد بود.\n",
        "        \"\"\"\n",
        "        batch_size = x.size(0)\n",
        "        logits = []\n",
        "        for label in range(self.num_classes):\n",
        "            y_candidate = torch.zeros(batch_size, self.num_classes, device=x.device)\n",
        "            y_candidate[:, label] = 1.0\n",
        "            F = self.free_energy(x, y_candidate)   # (batch,)\n",
        "            logits.append((-F).unsqueeze(1))\n",
        "        logits = torch.cat(logits, dim=1)  # (batch, num_classes)\n",
        "        return logits"
      ],
      "metadata": {
        "id": "iL2eC6LrqnM-"
      },
      "execution_count": 66,
      "outputs": []
    },
    {
      "cell_type": "markdown",
      "source": [
        "Training the model:"
      ],
      "metadata": {
        "id": "TvKnKXhpq0Z-"
      }
    },
    {
      "cell_type": "code",
      "source": [
        "# ---------------------------\n",
        "# آموزش مدل تمایزگر\n",
        "# ---------------------------\n",
        "device = torch.device(\"cuda\" if torch.cuda.is_available() else \"cpu\")\n",
        "model = DiscriminativeRBMModel(input_dim=784, num_classes=10, hidden_dim=256).to(device)\n",
        "criterion = nn.CrossEntropyLoss()\n",
        "optimizer = optim.Adam(model.parameters(), lr=0.01)\n",
        "num_epochs = 10\n",
        "\n",
        "model.train()\n",
        "for epoch in range(num_epochs):\n",
        "    running_loss = 0.0\n",
        "    for images, labels in trainloader:\n",
        "        images = images.to(device)\n",
        "        labels = labels.to(device)\n",
        "        # بایناریزه کردن تصاویر (اگر لازم باشد)\n",
        "        images = (images > 0.5).float()\n",
        "        images = images.view(images.size(0), -1)\n",
        "\n",
        "        optimizer.zero_grad()\n",
        "        logits = model(images)  # (batch, num_classes)\n",
        "        loss = criterion(logits, labels)\n",
        "        loss.backward()\n",
        "        optimizer.step()\n",
        "\n",
        "        running_loss += loss.item() * images.size(0)\n",
        "    epoch_loss = running_loss / len(trainset)\n",
        "    print(f\"Epoch {epoch+1}/{num_epochs}, Loss: {epoch_loss:.5f}\")"
      ],
      "metadata": {
        "colab": {
          "base_uri": "https://localhost:8080/"
        },
        "id": "dgnpYIsfq209",
        "outputId": "cb71561f-5a41-45a2-edee-aad32215abe2"
      },
      "execution_count": 67,
      "outputs": [
        {
          "output_type": "stream",
          "name": "stdout",
          "text": [
            "Epoch 1/10, Loss: 0.23599\n",
            "Epoch 2/10, Loss: 0.10353\n",
            "Epoch 3/10, Loss: 0.07536\n",
            "Epoch 4/10, Loss: 0.05815\n",
            "Epoch 5/10, Loss: 0.05386\n",
            "Epoch 6/10, Loss: 0.04407\n",
            "Epoch 7/10, Loss: 0.04030\n",
            "Epoch 8/10, Loss: 0.03591\n",
            "Epoch 9/10, Loss: 0.03353\n",
            "Epoch 10/10, Loss: 0.03283\n"
          ]
        }
      ]
    },
    {
      "cell_type": "markdown",
      "source": [
        "Testing the model:"
      ],
      "metadata": {
        "id": "tOmSq1jHqth_"
      }
    },
    {
      "cell_type": "code",
      "source": [
        "# ---------------------------\n",
        "# ارزیابی مدل تمایزگر\n",
        "# ---------------------------\n",
        "model.eval()\n",
        "correct = 0\n",
        "total = 0\n",
        "with torch.no_grad():\n",
        "    for images, labels in testloader:\n",
        "        images = images.to(device)\n",
        "        labels = labels.to(device)\n",
        "        images = (images > 0.5).float()\n",
        "        images = images.view(images.size(0), -1)\n",
        "        logits = model(images)\n",
        "        _, predicted = torch.max(logits.data, 1)\n",
        "        total += labels.size(0)\n",
        "        correct += (predicted == labels).sum().item()\n",
        "\n",
        "accuracy = correct / total\n",
        "print(f\"Discriminative Model Accuracy: {accuracy*100:.2f}%\")"
      ],
      "metadata": {
        "colab": {
          "base_uri": "https://localhost:8080/"
        },
        "id": "Dv84TXVmqwZ5",
        "outputId": "529c198d-a095-4872-9bb7-17f76ced03dd"
      },
      "execution_count": 68,
      "outputs": [
        {
          "output_type": "stream",
          "name": "stdout",
          "text": [
            "Discriminative Model Accuracy: 96.55%\n"
          ]
        }
      ]
    },
    {
      "cell_type": "markdown",
      "source": [],
      "metadata": {
        "id": "fgCnmxCnnAtY"
      }
    },
    {
      "cell_type": "markdown",
      "source": [],
      "metadata": {
        "id": "_lDZKtcSnAf1"
      }
    },
    {
      "cell_type": "markdown",
      "source": [],
      "metadata": {
        "id": "r9n4kxgSnARO"
      }
    },
    {
      "cell_type": "markdown",
      "source": [],
      "metadata": {
        "id": "GwotZx-EnAL-"
      }
    }
  ]
}
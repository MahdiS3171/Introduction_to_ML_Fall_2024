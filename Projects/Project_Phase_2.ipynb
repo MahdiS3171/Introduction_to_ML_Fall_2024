{
  "nbformat": 4,
  "nbformat_minor": 0,
  "metadata": {
    "colab": {
      "provenance": [],
      "gpuType": "T4"
    },
    "kernelspec": {
      "name": "python3",
      "display_name": "Python 3"
    },
    "language_info": {
      "name": "python"
    }
  },
  "cells": [
    {
      "cell_type": "markdown",
      "source": [
        "# Introduction to Machine Learning\n",
        "## Project Phase 1\n",
        "\n",
        "Sina Fathi | 402111261\n",
        "\n",
        "Seyyed Amirmahdi Sadrzadeh | 401102015"
      ],
      "metadata": {
        "id": "hniNtD-Zew1w"
      }
    },
    {
      "cell_type": "markdown",
      "source": [
        "### Part 1: Data Preproccessing"
      ],
      "metadata": {
        "id": "tvacMiiXb_2B"
      }
    },
    {
      "cell_type": "markdown",
      "source": [
        "First we import the needed libraries:"
      ],
      "metadata": {
        "id": "8ziJ9zUdcH_y"
      }
    },
    {
      "cell_type": "code",
      "source": [
        "from tqdm import tqdm\n",
        "import numpy as np\n",
        "import matplotlib.pyplot as plt\n",
        "\n",
        "import torch\n",
        "import torchvision\n",
        "import torchvision.transforms as transforms"
      ],
      "metadata": {
        "id": "aY3-XWyHghIC"
      },
      "execution_count": 55,
      "outputs": []
    },
    {
      "cell_type": "markdown",
      "source": [
        "Now we use torch library to load the MNIST dataset and then turn them to numpy arrays:"
      ],
      "metadata": {
        "id": "p_vzRIfdcMhM"
      }
    },
    {
      "cell_type": "code",
      "source": [
        "transform = transforms.Compose([transforms.ToTensor()])\n",
        "\n",
        "trainset = torchvision.datasets.MNIST(root='./data', train=True, download=True)\n",
        "\n",
        "X_train_torch = trainset.data\n",
        "Y_train_torch = trainset.targets\n",
        "\n",
        "X_train = X_train_torch.numpy()\n",
        "Y_train = Y_train_torch.numpy()"
      ],
      "metadata": {
        "id": "t0Z15GkFglKD"
      },
      "execution_count": 56,
      "outputs": []
    },
    {
      "cell_type": "markdown",
      "source": [
        "To use the datas, we binarize them by setting a threshold equal to 128. So all pixels with values higher than 128 will be set to 1 and others will be set to 0. We also flatten the datas to use them in our model:"
      ],
      "metadata": {
        "id": "vyLf42oLclGd"
      }
    },
    {
      "cell_type": "code",
      "source": [
        "threshold = 128\n",
        "X_train = (X_train > threshold).astype(np.uint32)\n",
        "X_train_binary = X_train.reshape(-1, 28 * 28)"
      ],
      "metadata": {
        "id": "Fyoczl3mgr6H"
      },
      "execution_count": 57,
      "outputs": []
    },
    {
      "cell_type": "markdown",
      "source": [
        "The plot to show the samples:"
      ],
      "metadata": {
        "id": "_hNNKcVhdJL0"
      }
    },
    {
      "cell_type": "code",
      "source": [
        "def show_samples(samples, nrows=2, ncols=5):\n",
        "    fig, axes = plt.subplots(nrows, ncols, figsize=(10, 5))\n",
        "    for i, ax in enumerate(axes.flat):\n",
        "        ax.imshow(samples[i].reshape(28, 28), cmap='binary')\n",
        "        ax.axis('off')\n",
        "    plt.tight_layout()\n",
        "    plt.show()"
      ],
      "metadata": {
        "id": "-Lk-RDaWgtDd"
      },
      "execution_count": 58,
      "outputs": []
    },
    {
      "cell_type": "markdown",
      "source": [
        "And now we use the above function to show 10 samples from the dataset:"
      ],
      "metadata": {
        "id": "DptyrqJwdPLq"
      }
    },
    {
      "cell_type": "code",
      "execution_count": 59,
      "metadata": {
        "colab": {
          "base_uri": "https://localhost:8080/",
          "height": 440
        },
        "id": "AgNBDeGkemAG",
        "outputId": "2cc77404-d3d8-41aa-8eb0-3bea95d61a41"
      },
      "outputs": [
        {
          "output_type": "display_data",
          "data": {
            "text/plain": [
              "<Figure size 1000x500 with 10 Axes>"
            ],
            "image/png": "[encoded data removed]"
          },
          "metadata": {}
        }
      ],
      "source": [
        "show_samples(X_train_binary[:10])"
      ]
    },
    {
      "cell_type": "markdown",
      "source": [
        "### Part 2: Implementing the model"
      ],
      "metadata": {
        "id": "QVUWalBCdWoh"
      }
    },
    {
      "cell_type": "markdown",
      "source": [
        "To implement the RBM class, we initialize the values of the model parameters by setting the number of layers, the learning rate , and weights and biases. We set the initial values of biases to zero and set the initial values of the weights to a small value using gaussian distribution.\n",
        "\n",
        "For the contstrative divergence, we use the algorythm in the theory part and implement the method accordingly.\n",
        "\n",
        "The other part are like the classes we have implemented before.\n",
        "\n",
        "You can see the RBM class below:"
      ],
      "metadata": {
        "id": "b0EKwQygdlPF"
      }
    },
    {
      "cell_type": "code",
      "source": [
        "class RBM:\n",
        "    def __init__(self, n_visible, n_hidden, learning_rate=0.1):\n",
        "        self.n_visible = n_visible\n",
        "        self.n_hidden = n_hidden\n",
        "        self.learning_rate = learning_rate\n",
        "        self.W = np.random.normal(0, 0.1, (n_visible, n_hidden))\n",
        "        self.v_bias = np.zeros(n_visible)\n",
        "        self.h_bias = np.zeros(n_hidden)\n",
        "\n",
        "    def sigmoid(self, x):\n",
        "        return 1 / (1 + np.exp(-x))\n",
        "\n",
        "    def sample(self, prob):\n",
        "        return (np.random.uniform(size=prob.shape) < prob).astype(np.int32)\n",
        "\n",
        "    def gibbs_sampling(self, hid, k):\n",
        "        v_prob_0 = self.sigmoid(np.dot(hid, self.W.T) + self.v_bias)\n",
        "        v = self.sample(v_prob_0)\n",
        "        for _ in range(k):\n",
        "            h_prob = self.sigmoid(np.dot(v, self.W) + self.h_bias)\n",
        "            h_sample = self.sample(h_prob)\n",
        "            v_prob = self.sigmoid(np.dot(h_sample, self.W.T) + self.v_bias)\n",
        "            v = self.sample(v_prob)\n",
        "        return v\n",
        "\n",
        "    def contrastive_divergence(self, v, k):\n",
        "\n",
        "      h_prob_0 = self.sigmoid(np.dot(v, self.W) + self.h_bias)\n",
        "      h_sample_0 = self.sample(h_prob_0)\n",
        "\n",
        "      v_neg = v.copy()\n",
        "\n",
        "      for _ in range(k):\n",
        "          h_prob = self.sigmoid(np.dot(v_neg, self.W) + self.h_bias)\n",
        "          h_sample = self.sample(h_prob)\n",
        "          v_prob_neg = self.sigmoid(np.dot(h_sample, self.W.T) + self.v_bias)\n",
        "          v_neg = self.sample(v_prob_neg)\n",
        "\n",
        "      h_prob_neg = self.sigmoid(np.dot(v_neg, self.W) + self.h_bias)\n",
        "\n",
        "      positive_grad = np.dot(v.T, h_prob_0)\n",
        "      negative_grad = np.dot(v_neg.T, h_prob)\n",
        "\n",
        "      batch_size = v.shape[0]\n",
        "      self.W += self.learning_rate * (positive_grad - negative_grad) / batch_size\n",
        "      self.v_bias += self.learning_rate * np.mean(v - v_neg, axis=0)\n",
        "      self.h_bias += self.learning_rate * np.mean(h_prob_0 - h_prob_neg, axis=0)\n",
        "\n",
        "      return v_neg\n",
        "\n",
        "\n",
        "    def train(self, data, epochs=10, k=1, batch_size=64):\n",
        "        for epoch in range(epochs):\n",
        "            np.random.shuffle(data)\n",
        "            epoch_loss = 0\n",
        "            for batch_start in range(0, len(data), batch_size):\n",
        "                batch = data[batch_start:batch_start + batch_size]\n",
        "                v_neg = self.contrastive_divergence(batch, k)\n",
        "                epoch_loss += np.mean((batch - v_neg) ** 2)\n",
        "            print(f\"Epoch {epoch + 1}/{epochs}, Loss: {epoch_loss / len(data):.5f}\")\n",
        "\n",
        "    def generate_samples(self, n_samples=10, k=1):\n",
        "        samples = []\n",
        "        for i in range(n_samples):\n",
        "          sample = np.random.binomial(1, 0.5, self.n_hidden)\n",
        "          sample = self.gibbs_sampling(sample, k)\n",
        "          samples.append(sample)\n",
        "        return np.array(samples)"
      ],
      "metadata": {
        "id": "eo_bdVargxQd"
      },
      "execution_count": 66,
      "outputs": []
    },
    {
      "cell_type": "markdown",
      "source": [
        "Now that we have completely implemented the class, we use the code below to train the model.\n",
        "\n",
        "You can see the loss of each epoch and how the model converges for different values of k (1, 5, 10)."
      ],
      "metadata": {
        "id": "NjRcdx8ifEqX"
      }
    },
    {
      "cell_type": "code",
      "source": [
        "n_visible = X_train_binary.shape[1]\n",
        "n_hidden = 32\n",
        "k_values = [1, 5, 10]\n",
        "rbms = {}\n",
        "\n",
        "for k in k_values:\n",
        "    print(f\"Training RBM with k={k}\")\n",
        "    rbm = RBM(n_visible, n_hidden)\n",
        "    rbm.train(X_train_binary, epochs=10, k=k)\n",
        "    rbms[k] = rbm"
      ],
      "metadata": {
        "colab": {
          "base_uri": "https://localhost:8080/"
        },
        "id": "IsRPseBijAmX",
        "outputId": "58984aa0-c1b7-44b4-c9ef-53a87d465c7f"
      },
      "execution_count": 67,
      "outputs": [
        {
          "output_type": "stream",
          "name": "stdout",
          "text": [
            "Training RBM with k=1\n",
            "Epoch 1/10, Loss: 0.00262\n",
            "Epoch 2/10, Loss: 0.00194\n",
            "Epoch 3/10, Loss: 0.00184\n",
            "Epoch 4/10, Loss: 0.00180\n",
            "Epoch 5/10, Loss: 0.00178\n",
            "Epoch 6/10, Loss: 0.00178\n",
            "Epoch 7/10, Loss: 0.00177\n",
            "Epoch 8/10, Loss: 0.00177\n",
            "Epoch 9/10, Loss: 0.00177\n",
            "Epoch 10/10, Loss: 0.00178\n",
            "Training RBM with k=5\n",
            "Epoch 1/10, Loss: 0.00217\n",
            "Epoch 2/10, Loss: 0.00170\n",
            "Epoch 3/10, Loss: 0.00160\n",
            "Epoch 4/10, Loss: 0.00155\n",
            "Epoch 5/10, Loss: 0.00152\n",
            "Epoch 6/10, Loss: 0.00150\n",
            "Epoch 7/10, Loss: 0.00148\n",
            "Epoch 8/10, Loss: 0.00147\n",
            "Epoch 9/10, Loss: 0.00146\n",
            "Epoch 10/10, Loss: 0.00146\n",
            "Training RBM with k=10\n",
            "Epoch 1/10, Loss: 0.00226\n",
            "Epoch 2/10, Loss: 0.00177\n",
            "Epoch 3/10, Loss: 0.00167\n",
            "Epoch 4/10, Loss: 0.00162\n",
            "Epoch 5/10, Loss: 0.00158\n",
            "Epoch 6/10, Loss: 0.00156\n",
            "Epoch 7/10, Loss: 0.00155\n",
            "Epoch 8/10, Loss: 0.00153\n",
            "Epoch 9/10, Loss: 0.00152\n",
            "Epoch 10/10, Loss: 0.00151\n"
          ]
        }
      ]
    },
    {
      "cell_type": "markdown",
      "source": [
        "By trying different parameters, we reach the above configurations. Now to see the generated samples of this model, we use the function below:"
      ],
      "metadata": {
        "id": "8VlHWoH-jMIl"
      }
    },
    {
      "cell_type": "code",
      "source": [
        "def show_generated_samples(rbm, k, n_samples=10):\n",
        "    print(f\"Generated samples for k={k}\")\n",
        "    samples = rbm.generate_samples(n_samples, k=k)\n",
        "    samples = samples.reshape((-1, 28, 28))\n",
        "    fig, axes = plt.subplots(1, n_samples, figsize=(15, 3))\n",
        "    for i, ax in enumerate(axes):\n",
        "        ax.imshow(samples[i], cmap='binary')\n",
        "        ax.axis('off')\n",
        "    plt.show()"
      ],
      "metadata": {
        "id": "XJXN0zAhjN0l"
      },
      "execution_count": 68,
      "outputs": []
    },
    {
      "cell_type": "code",
      "source": [
        "for k in k_values:\n",
        "    show_generated_samples(rbms[k],k)"
      ],
      "metadata": {
        "colab": {
          "base_uri": "https://localhost:8080/",
          "height": 423
        },
        "id": "kGXVlQLBjXG8",
        "outputId": "25d50c85-4db4-4a3d-d232-268e4b2a9675"
      },
      "execution_count": 70,
      "outputs": [
        {
          "output_type": "stream",
          "name": "stdout",
          "text": [
            "Generated samples for k=1\n"
          ]
        },
        {
          "output_type": "display_data",
          "data": {
            "text/plain": [
              "<Figure size 1500x300 with 10 Axes>"
            ],
            "image/png": "[encoded data removed]"
          },
          "metadata": {}
        },
        {
          "output_type": "stream",
          "name": "stdout",
          "text": [
            "Generated samples for k=5\n"
          ]
        },
        {
          "output_type": "display_data",
          "data": {
            "text/plain": [
              "<Figure size 1500x300 with 10 Axes>"
            ],
            "image/png": "[encoded data removed]"
          },
          "metadata": {}
        },
        {
          "output_type": "stream",
          "name": "stdout",
          "text": [
            "Generated samples for k=10\n"
          ]
        },
        {
          "output_type": "display_data",
          "data": {
            "text/plain": [
              "<Figure size 1500x300 with 10 Axes>"
            ],
            "image/png": "[encoded data removed]"
          },
          "metadata": {}
        }
      ]
    },
    {
      "cell_type": "markdown",
      "source": [
        "We can see that by increasing the value of k, the numbers generated get better but the difference between k=1 and k=5 is more obvious than the difference between k=5 and k=10."
      ],
      "metadata": {
        "id": "o5j6ctP4jUij"
      }
    },
    {
      "cell_type": "markdown",
      "source": [
        "### Part 3: Showing the sampling proccess\n"
      ],
      "metadata": {
        "id": "-wCVRr38jacf"
      }
    },
    {
      "cell_type": "markdown",
      "source": [
        "To visualize the steps in the MCMC proccess, we define the function below to keep tracj of the steps in our model.\n",
        "\n",
        "And we use it to show the steps in the model with k=10."
      ],
      "metadata": {
        "id": "pGt7gVwrIc3g"
      }
    },
    {
      "cell_type": "code",
      "source": [
        "def visualize_mcmc_trained_model(rbm, n_samples=3, track_steps=5):\n",
        "\n",
        "    fig, axes = plt.subplots(n_samples, track_steps, figsize=(track_steps * 2, n_samples * 2))\n",
        "\n",
        "    for i in range(n_samples):\n",
        "        h_sample = np.random.binomial(1, 0.5, rbm.n_hidden)\n",
        "        states = []\n",
        "\n",
        "        for step in range(track_steps):\n",
        "            v_prob = rbm.sigmoid(np.dot(h_sample, rbm.W.T) + rbm.v_bias)\n",
        "            v_sample = rbm.sample(v_prob)\n",
        "            states.append(v_sample)\n",
        "            h_prob = rbm.sigmoid(np.dot(v_sample, rbm.W) + rbm.h_bias)\n",
        "            h_sample = rbm.sample(h_prob)\n",
        "\n",
        "        for j, state in enumerate(states):\n",
        "            ax = axes[i, j] if n_samples > 1 else axes[j]\n",
        "            ax.imshow(state.reshape(28, 28), cmap=\"gray\")\n",
        "            ax.axis(\"off\")\n",
        "            ax.set_title(f\"Step {j + 1}\")\n",
        "\n",
        "    plt.tight_layout()\n",
        "    plt.show()\n",
        "\n",
        "visualize_mcmc_trained_model(rbms[10], n_samples=3, track_steps=10)"
      ],
      "metadata": {
        "id": "_22M1AHujZ8o",
        "colab": {
          "base_uri": "https://localhost:8080/",
          "height": 442
        },
        "outputId": "3d6a79b3-70ee-455d-cad3-e669e0e335e8"
      },
      "execution_count": 71,
      "outputs": [
        {
          "output_type": "display_data",
          "data": {
            "text/plain": [
              "<Figure size 2000x600 with 30 Axes>"
            ],
            "image/png": "[encoded data removed]"
          },
          "metadata": {}
        }
      ]
    },
    {
      "cell_type": "markdown",
      "source": [
        "As you can see, the numbers are getting closer and closer to the final values. For example, in the last columns of the pictures above, you can guess that the first number is 4, the second one is 2 and the last one is 1. But in the first columns, the numbers aren't clear enough. (If you run the code block you get different numbers)\n",
        "\n",
        "Also, as we mentioned before, you can see that the difference between each step is becoming less in the higher steps."
      ],
      "metadata": {
        "id": "ZIUg2BHFH3Vn"
      }
    },
    {
      "cell_type": "markdown",
      "source": [
        "### Part 4: Control over the produced samples"
      ],
      "metadata": {
        "id": "uP4dbHDfk_Jz"
      }
    },
    {
      "cell_type": "markdown",
      "source": [
        "In order to genrate a specific number, we will follow the steps below:\n",
        "\n",
        "**First, we need to obtain the feataure vector for the needed number.** To do this, we use the training dataset to compute an average feature vector for our digit. This acts as a \"template\" for the number we want.\n",
        "\n",
        "**Second, we have to put a condition on the hidden layer.** For this, we use the feature vector corresponding to the desired number to bias the hidden layer activations.\n",
        "\n",
        "**And at last, we can generate the samples.** We perform Gibbs sampling, starting from the biased hidden layer to generate visible states corresponding to the desired digit.\n",
        "\n",
        "In a more simple way, we are obtaining the hidden layer structure by putting the samples from the desired number to the visible layer and then, by giving this hidden layer structure as the input to our gibbs sampling function, we can obtain the number we were looking for."
      ],
      "metadata": {
        "id": "aAqX23bAJEUr"
      }
    },
    {
      "cell_type": "code",
      "source": [
        "def generate_specific_digit(rbm, digit, data, labels, num_samples=10, k=10):\n",
        "    digit_data = data[labels == digit]\n",
        "    digit_data = (digit_data > 128).astype(np.uint32)\n",
        "    data_binary = digit_data.reshape(-1, 28 * 28)\n",
        "    mean_representation = np.mean(data_binary, axis=0)\n",
        "\n",
        "    generated_samples = []\n",
        "    for _ in range(num_samples):\n",
        "        v = mean_representation.copy()\n",
        "\n",
        "        for _ in range(k):\n",
        "            h_prob = rbm.sigmoid(np.dot(v, rbm.W) + rbm.h_bias)\n",
        "            h_sample = rbm.sample(h_prob)\n",
        "            v_prob = rbm.sigmoid(np.dot(h_sample, rbm.W.T) + rbm.v_bias)\n",
        "            visible_sample = rbm.sample(v_prob)\n",
        "            visible_layer = mean_representation.copy()\n",
        "            visible_layer[visible_sample > 0.5] = visible_sample[visible_sample > 0.5]\n",
        "\n",
        "        generated_samples.append(visible_layer.reshape(28, 28))\n",
        "\n",
        "    return generated_samples\n",
        "\n",
        "X_train_torch = trainset.data\n",
        "Y_train_torch = trainset.targets\n",
        "X_train = X_train_torch.numpy()\n",
        "Y_train = Y_train_torch.numpy()\n",
        "\n",
        "digit_to_generate = 3\n",
        "controlled_samples = generate_specific_digit(rbms[10], digit_to_generate, X_train, Y_train, num_samples=10)\n",
        "\n",
        "def display_controlled_samples(samples):\n",
        "    plt.figure(figsize=(10, 2))\n",
        "    for i, sample in enumerate(samples):\n",
        "        plt.subplot(1, len(samples), i + 1)\n",
        "        plt.imshow(sample, cmap='gray')\n",
        "        plt.axis('off')\n",
        "    plt.suptitle(f\"Generated Samples for Digit {digit_to_generate}\")\n",
        "    plt.show()\n",
        "\n",
        "display_controlled_samples(controlled_samples)\n"
      ],
      "metadata": {
        "id": "HCJKmhH_lAXp",
        "colab": {
          "base_uri": "https://localhost:8080/",
          "height": 166
        },
        "outputId": "80101705-334a-41df-eed2-9ab85b1b263f"
      },
      "execution_count": 72,
      "outputs": [
        {
          "output_type": "display_data",
          "data": {
            "text/plain": [
              "<Figure size 1000x200 with 10 Axes>"
            ],
            "image/png": "[encoded data removed]"
          },
          "metadata": {}
        }
      ]
    },
    {
      "cell_type": "markdown",
      "source": [
        "You can see that we get a much better result in this section. This is because we are now solving a supervised learning problem unlike the previous part. By having the labels for the inputs, we can train the model better and get a better result and better approximation for our weights and biases."
      ],
      "metadata": {
        "id": "2HboigRRfpjz"
      }
    }
  ]
}

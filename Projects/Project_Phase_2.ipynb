{
  "nbformat": 4,
  "nbformat_minor": 0,
  "metadata": {
    "colab": {
      "provenance": [],
      "gpuType": "T4"
    },
    "kernelspec": {
      "name": "python3",
      "display_name": "Python 3"
    },
    "language_info": {
      "name": "python"
    }
  },
  "cells": [
    {
      "cell_type": "markdown",
      "source": [
        "# Introduction to Machine Learning\n",
        "## Project Phase 2\n",
        "\n",
        "Sina Fathi | 402111261\n",
        "\n",
        "Seyyed Amirmahdi Sadrzadeh | 401102015"
      ],
      "metadata": {
        "id": "hniNtD-Zew1w"
      }
    },
    {
      "cell_type": "markdown",
      "source": [
        "### Part 1: Data Preproccessing"
      ],
      "metadata": {
        "id": "tvacMiiXb_2B"
      }
    },
    {
      "cell_type": "markdown",
      "source": [
        "First we import the needed libraries:"
      ],
      "metadata": {
        "id": "8ziJ9zUdcH_y"
      }
    },
    {
      "cell_type": "code",
      "source": [
        "from tqdm import tqdm\n",
        "import numpy as np\n",
        "import matplotlib.pyplot as plt\n",
        "import torch\n",
        "import torchvision\n",
        "import torchvision.transforms as transforms\n",
        "import random\n",
        "from sympy import mod_inverse"
      ],
      "metadata": {
        "id": "d3lKKdgBGJQS"
      },
      "execution_count": 2,
      "outputs": []
    },
    {
      "cell_type": "markdown",
      "source": [
        "Now we use torch library to load the MNIST dataset and then turn them to numpy arrays:"
      ],
      "metadata": {
        "id": "p_vzRIfdcMhM"
      }
    },
    {
      "cell_type": "code",
      "source": [
        "transform = transforms.Compose([transforms.ToTensor()])\n",
        "\n",
        "# getting the train data\n",
        "trainset = torchvision.datasets.MNIST(root='./data', train=True, download=True)\n",
        "\n",
        "X_train_torch = trainset.data\n",
        "Y_train_torch = trainset.targets\n",
        "\n",
        "X_train = X_train_torch.numpy()\n",
        "Y_train = Y_train_torch.numpy()"
      ],
      "metadata": {
        "id": "AyG6f5oKGPHh"
      },
      "execution_count": 4,
      "outputs": []
    },
    {
      "cell_type": "code",
      "source": [
        "# getting the test data\n",
        "testset = torchvision.datasets.MNIST(root='./data', train=False, download=True)\n",
        "\n",
        "X_test_torch = testset.data\n",
        "Y_test_torch = testset.targets\n",
        "\n",
        "X_test = X_test_torch.numpy()\n",
        "Y_test = Y_test_torch.numpy()"
      ],
      "metadata": {
        "id": "C3It8SZpQ_zN"
      },
      "execution_count": 5,
      "outputs": []
    },
    {
      "cell_type": "markdown",
      "source": [
        "To use the datas, we binarize them by setting a threshold equal to 128. So all pixels with values higher than 128 will be set to 1 and others will be set to 0. We also flatten the datas to use them in our model:"
      ],
      "metadata": {
        "id": "vyLf42oLclGd"
      }
    },
    {
      "cell_type": "code",
      "source": [
        "threshold = 128\n",
        "\n",
        "X_test = (X_test > threshold).astype(np.uint32)\n",
        "X_test_binary = X_test.reshape(-1, 28 * 28)\n",
        "\n",
        "X_train = (X_train > threshold).astype(np.uint32)\n",
        "X_train_binary = X_train.reshape(-1, 28 * 28)"
      ],
      "metadata": {
        "id": "H1nb8nHOKoXd"
      },
      "execution_count": 6,
      "outputs": []
    },
    {
      "cell_type": "markdown",
      "source": [
        "The plot to show the samples:"
      ],
      "metadata": {
        "id": "_hNNKcVhdJL0"
      }
    },
    {
      "cell_type": "code",
      "source": [
        "def show_samples(samples, nrows=2, ncols=5):\n",
        "    fig, axes = plt.subplots(nrows, ncols, figsize=(10, 5))\n",
        "    for i, ax in enumerate(axes.flat):\n",
        "        ax.imshow(samples[i].reshape(28, 28), cmap='binary')\n",
        "        ax.axis('off')\n",
        "    plt.tight_layout()\n",
        "    plt.show()"
      ],
      "metadata": {
        "id": "wlGlqEJ7Kt7M"
      },
      "execution_count": 7,
      "outputs": []
    },
    {
      "cell_type": "markdown",
      "source": [
        "And now we use the above function to show 10 samples from the dataset:"
      ],
      "metadata": {
        "id": "DptyrqJwdPLq"
      }
    },
    {
      "cell_type": "code",
      "source": [
        "show_samples(X_train_binary[:10])"
      ],
      "metadata": {
        "colab": {
          "base_uri": "https://localhost:8080/",
          "height": 440
        },
        "id": "kr0tRRKyKzrV",
        "outputId": "389f5280-c52d-47f6-d1ad-c5d2e6ff2adc"
      },
      "execution_count": 8,
      "outputs": [
        {
          "output_type": "display_data",
          "data": {
            "text/plain": [
              "<Figure size 1000x500 with 10 Axes>"
            ],
            "image/png": "[encoded data removed]"
          },
          "metadata": {}
        }
      ]
    },
    {
      "cell_type": "markdown",
      "source": [
        "# Simple Boltzman machine:"
      ],
      "metadata": {
        "id": "b0EKwQygdlPF"
      }
    },
    {
      "cell_type": "code",
      "source": [
        "class RBM:\n",
        "    def __init__(self, n_visible, n_hidden, learning_rate=0.1):\n",
        "        self.n_visible = n_visible\n",
        "        self.n_hidden = n_hidden\n",
        "        self.learning_rate = learning_rate\n",
        "        self.W = np.random.normal(0, 0.1, (n_visible, n_hidden))\n",
        "        self.v_bias = np.zeros(n_visible)\n",
        "        self.h_bias = np.zeros(n_hidden)\n",
        "\n",
        "    def sigmoid(self, x):\n",
        "        return 1 / (1 + np.exp(-x))\n",
        "\n",
        "    def sample(self, prob):\n",
        "        return (np.random.uniform(size=prob.shape) < prob).astype(np.int32)\n",
        "\n",
        "    def gibbs_sampling(self, hid, k):\n",
        "        v_prob_0 = self.sigmoid(np.dot(hid, self.W.T) + self.v_bias)\n",
        "        v = self.sample(v_prob_0)\n",
        "        for _ in range(k):\n",
        "            h_prob = self.sigmoid(np.dot(v, self.W) + self.h_bias)\n",
        "            h_sample = self.sample(h_prob)\n",
        "            v_prob = self.sigmoid(np.dot(h_sample, self.W.T) + self.v_bias)\n",
        "            v = self.sample(v_prob)\n",
        "        return v\n",
        "\n",
        "    def contrastive_divergence(self, v, k):\n",
        "        h_prob_0 = self.sigmoid(np.dot(v, self.W) + self.h_bias)\n",
        "        h_sample_0 = self.sample(h_prob_0)\n",
        "\n",
        "        v_neg = v.copy()\n",
        "\n",
        "        for _ in range(k):\n",
        "            h_prob = self.sigmoid(np.dot(v_neg, self.W) + self.h_bias)\n",
        "            h_sample = self.sample(h_prob)\n",
        "            v_prob_neg = self.sigmoid(np.dot(h_sample, self.W.T) + self.v_bias)\n",
        "            v_neg = self.sample(v_prob_neg)\n",
        "\n",
        "        h_prob_neg = self.sigmoid(np.dot(v_neg, self.W) + self.h_bias)\n",
        "\n",
        "        positive_grad = np.dot(v.T, h_prob_0)\n",
        "        negative_grad = np.dot(v_neg.T, h_prob_neg)\n",
        "\n",
        "        batch_size = v.shape[0]\n",
        "        self.W += self.learning_rate * (positive_grad - negative_grad) / batch_size\n",
        "        self.v_bias += self.learning_rate * np.mean(v - v_neg, axis=0)\n",
        "        self.h_bias += self.learning_rate * np.mean(h_prob_0 - h_prob_neg, axis=0)\n",
        "\n",
        "        return v_neg\n",
        "\n",
        "    def train(self, data, epochs=10, k=1, batch_size=64):\n",
        "        for epoch in range(epochs):\n",
        "            np.random.shuffle(data)\n",
        "            epoch_loss = 0\n",
        "            for batch_start in range(0, len(data), batch_size):\n",
        "                batch = data[batch_start:batch_start + batch_size]\n",
        "                v_neg = self.contrastive_divergence(batch, k)\n",
        "                epoch_loss += np.mean((batch - v_neg) ** 2)\n",
        "            print(f\"Epoch {epoch + 1}/{epochs}, Loss: {epoch_loss / len(data):.5f}\")\n",
        "\n",
        "    def generate_samples(self, n_samples=10, k=1):\n",
        "        samples = []\n",
        "        for i in range(n_samples):\n",
        "            sample = np.random.binomial(1, 0.5, self.n_hidden)\n",
        "            sample = self.gibbs_sampling(sample, k)\n",
        "            samples.append(sample)\n",
        "        return np.array(samples)"
      ],
      "metadata": {
        "id": "g6q689osK99h"
      },
      "execution_count": 14,
      "outputs": []
    },
    {
      "cell_type": "code",
      "source": [
        "n_visible = X_train_binary.shape[1]\n",
        "n_hidden = 32\n",
        "k_values = [1, 5, 10]"
      ],
      "metadata": {
        "id": "xPvmqTsUgXxU"
      },
      "execution_count": 17,
      "outputs": []
    },
    {
      "cell_type": "markdown",
      "source": [
        "Training the normal model:"
      ],
      "metadata": {
        "id": "VMdo3cSGLbxG"
      }
    },
    {
      "cell_type": "code",
      "source": [
        "# آموزش ماشین بولتزمن ساده\n",
        "rbms = {}\n",
        "for k in k_values:\n",
        "    print(f\"Training RBM with k={k}\")\n",
        "    rbm = RBM(n_visible, n_hidden)\n",
        "    rbm.train(X_train_binary, epochs=10, k=k)\n",
        "    rbms[k] = rbm"
      ],
      "metadata": {
        "colab": {
          "base_uri": "https://localhost:8080/"
        },
        "id": "dLmlsavtLPnq",
        "outputId": "37ce32ad-65f0-46d3-e902-71087d189398"
      },
      "execution_count": 13,
      "outputs": [
        {
          "output_type": "stream",
          "name": "stdout",
          "text": [
            "Training RBM with k=1\n",
            "Epoch 1/10, Loss: 0.00199\n",
            "Epoch 2/10, Loss: 0.00160\n",
            "Epoch 3/10, Loss: 0.00152\n",
            "Epoch 4/10, Loss: 0.00148\n",
            "Epoch 5/10, Loss: 0.00146\n",
            "Epoch 6/10, Loss: 0.00145\n",
            "Epoch 7/10, Loss: 0.00145\n",
            "Epoch 8/10, Loss: 0.00144\n",
            "Epoch 9/10, Loss: 0.00144\n",
            "Epoch 10/10, Loss: 0.00143\n",
            "Training RBM with k=5\n",
            "Epoch 1/10, Loss: 0.00220\n",
            "Epoch 2/10, Loss: 0.00173\n",
            "Epoch 3/10, Loss: 0.00164\n",
            "Epoch 4/10, Loss: 0.00158\n",
            "Epoch 5/10, Loss: 0.00155\n",
            "Epoch 6/10, Loss: 0.00153\n",
            "Epoch 7/10, Loss: 0.00152\n",
            "Epoch 8/10, Loss: 0.00151\n",
            "Epoch 9/10, Loss: 0.00150\n",
            "Epoch 10/10, Loss: 0.00149\n",
            "Training RBM with k=10\n",
            "Epoch 1/10, Loss: 0.00230\n",
            "Epoch 2/10, Loss: 0.00181\n",
            "Epoch 3/10, Loss: 0.00171\n",
            "Epoch 4/10, Loss: 0.00165\n",
            "Epoch 5/10, Loss: 0.00162\n",
            "Epoch 6/10, Loss: 0.00159\n",
            "Epoch 7/10, Loss: 0.00158\n",
            "Epoch 8/10, Loss: 0.00156\n",
            "Epoch 9/10, Loss: 0.00155\n",
            "Epoch 10/10, Loss: 0.00154\n"
          ]
        }
      ]
    },
    {
      "cell_type": "markdown",
      "source": [
        "Evaluation for the normal model:"
      ],
      "metadata": {
        "id": "TUukKdxeLx7D"
      }
    },
    {
      "cell_type": "code",
      "source": [
        "# ارزیابی ماشین بولتزمن ساده\n",
        "\n",
        "def evaluate_rbm(rbm, data):\n",
        "    loss = 0\n",
        "    for i in range(0, len(data), 64):\n",
        "        batch = data[i:i+64]\n",
        "        v_neg = rbm.contrastive_divergence(batch, k=1)\n",
        "        loss += np.mean((batch - v_neg) ** 2)\n",
        "    avg_loss = loss / (len(data) / 64)\n",
        "    return avg_loss\n",
        "\n",
        "simple_losses = {}\n",
        "for k in k_values:\n",
        "    loss = evaluate_rbm(rbms[k], X_test_binary)\n",
        "    simple_losses[k] = loss\n",
        "    print(f\"Simple RBM with k={k} Test Loss: {loss:.5f}\")"
      ],
      "metadata": {
        "colab": {
          "base_uri": "https://localhost:8080/"
        },
        "id": "nTs_QhhmL27i",
        "outputId": "643d416a-15e2-4e13-bf51-6bacc7a68921"
      },
      "execution_count": 16,
      "outputs": [
        {
          "output_type": "stream",
          "name": "stdout",
          "text": [
            "Simple RBM with k=1 Test Loss: 0.09083\n",
            "Simple RBM with k=5 Test Loss: 0.08867\n",
            "Simple RBM with k=10 Test Loss: 0.08849\n"
          ]
        }
      ]
    },
    {
      "cell_type": "markdown",
      "source": [
        "# The Secure Boltzman Machine:"
      ],
      "metadata": {
        "id": "lrbyHJ_mLsIR"
      }
    },
    {
      "cell_type": "code",
      "source": [
        "# class SecureRBM:\n",
        "#     def __init__(self, n_visible, n_hidden, mA, learning_rate=0.1, p=467):\n",
        "#         \"\"\"\n",
        "#         سازنده کلاس SecureRBM برای دو پارتی A و B.\n",
        "\n",
        "#         پارامترها:\n",
        "#         - n_visible: تعداد کل نورون‌های ورودی (مثلاً 784 برای MNIST).\n",
        "#         - n_hidden: تعداد نورون‌های لایه مخفی.\n",
        "#         - mA: تعداد ویژگی‌هایی که متعلق به پارتی A هستند.\n",
        "#           (تعداد ویژگی‌های پارتی B = n_visible - mA)\n",
        "#         - learning_rate: نرخ یادگیری.\n",
        "#         - p: عدد اول برای الگوریتم رمزنگاری ElGamal.\n",
        "#         \"\"\"\n",
        "#         self.n_visible = n_visible\n",
        "#         self.n_hidden = n_hidden\n",
        "#         self.mA = mA\n",
        "#         self.mB = n_visible - mA\n",
        "#         self.learning_rate = learning_rate\n",
        "#         self.W = np.random.normal(0, 0.1, (n_visible, n_hidden))\n",
        "#         self.v_bias = np.zeros(n_visible)\n",
        "#         self.h_bias = np.zeros(n_hidden)\n",
        "#         self.p = p\n",
        "\n",
        "#     def sigmoid(self, x):\n",
        "#         return 1 / (1 + np.exp(-x))\n",
        "\n",
        "#     def sample(self, prob):\n",
        "#         return (np.random.uniform(size=prob.shape) < prob).astype(np.int32)\n",
        "\n",
        "#     def generate_keys(self):\n",
        "#         \"\"\"\n",
        "#         تولید کلیدهای عمومی و خصوصی با استفاده از الگوریتم ElGamal.\n",
        "#         \"\"\"\n",
        "#         g = random.randint(2, self.p - 2)\n",
        "#         x = random.randint(1, self.p - 2)\n",
        "#         y = pow(g, x, self.p)\n",
        "#         return (self.p, g, y), x\n",
        "\n",
        "#     def encrypt(self, public_key, message):\n",
        "#         \"\"\"\n",
        "#         رمزنگاری یک پیام عددی.\n",
        "#         \"\"\"\n",
        "#         p, g, y = public_key\n",
        "#         k = random.randint(1, p - 2)\n",
        "#         c1 = pow(g, k, p)\n",
        "#         # تبدیل پیام به int برای جلوگیری از خطاهای نوع\n",
        "#         c2 = (int(message) * pow(y, k, p)) % p\n",
        "#         return (c1, c2)\n",
        "\n",
        "#     def decrypt_partial(self, private_key, public_key, ciphertext):\n",
        "#         \"\"\"\n",
        "#         رمزگشایی جزئی یک پیام رمزنگاری‌شده.\n",
        "#         \"\"\"\n",
        "#         p, g, y = public_key\n",
        "#         c1, c2 = ciphertext\n",
        "#         s = pow(c1, private_key, p)\n",
        "#         return (c2, s)\n",
        "\n",
        "#     def decrypt_final(self, partially_decrypted, shared_secret, p):\n",
        "#         \"\"\"\n",
        "#         رمزگشایی نهایی یک پیام.\n",
        "#         \"\"\"\n",
        "#         c2, s = partially_decrypted\n",
        "#         s_inv = mod_inverse(s, p)\n",
        "#         message = (c2 * s_inv) % p\n",
        "#         return message\n",
        "\n",
        "#     def sample_hidden_secure(self, v, public_key_a, private_key_a, public_key_b, private_key_b, random_r):\n",
        "#         \"\"\"\n",
        "#         نمونه‌گیری لایه مخفی به صورت امن توسط دو پارتی A و B.\n",
        "\n",
        "#         ورودی:\n",
        "#           - v: ورودی داده‌ها به شکل (batch, n_visible)\n",
        "#           - public_key_a, private_key_a: کلیدهای پارتی A\n",
        "#           - public_key_b, private_key_b: کلیدهای پارتی B\n",
        "#           - random_r: آرایه‌ای از اعداد تصادفی به شکل (batch, n_hidden)\n",
        "#         خروجی:\n",
        "#           - نمونه‌های لایه مخفی (batch, n_hidden) به صورت باینری.\n",
        "#         \"\"\"\n",
        "#         # تقسیم ورودی به دو بخش\n",
        "#         vA = v[:, :self.mA]    # متعلق به پارتی A\n",
        "#         vB = v[:, self.mA:]    # متعلق به پارتی B\n",
        "\n",
        "#         # تقسیم ماتریس وزن (W) بر اساس بخش‌های ورودی\n",
        "#         WA = self.W[:self.mA, :]   # برای پارتی A\n",
        "#         WB = self.W[self.mA:, :]   # برای پارتی B\n",
        "\n",
        "#         # محاسبه سهم‌های فعال‌سازی:\n",
        "#         # برای پارتی A: شامل بایاس مخفی\n",
        "#         activation_A = np.dot(vA, WA) + self.h_bias  # (batch, n_hidden)\n",
        "#         # برای پارتی B: فرض می‌کنیم بایاس به پارتی A تعلق دارد\n",
        "#         activation_B = np.dot(vB, WB)  # (batch, n_hidden)\n",
        "\n",
        "#         # حالا برای هر نمونه و هر نورون مخفی، هر دو پارتی سهم خود را رمزنگاری و سپس رمزگشایی می‌کنند.\n",
        "#         batch, n_h = activation_A.shape\n",
        "#         decrypted_A = np.zeros((batch, n_h))\n",
        "#         decrypted_B = np.zeros((batch, n_h))\n",
        "#         for i in range(batch):\n",
        "#             for j in range(n_h):\n",
        "#                 enc_A = self.encrypt(public_key_a, int(activation_A[i, j]))\n",
        "#                 # در اینجا برای سادگی، مقدار s از رمزنگاری را به عنوان ورودی به decrypt_final استفاده می‌کنیم.\n",
        "#                 dec_A = self.decrypt_final(self.decrypt_partial(private_key_a, public_key_a, enc_A), enc_A[1], self.p)\n",
        "#                 decrypted_A[i, j] = dec_A\n",
        "\n",
        "#                 enc_B = self.encrypt(public_key_b, int(activation_B[i, j]))\n",
        "#                 dec_B = self.decrypt_final(self.decrypt_partial(private_key_b, public_key_b, enc_B), enc_B[1], self.p)\n",
        "#                 decrypted_B[i, j] = dec_B\n",
        "\n",
        "#         # ترکیب سهم‌ها و اعمال مقدار تصادفی\n",
        "#         final_activation = (decrypted_A + decrypted_B) - random_r  # (batch, n_hidden)\n",
        "#         p_h = self.sigmoid(final_activation)\n",
        "#         return self.sample(p_h)\n",
        "\n",
        "#     def sample_visible_secure(self, h, public_key_a, private_key_a, public_key_b, private_key_b, random_r):\n",
        "#         \"\"\"\n",
        "#         نمونه‌گیری لایه ورودی (مرئی) به صورت امن توسط دو پارتی A و B.\n",
        "\n",
        "#         ورودی:\n",
        "#           - h: نمونه‌های لایه مخفی به شکل (batch, n_hidden)\n",
        "#           - public_key_a, private_key_a: کلیدهای پارتی A\n",
        "#           - public_key_b, private_key_b: کلیدهای پارتی B\n",
        "#           - random_r: آرایه‌ای از اعداد تصادفی به شکل (batch, n_visible)\n",
        "#         خروجی:\n",
        "#           - نمونه‌های ورودی بازسازی‌شده (batch, n_visible) به صورت باینری.\n",
        "#         \"\"\"\n",
        "#         # تقسیم بایاس‌های ورودی به دو بخش\n",
        "#         v_bias_A = self.v_bias[:self.mA]\n",
        "#         v_bias_B = self.v_bias[self.mA:]\n",
        "#         # تقسیم وزن‌ها برای ورودی: از W به صورت ستونی\n",
        "#         WA_T = self.W[:self.mA, :].T  # (n_hidden, mA)\n",
        "#         WB_T = self.W[self.mA:, :].T  # (n_hidden, mB)\n",
        "\n",
        "#         # محاسبه سهم‌های فعال‌سازی:\n",
        "#         activation_A = np.dot(h, WA_T) + v_bias_A  # (batch, mA)\n",
        "#         activation_B = np.dot(h, WB_T) + v_bias_B     # (batch, mB)\n",
        "\n",
        "#         batch, _ = activation_A.shape\n",
        "#         decrypted_A = np.zeros(activation_A.shape)\n",
        "#         decrypted_B = np.zeros(activation_B.shape)\n",
        "#         for i in range(batch):\n",
        "#             for j in range(self.mA):\n",
        "#                 enc_A = self.encrypt(public_key_a, int(activation_A[i, j]))\n",
        "#                 dec_A = self.decrypt_final(self.decrypt_partial(private_key_a, public_key_a, enc_A), enc_A[1], self.p)\n",
        "#                 decrypted_A[i, j] = dec_A\n",
        "#             for j in range(self.mB):\n",
        "#                 enc_B = self.encrypt(public_key_b, int(activation_B[i, j]))\n",
        "#                 dec_B = self.decrypt_final(self.decrypt_partial(private_key_b, public_key_b, enc_B), enc_B[1], self.p)\n",
        "#                 decrypted_B[i, j] = dec_B\n",
        "\n",
        "#         # تقسیم random_r نیز به دو بخش\n",
        "#         random_r_A = random_r[:, :self.mA]\n",
        "#         random_r_B = random_r[:, self.mA:]\n",
        "#         final_activation_A = decrypted_A - random_r_A\n",
        "#         final_activation_B = decrypted_B - random_r_B\n",
        "#         # ترکیب دو بخش\n",
        "#         final_activation = np.concatenate([final_activation_A, final_activation_B], axis=1)\n",
        "#         p_v = self.sigmoid(final_activation)\n",
        "#         return self.sample(p_v)\n",
        "\n",
        "#     def reconstruct(self, v, public_key_a, private_key_a, public_key_b, private_key_b, random_r):\n",
        "#         \"\"\"\n",
        "#         بازسازی ورودی به صورت امن.\n",
        "#         \"\"\"\n",
        "#         h = self.sample_hidden_secure(v, public_key_a, private_key_a, public_key_b, private_key_b, random_r[:, :self.h_bias.shape[0]])\n",
        "#         v_recon = self.sample_visible_secure(h, public_key_a, private_key_a, public_key_b, private_key_b, random_r)\n",
        "#         return v_recon\n",
        "\n",
        "#     def contrastive_divergence_secure(self, v, k, public_key_a, private_key_a, public_key_b, private_key_b, random_r):\n",
        "#         \"\"\"\n",
        "#         انجام روش Contrastive Divergence امن.\n",
        "#         (در اینجا از همان عملیات معمولی استفاده می‌کنیم؛ در عمل باید تمام محاسبات به صورت امن انجام شود.)\n",
        "#         \"\"\"\n",
        "#         h_prob_0 = self.sigmoid(np.dot(v, self.W) + self.h_bias)\n",
        "#         v_neg = v.copy()\n",
        "#         for _ in range(k):\n",
        "#             h_prob = self.sigmoid(np.dot(v_neg, self.W) + self.h_bias)\n",
        "#             h_sample = self.sample(h_prob)\n",
        "#             v_prob_neg = self.sigmoid(np.dot(h_sample, self.W.T) + self.v_bias)\n",
        "#             v_neg = self.sample(v_prob_neg)\n",
        "#         h_prob_neg = self.sigmoid(np.dot(v_neg, self.W) + self.h_bias)\n",
        "#         positive_grad = np.dot(v.T, h_prob_0)\n",
        "#         negative_grad = np.dot(v_neg.T, h_prob_neg)\n",
        "#         batch_size = v.shape[0]\n",
        "#         self.W += self.learning_rate * (positive_grad - negative_grad) / batch_size\n",
        "#         self.v_bias += self.learning_rate * np.mean(v - v_neg, axis=0)\n",
        "#         self.h_bias += self.learning_rate * np.mean(h_prob_0 - h_prob_neg, axis=0)\n",
        "#         return v_neg\n",
        "\n",
        "#     def train_secure(self, data, epochs=10, k=1, batch_size=64, public_key_a=None, private_key_a=None, public_key_b=None, private_key_b=None):\n",
        "#         \"\"\"\n",
        "#         آموزش مدل SecureRBM به صورت امن.\n",
        "#         \"\"\"\n",
        "#         for epoch in range(epochs):\n",
        "#             np.random.shuffle(data)\n",
        "#             epoch_loss = 0\n",
        "#             num_batches = len(data) // batch_size\n",
        "#             for batch_start in range(0, len(data), batch_size):\n",
        "#                 batch = data[batch_start:batch_start+batch_size]\n",
        "#                 # تولید مقدار تصادفی r برای هر نمونه؛ ابعاد (batch, n_visible)\n",
        "#                 random_r = np.random.randint(1, self.p, size=(batch.shape[0], self.n_visible))\n",
        "#                 v_recon = self.reconstruct(batch, public_key_a, private_key_a, public_key_b, private_key_b, random_r)\n",
        "#                 loss = np.mean((batch - v_recon) ** 2)\n",
        "#                 epoch_loss += loss\n",
        "#                 self.contrastive_divergence_secure(batch, k, public_key_a, private_key_a, public_key_b, private_key_b, random_r)\n",
        "#             avg_loss = epoch_loss / num_batches\n",
        "#             print(f\"Epoch {epoch+1}/{epochs}, Secure Loss: {avg_loss:.5f}\")\n",
        "\n",
        "#     def generate_samples(self, n_samples=10, k=1, public_key_a=None, private_key_a=None, public_key_b=None, private_key_b=None):\n",
        "#         \"\"\"\n",
        "#         تولید نمونه‌های جدید با استفاده از مدل آموزش‌دیده به صورت امن.\n",
        "#         \"\"\"\n",
        "#         samples = []\n",
        "#         for _ in range(n_samples):\n",
        "#             v = np.random.binomial(1, 0.5, self.n_visible).reshape(1, -1)\n",
        "#             random_r = np.random.randint(1, self.p, size=(1, self.n_visible))\n",
        "#             for _ in range(k):\n",
        "#                 h = self.sample_hidden_secure(v, public_key_a, private_key_a, public_key_b, private_key_b, random_r[:, :self.h_bias.shape[0]])\n",
        "#                 v = self.sample_visible_secure(h, public_key_a, private_key_a, public_key_b, private_key_b, random_r)\n",
        "#             samples.append(v.flatten())\n",
        "#         return np.array(samples)"
      ],
      "metadata": {
        "id": "BS5athsHLF_w"
      },
      "execution_count": 10,
      "outputs": []
    },
    {
      "cell_type": "code",
      "source": [
        "class SecureRBM:\n",
        "    def __init__(self, n_visible, n_hidden, mA, learning_rate=0.1, p=467):\n",
        "        \"\"\"\n",
        "        Initialize SecureRBM for two parties A and B.\n",
        "\n",
        "        Parameters:\n",
        "        - n_visible: total number of visible neurons (e.g., 784 for MNIST).\n",
        "        - n_hidden: number of hidden neurons.\n",
        "        - mA: number of visible features belonging to Party A.\n",
        "          (Then mB = n_visible - mA belong to Party B.)\n",
        "        - learning_rate: learning rate for weight updates.\n",
        "        - p: a prime number used for the ElGamal-based secure operations.\n",
        "        \"\"\"\n",
        "        self.n_visible = n_visible\n",
        "        self.n_hidden = n_hidden\n",
        "        self.mA = mA\n",
        "        self.mB = n_visible - mA\n",
        "        self.learning_rate = learning_rate\n",
        "        # Initialize weights and biases with small random numbers.\n",
        "        self.W = np.random.normal(0, 0.1, (n_visible, n_hidden))\n",
        "        self.v_bias = np.zeros(n_visible)\n",
        "        self.h_bias = np.zeros(n_hidden)\n",
        "        self.p = p\n",
        "\n",
        "    def sigmoid(self, x):\n",
        "        return 1 / (1 + np.exp(-x))\n",
        "\n",
        "    def sample(self, prob):\n",
        "        return (np.random.uniform(size=prob.shape) < prob).astype(np.int32)\n",
        "\n",
        "    def generate_keys(self):\n",
        "        \"\"\"\n",
        "        Generate ElGamal public and private keys.\n",
        "        \"\"\"\n",
        "        g = random.randint(2, self.p - 2)\n",
        "        x = random.randint(1, self.p - 2)\n",
        "        y = pow(g, x, self.p)\n",
        "        return (self.p, g, y), x\n",
        "\n",
        "    def encrypt(self, public_key, message):\n",
        "        \"\"\"\n",
        "        Encrypt a message (an integer) using the public key.\n",
        "        \"\"\"\n",
        "        p, g, y = public_key\n",
        "        k = random.randint(1, p - 2)\n",
        "        c1 = pow(g, k, p)\n",
        "        c2 = (int(message) * pow(y, k, p)) % p\n",
        "        return (c1, c2)\n",
        "\n",
        "    def decrypt_partial(self, private_key, public_key, ciphertext):\n",
        "        \"\"\"\n",
        "        Partially decrypt a ciphertext using the private key.\n",
        "        \"\"\"\n",
        "        p, g, y = public_key\n",
        "        c1, c2 = ciphertext\n",
        "        s = pow(c1, private_key, p)\n",
        "        return (c2, s)\n",
        "\n",
        "    def decrypt_final(self, partially_decrypted, p):\n",
        "        \"\"\"\n",
        "        Final decryption using the modular inverse.\n",
        "        \"\"\"\n",
        "        c2, s = partially_decrypted\n",
        "        s_inv = mod_inverse(s, p)\n",
        "        message = (c2 * s_inv) % p\n",
        "        return message\n",
        "\n",
        "    def sample_hidden_secure(self, v, public_key_a, private_key_a, public_key_b, private_key_b, random_r):\n",
        "        \"\"\"\n",
        "        Securely sample the hidden layer using contributions from both parties.\n",
        "\n",
        "        Parameters:\n",
        "        - v: input visible data (batch, n_visible)\n",
        "        - public_key_a, private_key_a: keys for Party A\n",
        "        - public_key_b, private_key_b: keys for Party B\n",
        "        - random_r: random mask array (batch, n_hidden)\n",
        "\n",
        "        Returns:\n",
        "        - Binary samples for hidden layer (batch, n_hidden)\n",
        "        \"\"\"\n",
        "        # Split visible input: Party A's part and Party B's part.\n",
        "        vA = v[:, :self.mA]   # Party A\n",
        "        vB = v[:, self.mA:]   # Party B\n",
        "\n",
        "        # Split the weight matrix W accordingly.\n",
        "        WA = self.W[:self.mA, :]   # shape (mA, n_hidden)\n",
        "        WB = self.W[self.mA:, :]   # shape (mB, n_hidden)\n",
        "\n",
        "        # Each party computes its partial activation.\n",
        "        act_A = np.dot(vA, WA) + self.h_bias  # Party A adds its bias c (assumed shared)\n",
        "        act_B = np.dot(vB, WB)                  # Party B computes its part (assumed no extra bias)\n",
        "\n",
        "        # Joint secure activation: each party encrypts its share, then they are combined.\n",
        "        # Here we simulate secure computation by simply summing the parts.\n",
        "        joint_act = act_A + act_B\n",
        "        # Apply random mask removal.\n",
        "        final_act = joint_act - random_r\n",
        "        # Compute secure sigmoid and sample hidden units.\n",
        "        h_prob = self.sigmoid(final_act)\n",
        "        return self.sample(h_prob)\n",
        "\n",
        "    def sample_visible_secure(self, h, public_key_a, private_key_a, public_key_b, private_key_b, random_r):\n",
        "        \"\"\"\n",
        "        Securely sample the visible layer.\n",
        "\n",
        "        Parameters:\n",
        "        - h: hidden layer activations (batch, n_hidden)\n",
        "        - public_key_a, private_key_a: keys for Party A\n",
        "        - public_key_b, private_key_b: keys for Party B\n",
        "        - random_r: random mask array (batch, n_visible)\n",
        "\n",
        "        Returns:\n",
        "        - Binary reconstruction of the visible layer (batch, n_visible)\n",
        "        \"\"\"\n",
        "        # For the visible layer, assume Party A owns the first mA visible units and Party B the rest.\n",
        "        WA_T = self.W[:self.mA, :].T  # shape (n_hidden, mA)\n",
        "        WB_T = self.W[self.mA:, :].T  # shape (n_hidden, mB)\n",
        "        bA = self.v_bias[:self.mA]\n",
        "        bB = self.v_bias[self.mA:]\n",
        "\n",
        "        act_A = np.dot(h, WA_T) + bA  # Party A\n",
        "        act_B = np.dot(h, WB_T) + bB  # Party B\n",
        "\n",
        "        # Combine secure activations\n",
        "        joint_act = np.concatenate([act_A, act_B], axis=1)\n",
        "        final_act = joint_act - random_r\n",
        "        v_prob = self.sigmoid(final_act)\n",
        "        return self.sample(v_prob)\n",
        "\n",
        "    def reconstruct(self, v, public_key_a, private_key_a, public_key_b, private_key_b, random_r):\n",
        "        \"\"\"\n",
        "        Securely reconstruct the visible input.\n",
        "        \"\"\"\n",
        "        h = self.sample_hidden_secure(v, public_key_a, private_key_a, public_key_b, private_key_b, random_r[:, :self.h_bias.shape[0]])\n",
        "        v_recon = self.sample_visible_secure(h, public_key_a, private_key_a, public_key_b, private_key_b, random_r)\n",
        "        return v_recon\n",
        "\n",
        "    def contrastive_divergence_secure(self, v, k, public_key_a, private_key_a, public_key_b, private_key_b, random_r):\n",
        "        \"\"\"\n",
        "        Perform one step of secure Contrastive Divergence.\n",
        "\n",
        "        (Note: Here we simulate the secure operations with non-secure ones for gradient update.)\n",
        "        \"\"\"\n",
        "        # For simplicity, we perform ordinary Gibbs sampling.\n",
        "        # In a real implementation, secure operations would be applied at each step.\n",
        "        v_neg = v.copy()\n",
        "        for _ in range(k):\n",
        "            h_prob = self.sigmoid(np.dot(v_neg, self.W) + self.h_bias)\n",
        "            h_sample = self.sample(h_prob)\n",
        "            v_prob = self.sigmoid(np.dot(h_sample, self.W.T) + self.v_bias)\n",
        "            v_neg = self.sample(v_prob)\n",
        "        # Compute gradients using standard (non-secure) operations.\n",
        "        h_prob_data = self.sigmoid(np.dot(v, self.W) + self.h_bias)\n",
        "        h_prob_neg = self.sigmoid(np.dot(v_neg, self.W) + self.h_bias)\n",
        "        positive_grad = np.dot(v.T, h_prob_data)\n",
        "        negative_grad = np.dot(v_neg.T, h_prob_neg)\n",
        "        batch_size = v.shape[0]\n",
        "        self.W += self.learning_rate * (positive_grad - negative_grad) / batch_size\n",
        "        self.v_bias += self.learning_rate * np.mean(v - v_neg, axis=0)\n",
        "        self.h_bias += self.learning_rate * np.mean(h_prob_data - h_prob_neg, axis=0)\n",
        "        return v_neg\n",
        "\n",
        "    def train_secure(self, data, epochs=10, k=1, batch_size=64,\n",
        "                     public_key_a=None, private_key_a=None,\n",
        "                     public_key_b=None, private_key_b=None):\n",
        "        \"\"\"\n",
        "        Train the SecureRBM model using secure Contrastive Divergence.\n",
        "        \"\"\"\n",
        "        num_batches = len(data) // batch_size\n",
        "        for epoch in range(epochs):\n",
        "            np.random.shuffle(data)\n",
        "            epoch_loss = 0\n",
        "            for batch_start in range(0, len(data), batch_size):\n",
        "                batch = data[batch_start:batch_start + batch_size]\n",
        "                # Generate a random mask for both hidden and visible layers.\n",
        "                # For visible: shape (batch, n_visible)\n",
        "                random_r = np.random.randint(1, self.p, size=(batch.shape[0], self.n_visible))\n",
        "                # Reconstruct the batch using secure operations.\n",
        "                v_recon = self.reconstruct(batch, public_key_a, private_key_a, public_key_b, private_key_b, random_r)\n",
        "                loss = np.mean((batch - v_recon) ** 2)\n",
        "                epoch_loss += loss\n",
        "                # Update parameters using secure Contrastive Divergence simulation.\n",
        "                self.contrastive_divergence_secure(batch, k, public_key_a, private_key_a, public_key_b, private_key_b, random_r)\n",
        "            avg_loss = epoch_loss / num_batches\n",
        "            print(f\"Epoch {epoch+1}/{epochs}, Secure Loss: {avg_loss:.5f}\")\n",
        "\n",
        "    def generate_samples(self, n_samples=10, k=1,\n",
        "                         public_key_a=None, private_key_a=None,\n",
        "                         public_key_b=None, private_key_b=None):\n",
        "        \"\"\"\n",
        "        Generate new samples from the trained SecureRBM model.\n",
        "        \"\"\"\n",
        "        samples = []\n",
        "        for _ in range(n_samples):\n",
        "            # Start with a random visible vector.\n",
        "            v = np.random.binomial(1, 0.5, self.n_visible).reshape(1, -1)\n",
        "            random_r = np.random.randint(1, self.p, size=(1, self.n_visible))\n",
        "            for _ in range(k):\n",
        "                h = self.sample_hidden_secure(v, public_key_a, private_key_a, public_key_b, private_key_b, random_r[:, :self.h_bias.shape[0]])\n",
        "                v = self.sample_visible_secure(h, public_key_a, private_key_a, public_key_b, private_key_b, random_r)\n",
        "            samples.append(v.flatten())\n",
        "        return np.array(samples)\n"
      ],
      "metadata": {
        "id": "BLfmlrpDwl2y"
      },
      "execution_count": 12,
      "outputs": []
    },
    {
      "cell_type": "code",
      "source": [
        "# فرض کنید n_visible = 784، n_hidden = 32 و mA = 392 (تقسیم مساوی)\n",
        "n_visible = 784\n",
        "n_hidden = 32\n",
        "mA = 392\n",
        "\n",
        "secure_rbm = SecureRBM(n_visible, n_hidden, mA, learning_rate=0.1, p=467)\n",
        "public_key_a, private_key_a = secure_rbm.generate_keys()\n",
        "public_key_b, private_key_b = secure_rbm.generate_keys()\n",
        "\n",
        "# آموزش SecureRBM\n",
        "secure_rbm.train_secure(X_train_binary, epochs=10,\n",
        "                        public_key_a=public_key_a, private_key_a=private_key_a,\n",
        "                        public_key_b=public_key_b, private_key_b=private_key_b)"
      ],
      "metadata": {
        "id": "0rDM79G0wojO",
        "outputId": "a0a391e3-d791-498b-dec1-be1a97c82ca9",
        "colab": {
          "base_uri": "https://localhost:8080/"
        }
      },
      "execution_count": null,
      "outputs": [
        {
          "output_type": "stream",
          "name": "stdout",
          "text": [
            "Epoch 1/10, Secure Loss: 0.13118\n",
            "Epoch 2/10, Secure Loss: 0.13113\n",
            "Epoch 3/10, Secure Loss: 0.13111\n",
            "Epoch 4/10, Secure Loss: 0.13109\n",
            "Epoch 5/10, Secure Loss: 0.13108\n",
            "Epoch 6/10, Secure Loss: 0.13107\n",
            "Epoch 7/10, Secure Loss: 0.13107\n"
          ]
        }
      ]
    },
    {
      "cell_type": "markdown",
      "source": [
        "Training the Secure Model:"
      ],
      "metadata": {
        "id": "Dm5pL5zOLlUI"
      }
    },
    {
      "cell_type": "code",
      "source": [
        "# فرض کنید n_visible = 784، n_hidden = 32 و mA = 392 (تقسیم مساوی)\n",
        "n_visible = 784\n",
        "n_hidden = 32\n",
        "mA = 392\n",
        "\n",
        "secure_rbm = SecureBoltzmannMachine(n_visible, n_hidden, mA, learning_rate=0.1, p=467)\n",
        "public_key_a, private_key_a = secure_rbm.generate_keys()\n",
        "public_key_b, private_key_b = secure_rbm.generate_keys()\n",
        "\n",
        "# آموزش SecureRBM\n",
        "secure_rbm.train_secure(X_train_binary, epochs=10, k=1, batch_size=64,\n",
        "                        public_key_a=public_key_a, private_key_a=private_key_a,\n",
        "                        public_key_b=public_key_b, private_key_b=private_key_b)"
      ],
      "metadata": {
        "colab": {
          "base_uri": "https://localhost:8080/",
          "height": 460
        },
        "id": "S8AwQtpnLocx",
        "outputId": "e6f7a6ad-8a29-4d1f-c94e-2f09c7624346"
      },
      "execution_count": 20,
      "outputs": [
        {
          "output_type": "stream",
          "name": "stdout",
          "text": [
            "Epoch 1/10, Secure Loss: 0.75094\n",
            "Epoch 2/10, Secure Loss: 0.79811\n",
            "Epoch 3/10, Secure Loss: 0.80527\n",
            "Epoch 4/10, Secure Loss: 0.81006\n",
            "Epoch 5/10, Secure Loss: 0.81460\n",
            "Epoch 6/10, Secure Loss: 0.81721\n"
          ]
        },
        {
          "output_type": "error",
          "ename": "KeyboardInterrupt",
          "evalue": "",
          "traceback": [
            "\u001b[0;31m---------------------------------------------------------------------------\u001b[0m",
            "\u001b[0;31mKeyboardInterrupt\u001b[0m                         Traceback (most recent call last)",
            "\u001b[0;32m<ipython-input-20-96b7ae240092>\u001b[0m in \u001b[0;36m<cell line: 0>\u001b[0;34m()\u001b[0m\n\u001b[1;32m      9\u001b[0m \u001b[0;34m\u001b[0m\u001b[0m\n\u001b[1;32m     10\u001b[0m \u001b[0;31m# آموزش SecureRBM\u001b[0m\u001b[0;34m\u001b[0m\u001b[0;34m\u001b[0m\u001b[0m\n\u001b[0;32m---> 11\u001b[0;31m secure_rbm.train_secure(X_train_binary, epochs=10, k=1, batch_size=64,\n\u001b[0m\u001b[1;32m     12\u001b[0m                         \u001b[0mpublic_key_a\u001b[0m\u001b[0;34m=\u001b[0m\u001b[0mpublic_key_a\u001b[0m\u001b[0;34m,\u001b[0m \u001b[0mprivate_key_a\u001b[0m\u001b[0;34m=\u001b[0m\u001b[0mprivate_key_a\u001b[0m\u001b[0;34m,\u001b[0m\u001b[0;34m\u001b[0m\u001b[0;34m\u001b[0m\u001b[0m\n\u001b[1;32m     13\u001b[0m                         public_key_b=public_key_b, private_key_b=private_key_b)\n",
            "\u001b[0;32m<ipython-input-19-5a7352823e47>\u001b[0m in \u001b[0;36mtrain_secure\u001b[0;34m(self, data, epochs, k, batch_size, public_key_a, private_key_a, public_key_b, private_key_b)\u001b[0m\n\u001b[1;32m    199\u001b[0m                 \u001b[0;31m# تولید مقدار تصادفی r برای هر نمونه؛ ابعاد (batch, n_visible)\u001b[0m\u001b[0;34m\u001b[0m\u001b[0;34m\u001b[0m\u001b[0m\n\u001b[1;32m    200\u001b[0m                 \u001b[0mrandom_r\u001b[0m \u001b[0;34m=\u001b[0m \u001b[0mnp\u001b[0m\u001b[0;34m.\u001b[0m\u001b[0mrandom\u001b[0m\u001b[0;34m.\u001b[0m\u001b[0mrandint\u001b[0m\u001b[0;34m(\u001b[0m\u001b[0;36m1\u001b[0m\u001b[0;34m,\u001b[0m \u001b[0mself\u001b[0m\u001b[0;34m.\u001b[0m\u001b[0mp\u001b[0m\u001b[0;34m,\u001b[0m \u001b[0msize\u001b[0m\u001b[0;34m=\u001b[0m\u001b[0;34m(\u001b[0m\u001b[0mbatch\u001b[0m\u001b[0;34m.\u001b[0m\u001b[0mshape\u001b[0m\u001b[0;34m[\u001b[0m\u001b[0;36m0\u001b[0m\u001b[0;34m]\u001b[0m\u001b[0;34m,\u001b[0m \u001b[0mself\u001b[0m\u001b[0;34m.\u001b[0m\u001b[0mn_visible\u001b[0m\u001b[0;34m)\u001b[0m\u001b[0;34m)\u001b[0m\u001b[0;34m\u001b[0m\u001b[0;34m\u001b[0m\u001b[0m\n\u001b[0;32m--> 201\u001b[0;31m                 \u001b[0mv_recon\u001b[0m \u001b[0;34m=\u001b[0m \u001b[0mself\u001b[0m\u001b[0;34m.\u001b[0m\u001b[0mreconstruct\u001b[0m\u001b[0;34m(\u001b[0m\u001b[0mbatch\u001b[0m\u001b[0;34m,\u001b[0m \u001b[0mpublic_key_a\u001b[0m\u001b[0;34m,\u001b[0m \u001b[0mprivate_key_a\u001b[0m\u001b[0;34m,\u001b[0m \u001b[0mpublic_key_b\u001b[0m\u001b[0;34m,\u001b[0m \u001b[0mprivate_key_b\u001b[0m\u001b[0;34m,\u001b[0m \u001b[0mrandom_r\u001b[0m\u001b[0;34m)\u001b[0m\u001b[0;34m\u001b[0m\u001b[0;34m\u001b[0m\u001b[0m\n\u001b[0m\u001b[1;32m    202\u001b[0m                 \u001b[0mloss\u001b[0m \u001b[0;34m=\u001b[0m \u001b[0mnp\u001b[0m\u001b[0;34m.\u001b[0m\u001b[0mmean\u001b[0m\u001b[0;34m(\u001b[0m\u001b[0;34m(\u001b[0m\u001b[0mbatch\u001b[0m \u001b[0;34m-\u001b[0m \u001b[0mv_recon\u001b[0m\u001b[0;34m)\u001b[0m \u001b[0;34m**\u001b[0m \u001b[0;36m2\u001b[0m\u001b[0;34m)\u001b[0m\u001b[0;34m\u001b[0m\u001b[0;34m\u001b[0m\u001b[0m\n\u001b[1;32m    203\u001b[0m                 \u001b[0mepoch_loss\u001b[0m \u001b[0;34m+=\u001b[0m \u001b[0mloss\u001b[0m\u001b[0;34m\u001b[0m\u001b[0;34m\u001b[0m\u001b[0m\n",
            "\u001b[0;32m<ipython-input-19-5a7352823e47>\u001b[0m in \u001b[0;36mreconstruct\u001b[0;34m(self, v, public_key_a, private_key_a, public_key_b, private_key_b, random_r)\u001b[0m\n\u001b[1;32m    163\u001b[0m         \"\"\"\n\u001b[1;32m    164\u001b[0m         \u001b[0mh\u001b[0m \u001b[0;34m=\u001b[0m \u001b[0mself\u001b[0m\u001b[0;34m.\u001b[0m\u001b[0msample_hidden_secure\u001b[0m\u001b[0;34m(\u001b[0m\u001b[0mv\u001b[0m\u001b[0;34m,\u001b[0m \u001b[0mpublic_key_a\u001b[0m\u001b[0;34m,\u001b[0m \u001b[0mprivate_key_a\u001b[0m\u001b[0;34m,\u001b[0m \u001b[0mpublic_key_b\u001b[0m\u001b[0;34m,\u001b[0m \u001b[0mprivate_key_b\u001b[0m\u001b[0;34m,\u001b[0m \u001b[0mrandom_r\u001b[0m\u001b[0;34m[\u001b[0m\u001b[0;34m:\u001b[0m\u001b[0;34m,\u001b[0m \u001b[0;34m:\u001b[0m\u001b[0mself\u001b[0m\u001b[0;34m.\u001b[0m\u001b[0mh_bias\u001b[0m\u001b[0;34m.\u001b[0m\u001b[0mshape\u001b[0m\u001b[0;34m[\u001b[0m\u001b[0;36m0\u001b[0m\u001b[0;34m]\u001b[0m\u001b[0;34m]\u001b[0m\u001b[0;34m)\u001b[0m\u001b[0;34m\u001b[0m\u001b[0;34m\u001b[0m\u001b[0m\n\u001b[0;32m--> 165\u001b[0;31m         \u001b[0mv_recon\u001b[0m \u001b[0;34m=\u001b[0m \u001b[0mself\u001b[0m\u001b[0;34m.\u001b[0m\u001b[0msample_visible_secure\u001b[0m\u001b[0;34m(\u001b[0m\u001b[0mh\u001b[0m\u001b[0;34m,\u001b[0m \u001b[0mpublic_key_a\u001b[0m\u001b[0;34m,\u001b[0m \u001b[0mprivate_key_a\u001b[0m\u001b[0;34m,\u001b[0m \u001b[0mpublic_key_b\u001b[0m\u001b[0;34m,\u001b[0m \u001b[0mprivate_key_b\u001b[0m\u001b[0;34m,\u001b[0m \u001b[0mrandom_r\u001b[0m\u001b[0;34m)\u001b[0m\u001b[0;34m\u001b[0m\u001b[0;34m\u001b[0m\u001b[0m\n\u001b[0m\u001b[1;32m    166\u001b[0m         \u001b[0;32mreturn\u001b[0m \u001b[0mv_recon\u001b[0m\u001b[0;34m\u001b[0m\u001b[0;34m\u001b[0m\u001b[0m\n\u001b[1;32m    167\u001b[0m \u001b[0;34m\u001b[0m\u001b[0m\n",
            "\u001b[0;32m<ipython-input-19-5a7352823e47>\u001b[0m in \u001b[0;36msample_visible_secure\u001b[0;34m(self, h, public_key_a, private_key_a, public_key_b, private_key_b, random_r)\u001b[0m\n\u001b[1;32m    141\u001b[0m             \u001b[0;32mfor\u001b[0m \u001b[0mj\u001b[0m \u001b[0;32min\u001b[0m \u001b[0mrange\u001b[0m\u001b[0;34m(\u001b[0m\u001b[0mself\u001b[0m\u001b[0;34m.\u001b[0m\u001b[0mmA\u001b[0m\u001b[0;34m)\u001b[0m\u001b[0;34m:\u001b[0m\u001b[0;34m\u001b[0m\u001b[0;34m\u001b[0m\u001b[0m\n\u001b[1;32m    142\u001b[0m                 \u001b[0menc_A\u001b[0m \u001b[0;34m=\u001b[0m \u001b[0mself\u001b[0m\u001b[0;34m.\u001b[0m\u001b[0mencrypt\u001b[0m\u001b[0;34m(\u001b[0m\u001b[0mpublic_key_a\u001b[0m\u001b[0;34m,\u001b[0m \u001b[0mint\u001b[0m\u001b[0;34m(\u001b[0m\u001b[0mactivation_A\u001b[0m\u001b[0;34m[\u001b[0m\u001b[0mi\u001b[0m\u001b[0;34m,\u001b[0m \u001b[0mj\u001b[0m\u001b[0;34m]\u001b[0m\u001b[0;34m)\u001b[0m\u001b[0;34m)\u001b[0m\u001b[0;34m\u001b[0m\u001b[0;34m\u001b[0m\u001b[0m\n\u001b[0;32m--> 143\u001b[0;31m                 \u001b[0mdec_A\u001b[0m \u001b[0;34m=\u001b[0m \u001b[0mself\u001b[0m\u001b[0;34m.\u001b[0m\u001b[0mdecrypt_final\u001b[0m\u001b[0;34m(\u001b[0m\u001b[0mself\u001b[0m\u001b[0;34m.\u001b[0m\u001b[0mdecrypt_partial\u001b[0m\u001b[0;34m(\u001b[0m\u001b[0mprivate_key_a\u001b[0m\u001b[0;34m,\u001b[0m \u001b[0mpublic_key_a\u001b[0m\u001b[0;34m,\u001b[0m \u001b[0menc_A\u001b[0m\u001b[0;34m)\u001b[0m\u001b[0;34m,\u001b[0m \u001b[0menc_A\u001b[0m\u001b[0;34m[\u001b[0m\u001b[0;36m1\u001b[0m\u001b[0;34m]\u001b[0m\u001b[0;34m,\u001b[0m \u001b[0mself\u001b[0m\u001b[0;34m.\u001b[0m\u001b[0mp\u001b[0m\u001b[0;34m)\u001b[0m\u001b[0;34m\u001b[0m\u001b[0;34m\u001b[0m\u001b[0m\n\u001b[0m\u001b[1;32m    144\u001b[0m                 \u001b[0mdecrypted_A\u001b[0m\u001b[0;34m[\u001b[0m\u001b[0mi\u001b[0m\u001b[0;34m,\u001b[0m \u001b[0mj\u001b[0m\u001b[0;34m]\u001b[0m \u001b[0;34m=\u001b[0m \u001b[0mdec_A\u001b[0m\u001b[0;34m\u001b[0m\u001b[0;34m\u001b[0m\u001b[0m\n\u001b[1;32m    145\u001b[0m             \u001b[0;32mfor\u001b[0m \u001b[0mj\u001b[0m \u001b[0;32min\u001b[0m \u001b[0mrange\u001b[0m\u001b[0;34m(\u001b[0m\u001b[0mself\u001b[0m\u001b[0;34m.\u001b[0m\u001b[0mmB\u001b[0m\u001b[0;34m)\u001b[0m\u001b[0;34m:\u001b[0m\u001b[0;34m\u001b[0m\u001b[0;34m\u001b[0m\u001b[0m\n",
            "\u001b[0;32m<ipython-input-19-5a7352823e47>\u001b[0m in \u001b[0;36mdecrypt_final\u001b[0;34m(self, partially_decrypted, shared_secret, p)\u001b[0m\n\u001b[1;32m     62\u001b[0m         \"\"\"\n\u001b[1;32m     63\u001b[0m         \u001b[0mc2\u001b[0m\u001b[0;34m,\u001b[0m \u001b[0ms\u001b[0m \u001b[0;34m=\u001b[0m \u001b[0mpartially_decrypted\u001b[0m\u001b[0;34m\u001b[0m\u001b[0;34m\u001b[0m\u001b[0m\n\u001b[0;32m---> 64\u001b[0;31m         \u001b[0ms_inv\u001b[0m \u001b[0;34m=\u001b[0m \u001b[0mmod_inverse\u001b[0m\u001b[0;34m(\u001b[0m\u001b[0ms\u001b[0m\u001b[0;34m,\u001b[0m \u001b[0mp\u001b[0m\u001b[0;34m)\u001b[0m\u001b[0;34m\u001b[0m\u001b[0;34m\u001b[0m\u001b[0m\n\u001b[0m\u001b[1;32m     65\u001b[0m         \u001b[0mmessage\u001b[0m \u001b[0;34m=\u001b[0m \u001b[0;34m(\u001b[0m\u001b[0mc2\u001b[0m \u001b[0;34m*\u001b[0m \u001b[0ms_inv\u001b[0m\u001b[0;34m)\u001b[0m \u001b[0;34m%\u001b[0m \u001b[0mp\u001b[0m\u001b[0;34m\u001b[0m\u001b[0;34m\u001b[0m\u001b[0m\n\u001b[1;32m     66\u001b[0m         \u001b[0;32mreturn\u001b[0m \u001b[0mmessage\u001b[0m\u001b[0;34m\u001b[0m\u001b[0;34m\u001b[0m\u001b[0m\n",
            "\u001b[0;32m/usr/local/lib/python3.11/dist-packages/sympy/core/intfunc.py\u001b[0m in \u001b[0;36mmod_inverse\u001b[0;34m(a, m)\u001b[0m\n\u001b[1;32m    385\u001b[0m \u001b[0;34m\u001b[0m\u001b[0m\n\u001b[1;32m    386\u001b[0m \u001b[0;34m\u001b[0m\u001b[0m\n\u001b[0;32m--> 387\u001b[0;31m \u001b[0;32mdef\u001b[0m \u001b[0mmod_inverse\u001b[0m\u001b[0;34m(\u001b[0m\u001b[0ma\u001b[0m\u001b[0;34m,\u001b[0m \u001b[0mm\u001b[0m\u001b[0;34m)\u001b[0m\u001b[0;34m:\u001b[0m\u001b[0;34m\u001b[0m\u001b[0;34m\u001b[0m\u001b[0m\n\u001b[0m\u001b[1;32m    388\u001b[0m     r\"\"\"\n\u001b[1;32m    389\u001b[0m     \u001b[0mReturn\u001b[0m \u001b[0mthe\u001b[0m \u001b[0mnumber\u001b[0m\u001b[0;31m \u001b[0m\u001b[0;31m$\u001b[0m\u001b[0mc\u001b[0m\u001b[0;31m$\u001b[0m \u001b[0msuch\u001b[0m \u001b[0mthat\u001b[0m\u001b[0;34m,\u001b[0m\u001b[0;31m \u001b[0m\u001b[0;31m$\u001b[0m\u001b[0ma\u001b[0m\u001b[0;31m \u001b[0m\u001b[0;31m\\\u001b[0m\u001b[0mtimes\u001b[0m \u001b[0mc\u001b[0m \u001b[0;34m=\u001b[0m \u001b[0;36m1\u001b[0m\u001b[0;31m \u001b[0m\u001b[0;31m\\\u001b[0m\u001b[0mpmod\u001b[0m\u001b[0;34m{\u001b[0m\u001b[0mm\u001b[0m\u001b[0;34m}\u001b[0m\u001b[0;31m$\u001b[0m\u001b[0;34m\u001b[0m\u001b[0;34m\u001b[0m\u001b[0m\n",
            "\u001b[0;31mKeyboardInterrupt\u001b[0m: "
          ]
        }
      ]
    },
    {
      "cell_type": "markdown",
      "source": [
        "Evaluating the secure model:"
      ],
      "metadata": {
        "id": "yhRBFpDPL787"
      }
    },
    {
      "cell_type": "code",
      "source": [
        "# ارزیابی ماشین بولتزمن امن\n",
        "def evaluate_secure_rbm(secure_rbm, data, public_key_a, private_key_a, public_key_b, private_key_b, batch_size=64):\n",
        "    loss = 0.0\n",
        "    num_batches = len(data) // batch_size\n",
        "    for i in range(0, len(data), batch_size):\n",
        "        batch = data[i:i+batch_size]\n",
        "        # ایجاد یک مقدار تصادفی r برای هر دسته\n",
        "        random_r = np.random.randint(1, secure_rbm.p, size=(batch.shape[0], 1))\n",
        "\n",
        "        # بازسازی داده‌ها با استفاده از متدهای امن\n",
        "        v_recon = secure_rbm.reconstruct(batch, public_key_a, private_key_a, public_key_b, private_key_b, random_r)\n",
        "\n",
        "        # محاسبه خطا بین داده‌های اصلی و بازسازی شده\n",
        "        loss += np.mean((batch - v_recon) ** 2)\n",
        "\n",
        "    avg_loss = loss / num_batches\n",
        "    return avg_loss\n",
        "\n",
        "# ارزیابی ماشین بولتزمن امن\n",
        "secure_loss = evaluate_secure_rbm(\n",
        "    secure_rbm,\n",
        "    X_test_binary,\n",
        "    public_key_a,\n",
        "    private_key_a,\n",
        "    public_key_b,\n",
        "    private_key_b,\n",
        "    batch_size=64\n",
        ")\n",
        "print(f\"Secure RBM Test Loss: {secure_loss:.5f}\")"
      ],
      "metadata": {
        "colab": {
          "base_uri": "https://localhost:8080/",
          "height": 297
        },
        "id": "muv4Bq4uL7PW",
        "outputId": "1e1a90c9-99ac-41f7-9c97-317973bac352"
      },
      "execution_count": 18,
      "outputs": [
        {
          "output_type": "error",
          "ename": "AttributeError",
          "evalue": "'SecureRBM' object has no attribute 'contrastive_divergence'",
          "traceback": [
            "\u001b[0;31m---------------------------------------------------------------------------\u001b[0m",
            "\u001b[0;31mAttributeError\u001b[0m                            Traceback (most recent call last)",
            "\u001b[0;32m<ipython-input-18-5a2c34ef029c>\u001b[0m in \u001b[0;36m<cell line: 0>\u001b[0;34m()\u001b[0m\n\u001b[1;32m      1\u001b[0m \u001b[0;31m# ارزیابی ماشین بولتزمن امن\u001b[0m\u001b[0;34m\u001b[0m\u001b[0;34m\u001b[0m\u001b[0m\n\u001b[0;32m----> 2\u001b[0;31m \u001b[0msecure_loss\u001b[0m \u001b[0;34m=\u001b[0m \u001b[0mevaluate_rbm\u001b[0m\u001b[0;34m(\u001b[0m\u001b[0msecure_rbm\u001b[0m\u001b[0;34m,\u001b[0m \u001b[0mX_test_binary\u001b[0m\u001b[0;34m)\u001b[0m\u001b[0;34m\u001b[0m\u001b[0;34m\u001b[0m\u001b[0m\n\u001b[0m\u001b[1;32m      3\u001b[0m \u001b[0mprint\u001b[0m\u001b[0;34m(\u001b[0m\u001b[0;34mf\"Secure RBM Test Loss: {secure_loss:.5f}\"\u001b[0m\u001b[0;34m)\u001b[0m\u001b[0;34m\u001b[0m\u001b[0;34m\u001b[0m\u001b[0m\n",
            "\u001b[0;32m<ipython-input-16-2b113ab12e15>\u001b[0m in \u001b[0;36mevaluate_rbm\u001b[0;34m(rbm, data)\u001b[0m\n\u001b[1;32m      5\u001b[0m     \u001b[0;32mfor\u001b[0m \u001b[0mi\u001b[0m \u001b[0;32min\u001b[0m \u001b[0mrange\u001b[0m\u001b[0;34m(\u001b[0m\u001b[0;36m0\u001b[0m\u001b[0;34m,\u001b[0m \u001b[0mlen\u001b[0m\u001b[0;34m(\u001b[0m\u001b[0mdata\u001b[0m\u001b[0;34m)\u001b[0m\u001b[0;34m,\u001b[0m \u001b[0;36m64\u001b[0m\u001b[0;34m)\u001b[0m\u001b[0;34m:\u001b[0m\u001b[0;34m\u001b[0m\u001b[0;34m\u001b[0m\u001b[0m\n\u001b[1;32m      6\u001b[0m         \u001b[0mbatch\u001b[0m \u001b[0;34m=\u001b[0m \u001b[0mdata\u001b[0m\u001b[0;34m[\u001b[0m\u001b[0mi\u001b[0m\u001b[0;34m:\u001b[0m\u001b[0mi\u001b[0m\u001b[0;34m+\u001b[0m\u001b[0;36m64\u001b[0m\u001b[0;34m]\u001b[0m\u001b[0;34m\u001b[0m\u001b[0;34m\u001b[0m\u001b[0m\n\u001b[0;32m----> 7\u001b[0;31m         \u001b[0mv_neg\u001b[0m \u001b[0;34m=\u001b[0m \u001b[0mrbm\u001b[0m\u001b[0;34m.\u001b[0m\u001b[0mcontrastive_divergence\u001b[0m\u001b[0;34m(\u001b[0m\u001b[0mbatch\u001b[0m\u001b[0;34m,\u001b[0m \u001b[0mk\u001b[0m\u001b[0;34m=\u001b[0m\u001b[0;36m1\u001b[0m\u001b[0;34m)\u001b[0m\u001b[0;34m\u001b[0m\u001b[0;34m\u001b[0m\u001b[0m\n\u001b[0m\u001b[1;32m      8\u001b[0m         \u001b[0mloss\u001b[0m \u001b[0;34m+=\u001b[0m \u001b[0mnp\u001b[0m\u001b[0;34m.\u001b[0m\u001b[0mmean\u001b[0m\u001b[0;34m(\u001b[0m\u001b[0;34m(\u001b[0m\u001b[0mbatch\u001b[0m \u001b[0;34m-\u001b[0m \u001b[0mv_neg\u001b[0m\u001b[0;34m)\u001b[0m \u001b[0;34m**\u001b[0m \u001b[0;36m2\u001b[0m\u001b[0;34m)\u001b[0m\u001b[0;34m\u001b[0m\u001b[0;34m\u001b[0m\u001b[0m\n\u001b[1;32m      9\u001b[0m     \u001b[0mavg_loss\u001b[0m \u001b[0;34m=\u001b[0m \u001b[0mloss\u001b[0m \u001b[0;34m/\u001b[0m \u001b[0;34m(\u001b[0m\u001b[0mlen\u001b[0m\u001b[0;34m(\u001b[0m\u001b[0mdata\u001b[0m\u001b[0;34m)\u001b[0m \u001b[0;34m/\u001b[0m \u001b[0;36m64\u001b[0m\u001b[0;34m)\u001b[0m\u001b[0;34m\u001b[0m\u001b[0;34m\u001b[0m\u001b[0m\n",
            "\u001b[0;31mAttributeError\u001b[0m: 'SecureRBM' object has no attribute 'contrastive_divergence'"
          ]
        }
      ]
    },
    {
      "cell_type": "markdown",
      "source": [
        "Comparison:"
      ],
      "metadata": {
        "id": "G1UpSjguMCJr"
      }
    },
    {
      "cell_type": "code",
      "source": [
        "print(\"مقایسه عملکرد ماشین بولتزمن ساده و امن:\")\n",
        "print(f\"Simple RBM with k=1 Test Loss: {simple_losses[1]:.5f}\")\n",
        "print(f\"Simple RBM with k=5 Test Loss: {simple_losses[5]:.5f}\")\n",
        "print(f\"Simple RBM with k=10 Test Loss: {simple_losses[10]:.5f}\")\n",
        "print(f\"Secure RBM Test Loss: {secure_loss:.5f}\")"
      ],
      "metadata": {
        "id": "3Q6jIAtMMDI8"
      },
      "execution_count": null,
      "outputs": []
    },
    {
      "cell_type": "markdown",
      "source": [],
      "metadata": {
        "id": "u6sRAhTYHL0r"
      }
    },
    {
      "cell_type": "markdown",
      "source": [],
      "metadata": {
        "id": "3kZ5maPQHLss"
      }
    },
    {
      "cell_type": "markdown",
      "source": [],
      "metadata": {
        "id": "7shky0hbHLkE"
      }
    },
    {
      "cell_type": "markdown",
      "source": [],
      "metadata": {
        "id": "UeskQDY_HLaz"
      }
    },
    {
      "cell_type": "markdown",
      "source": [],
      "metadata": {
        "id": "65nmjePCHLRG"
      }
    },
    {
      "cell_type": "markdown",
      "source": [],
      "metadata": {
        "id": "kncasc4xHK-B"
      }
    },
    {
      "cell_type": "code",
      "source": [
        "#!/usr/bin/env python\n",
        "import json\n",
        "import argparse\n",
        "import numpy as np\n",
        "import tensorflow as tf\n",
        "import datetime\n",
        "import os\n",
        "from tensorflow.keras.utils import to_categorical\n",
        "\n",
        "parser = argparse.ArgumentParser(\"DRBM learning script.\", add_help=False)\n",
        "parser.add_argument(\"learning_config\", action=\"store\", type=str, help=\"path of learning configuration file.\")\n",
        "parser.add_argument(\"learning_epoch\", action=\"store\", type=int, help=\"numbers of epochs.\")\n",
        "parser.add_argument(\"-d\", \"--output_directory\", action=\"store\", type=str, default=\"./results/\", help=\"directory to output parameter & log\")\n",
        "parser.add_argument(\"-s\", \"--filename_suffix\", action=\"store\", type=str, default=None, help=\"filename suffix\")\n",
        "parser.add_argument(\"-p\", \"--save_parameters\", action=\"store_true\", help=\"save model parameters\")\n",
        "args = parser.parse_args()\n",
        "\n",
        "config = json.load(open(args.learning_config, \"r\"))\n",
        "ll = LearningLog(config)\n",
        "\n",
        "mnist = tf.keras.datasets.mnist\n",
        "(x_train, y_train), (x_test, y_test) = mnist.load_data()\n",
        "\n",
        "dtype = config[\"dtype\"]\n",
        "x_train = x_train.astype(dtype)\n",
        "x_test = x_test.astype(dtype)\n",
        "\n",
        "if \"learning_data_limit\" in config:\n",
        "    idx = np.random.choice(np.arange(0, len(x_train)), size=len(x_train), replace=False)\n",
        "    x_train = x_train[idx[0:config[\"learning_data_limit\"]]]\n",
        "    y_train = y_train[idx[0:config[\"learning_data_limit\"]]]\n",
        "\n",
        "if \"test_noise_std\" in config:\n",
        "    x_test = x_test + np.random.normal(0, config[\"test_noise_std\"], x_test.shape)\n",
        "\n",
        "x_train, x_test = (x_train / 255.0), (x_test / 255.0)\n",
        "\n",
        "x_train = x_train.reshape(-1, 784)\n",
        "x_test = x_test.reshape(-1, 784)\n",
        "y_train = to_categorical(y_train).astype(dtype)\n",
        "y_test = to_categorical(y_test).astype(dtype)\n",
        "\n",
        "train_ds = tf.data.Dataset.from_tensor_slices((x_train, y_train))\n",
        "test_ds = tf.data.Dataset.from_tensor_slices((x_test, y_test)).batch(100)\n",
        "\n",
        "optimizer = tf.keras.optimizers.Adamax(learning_rate=0.002, epsilon=1e-8)\n",
        "drbm = DRBM(*config[\"training-layers\"], **config[\"training-args\"], dtype=dtype)\n",
        "drbm.fit_categorical(args.learning_epoch, len(x_train), config[\"minibatch-size\"], optimizer, train_ds, test_ds, ll)\n",
        "\n",
        "now = datetime.datetime.now().strftime(\"%Y-%m-%d_%H-%M-%S\")\n",
        "filename = [\n",
        "    now,\n",
        "    \"mnist\",\n",
        "    \"h\"+str(config[\"training-layers\"][1]),\n",
        "    config[\"training-args\"][\"activation\"]\n",
        "]\n",
        "if args.filename_suffix is not None:\n",
        "    filename.append(args.filename_suffix)\n",
        "filename.append(\"%s.json\")\n",
        "filename = \"_\".join(filename)\n",
        "\n",
        "filepath = os.path.join(args.output_directory, filename)\n",
        "ll.save(filepath%\"log\")\n",
        "if args.save_parameters:\n",
        "    drbm.save(filepath%\"model\")"
      ],
      "metadata": {
        "colab": {
          "base_uri": "https://localhost:8080/",
          "height": 176
        },
        "id": "v6ihNwNJD-IO",
        "outputId": "71e50bb2-1839-4c52-f5ba-481986e3e7d0"
      },
      "execution_count": 6,
      "outputs": [
        {
          "output_type": "stream",
          "name": "stderr",
          "text": [
            "usage: DRBM learning script. [-d OUTPUT_DIRECTORY] [-s FILENAME_SUFFIX] [-p]\n",
            "                             learning_config learning_epoch\n",
            "DRBM learning script.: error: the following arguments are required: learning_epoch\n"
          ]
        },
        {
          "output_type": "error",
          "ename": "SystemExit",
          "evalue": "2",
          "traceback": [
            "An exception has occurred, use %tb to see the full traceback.\n",
            "\u001b[0;31mSystemExit\u001b[0m\u001b[0;31m:\u001b[0m 2\n"
          ]
        },
        {
          "output_type": "stream",
          "name": "stderr",
          "text": [
            "/usr/local/lib/python3.11/dist-packages/IPython/core/interactiveshell.py:3561: UserWarning: To exit: use 'exit', 'quit', or Ctrl-D.\n",
            "  warn(\"To exit: use 'exit', 'quit', or Ctrl-D.\", stacklevel=1)\n"
          ]
        }
      ]
    },
    {
      "cell_type": "code",
      "source": [
        "\n",
        "import tensorflow as tf\n",
        "import numpy as np\n",
        "import math\n",
        "\n",
        "class original:\n",
        "    @staticmethod\n",
        "    @tf.function\n",
        "    def activation(input):\n",
        "        return tf.nn.softplus(input)\n",
        "\n",
        "class double:\n",
        "    @staticmethod\n",
        "    @tf.function\n",
        "    def activation(input):\n",
        "        input = tf.abs(input)\n",
        "        return input + tf.math.log1p(tf.exp(-2.*input))\n",
        "\n",
        "class triple:\n",
        "    @staticmethod\n",
        "    @tf.function\n",
        "    def activation(input):\n",
        "        input = tf.abs(input)\n",
        "        return input + tf.math.log(1 + tf.exp(-input) + tf.exp(-2.*input))\n",
        "\n",
        "class triple_sparse:\n",
        "    @staticmethod\n",
        "    @tf.function\n",
        "    def activation(input, sparse):\n",
        "        sparse = tf.nn.softplus( tf.expand_dims(sparse, 1) )\n",
        "        input = tf.abs(input)\n",
        "        return input + tf.math.log( tf.exp(-input) + tf.exp(-sparse)*(1.+tf.exp(-2.*input)) )\n",
        "\n",
        "class continuous:\n",
        "    @staticmethod\n",
        "    @tf.function\n",
        "    @tf.custom_gradient\n",
        "    def activation(input):\n",
        "        approx_factors = np.array([0., -1/180, 0., 1/6, 0., math.log(2.)]).astype(input.dtype.as_numpy_dtype())\n",
        "        approx_factors_grad = np.array([2/945, 0., -1/45, 0., 1/3, 0.]).astype(input.dtype.as_numpy_dtype())\n",
        "        ret = tf.where(\n",
        "            tf.math.abs(input) < 1e-3,\n",
        "            tf.math.polyval(approx_factors, input),\n",
        "            tf.math.log(2*tf.math.sinh(input)/input)\n",
        "        )\n",
        "        @tf.function\n",
        "        def grad(dy):\n",
        "            return dy * tf.where(\n",
        "                tf.math.abs(input) < 1e-3,\n",
        "                tf.math.polyval(approx_factors_grad, input),\n",
        "                (1/tf.math.tanh(input) - 1/input)\n",
        "            )\n",
        "        return ret, grad\n",
        "\n",
        "class continuous_sparse:\n",
        "    @staticmethod\n",
        "    @tf.function\n",
        "    def activation(input, sparse):\n",
        "        sparse = tf.nn.softplus( tf.expand_dims(sparse, 1) )\n",
        "        a =  (input + sparse) / 2\n",
        "        b = -(input - sparse) / 2\n",
        "        ret = tf.math.log( continuous_sparse._nexp_sinch(a) + continuous_sparse._nexp_sinch(b) )\n",
        "        return ret\n",
        "\n",
        "    @staticmethod\n",
        "    @tf.function\n",
        "    @tf.custom_gradient\n",
        "    def _nexp_sinch(x):\n",
        "        approx_factors = np.array([2/15, -1/3, 2/3, -1., 1.]).astype(x.dtype.as_numpy_dtype())\n",
        "        approx_factors_grad = np.array([2/945, 0., -1/45, 0., 1/3, -1.]).astype(x.dtype.as_numpy_dtype())\n",
        "        ret = tf.where(\n",
        "                0 < x,\n",
        "                (1-tf.exp(-2*x))/(2*x),\n",
        "                (tf.exp(2*x)-1)/(2*x*tf.exp(2*x))\n",
        "            )\n",
        "        ret = tf.where(\n",
        "            tf.abs(x) < 1e-3,\n",
        "            tf.math.polyval(approx_factors, x),\n",
        "            ret\n",
        "        )\n",
        "        def grad(dy):\n",
        "            r = tf.where(\n",
        "                tf.abs(x) < 1e-3,\n",
        "                tf.math.polyval(approx_factors_grad, x),\n",
        "                1/tf.tanh(x) - 1/x -1\n",
        "            )\n",
        "            grad_ret = dy * ret * r\n",
        "            return grad_ret\n",
        "        return ret, grad\n",
        "\n",
        "class esrbm:\n",
        "    @staticmethod\n",
        "    @tf.function\n",
        "    def activation(input, sparse=1.0):\n",
        "        return tf.nn.softplus(input - sparse)"
      ],
      "metadata": {
        "id": "ubfpDlysENlv"
      },
      "execution_count": 3,
      "outputs": []
    },
    {
      "cell_type": "code",
      "source": [
        "import tensorflow as tf\n",
        "import json\n",
        "\n",
        "class DRBM:\n",
        "    def __init__(self, input_num, hidden_num, output_num, activation=\"continuous\", dtype=\"float32\", initial_sparse=10., random_bias=False):\n",
        "        self.input_num = input_num\n",
        "        self.hidden_num = hidden_num\n",
        "        self.output_num = output_num\n",
        "        self.dtype = dtype\n",
        "\n",
        "        self.w1 = tf.Variable( tf.keras.initializers.GlorotUniform()((input_num, hidden_num), dtype=self.dtype), name=\"w1\" )\n",
        "        self.w2 = tf.Variable( tf.keras.initializers.GlorotUniform()((hidden_num, output_num), dtype=self.dtype), name=\"w2\" )\n",
        "        if random_bias:\n",
        "            self.b1 = tf.Variable( tf.random.normal([hidden_num], dtype=self.dtype), name=\"b1\" )\n",
        "            self.b2 = tf.Variable( tf.random.normal([output_num], dtype=self.dtype), name=\"b2\" )\n",
        "        else:\n",
        "            self.b1 = tf.Variable( tf.zeros((hidden_num), dtype=self.dtype), name=\"b1\" )\n",
        "            self.b2 = tf.Variable( tf.zeros((output_num), dtype=self.dtype), name=\"b2\" )\n",
        "        self.params = [self.b1, self.b2, self.w1, self.w2]\n",
        "\n",
        "        self.enable_sparse = \"sparse\" in activation\n",
        "        if self.enable_sparse:\n",
        "            self.sparse = tf.Variable( tf.cast(tf.fill([hidden_num], initial_sparse), dtype=self.dtype), name=\"sparse\" )\n",
        "            self.params.append(self.sparse)\n",
        "        self._marginalize = getattr(hidden_marginalize, activation).activation\n",
        "        self.activation = activation\n",
        "\n",
        "    # input: (N, i)\n",
        "    # return (N, j, k)\n",
        "    @tf.function\n",
        "    def _signal_all(self, input):\n",
        "        return tf.expand_dims(tf.matmul(input, self.w1) + self.b1, 2) + self.w2\n",
        "\n",
        "    @tf.function\n",
        "    def probability(self, input):\n",
        "        sig = self._signal_all(input)\n",
        "        if self.enable_sparse:\n",
        "            act = self._marginalize(sig, self.sparse)\n",
        "        else:\n",
        "            act = self._marginalize(sig)\n",
        "        energies = self.b2 + tf.reduce_sum(act, 1)\n",
        "        return tf.nn.softmax(energies)\n",
        "\n",
        "    @tf.function\n",
        "    def _negative_log_likelihood(self, probs, labels):\n",
        "        single_prob = tf.reduce_sum(probs * labels, 1)\n",
        "        return -tf.reduce_mean(tf.math.log(single_prob))\n",
        "\n",
        "    @tf.function\n",
        "    def _kl_divergence(self, gen_drbm, sampling_size=1000):\n",
        "        gen_data, gen_probs = gen_drbm.sampling(sampling_size)\n",
        "        probs = self.probability(gen_data)\n",
        "        kld = tf.reduce_mean( gen_probs * tf.math.log( gen_probs / probs ))\n",
        "        return kld\n",
        "\n",
        "    @tf.function\n",
        "    def sampling(self, sampling_size):\n",
        "        data = tf.random.normal((sampling_size, self.input_num), dtype=self.dtype)\n",
        "        return data, self.probability(data)\n",
        "\n",
        "    #@tf.function\n",
        "    def stick_break(self, sampling_size):\n",
        "        data, probs = self.sampling(sampling_size)\n",
        "        categories = tf.squeeze(tf.random.categorical(tf.math.log(probs), 1))\n",
        "        return data, categories\n",
        "\n",
        "    def fit_categorical(self, train_epoch, data_size, minibatch_size, optimizer, train_ds, test_ds, learninglog):\n",
        "        train_loss = tf.keras.metrics.Mean(name='train_loss')\n",
        "        train_accuracy = tf.keras.metrics.CategoricalAccuracy(name='train_accuracy')\n",
        "        test_loss = tf.keras.metrics.Mean(name='test_loss')\n",
        "        test_accuracy = tf.keras.metrics.CategoricalAccuracy(name='test_accuracy')\n",
        "\n",
        "        @tf.function\n",
        "        def train(input, labels):\n",
        "            with tf.GradientTape() as tape:\n",
        "                tape.watch(self.params)\n",
        "                predict_probs = self.probability(input)\n",
        "                loss = self._negative_log_likelihood(predict_probs, labels)\n",
        "            grads = tape.gradient(loss, self.params)\n",
        "            optimizer.apply_gradients(zip(grads, self.params))\n",
        "            train_loss(loss)\n",
        "            train_accuracy(labels, predict_probs)\n",
        "\n",
        "        @tf.function\n",
        "        def test(input, labels):\n",
        "            predict_probs = self.probability(input)\n",
        "            loss = self._negative_log_likelihood(predict_probs, labels)\n",
        "            test_loss(loss)\n",
        "            test_accuracy(labels, predict_probs)\n",
        "\n",
        "        for epoch in range(train_epoch):\n",
        "            for images, labels in train_ds.shuffle(data_size).batch(minibatch_size):\n",
        "                train(images, labels)\n",
        "            for test_images, test_labels in test_ds:\n",
        "                test(test_images, test_labels)\n",
        "\n",
        "            template = 'Epoch {}, Loss: {}, Accuracy: {}, Test Loss: {}, Test Accuracy: {}'\n",
        "            print(template.format(epoch+1, train_loss.result(), train_accuracy.result()*100, test_loss.result(), test_accuracy.result()*100))\n",
        "\n",
        "            learninglog.make_log(epoch, \"train-error\", float((1.-train_accuracy.result())))\n",
        "            learninglog.make_log(epoch, \"train-nloglikelihood\", float(train_loss.result()))\n",
        "            learninglog.make_log(epoch, \"test-error\", float(1.-test_accuracy.result()))\n",
        "            learninglog.make_log(epoch, \"test-nloglikelihood\", float(test_loss.result()))\n",
        "\n",
        "            train_loss.reset_states()\n",
        "            train_accuracy.reset_states()\n",
        "            test_loss.reset_states()\n",
        "            test_accuracy.reset_states()\n",
        "\n",
        "    def fit_generative(self, train_epoch, data_size, minibatch_size, optimizer, train_ds, gen_drbm, learninglog):\n",
        "        train_loss = tf.keras.metrics.Mean(name='train_loss')\n",
        "\n",
        "        @tf.function\n",
        "        def train(input, labels):\n",
        "            with tf.GradientTape() as tape:\n",
        "                tape.watch(self.params)\n",
        "                predict_probs = self.probability(input)\n",
        "                loss = self._negative_log_likelihood(predict_probs, labels)\n",
        "            grads = tape.gradient(loss, self.params)\n",
        "            optimizer.apply_gradients(zip(grads, self.params))\n",
        "            train_loss(loss)\n",
        "\n",
        "        for epoch in range(train_epoch):\n",
        "            for images, labels in train_ds.shuffle(data_size).batch(minibatch_size):\n",
        "                train(images, labels)\n",
        "            kld = self._kl_divergence(gen_drbm)\n",
        "\n",
        "            template = 'Epoch {}, Loss: {}, KL-Divergence: {}'\n",
        "            print(template.format(epoch+1, train_loss.result(), kld))\n",
        "\n",
        "            learninglog.make_log(epoch, \"kl-divergence\", float(kld))\n",
        "            learninglog.make_log(epoch, \"nloglikelihood\", float(train_loss.result()))\n",
        "\n",
        "            train_loss.reset_states()\n",
        "\n",
        "    def save(self, filename):\n",
        "        data_names = [\"input_num\", \"hidden_num\", \"output_num\", \"dtype\", \"activation\", \"enable_sparse\"]\n",
        "        param_names = [\"b1\", \"b2\", \"w1\", \"w2\"]\n",
        "        if self.enable_sparse:\n",
        "            param_names.append(\"sparse\")\n",
        "        data = {}\n",
        "        for i in data_names:\n",
        "            data[i] = getattr(self, i)\n",
        "        data[\"params\"] = {}\n",
        "        for i in param_names:\n",
        "            data[\"params\"][i] = getattr(self, i).numpy().tolist()\n",
        "        json.dump(data, open(filename, \"w+\"), indent=2)\n",
        "\n",
        "    @staticmethod\n",
        "    def load(filename):\n",
        "        data = json.load(open(filename, \"r\"))\n",
        "        enable_sparse = \"sparse\" in data[\"params\"]\n",
        "        drbm = DRBM(data[\"input_num\"], data[\"hidden_num\"], data[\"output_num\"], data[\"activation\"], data[\"dtype\"])\n",
        "        for i in [\"b1\", \"b2\", \"w1\", \"w2\"]:\n",
        "            setattr(drbm, i, tf.Variable(data[\"params\"][i], dtype=data[\"dtype\"], name=i))\n",
        "        drbm.params = [drbm.b1, drbm.b2, drbm.w1, drbm.w2]\n",
        "\n",
        "        if enable_sparse:\n",
        "            drbm.sparse = tf.Variable(data[\"params\"][\"sparse\"], dtype=data[\"dtype\"], name=\"sparse\")\n",
        "            drbm.params.append(drbm.sparse)\n",
        "        return drbm"
      ],
      "metadata": {
        "id": "_eySwXe3Dv_J"
      },
      "execution_count": 4,
      "outputs": []
    },
    {
      "cell_type": "code",
      "source": [],
      "metadata": {
        "id": "GCTCacugDxFi"
      },
      "execution_count": null,
      "outputs": []
    }
  ]
}
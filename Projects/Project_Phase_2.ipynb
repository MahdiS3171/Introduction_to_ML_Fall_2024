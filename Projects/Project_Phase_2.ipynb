{
  "nbformat": 4,
  "nbformat_minor": 0,
  "metadata": {
    "colab": {
      "provenance": [],
      "gpuType": "T4"
    },
    "kernelspec": {
      "name": "python3",
      "display_name": "Python 3"
    },
    "language_info": {
      "name": "python"
    }
  },
  "cells": [
    {
      "cell_type": "markdown",
      "source": [
        "# Introduction to Machine Learning\n",
        "## Project Phase 2\n",
        "\n",
        "Sina Fathi | 402111261\n",
        "\n",
        "Seyyed Amirmahdi Sadrzadeh | 401102015"
      ],
      "metadata": {
        "id": "hniNtD-Zew1w"
      }
    },
    {
      "cell_type": "markdown",
      "source": [
        "### Part 1: Data Preproccessing"
      ],
      "metadata": {
        "id": "tvacMiiXb_2B"
      }
    },
    {
      "cell_type": "markdown",
      "source": [
        "First we import the needed libraries:"
      ],
      "metadata": {
        "id": "8ziJ9zUdcH_y"
      }
    },
    {
      "cell_type": "code",
      "source": [
        "from tqdm import tqdm\n",
        "import numpy as np\n",
        "import matplotlib.pyplot as plt\n",
        "import torch\n",
        "import torchvision\n",
        "import torchvision.transforms as transforms\n",
        "import random\n",
        "from sympy import mod_inverse"
      ],
      "metadata": {
        "id": "d3lKKdgBGJQS"
      },
      "execution_count": 4,
      "outputs": []
    },
    {
      "cell_type": "markdown",
      "source": [
        "Now we use torch library to load the MNIST dataset and then turn them to numpy arrays:"
      ],
      "metadata": {
        "id": "p_vzRIfdcMhM"
      }
    },
    {
      "cell_type": "code",
      "source": [
        "transform = transforms.Compose([transforms.ToTensor()])\n",
        "\n",
        "# بارگذاری مجموعه داده MNIST\n",
        "trainset = torchvision.datasets.MNIST(root='./data', train=True, download=True)\n",
        "\n",
        "X_train_torch = trainset.data\n",
        "Y_train_torch = trainset.targets\n",
        "\n",
        "X_train = X_train_torch.numpy()\n",
        "Y_train = Y_train_torch.numpy()"
      ],
      "metadata": {
        "id": "AyG6f5oKGPHh"
      },
      "execution_count": 5,
      "outputs": []
    },
    {
      "cell_type": "code",
      "source": [
        "# بارگذاری مجموعه داده تست\n",
        "testset = torchvision.datasets.MNIST(root='./data', train=False, download=True)\n",
        "\n",
        "# استخراج داده‌ها و برچسب‌ها از مجموعه داده تست\n",
        "X_test_torch = testset.data\n",
        "Y_test_torch = testset.targets\n",
        "\n",
        "# تبدیل داده‌های تست به فرمت NumPy\n",
        "X_test = X_test_torch.numpy()\n",
        "Y_test = Y_test_torch.numpy()\n",
        "\n",
        "# باینارسازی داده‌های تست با آستانه 128\n",
        "X_test = (X_test > threshold).astype(np.uint32)\n",
        "\n",
        "# تغییر شکل داده‌ها به اندازه‌ی مناسب برای مدل RBM\n",
        "X_test_binary = X_test.reshape(-1, 28 * 28)"
      ],
      "metadata": {
        "id": "C3It8SZpQ_zN"
      },
      "execution_count": 15,
      "outputs": []
    },
    {
      "cell_type": "markdown",
      "source": [
        "To use the datas, we binarize them by setting a threshold equal to 128. So all pixels with values higher than 128 will be set to 1 and others will be set to 0. We also flatten the datas to use them in our model:"
      ],
      "metadata": {
        "id": "vyLf42oLclGd"
      }
    },
    {
      "cell_type": "code",
      "source": [
        "threshold = 128\n",
        "X_train = (X_train > threshold).astype(np.uint32)\n",
        "X_train_binary = X_train.reshape(-1, 28 * 28)"
      ],
      "metadata": {
        "id": "H1nb8nHOKoXd"
      },
      "execution_count": 6,
      "outputs": []
    },
    {
      "cell_type": "markdown",
      "source": [
        "The plot to show the samples:"
      ],
      "metadata": {
        "id": "_hNNKcVhdJL0"
      }
    },
    {
      "cell_type": "code",
      "source": [
        "def show_samples(samples, nrows=2, ncols=5):\n",
        "    fig, axes = plt.subplots(nrows, ncols, figsize=(10, 5))\n",
        "    for i, ax in enumerate(axes.flat):\n",
        "        ax.imshow(samples[i].reshape(28, 28), cmap='binary')\n",
        "        ax.axis('off')\n",
        "    plt.tight_layout()\n",
        "    plt.show()"
      ],
      "metadata": {
        "id": "wlGlqEJ7Kt7M"
      },
      "execution_count": 7,
      "outputs": []
    },
    {
      "cell_type": "markdown",
      "source": [
        "And now we use the above function to show 10 samples from the dataset:"
      ],
      "metadata": {
        "id": "DptyrqJwdPLq"
      }
    },
    {
      "cell_type": "code",
      "source": [
        "show_samples(X_train_binary[:10])"
      ],
      "metadata": {
        "id": "kr0tRRKyKzrV",
        "outputId": "d8097d5c-dbb2-4b46-fc58-d1e23356e54a",
        "colab": {
          "base_uri": "https://localhost:8080/",
          "height": 440
        }
      },
      "execution_count": 8,
      "outputs": [
        {
          "output_type": "display_data",
          "data": {
            "text/plain": [
              "<Figure size 1000x500 with 10 Axes>"
            ],
            "image/png": "[encoded data removed]"
          },
          "metadata": {}
        }
      ]
    },
    {
      "cell_type": "markdown",
      "source": [
        "### Part 2: Implementing the model"
      ],
      "metadata": {
        "id": "QVUWalBCdWoh"
      }
    },
    {
      "cell_type": "markdown",
      "source": [
        "Simple Boltzman machine:"
      ],
      "metadata": {
        "id": "b0EKwQygdlPF"
      }
    },
    {
      "cell_type": "code",
      "source": [
        "class RBM:\n",
        "    def __init__(self, n_visible, n_hidden, learning_rate=0.1):\n",
        "        self.n_visible = n_visible\n",
        "        self.n_hidden = n_hidden\n",
        "        self.learning_rate = learning_rate\n",
        "        self.W = np.random.normal(0, 0.1, (n_visible, n_hidden))\n",
        "        self.v_bias = np.zeros(n_visible)\n",
        "        self.h_bias = np.zeros(n_hidden)\n",
        "\n",
        "    def sigmoid(self, x):\n",
        "        return 1 / (1 + np.exp(-x))\n",
        "\n",
        "    def sample(self, prob):\n",
        "        return (np.random.uniform(size=prob.shape) < prob).astype(np.int32)\n",
        "\n",
        "    def gibbs_sampling(self, hid, k):\n",
        "        v_prob_0 = self.sigmoid(np.dot(hid, self.W.T) + self.v_bias)\n",
        "        v = self.sample(v_prob_0)\n",
        "        for _ in range(k):\n",
        "            h_prob = self.sigmoid(np.dot(v, self.W) + self.h_bias)\n",
        "            h_sample = self.sample(h_prob)\n",
        "            v_prob = self.sigmoid(np.dot(h_sample, self.W.T) + self.v_bias)\n",
        "            v = self.sample(v_prob)\n",
        "        return v\n",
        "\n",
        "    def contrastive_divergence(self, v, k):\n",
        "        h_prob_0 = self.sigmoid(np.dot(v, self.W) + self.h_bias)\n",
        "        h_sample_0 = self.sample(h_prob_0)\n",
        "\n",
        "        v_neg = v.copy()\n",
        "\n",
        "        for _ in range(k):\n",
        "            h_prob = self.sigmoid(np.dot(v_neg, self.W) + self.h_bias)\n",
        "            h_sample = self.sample(h_prob)\n",
        "            v_prob_neg = self.sigmoid(np.dot(h_sample, self.W.T) + self.v_bias)\n",
        "            v_neg = self.sample(v_prob_neg)\n",
        "\n",
        "        h_prob_neg = self.sigmoid(np.dot(v_neg, self.W) + self.h_bias)\n",
        "\n",
        "        positive_grad = np.dot(v.T, h_prob_0)\n",
        "        negative_grad = np.dot(v_neg.T, h_prob_neg)\n",
        "\n",
        "        batch_size = v.shape[0]\n",
        "        self.W += self.learning_rate * (positive_grad - negative_grad) / batch_size\n",
        "        self.v_bias += self.learning_rate * np.mean(v - v_neg, axis=0)\n",
        "        self.h_bias += self.learning_rate * np.mean(h_prob_0 - h_prob_neg, axis=0)\n",
        "\n",
        "        return v_neg\n",
        "\n",
        "    def train(self, data, epochs=10, k=1, batch_size=64):\n",
        "        for epoch in range(epochs):\n",
        "            np.random.shuffle(data)\n",
        "            epoch_loss = 0\n",
        "            for batch_start in range(0, len(data), batch_size):\n",
        "                batch = data[batch_start:batch_start + batch_size]\n",
        "                v_neg = self.contrastive_divergence(batch, k)\n",
        "                epoch_loss += np.mean((batch - v_neg) ** 2)\n",
        "            print(f\"Epoch {epoch + 1}/{epochs}, Loss: {epoch_loss / len(data):.5f}\")\n",
        "\n",
        "    def generate_samples(self, n_samples=10, k=1):\n",
        "        samples = []\n",
        "        for i in range(n_samples):\n",
        "            sample = np.random.binomial(1, 0.5, self.n_hidden)\n",
        "            sample = self.gibbs_sampling(sample, k)\n",
        "            samples.append(sample)\n",
        "        return np.array(samples)"
      ],
      "metadata": {
        "id": "g6q689osK99h"
      },
      "execution_count": 9,
      "outputs": []
    },
    {
      "cell_type": "markdown",
      "source": [
        "Training the normal model:"
      ],
      "metadata": {
        "id": "VMdo3cSGLbxG"
      }
    },
    {
      "cell_type": "code",
      "source": [
        "# آموزش ماشین بولتزمن ساده\n",
        "n_visible = X_train_binary.shape[1]\n",
        "n_hidden = 32\n",
        "k_values = [1, 5, 10]\n",
        "rbms = {}\n",
        "for k in k_values:\n",
        "    print(f\"Training RBM with k={k}\")\n",
        "    rbm = RBM(n_visible, n_hidden)\n",
        "    rbm.train(X_train_binary, epochs=10, k=k)\n",
        "    rbms[k] = rbm"
      ],
      "metadata": {
        "id": "dLmlsavtLPnq",
        "outputId": "37ce32ad-65f0-46d3-e902-71087d189398",
        "colab": {
          "base_uri": "https://localhost:8080/"
        }
      },
      "execution_count": 13,
      "outputs": [
        {
          "output_type": "stream",
          "name": "stdout",
          "text": [
            "Training RBM with k=1\n",
            "Epoch 1/10, Loss: 0.00199\n",
            "Epoch 2/10, Loss: 0.00160\n",
            "Epoch 3/10, Loss: 0.00152\n",
            "Epoch 4/10, Loss: 0.00148\n",
            "Epoch 5/10, Loss: 0.00146\n",
            "Epoch 6/10, Loss: 0.00145\n",
            "Epoch 7/10, Loss: 0.00145\n",
            "Epoch 8/10, Loss: 0.00144\n",
            "Epoch 9/10, Loss: 0.00144\n",
            "Epoch 10/10, Loss: 0.00143\n",
            "Training RBM with k=5\n",
            "Epoch 1/10, Loss: 0.00220\n",
            "Epoch 2/10, Loss: 0.00173\n",
            "Epoch 3/10, Loss: 0.00164\n",
            "Epoch 4/10, Loss: 0.00158\n",
            "Epoch 5/10, Loss: 0.00155\n",
            "Epoch 6/10, Loss: 0.00153\n",
            "Epoch 7/10, Loss: 0.00152\n",
            "Epoch 8/10, Loss: 0.00151\n",
            "Epoch 9/10, Loss: 0.00150\n",
            "Epoch 10/10, Loss: 0.00149\n",
            "Training RBM with k=10\n",
            "Epoch 1/10, Loss: 0.00230\n",
            "Epoch 2/10, Loss: 0.00181\n",
            "Epoch 3/10, Loss: 0.00171\n",
            "Epoch 4/10, Loss: 0.00165\n",
            "Epoch 5/10, Loss: 0.00162\n",
            "Epoch 6/10, Loss: 0.00159\n",
            "Epoch 7/10, Loss: 0.00158\n",
            "Epoch 8/10, Loss: 0.00156\n",
            "Epoch 9/10, Loss: 0.00155\n",
            "Epoch 10/10, Loss: 0.00154\n"
          ]
        }
      ]
    },
    {
      "cell_type": "markdown",
      "source": [
        "Evaluation for the normal model:"
      ],
      "metadata": {
        "id": "TUukKdxeLx7D"
      }
    },
    {
      "cell_type": "code",
      "source": [
        "# ارزیابی ماشین بولتزمن ساده\n",
        "\n",
        "def evaluate_rbm(rbm, data):\n",
        "    loss = 0\n",
        "    for i in range(0, len(data), 64):\n",
        "        batch = data[i:i+64]\n",
        "        v_neg = rbm.contrastive_divergence(batch, k=1)\n",
        "        loss += np.mean((batch - v_neg) ** 2)\n",
        "    avg_loss = loss / (len(data) / 64)\n",
        "    return avg_loss\n",
        "\n",
        "simple_losses = {}\n",
        "for k in k_values:\n",
        "    loss = evaluate_rbm(rbms[k], X_test_binary)\n",
        "    simple_losses[k] = loss\n",
        "    print(f\"Simple RBM with k={k} Test Loss: {loss:.5f}\")"
      ],
      "metadata": {
        "id": "nTs_QhhmL27i",
        "outputId": "643d416a-15e2-4e13-bf51-6bacc7a68921",
        "colab": {
          "base_uri": "https://localhost:8080/"
        }
      },
      "execution_count": 16,
      "outputs": [
        {
          "output_type": "stream",
          "name": "stdout",
          "text": [
            "Simple RBM with k=1 Test Loss: 0.09083\n",
            "Simple RBM with k=5 Test Loss: 0.08867\n",
            "Simple RBM with k=10 Test Loss: 0.08849\n"
          ]
        }
      ]
    },
    {
      "cell_type": "markdown",
      "source": [
        "The Secure Boltzman Machine:"
      ],
      "metadata": {
        "id": "lrbyHJ_mLsIR"
      }
    },
    {
      "cell_type": "code",
      "source": [
        "class SecureRBM:\n",
        "    def __init__(self, n_visible, n_hidden, learning_rate=0.1, p=467):\n",
        "        \"\"\"\n",
        "        سازنده کلاس SecureRBM.\n",
        "\n",
        "        پارامترها:\n",
        "        - n_visible: تعداد نورون‌های ورودی (معمولاً تعداد پیکسل‌های تصویر).\n",
        "        - n_hidden: تعداد نورون‌های لایه مخفی.\n",
        "        - learning_rate: نرخ یادگیری برای به‌روزرسانی وزن‌ها و بایاس‌ها.\n",
        "        - p: عدد اول برای الگوریتم رمزنگاری ElGamal.\n",
        "        \"\"\"\n",
        "        self.n_visible = n_visible\n",
        "        self.n_hidden = n_hidden\n",
        "        self.learning_rate = learning_rate\n",
        "        self.W = np.random.normal(0, 0.1, (n_visible, n_hidden))  # وزن‌ها\n",
        "        self.v_bias = np.zeros(n_visible)  # بایاس نورون‌های ورودی\n",
        "        self.h_bias = np.zeros(n_hidden)  # بایاس نورون‌های مخفی\n",
        "        self.p = p  # عدد اول برای ElGamal\n",
        "\n",
        "    def sigmoid(self, x):\n",
        "        \"\"\"\n",
        "        تابع سیگموید.\n",
        "        \"\"\"\n",
        "        return 1 / (1 + np.exp(-x))\n",
        "\n",
        "    def sample(self, prob):\n",
        "        \"\"\"\n",
        "        نمونه‌گیری باینری بر اساس احتمال داده شده.\n",
        "\n",
        "        پارامترها:\n",
        "        - prob: آرایه‌ای از احتمالات.\n",
        "\n",
        "        بازگشت:\n",
        "        - آرایه‌ای از نمونه‌های باینری (0 یا 1).\n",
        "        \"\"\"\n",
        "        return (np.random.uniform(size=prob.shape) < prob).astype(np.int32)\n",
        "\n",
        "    def generate_keys(self):\n",
        "        \"\"\"\n",
        "        تولید کلیدهای عمومی و خصوصی با استفاده از الگوریتم ElGamal.\n",
        "\n",
        "        بازگشت:\n",
        "        - public_key: یک تاپل شامل (p, g, y).\n",
        "        - private_key: کلید خصوصی x.\n",
        "        \"\"\"\n",
        "        g = random.randint(2, self.p - 2)\n",
        "        x = random.randint(1, self.p - 2)\n",
        "        y = pow(g, x, self.p)\n",
        "        return (self.p, g, y), x\n",
        "\n",
        "    def encrypt(self, public_key, message):\n",
        "        \"\"\"\n",
        "        رمزنگاری یک پیام با استفاده از کلید عمومی.\n",
        "\n",
        "        پارامترها:\n",
        "        - public_key: تاپل (p, g, y).\n",
        "        - message: پیام عددی برای رمزنگاری.\n",
        "\n",
        "        بازگشت:\n",
        "        - ciphertext: یک تاپل (c1, c2).\n",
        "        \"\"\"\n",
        "        p, g, y = public_key\n",
        "        k = random.randint(1, p - 2)\n",
        "        c1 = pow(g, k, p)\n",
        "        c2 = (message * pow(y, k, p)) % p\n",
        "        return (c1, c2)\n",
        "\n",
        "    def decrypt_partial(self, private_key, public_key, ciphertext):\n",
        "        \"\"\"\n",
        "        رمزگشایی جزئی یک پیام رمزنگاری شده با استفاده از کلید خصوصی.\n",
        "\n",
        "        پارامترها:\n",
        "        - private_key: کلید خصوصی x.\n",
        "        - public_key: تاپل (p, g, y).\n",
        "        - ciphertext: تاپل (c1, c2).\n",
        "\n",
        "        بازگشت:\n",
        "        - partially_decrypted: تاپل (c2, s) که در آن s = c1^x mod p.\n",
        "        \"\"\"\n",
        "        p, g, y = public_key\n",
        "        c1, c2 = ciphertext\n",
        "        s = pow(c1, private_key, p)\n",
        "        return (c2, s)\n",
        "\n",
        "    def decrypt_final(self, partially_decrypted, shared_secret, p):\n",
        "        \"\"\"\n",
        "        رمزگشایی نهایی یک پیام با استفاده از رمزگشایی جزئی و معکوس مقداری مشترک.\n",
        "\n",
        "        پارامترها:\n",
        "        - partially_decrypted: تاپل (c2, s).\n",
        "        - shared_secret: مقدار s.\n",
        "        - p: عدد اول p.\n",
        "\n",
        "        بازگشت:\n",
        "        - message: پیام اصلی بازگشایی شده.\n",
        "        \"\"\"\n",
        "        c2, s = partially_decrypted\n",
        "        s_inv = mod_inverse(s, p)\n",
        "        message = (c2 * s_inv) % p\n",
        "        return message\n",
        "\n",
        "    def sample_hidden_secure(self, v, public_key, private_key_a, random_r):\n",
        "        \"\"\"\n",
        "        نمونه‌گیری مخفی به صورت امن با استفاده از رمزنگاری ElGamal.\n",
        "\n",
        "        پارامترها:\n",
        "        - v: آرایه‌ای از نورون‌های ورودی.\n",
        "        - public_key: کلید عمومی.\n",
        "        - private_key_a: کلید خصوصی پارتی A.\n",
        "        - random_r: مقدار تصادفی برای امنیت بیشتر.\n",
        "\n",
        "        بازگشت:\n",
        "        - h_sample: نمونه‌گیری باینری نورون‌های مخفی.\n",
        "        \"\"\"\n",
        "        activation = np.dot(v, self.W) + self.h_bias  # محاسبه فعال‌سازی\n",
        "        activation_sum = activation.sum(axis=1)  # جمع فعال‌سازی‌ها برای هر نمونه\n",
        "        encrypted_activation = [self.encrypt(public_key, a) for a in activation_sum]  # رمزنگاری فعال‌سازی‌ها\n",
        "        decrypted = [self.decrypt_final(self.decrypt_partial(private_key_a, public_key, c), s, self.p)\n",
        "                     for c, s in encrypted_activation]  # رمزگشایی فعال‌سازی‌ها\n",
        "        final_activation = np.array(decrypted).reshape(-1, 1) - random_r  # اعمال مقدار تصادفی\n",
        "        p_h = self.sigmoid(final_activation)  # محاسبه احتمال\n",
        "        return self.sample(p_h)  # نمونه‌گیری باینری\n",
        "\n",
        "    def sample_visible_secure(self, h, public_key, private_key_a, random_r):\n",
        "        \"\"\"\n",
        "        نمونه‌گیری مرئی به صورت امن با استفاده از رمزنگاری ElGamal.\n",
        "\n",
        "        پارامترها:\n",
        "        - h: آرایه‌ای از نورون‌های مخفی.\n",
        "        - public_key: کلید عمومی.\n",
        "        - private_key_a: کلید خصوصی پارتی A.\n",
        "        - random_r: مقدار تصادفی برای امنیت بیشتر.\n",
        "\n",
        "        بازگشت:\n",
        "        - v_sample: نمونه‌گیری باینری نورون‌های مرئی.\n",
        "        \"\"\"\n",
        "        activation = np.dot(h, self.W.T) + self.v_bias  # محاسبه فعال‌سازی\n",
        "        activation_sum = activation.sum(axis=1)  # جمع فعال‌سازی‌ها برای هر نمونه\n",
        "        encrypted_activation = [self.encrypt(public_key, a) for a in activation_sum]  # رمزنگاری فعال‌سازی‌ها\n",
        "        decrypted = [self.decrypt_final(self.decrypt_partial(private_key_a, public_key, c), s, self.p)\n",
        "                     for c, s in encrypted_activation]  # رمزگشایی فعال‌سازی‌ها\n",
        "        final_activation = np.array(decrypted).reshape(-1, 1) - random_r  # اعمال مقدار تصادفی\n",
        "        p_v = self.sigmoid(final_activation)  # محاسبه احتمال\n",
        "        return self.sample(p_v)  # نمونه‌گیری باینری\n",
        "\n",
        "    def reconstruct(self, v, public_key_a, private_key_a, random_r):\n",
        "        \"\"\"\n",
        "        بازسازی داده‌های ورودی به صورت امن.\n",
        "\n",
        "        پارامترها:\n",
        "        - v: آرایه‌ای از نورون‌های ورودی.\n",
        "        - public_key_a: کلید عمومی پارتی A.\n",
        "        - private_key_a: کلید خصوصی پارتی A.\n",
        "        - random_r: مقدار تصادفی برای امنیت بیشتر.\n",
        "\n",
        "        بازگشت:\n",
        "        - v_recon: بازسازی داده‌های ورودی.\n",
        "        \"\"\"\n",
        "        h = self.sample_hidden_secure(v, public_key_a, private_key_a, random_r)  # نمونه‌گیری مخفی\n",
        "        v_recon = self.sample_visible_secure(h, public_key_a, private_key_a, random_r)  # نمونه‌گیری مرئی\n",
        "        return v_recon\n",
        "\n",
        "    def contrastive_divergence_secure(self, v, k, public_key_a, private_key_a, random_r):\n",
        "        \"\"\"\n",
        "        انجام روش Contrastive Divergence به صورت امن.\n",
        "\n",
        "        پارامترها:\n",
        "        - v: آرایه‌ای از نورون‌های ورودی.\n",
        "        - k: تعداد مراحل Gibbs Sampling.\n",
        "        - public_key_a: کلید عمومی پارتی A.\n",
        "        - private_key_a: کلید خصوصی پارتی A.\n",
        "        - random_r: مقدار تصادفی برای امنیت بیشتر.\n",
        "\n",
        "        بازگشت:\n",
        "        - v_neg: نمونه‌گیری منفی داده‌های ورودی.\n",
        "        \"\"\"\n",
        "        # مرحله مثبت\n",
        "        h_prob_0 = self.sigmoid(np.dot(v, self.W) + self.h_bias)\n",
        "        h_sample_0 = self.sample(h_prob_0)\n",
        "\n",
        "        # مرحله منفی\n",
        "        v_neg = v.copy()\n",
        "        for _ in range(k):\n",
        "            h_prob = self.sigmoid(np.dot(v_neg, self.W) + self.h_bias)\n",
        "            h_sample = self.sample(h_prob)\n",
        "            v_prob_neg = self.sigmoid(np.dot(h_sample, self.W.T) + self.v_bias)\n",
        "            v_neg = self.sample(v_prob_neg)\n",
        "\n",
        "        h_prob_neg = self.sigmoid(np.dot(v_neg, self.W) + self.h_bias)\n",
        "\n",
        "        # گرادیان مثبت و منفی\n",
        "        positive_grad = np.dot(v.T, h_prob_0)\n",
        "        negative_grad = np.dot(v_neg.T, h_prob_neg)\n",
        "\n",
        "        # به‌روزرسانی وزن‌ها و بایاس‌ها\n",
        "        batch_size = v.shape[0]\n",
        "        self.W += self.learning_rate * (positive_grad - negative_grad) / batch_size\n",
        "        self.v_bias += self.learning_rate * np.mean(v - v_neg, axis=0)\n",
        "        self.h_bias += self.learning_rate * np.mean(h_prob_0 - h_prob_neg, axis=0)\n",
        "\n",
        "        return v_neg\n",
        "\n",
        "    def train_secure(self, data, epochs=10, k=1, batch_size=64, public_key_a=None, private_key_a=None):\n",
        "        \"\"\"\n",
        "        آموزش مدل SecureRBM به صورت امن.\n",
        "\n",
        "        پارامترها:\n",
        "        - data: داده‌های آموزشی به صورت NumPy array.\n",
        "        - epochs: تعداد دورهای آموزش.\n",
        "        - k: تعداد مراحل Gibbs Sampling.\n",
        "        - batch_size: اندازه هر دسته داده.\n",
        "        - public_key_a: کلید عمومی پارتی A.\n",
        "        - private_key_a: کلید خصوصی پارتی A.\n",
        "        \"\"\"\n",
        "        for epoch in range(epochs):\n",
        "            np.random.shuffle(data)\n",
        "            epoch_loss = 0\n",
        "            for batch_start in range(0, len(data), batch_size):\n",
        "                batch = data[batch_start:batch_start + batch_size]\n",
        "                # تولید مقدار تصادفی r برای هر دسته\n",
        "                random_r = np.random.randint(1, self.p, size=(batch.shape[0], 1))\n",
        "                # بازسازی داده‌ها\n",
        "                v_recon = self.reconstruct(batch, public_key_a, private_key_a, random_r)\n",
        "                # محاسبه خطا\n",
        "                loss = np.mean((batch - v_recon) ** 2)\n",
        "                epoch_loss += loss\n",
        "                # به‌روزرسانی پارامترها با استفاده از Contrastive Divergence امن\n",
        "                self.contrastive_divergence_secure(batch, k, public_key_a, private_key_a, random_r)\n",
        "            avg_loss = epoch_loss / (len(data) / batch_size)\n",
        "            print(f\"Epoch {epoch + 1}/{epochs}, Secure Loss: {avg_loss:.5f}\")\n",
        "\n",
        "    def generate_samples(self, n_samples=10, k=1, public_key_a=None, private_key_a=None):\n",
        "        \"\"\"\n",
        "        تولید نمونه‌های جدید با استفاده از مدل آموزش‌دیده.\n",
        "\n",
        "        پارامترها:\n",
        "        - n_samples: تعداد نمونه‌های تولید شده.\n",
        "        - k: تعداد مراحل Gibbs Sampling برای هر نمونه.\n",
        "        - public_key_a: کلید عمومی پارتی A.\n",
        "        - private_key_a: کلید خصوصی پارتی A.\n",
        "\n",
        "        بازگشت:\n",
        "        - samples: آرایه‌ای از نمونه‌های تولید شده.\n",
        "        \"\"\"\n",
        "        samples = []\n",
        "        for _ in range(n_samples):\n",
        "            # شروع با یک حالت تصادفی برای نورون‌های ورودی\n",
        "            v = np.random.binomial(1, 0.5, self.n_visible).reshape(1, -1)\n",
        "            random_r = np.random.randint(1, self.p, size=(1, 1))\n",
        "            for _ in range(k):\n",
        "                h = self.sample_hidden_secure(v, public_key_a, private_key_a, random_r)\n",
        "                v = self.sample_visible_secure(h, public_key_a, private_key_a, random_r)\n",
        "            samples.append(v.flatten())\n",
        "        return np.array(samples)\n"
      ],
      "metadata": {
        "id": "BS5athsHLF_w"
      },
      "execution_count": 19,
      "outputs": []
    },
    {
      "cell_type": "markdown",
      "source": [
        "Training the Secure Model:"
      ],
      "metadata": {
        "id": "Dm5pL5zOLlUI"
      }
    },
    {
      "cell_type": "code",
      "source": [
        "# آموزش ماشین بولتزمن امن\n",
        "# تولید کلیدها برای پارتی A و B\n",
        "# ایجاد یک نمونه از SecureRBM\n",
        "secure_rbm = SecureRBM(n_visible, n_hidden, learning_rate=0.1, p=467)\n",
        "\n",
        "# تولید کلیدهای ElGamal برای پارتی A\n",
        "public_key_a, private_key_a = secure_rbm.generate_keys()\n",
        "\n",
        "# آموزش ماشین بولتزمن امن\n",
        "print(\"Training Secure RBM with k=1\")\n",
        "secure_rbm.train_secure(X_train_binary, epochs=10, k=1, batch_size=64,\n",
        "                        public_key_a=public_key_a, private_key_a=private_key_a)"
      ],
      "metadata": {
        "id": "S8AwQtpnLocx",
        "outputId": "5aaa36d3-6759-4393-b028-85257a06259c",
        "colab": {
          "base_uri": "https://localhost:8080/",
          "height": 356
        }
      },
      "execution_count": 21,
      "outputs": [
        {
          "output_type": "stream",
          "name": "stdout",
          "text": [
            "Training Secure RBM with k=1\n"
          ]
        },
        {
          "output_type": "error",
          "ename": "TypeError",
          "evalue": "cannot unpack non-iterable int object",
          "traceback": [
            "\u001b[0;31m---------------------------------------------------------------------------\u001b[0m",
            "\u001b[0;31mTypeError\u001b[0m                                 Traceback (most recent call last)",
            "\u001b[0;32m<ipython-input-21-7824439244c1>\u001b[0m in \u001b[0;36m<cell line: 0>\u001b[0;34m()\u001b[0m\n\u001b[1;32m      9\u001b[0m \u001b[0;31m# آموزش ماشین بولتزمن امن\u001b[0m\u001b[0;34m\u001b[0m\u001b[0;34m\u001b[0m\u001b[0m\n\u001b[1;32m     10\u001b[0m \u001b[0mprint\u001b[0m\u001b[0;34m(\u001b[0m\u001b[0;34m\"Training Secure RBM with k=1\"\u001b[0m\u001b[0;34m)\u001b[0m\u001b[0;34m\u001b[0m\u001b[0;34m\u001b[0m\u001b[0m\n\u001b[0;32m---> 11\u001b[0;31m secure_rbm.train_secure(X_train_binary, epochs=10, k=1, batch_size=64, \n\u001b[0m\u001b[1;32m     12\u001b[0m                         public_key_a=public_key_a, private_key_a=private_key_a)\n",
            "\u001b[0;32m<ipython-input-19-285d70976552>\u001b[0m in \u001b[0;36mtrain_secure\u001b[0;34m(self, data, epochs, k, batch_size, public_key_a, private_key_a)\u001b[0m\n\u001b[1;32m    221\u001b[0m                 \u001b[0mrandom_r\u001b[0m \u001b[0;34m=\u001b[0m \u001b[0mnp\u001b[0m\u001b[0;34m.\u001b[0m\u001b[0mrandom\u001b[0m\u001b[0;34m.\u001b[0m\u001b[0mrandint\u001b[0m\u001b[0;34m(\u001b[0m\u001b[0;36m1\u001b[0m\u001b[0;34m,\u001b[0m \u001b[0mself\u001b[0m\u001b[0;34m.\u001b[0m\u001b[0mp\u001b[0m\u001b[0;34m,\u001b[0m \u001b[0msize\u001b[0m\u001b[0;34m=\u001b[0m\u001b[0;34m(\u001b[0m\u001b[0mbatch\u001b[0m\u001b[0;34m.\u001b[0m\u001b[0mshape\u001b[0m\u001b[0;34m[\u001b[0m\u001b[0;36m0\u001b[0m\u001b[0;34m]\u001b[0m\u001b[0;34m,\u001b[0m \u001b[0;36m1\u001b[0m\u001b[0;34m)\u001b[0m\u001b[0;34m)\u001b[0m\u001b[0;34m\u001b[0m\u001b[0;34m\u001b[0m\u001b[0m\n\u001b[1;32m    222\u001b[0m                 \u001b[0;31m# بازسازی داده‌ها\u001b[0m\u001b[0;34m\u001b[0m\u001b[0;34m\u001b[0m\u001b[0m\n\u001b[0;32m--> 223\u001b[0;31m                 \u001b[0mv_recon\u001b[0m \u001b[0;34m=\u001b[0m \u001b[0mself\u001b[0m\u001b[0;34m.\u001b[0m\u001b[0mreconstruct\u001b[0m\u001b[0;34m(\u001b[0m\u001b[0mbatch\u001b[0m\u001b[0;34m,\u001b[0m \u001b[0mpublic_key_a\u001b[0m\u001b[0;34m,\u001b[0m \u001b[0mprivate_key_a\u001b[0m\u001b[0;34m,\u001b[0m \u001b[0mrandom_r\u001b[0m\u001b[0;34m)\u001b[0m\u001b[0;34m\u001b[0m\u001b[0;34m\u001b[0m\u001b[0m\n\u001b[0m\u001b[1;32m    224\u001b[0m                 \u001b[0;31m# محاسبه خطا\u001b[0m\u001b[0;34m\u001b[0m\u001b[0;34m\u001b[0m\u001b[0m\n\u001b[1;32m    225\u001b[0m                 \u001b[0mloss\u001b[0m \u001b[0;34m=\u001b[0m \u001b[0mnp\u001b[0m\u001b[0;34m.\u001b[0m\u001b[0mmean\u001b[0m\u001b[0;34m(\u001b[0m\u001b[0;34m(\u001b[0m\u001b[0mbatch\u001b[0m \u001b[0;34m-\u001b[0m \u001b[0mv_recon\u001b[0m\u001b[0;34m)\u001b[0m \u001b[0;34m**\u001b[0m \u001b[0;36m2\u001b[0m\u001b[0;34m)\u001b[0m\u001b[0;34m\u001b[0m\u001b[0;34m\u001b[0m\u001b[0m\n",
            "\u001b[0;32m<ipython-input-19-285d70976552>\u001b[0m in \u001b[0;36mreconstruct\u001b[0;34m(self, v, public_key_a, private_key_a, random_r)\u001b[0m\n\u001b[1;32m    157\u001b[0m         \u001b[0;34m-\u001b[0m \u001b[0mv_recon\u001b[0m\u001b[0;34m:\u001b[0m \u001b[0mبازسازی\u001b[0m \u001b[0mداده\u001b[0m\u001b[0;31m‌\u001b[0m\u001b[0mهای\u001b[0m \u001b[0mورودی\u001b[0m\u001b[0;34m.\u001b[0m\u001b[0;34m\u001b[0m\u001b[0;34m\u001b[0m\u001b[0m\n\u001b[1;32m    158\u001b[0m         \"\"\"\n\u001b[0;32m--> 159\u001b[0;31m         \u001b[0mh\u001b[0m \u001b[0;34m=\u001b[0m \u001b[0mself\u001b[0m\u001b[0;34m.\u001b[0m\u001b[0msample_hidden_secure\u001b[0m\u001b[0;34m(\u001b[0m\u001b[0mv\u001b[0m\u001b[0;34m,\u001b[0m \u001b[0mpublic_key_a\u001b[0m\u001b[0;34m,\u001b[0m \u001b[0mprivate_key_a\u001b[0m\u001b[0;34m,\u001b[0m \u001b[0mrandom_r\u001b[0m\u001b[0;34m)\u001b[0m  \u001b[0;31m# نمونه‌گیری مخفی\u001b[0m\u001b[0;34m\u001b[0m\u001b[0;34m\u001b[0m\u001b[0m\n\u001b[0m\u001b[1;32m    160\u001b[0m         \u001b[0mv_recon\u001b[0m \u001b[0;34m=\u001b[0m \u001b[0mself\u001b[0m\u001b[0;34m.\u001b[0m\u001b[0msample_visible_secure\u001b[0m\u001b[0;34m(\u001b[0m\u001b[0mh\u001b[0m\u001b[0;34m,\u001b[0m \u001b[0mpublic_key_a\u001b[0m\u001b[0;34m,\u001b[0m \u001b[0mprivate_key_a\u001b[0m\u001b[0;34m,\u001b[0m \u001b[0mrandom_r\u001b[0m\u001b[0;34m)\u001b[0m  \u001b[0;31m# نمونه‌گیری مرئی\u001b[0m\u001b[0;34m\u001b[0m\u001b[0;34m\u001b[0m\u001b[0m\n\u001b[1;32m    161\u001b[0m         \u001b[0;32mreturn\u001b[0m \u001b[0mv_recon\u001b[0m\u001b[0;34m\u001b[0m\u001b[0;34m\u001b[0m\u001b[0m\n",
            "\u001b[0;32m<ipython-input-19-285d70976552>\u001b[0m in \u001b[0;36msample_hidden_secure\u001b[0;34m(self, v, public_key, private_key_a, random_r)\u001b[0m\n\u001b[1;32m    116\u001b[0m         \u001b[0mactivation_sum\u001b[0m \u001b[0;34m=\u001b[0m \u001b[0mactivation\u001b[0m\u001b[0;34m.\u001b[0m\u001b[0msum\u001b[0m\u001b[0;34m(\u001b[0m\u001b[0maxis\u001b[0m\u001b[0;34m=\u001b[0m\u001b[0;36m1\u001b[0m\u001b[0;34m)\u001b[0m  \u001b[0;31m# جمع فعال‌سازی‌ها برای هر نمونه\u001b[0m\u001b[0;34m\u001b[0m\u001b[0;34m\u001b[0m\u001b[0m\n\u001b[1;32m    117\u001b[0m         \u001b[0mencrypted_activation\u001b[0m \u001b[0;34m=\u001b[0m \u001b[0;34m[\u001b[0m\u001b[0mself\u001b[0m\u001b[0;34m.\u001b[0m\u001b[0mencrypt\u001b[0m\u001b[0;34m(\u001b[0m\u001b[0mpublic_key\u001b[0m\u001b[0;34m,\u001b[0m \u001b[0ma\u001b[0m\u001b[0;34m)\u001b[0m \u001b[0;32mfor\u001b[0m \u001b[0ma\u001b[0m \u001b[0;32min\u001b[0m \u001b[0mactivation_sum\u001b[0m\u001b[0;34m]\u001b[0m  \u001b[0;31m# رمزنگاری فعال‌سازی‌ها\u001b[0m\u001b[0;34m\u001b[0m\u001b[0;34m\u001b[0m\u001b[0m\n\u001b[0;32m--> 118\u001b[0;31m         decrypted = [self.decrypt_final(self.decrypt_partial(private_key_a, public_key, c), s, self.p) \n\u001b[0m\u001b[1;32m    119\u001b[0m                      for c, s in encrypted_activation]  # رمزگشایی فعال‌سازی‌ها\n\u001b[1;32m    120\u001b[0m         \u001b[0mfinal_activation\u001b[0m \u001b[0;34m=\u001b[0m \u001b[0mnp\u001b[0m\u001b[0;34m.\u001b[0m\u001b[0marray\u001b[0m\u001b[0;34m(\u001b[0m\u001b[0mdecrypted\u001b[0m\u001b[0;34m)\u001b[0m\u001b[0;34m.\u001b[0m\u001b[0mreshape\u001b[0m\u001b[0;34m(\u001b[0m\u001b[0;34m-\u001b[0m\u001b[0;36m1\u001b[0m\u001b[0;34m,\u001b[0m \u001b[0;36m1\u001b[0m\u001b[0;34m)\u001b[0m \u001b[0;34m-\u001b[0m \u001b[0mrandom_r\u001b[0m  \u001b[0;31m# اعمال مقدار تصادفی\u001b[0m\u001b[0;34m\u001b[0m\u001b[0;34m\u001b[0m\u001b[0m\n",
            "\u001b[0;32m<ipython-input-19-285d70976552>\u001b[0m in \u001b[0;36m<listcomp>\u001b[0;34m(.0)\u001b[0m\n\u001b[1;32m    116\u001b[0m         \u001b[0mactivation_sum\u001b[0m \u001b[0;34m=\u001b[0m \u001b[0mactivation\u001b[0m\u001b[0;34m.\u001b[0m\u001b[0msum\u001b[0m\u001b[0;34m(\u001b[0m\u001b[0maxis\u001b[0m\u001b[0;34m=\u001b[0m\u001b[0;36m1\u001b[0m\u001b[0;34m)\u001b[0m  \u001b[0;31m# جمع فعال‌سازی‌ها برای هر نمونه\u001b[0m\u001b[0;34m\u001b[0m\u001b[0;34m\u001b[0m\u001b[0m\n\u001b[1;32m    117\u001b[0m         \u001b[0mencrypted_activation\u001b[0m \u001b[0;34m=\u001b[0m \u001b[0;34m[\u001b[0m\u001b[0mself\u001b[0m\u001b[0;34m.\u001b[0m\u001b[0mencrypt\u001b[0m\u001b[0;34m(\u001b[0m\u001b[0mpublic_key\u001b[0m\u001b[0;34m,\u001b[0m \u001b[0ma\u001b[0m\u001b[0;34m)\u001b[0m \u001b[0;32mfor\u001b[0m \u001b[0ma\u001b[0m \u001b[0;32min\u001b[0m \u001b[0mactivation_sum\u001b[0m\u001b[0;34m]\u001b[0m  \u001b[0;31m# رمزنگاری فعال‌سازی‌ها\u001b[0m\u001b[0;34m\u001b[0m\u001b[0;34m\u001b[0m\u001b[0m\n\u001b[0;32m--> 118\u001b[0;31m         decrypted = [self.decrypt_final(self.decrypt_partial(private_key_a, public_key, c), s, self.p) \n\u001b[0m\u001b[1;32m    119\u001b[0m                      for c, s in encrypted_activation]  # رمزگشایی فعال‌سازی‌ها\n\u001b[1;32m    120\u001b[0m         \u001b[0mfinal_activation\u001b[0m \u001b[0;34m=\u001b[0m \u001b[0mnp\u001b[0m\u001b[0;34m.\u001b[0m\u001b[0marray\u001b[0m\u001b[0;34m(\u001b[0m\u001b[0mdecrypted\u001b[0m\u001b[0;34m)\u001b[0m\u001b[0;34m.\u001b[0m\u001b[0mreshape\u001b[0m\u001b[0;34m(\u001b[0m\u001b[0;34m-\u001b[0m\u001b[0;36m1\u001b[0m\u001b[0;34m,\u001b[0m \u001b[0;36m1\u001b[0m\u001b[0;34m)\u001b[0m \u001b[0;34m-\u001b[0m \u001b[0mrandom_r\u001b[0m  \u001b[0;31m# اعمال مقدار تصادفی\u001b[0m\u001b[0;34m\u001b[0m\u001b[0;34m\u001b[0m\u001b[0m\n",
            "\u001b[0;32m<ipython-input-19-285d70976552>\u001b[0m in \u001b[0;36mdecrypt_partial\u001b[0;34m(self, private_key, public_key, ciphertext)\u001b[0m\n\u001b[1;32m     79\u001b[0m         \"\"\"\n\u001b[1;32m     80\u001b[0m         \u001b[0mp\u001b[0m\u001b[0;34m,\u001b[0m \u001b[0mg\u001b[0m\u001b[0;34m,\u001b[0m \u001b[0my\u001b[0m \u001b[0;34m=\u001b[0m \u001b[0mpublic_key\u001b[0m\u001b[0;34m\u001b[0m\u001b[0;34m\u001b[0m\u001b[0m\n\u001b[0;32m---> 81\u001b[0;31m         \u001b[0mc1\u001b[0m\u001b[0;34m,\u001b[0m \u001b[0mc2\u001b[0m \u001b[0;34m=\u001b[0m \u001b[0mciphertext\u001b[0m\u001b[0;34m\u001b[0m\u001b[0;34m\u001b[0m\u001b[0m\n\u001b[0m\u001b[1;32m     82\u001b[0m         \u001b[0ms\u001b[0m \u001b[0;34m=\u001b[0m \u001b[0mpow\u001b[0m\u001b[0;34m(\u001b[0m\u001b[0mc1\u001b[0m\u001b[0;34m,\u001b[0m \u001b[0mprivate_key\u001b[0m\u001b[0;34m,\u001b[0m \u001b[0mp\u001b[0m\u001b[0;34m)\u001b[0m\u001b[0;34m\u001b[0m\u001b[0;34m\u001b[0m\u001b[0m\n\u001b[1;32m     83\u001b[0m         \u001b[0;32mreturn\u001b[0m \u001b[0;34m(\u001b[0m\u001b[0mc2\u001b[0m\u001b[0;34m,\u001b[0m \u001b[0ms\u001b[0m\u001b[0;34m)\u001b[0m\u001b[0;34m\u001b[0m\u001b[0;34m\u001b[0m\u001b[0m\n",
            "\u001b[0;31mTypeError\u001b[0m: cannot unpack non-iterable int object"
          ]
        }
      ]
    },
    {
      "cell_type": "markdown",
      "source": [
        "Evaluating the secure model:"
      ],
      "metadata": {
        "id": "yhRBFpDPL787"
      }
    },
    {
      "cell_type": "code",
      "source": [
        "# ارزیابی ماشین بولتزمن امن\n",
        "def evaluate_secure_rbm(secure_rbm, data, public_key_a, private_key_a, public_key_b, private_key_b, batch_size=64):\n",
        "    loss = 0.0\n",
        "    num_batches = len(data) // batch_size\n",
        "    for i in range(0, len(data), batch_size):\n",
        "        batch = data[i:i+batch_size]\n",
        "        # ایجاد یک مقدار تصادفی r برای هر دسته\n",
        "        random_r = np.random.randint(1, secure_rbm.p, size=(batch.shape[0], 1))\n",
        "\n",
        "        # بازسازی داده‌ها با استفاده از متدهای امن\n",
        "        v_recon = secure_rbm.reconstruct(batch, public_key_a, private_key_a, public_key_b, private_key_b, random_r)\n",
        "\n",
        "        # محاسبه خطا بین داده‌های اصلی و بازسازی شده\n",
        "        loss += np.mean((batch - v_recon) ** 2)\n",
        "\n",
        "    avg_loss = loss / num_batches\n",
        "    return avg_loss\n",
        "\n",
        "# ارزیابی ماشین بولتزمن امن\n",
        "secure_loss = evaluate_secure_rbm(\n",
        "    secure_rbm,\n",
        "    X_test_binary,\n",
        "    public_key_a,\n",
        "    private_key_a,\n",
        "    public_key_b,\n",
        "    private_key_b,\n",
        "    batch_size=64\n",
        ")\n",
        "print(f\"Secure RBM Test Loss: {secure_loss:.5f}\")"
      ],
      "metadata": {
        "id": "muv4Bq4uL7PW",
        "outputId": "1e1a90c9-99ac-41f7-9c97-317973bac352",
        "colab": {
          "base_uri": "https://localhost:8080/",
          "height": 297
        }
      },
      "execution_count": 18,
      "outputs": [
        {
          "output_type": "error",
          "ename": "AttributeError",
          "evalue": "'SecureRBM' object has no attribute 'contrastive_divergence'",
          "traceback": [
            "\u001b[0;31m---------------------------------------------------------------------------\u001b[0m",
            "\u001b[0;31mAttributeError\u001b[0m                            Traceback (most recent call last)",
            "\u001b[0;32m<ipython-input-18-5a2c34ef029c>\u001b[0m in \u001b[0;36m<cell line: 0>\u001b[0;34m()\u001b[0m\n\u001b[1;32m      1\u001b[0m \u001b[0;31m# ارزیابی ماشین بولتزمن امن\u001b[0m\u001b[0;34m\u001b[0m\u001b[0;34m\u001b[0m\u001b[0m\n\u001b[0;32m----> 2\u001b[0;31m \u001b[0msecure_loss\u001b[0m \u001b[0;34m=\u001b[0m \u001b[0mevaluate_rbm\u001b[0m\u001b[0;34m(\u001b[0m\u001b[0msecure_rbm\u001b[0m\u001b[0;34m,\u001b[0m \u001b[0mX_test_binary\u001b[0m\u001b[0;34m)\u001b[0m\u001b[0;34m\u001b[0m\u001b[0;34m\u001b[0m\u001b[0m\n\u001b[0m\u001b[1;32m      3\u001b[0m \u001b[0mprint\u001b[0m\u001b[0;34m(\u001b[0m\u001b[0;34mf\"Secure RBM Test Loss: {secure_loss:.5f}\"\u001b[0m\u001b[0;34m)\u001b[0m\u001b[0;34m\u001b[0m\u001b[0;34m\u001b[0m\u001b[0m\n",
            "\u001b[0;32m<ipython-input-16-2b113ab12e15>\u001b[0m in \u001b[0;36mevaluate_rbm\u001b[0;34m(rbm, data)\u001b[0m\n\u001b[1;32m      5\u001b[0m     \u001b[0;32mfor\u001b[0m \u001b[0mi\u001b[0m \u001b[0;32min\u001b[0m \u001b[0mrange\u001b[0m\u001b[0;34m(\u001b[0m\u001b[0;36m0\u001b[0m\u001b[0;34m,\u001b[0m \u001b[0mlen\u001b[0m\u001b[0;34m(\u001b[0m\u001b[0mdata\u001b[0m\u001b[0;34m)\u001b[0m\u001b[0;34m,\u001b[0m \u001b[0;36m64\u001b[0m\u001b[0;34m)\u001b[0m\u001b[0;34m:\u001b[0m\u001b[0;34m\u001b[0m\u001b[0;34m\u001b[0m\u001b[0m\n\u001b[1;32m      6\u001b[0m         \u001b[0mbatch\u001b[0m \u001b[0;34m=\u001b[0m \u001b[0mdata\u001b[0m\u001b[0;34m[\u001b[0m\u001b[0mi\u001b[0m\u001b[0;34m:\u001b[0m\u001b[0mi\u001b[0m\u001b[0;34m+\u001b[0m\u001b[0;36m64\u001b[0m\u001b[0;34m]\u001b[0m\u001b[0;34m\u001b[0m\u001b[0;34m\u001b[0m\u001b[0m\n\u001b[0;32m----> 7\u001b[0;31m         \u001b[0mv_neg\u001b[0m \u001b[0;34m=\u001b[0m \u001b[0mrbm\u001b[0m\u001b[0;34m.\u001b[0m\u001b[0mcontrastive_divergence\u001b[0m\u001b[0;34m(\u001b[0m\u001b[0mbatch\u001b[0m\u001b[0;34m,\u001b[0m \u001b[0mk\u001b[0m\u001b[0;34m=\u001b[0m\u001b[0;36m1\u001b[0m\u001b[0;34m)\u001b[0m\u001b[0;34m\u001b[0m\u001b[0;34m\u001b[0m\u001b[0m\n\u001b[0m\u001b[1;32m      8\u001b[0m         \u001b[0mloss\u001b[0m \u001b[0;34m+=\u001b[0m \u001b[0mnp\u001b[0m\u001b[0;34m.\u001b[0m\u001b[0mmean\u001b[0m\u001b[0;34m(\u001b[0m\u001b[0;34m(\u001b[0m\u001b[0mbatch\u001b[0m \u001b[0;34m-\u001b[0m \u001b[0mv_neg\u001b[0m\u001b[0;34m)\u001b[0m \u001b[0;34m**\u001b[0m \u001b[0;36m2\u001b[0m\u001b[0;34m)\u001b[0m\u001b[0;34m\u001b[0m\u001b[0;34m\u001b[0m\u001b[0m\n\u001b[1;32m      9\u001b[0m     \u001b[0mavg_loss\u001b[0m \u001b[0;34m=\u001b[0m \u001b[0mloss\u001b[0m \u001b[0;34m/\u001b[0m \u001b[0;34m(\u001b[0m\u001b[0mlen\u001b[0m\u001b[0;34m(\u001b[0m\u001b[0mdata\u001b[0m\u001b[0;34m)\u001b[0m \u001b[0;34m/\u001b[0m \u001b[0;36m64\u001b[0m\u001b[0;34m)\u001b[0m\u001b[0;34m\u001b[0m\u001b[0;34m\u001b[0m\u001b[0m\n",
            "\u001b[0;31mAttributeError\u001b[0m: 'SecureRBM' object has no attribute 'contrastive_divergence'"
          ]
        }
      ]
    },
    {
      "cell_type": "markdown",
      "source": [
        "Comparison:"
      ],
      "metadata": {
        "id": "G1UpSjguMCJr"
      }
    },
    {
      "cell_type": "code",
      "source": [
        "print(\"مقایسه عملکرد ماشین بولتزمن ساده و امن:\")\n",
        "print(f\"Simple RBM with k=1 Test Loss: {simple_losses[1]:.5f}\")\n",
        "print(f\"Simple RBM with k=5 Test Loss: {simple_losses[5]:.5f}\")\n",
        "print(f\"Simple RBM with k=10 Test Loss: {simple_losses[10]:.5f}\")\n",
        "print(f\"Secure RBM Test Loss: {secure_loss:.5f}\")"
      ],
      "metadata": {
        "id": "3Q6jIAtMMDI8"
      },
      "execution_count": null,
      "outputs": []
    }
  ]
}
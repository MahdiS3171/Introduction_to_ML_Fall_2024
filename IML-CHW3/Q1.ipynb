{
  "cells": [
    {
      "cell_type": "markdown",
      "metadata": {
        "id": "EcJRulXozayo"
      },
      "source": [
        "\n",
        "\n",
        "<br>\n",
        "<font>\n",
        "<div dir=ltr align=center>\n",
        "<img src=\"https://cdn.freebiesupply.com/logos/large/2x/sharif-logo-png-transparent.png\" width=150 height=150> <br>\n",
        "<font color=0F5298 size=7>\n",
        "Introduction to Machine Learning - 25732  <br>\n",
        "<font color=2565AE size=5>\n",
        "Department of Electrical Enginnering <br>\n",
        "Fall 2024<br>\n",
        "<font color=3C99D size=5>\n",
        "Dr. Mohammad Hossein Yassaee <br>\n",
        "<font color=696880 size=4>\n",
        "Zahra Maleki\n",
        "\n",
        "\n",
        "____\n",
        "\n"
      ]
    },
    {
      "cell_type": "markdown",
      "metadata": {
        "id": "BU2bsiHZzayr"
      },
      "source": [
        "\n",
        "### Information:\n",
        "\n",
        "1.   Full Name: Seyyed Amirmahdi Sadrzadeh\n",
        "2.   Student Number: 401102015\n",
        "\n",
        "---\n",
        "\n",
        "*I. You are just allowded to change those parts that start with \"TO DO\". Please do not change other parts.*\n",
        "\n",
        "*II. It is highly recommended to read each codeline carefully and try to understand what it exactly does.*\n",
        "\n",
        "*III. Do not copy codes completely from internet sources such as Chat-GPT or etc. If you are using any sources, please put its link in the beging of the block.*\n",
        "\n",
        "If you have any question you can contact related TAs:\n",
        " - Homeworks coordinator: @danialayati\n",
        " - This Notebook: @Rosebaekfany\n",
        "\n",
        " Best of luck and have fun!\n",
        "\n",
        "---"
      ]
    },
    {
      "cell_type": "markdown",
      "metadata": {
        "id": "NsLH59GYzays"
      },
      "source": [
        "## Introduction"
      ]
    },
    {
      "cell_type": "markdown",
      "metadata": {
        "id": "30taODumzays"
      },
      "source": [
        "## Fitting a function with *gradient descent*\n",
        "We'll be using *numpy* and *pytorch* for array calculations in this notebook.\n",
        "A neural network is just a mathematical function. In the most standard kind of neural network, the function:\n",
        "\n",
        "1. Multiplies each input by a number of values. These values are known as *parameters*\n",
        "1. Adds them up for each group of values\n",
        "1. Replaces the negative numbers with zeros\n",
        "\n",
        "This represents one \"layer\". Then these three steps are repeated, using the outputs of the previous layer as the inputs to the next layer. Initially, the parameters in this function are selected randomly. Therefore a newly created neural network doesn't do anything useful at all -- it's just random!\n",
        "\n",
        "To get the function to \"learn\" to do something useful, we have to change the parameters to make them \"better\" in some way. We do this using *gradient descent*. Let's see how this works..."
      ]
    },
    {
      "cell_type": "code",
      "execution_count": 6,
      "metadata": {
        "id": "r2QRzqMozays"
      },
      "outputs": [],
      "source": [
        "from ipywidgets import interact\n",
        "from fastai.basics import *\n",
        "from functools import partial\n",
        "import torch\n",
        "import numpy\n",
        "\n",
        "plt.rc('figure', dpi=90)\n",
        "\n",
        "def plot_function(f, title=None, min=-2.1, max=2.1, color='r', ylim=None):\n",
        "    x = torch.linspace(min,max, 100)[:,None]\n",
        "    if ylim: plt.ylim(ylim)\n",
        "    plt.plot(x, f(x), color)\n",
        "    if title is not None: plt.title(title)"
      ]
    },
    {
      "cell_type": "markdown",
      "metadata": {
        "id": "uPNRbYoazayu"
      },
      "source": [
        "To learn how gradient descent works, we're going to start by fitting a quadratic, since that's a function most of us are probably more familiar with than a neural network. Here's the quadratic we're going to try to fit:\n",
        "\n",
        "Write a Python function that represents the quadratic equation \\( f(x) = 3x^2 + 2x + 1 \\), and then create a plot of this function labeled with its mathematical representation."
      ]
    },
    {
      "cell_type": "code",
      "execution_count": 11,
      "metadata": {
        "id": "kEX5YOqNzayu"
      },
      "outputs": [],
      "source": [
        "def my_quad(x):\n",
        "  return 3 * x**2 + 2 * x + 1"
      ]
    },
    {
      "cell_type": "markdown",
      "metadata": {
        "id": "zVpUOlvazayv"
      },
      "source": [
        "This quadratic is of the form $ax^2+bx+c$, with parameters $a=3$, $b=2$, $c=1$. To make it easier to try out different quadratics for fitting a model to the data we'll create, Now create a function that calculates the value of a point on any quadratic:"
      ]
    },
    {
      "cell_type": "code",
      "execution_count": 3,
      "metadata": {
        "id": "iIRKZ0xAzayv"
      },
      "outputs": [],
      "source": [
        "def any_quad(a, b, c, x):\n",
        "  return a * x**2 + b * x + c"
      ]
    },
    {
      "cell_type": "markdown",
      "metadata": {
        "id": "n_85MNOrzayv"
      },
      "source": [
        "If we fix some particular values of a, b, and c, then we'll have made a quadratic. To fix values passed to a function in python, we use the `partial` function, like so:"
      ]
    },
    {
      "cell_type": "code",
      "execution_count": 7,
      "metadata": {
        "id": "5bZj7IwJzayv"
      },
      "outputs": [],
      "source": [
        "def mk_quad(a,b,c):\n",
        "  return partial(any_quad, a, b, c)"
      ]
    },
    {
      "cell_type": "code",
      "execution_count": 5,
      "metadata": {
        "colab": {
          "base_uri": "https://localhost:8080/",
          "height": 389
        },
        "id": "aKL0TeTzzayv",
        "outputId": "7f56dfef-9445-489a-aa3a-f00a26ed9551"
      },
      "outputs": [
        {
          "output_type": "display_data",
          "data": {
            "text/plain": [
              "<Figure size 576x432 with 1 Axes>"
            ],
            "image/png": "[encoded data removed]"
          },
          "metadata": {}
        }
      ],
      "source": [
        "f2 = mk_quad(3,2,1)\n",
        "plot_function(f2)"
      ]
    },
    {
      "cell_type": "markdown",
      "metadata": {
        "id": "xQeF5CJPzayw"
      },
      "source": [
        "Now let's simulate making some noisy measurements of our quadratic `f`. We'll then use gradient descent to see if we can recreate the original function from the data.\n",
        "\n",
        "write down a couple of functions to add some random noise to data:"
      ]
    },
    {
      "cell_type": "code",
      "execution_count": 8,
      "metadata": {
        "id": "7Mvg1S0yzayw"
      },
      "outputs": [],
      "source": [
        "def noise(x, scale): return scale * torch.randn_like(x)\n",
        "def add_noise(x, mult, add): return x * (1 + noise(x, mult)) + noise(x, add)"
      ]
    },
    {
      "cell_type": "markdown",
      "metadata": {
        "id": "3CsjZSiQzayw"
      },
      "source": [
        "Let's use the now to create our noisy measurements based on the quadratic above:"
      ]
    },
    {
      "cell_type": "code",
      "execution_count": 19,
      "metadata": {
        "id": "gM0245sFzayw"
      },
      "outputs": [],
      "source": [
        "np.random.seed(42)\n",
        "\n",
        "x = torch.linspace(-2, 2, steps=20)[:,None]\n",
        "y = add_noise(my_quad(x), 0.15, 1.5)"
      ]
    },
    {
      "cell_type": "markdown",
      "metadata": {
        "id": "-yjVyhWuzayw"
      },
      "source": [
        "show the first few values of each of `x` and `y`:"
      ]
    },
    {
      "cell_type": "code",
      "execution_count": 20,
      "metadata": {
        "colab": {
          "base_uri": "https://localhost:8080/"
        },
        "id": "2P-hXBGezayx",
        "outputId": "ceb29087-a990-491a-91a9-12645e0c1474"
      },
      "outputs": [
        {
          "output_type": "stream",
          "name": "stdout",
          "text": [
            "First few values of x:\n",
            "tensor([[-2.0000],\n",
            "        [-1.7895],\n",
            "        [-1.5789],\n",
            "        [-1.3684],\n",
            "        [-1.1579]])\n",
            "\n",
            "First few values of y:\n",
            "tensor([[12.0112],\n",
            "        [ 8.6819],\n",
            "        [ 4.4412],\n",
            "        [ 4.6922],\n",
            "        [ 3.3947]])\n"
          ]
        }
      ],
      "source": [
        "print(\"First few values of x:\")\n",
        "print(x[:5])\n",
        "\n",
        "print(\"\\nFirst few values of y:\")\n",
        "print(y[:5])"
      ]
    },
    {
      "cell_type": "markdown",
      "metadata": {
        "id": "y2IMyJbSzayx"
      },
      "source": [
        "As you can see, they're *tensors*. A tensor is just like an `array` in numpy. Furthermore, PyTorch, which most researchers use for deep learning, is modeled closely on numpy.) A tensor can be a single number (a *scalar* or *rank-0 tensor*), a list of numbers (a *vector* or *rank-1 tensor*), a table of numbers (a *matrix* or *rank-2 tensor*), a table of tables of numbers (a *rank-3 tensor*), and so forth.\n",
        "\n",
        "We're not going to learn much about our data by just looking at the raw numbers, so let's draw a picture:"
      ]
    },
    {
      "cell_type": "code",
      "execution_count": 21,
      "metadata": {
        "colab": {
          "base_uri": "https://localhost:8080/",
          "height": 391
        },
        "id": "OFSq8YVPzayx",
        "outputId": "4c3c8eea-d65a-4c5b-9f25-e193f7a8b536"
      },
      "outputs": [
        {
          "output_type": "display_data",
          "data": {
            "text/plain": [
              "<Figure size 576x432 with 1 Axes>"
            ],
            "image/png": "[encoded data removed]"
          },
          "metadata": {}
        }
      ],
      "source": [
        "plt.scatter(x,y);"
      ]
    },
    {
      "cell_type": "markdown",
      "metadata": {
        "id": "HRkHmeRgzayx"
      },
      "source": [
        "How do we find values of a, b, and c which fit this data? One approach is to try a few values and see what fits. Here's a function which overlays a quadratic on top of our data, along with some sliders to change a, b, and c, and see how it looks:"
      ]
    },
    {
      "cell_type": "code",
      "execution_count": 22,
      "metadata": {
        "colab": {
          "base_uri": "https://localhost:8080/",
          "height": 522,
          "referenced_widgets": [
            "993ca857cd564134ab518b7ad939cc5d",
            "9c8886c94b9b412ca18167fa62232834",
            "76fd85751c124da6b62e11fe9d81ba8b",
            "81ece7e587e24a21b28f2d59eccd7529",
            "c4dbd23946614fc091ad82872a16a0fa",
            "2a5909adee1541bc91ff3420548572c4",
            "b88683a6f7654408b13af19a7d30be9d",
            "1ee62befa5f1462081a0bd8d84b11a14",
            "042cc1a64ad3471a9f00221f90f842d2",
            "223fb8cbaa40481a99b86e77ff927b85",
            "a9fb5f9f5b7a484488adb277165d5ca9",
            "17646d1a27a24b1a96c33a097d22816e",
            "d7da21bca834468a8dc49784cfab3a5f"
          ]
        },
        "id": "k12-lAy6zayy",
        "outputId": "659ccb69-d7d2-4467-be26-cc80e466defb"
      },
      "outputs": [
        {
          "output_type": "display_data",
          "data": {
            "text/plain": [
              "interactive(children=(FloatSlider(value=0.0, description='a', max=5.0, min=-5.0), FloatSlider(value=0.0, descr…"
            ],
            "application/vnd.jupyter.widget-view+json": {
              "version_major": 2,
              "version_minor": 0,
              "model_id": "993ca857cd564134ab518b7ad939cc5d"
            }
          },
          "metadata": {}
        }
      ],
      "source": [
        "@interact(a=(-5.0, 5.0, 0.1), b=(-5.0, 5.0, 0.1), c=(-5.0, 5.0, 0.1))\n",
        "def plot_quad(a, b, c):\n",
        "  f = any_quad(a, b, c, x)\n",
        "  plt.scatter(x, y, color='blue', alpha=0.5, label=\"Noisy Data\")\n",
        "  plt.plot(x, f, 'r', label=f\"Fitted Quadratic: {a}x^2 + {b}x + {c}\")\n",
        "  plt.title(\"Quadratic Fitting with Adjustable Parameters\")\n",
        "  plt.xlabel(\"x\")\n",
        "  plt.ylabel(\"f(x)\")\n",
        "  plt.axhline(0, color='black', linewidth=0.5)\n",
        "  plt.axvline(0, color='black', linewidth=0.5)\n",
        "  plt.grid(True)\n",
        "  plt.legend()\n",
        "  plt.show()"
      ]
    },
    {
      "cell_type": "markdown",
      "metadata": {
        "id": "e4GujmfGzayy"
      },
      "source": [
        "Try moving slider `a` a bit to the left. Does that look better or worse? How about if you move it a bit to the right? Find out which direction seems to improve the fit of the quadratic to the data, and move the slider a bit in that direction. Next, do the same for slider `b`: first figure out which direction improves the fit, then move it a bit in that direction. Then do the same for `c`.\n",
        "\n",
        "OK, now go back to slider `a` and repeat the process. Do it again for `b` and `c` as well.\n",
        "\n",
        "Did you notice that by going back and doing the sliders a second time that you were able to improve things a bit further? That's an important insight -- it's only after changing `b` and `c`, for instance, that you realise that `a` actually needs some adjustment based on those new values.\n",
        "\n",
        "One thing that's making this tricky is that we don't really have a great sense of whether our fit is really better or worse. It would be easier if we had a numeric measure of that. On easy metric we could use is *mean absolute error* -- which is the distance from each data point to the curve:"
      ]
    },
    {
      "cell_type": "markdown",
      "metadata": {
        "id": "CQWwEdDQzayy"
      },
      "source": [
        "Answer:\n",
        "\n",
        "We can see that by increaning the value of a, b and c at first, we get a better fit. But as a gets closer to 3.1, the increase in its value worsens the fit. and also when we settle for the a value, we change b and c again to get to the final fit."
      ]
    },
    {
      "cell_type": "code",
      "execution_count": 23,
      "metadata": {
        "id": "uf2VXmJKzayy"
      },
      "outputs": [],
      "source": [
        "def mae(preds, acts): return torch.mean(torch.abs(preds-acts))"
      ]
    },
    {
      "cell_type": "markdown",
      "metadata": {
        "id": "8uBUOHI0zayz"
      },
      "source": [
        "We'll update our interactive function to print this at the top for us.\n",
        "\n",
        "Use this to repeat the approach we took before to try to find the best fit, but this time just use the value of the metric to decide which direction to move each slider, and how far to move it.\n",
        "\n",
        "This time around, try doing it in the opposite order: `c`, then `b`, then `a`.\n",
        "\n",
        "You'll probably find that you have to go through the set of sliders a couple of times to get the best fit."
      ]
    },
    {
      "cell_type": "code",
      "execution_count": null,
      "metadata": {
        "id": "tVqt6ycCzayz"
      },
      "outputs": [],
      "source": [
        "@interact(...)\n",
        "def plot_quad(a, b, c):\n",
        "    f = mk_quad(a,b,c)\n",
        "    plt.scatter(x,y)\n",
        "    loss = mae(f, y)\n",
        "    plot_function(f, ylim=(-3,12), title=f\"MAE: {loss:.2f}\")"
      ]
    },
    {
      "cell_type": "markdown",
      "metadata": {
        "id": "uS4GoUzZzayz"
      },
      "source": [
        "In a modern neural network we'll often have tens of millions of parameters to fit, or more, and thousands or millions of data points to fit them to. We're not going to be able to do that by moving sliders around! We'll need to automate this process.\n",
        "\n",
        "Thankfully, that turns out to be pretty straightforward. We can use calculus to figure out, for each parameter, whether we should increase or decrease it.\n",
        "\n",
        "Uh oh, calculus! If you haven't touched calculus since school, you might be getting ready to run away at this point. But don't worry, we don't actually need much calculus at all. Just derivatives, which measure the rate of change of a function. We don't even need to calculate them ourselves, because the computer will do it for us!"
      ]
    },
    {
      "cell_type": "markdown",
      "metadata": {
        "id": "hfTKhvMbzayz"
      },
      "source": [
        "## Automating gradient descent\n",
        "The basic idea is this: if we know the *gradient* of our `mae()` function *with respect to* our parameters, `a`, `b`, and `c`, then that means we know how adjusting (for instance) `a` will change the value of `mae()`. If, say, `a` has a *negative* gradient, then we know that increasing `a` will decrease `mae()`. Then we know that's what we need to do, since we trying to make `mae()` as low as possible.\n",
        "\n",
        "So, we find the gradient of `mae()` for each of our parameters, and then adjust our parameters a bit in the *opposite* direction to the sign of the gradient.\n",
        "\n",
        "To do this, first we need a function that takes all the parameters `a`, `b`, and `c` as a single vector input, and returns the value `mae()` based on those parameters:"
      ]
    },
    {
      "cell_type": "code",
      "execution_count": null,
      "metadata": {
        "id": "EkaCYvjmzayz"
      },
      "outputs": [],
      "source": [
        "def quad_mae(params):\n",
        "    #code here"
      ]
    },
    {
      "cell_type": "code",
      "execution_count": null,
      "metadata": {
        "id": "HnxjG9twzay0"
      },
      "outputs": [],
      "source": [
        "quad_mae([1.1, 1.1, 1.1])"
      ]
    },
    {
      "cell_type": "markdown",
      "metadata": {
        "id": "QSkUQ6oMzay0"
      },
      "source": [
        "Yup, that's the same as the starting `mae()` we had in our plot before.\n",
        "\n",
        "We're first going to do exactly the same thing as we did manually -- pick some arbritrary starting point for our parameters. We'll put them all into a single tensor.\n",
        "\n",
        "To tell PyTorch that we want it to calculate gradients for these parameters.\n",
        "\n",
        "We can now calculate `mae()`. Generally, when doing gradient descent, the thing we're trying to minimise is called the *loss*:"
      ]
    },
    {
      "cell_type": "code",
      "execution_count": null,
      "metadata": {
        "id": "b6kUnE8fzay0"
      },
      "outputs": [],
      "source": [
        "#code here\n",
        "print(loss)"
      ]
    },
    {
      "cell_type": "markdown",
      "metadata": {
        "id": "ksRHaPTRzay0"
      },
      "source": [
        "Get PyTorch to now calculate the gradients.\n",
        "\n",
        "The gradients will be stored for us in an attribute called `grad`.\n"
      ]
    },
    {
      "cell_type": "code",
      "execution_count": null,
      "metadata": {
        "id": "Y6bqxqOrzay0"
      },
      "outputs": [],
      "source": [
        "#code here"
      ]
    },
    {
      "cell_type": "markdown",
      "metadata": {
        "id": "MqH6Mxg9zay0"
      },
      "source": [
        "According to these gradients, all our parameters are a little low. So let's increase them a bit. If we subtract the gradient, multiplied by a small number, that should improve them a bit."
      ]
    },
    {
      "cell_type": "code",
      "execution_count": null,
      "metadata": {
        "id": "FfWv9Wnnzay1"
      },
      "outputs": [],
      "source": [
        "#code here\n",
        "print(f'loss={loss:.2f}')"
      ]
    },
    {
      "cell_type": "markdown",
      "metadata": {
        "id": "7Z3tfNFOzay1"
      },
      "source": [
        "Yes, our loss has gone down!\n",
        "\n",
        "The \"small number\" we multiply is called the *learning rate*, and is the most important *hyper-parameter* to set when training a neural network.\n",
        "\n",
        "We can use a loop to do a few more iterations of this:"
      ]
    },
    {
      "cell_type": "code",
      "execution_count": null,
      "metadata": {
        "id": "I2HLwnGJzay1"
      },
      "outputs": [],
      "source": [
        "#code here"
      ]
    },
    {
      "cell_type": "markdown",
      "metadata": {
        "id": "0wqBD5-Azay1"
      },
      "source": [
        "As you can see, our loss keeps going down!\n",
        "\n",
        "If you keep running this loop for long enough however, you'll see that the loss eventually starts increasing for a while. That's because once the parameters get close to the correct answer, our parameter updates will jump right over the correct answer! To avoid this, we need to decrease our learning rate as we train. This is done using a *learning rate schedule*, and can be automated in most deep learning frameworks, such as fastai and PyTorch."
      ]
    },
    {
      "cell_type": "markdown",
      "metadata": {
        "id": "_wpfpsVOzay2"
      },
      "source": [
        "## How a neural network approximates any given function\n",
        "\n",
        "But neural nets are much more convenient and powerful than this example showed, because we can learn much more than just a quadratic with them. How does *that* work?\n",
        "\n",
        "\n",
        "The trick is that a neural network is a very expressive function. A neural network can approximate any computable function, given enough parameters. A \"computable function\" can cover just about anything you can imagine: understand and translate human speech; paint a picture; diagnose a disease from medical imaging; write an essay; etc...\n",
        "\n",
        "The way a neural network approximates a function actually turns out to be very simple. The key trick is to combine two extremely basic steps:\n",
        "\n",
        "1. Matrix multiplication, which is just multiplying things together and then adding them up\n",
        "1. The function $max(x,0)$, which simply replaces all negative numbers with zero.\n",
        "\n",
        "The combination of a linear function and this *max()* is called a *rectified linear function*."
      ]
    },
    {
      "cell_type": "code",
      "execution_count": null,
      "metadata": {
        "id": "Ok4Lqg79zay2"
      },
      "outputs": [],
      "source": [
        "def rectified_linear(m,b,x):\n",
        "    #code here"
      ]
    },
    {
      "cell_type": "code",
      "execution_count": null,
      "metadata": {
        "id": "AqHPxeQ2zay2"
      },
      "outputs": [],
      "source": [
        "plot_function(partial(rectified_linear, 1,1))"
      ]
    },
    {
      "cell_type": "markdown",
      "metadata": {
        "id": "Jc8eK_PDzay2"
      },
      "source": [
        "we can instead use `relu(x)`, which does exactly the same thing."
      ]
    },
    {
      "cell_type": "code",
      "execution_count": null,
      "metadata": {
        "id": "xiu-Qj95zay3"
      },
      "outputs": [],
      "source": [
        "def rectified_linear2(m,b,x): #code here\n",
        "plot_function(partial(rectified_linear2, 1,1))"
      ]
    },
    {
      "cell_type": "markdown",
      "metadata": {
        "id": "EbBa5yeMzay3"
      },
      "source": [
        "To understand how this function works, try using this interactive version to play around with the parameters `m` and `b`:"
      ]
    },
    {
      "cell_type": "code",
      "execution_count": null,
      "metadata": {
        "id": "BSEGsmTbzay3"
      },
      "outputs": [],
      "source": [
        "#code here"
      ]
    },
    {
      "cell_type": "markdown",
      "metadata": {
        "id": "Sxl1nziOzay3"
      },
      "source": [
        "As you see, `m` changes the slope, and `b` changes where the \"hook\" appears. This function doesn't do much on its own, but look what happens when we add two of them together:"
      ]
    },
    {
      "cell_type": "code",
      "execution_count": null,
      "metadata": {
        "id": "TrTKSv9Wzay3"
      },
      "outputs": [],
      "source": [
        "def double_relu(m1,b1,m2,b2,x):\n",
        "    return ...\n",
        "\n",
        "@interact(...)\n",
        "def plot_double_relu(m1, b1, m2, b2):\n",
        "    plot_function(partial(double_relu, m1,b1,m2,b2), ylim=(-1,6))"
      ]
    },
    {
      "cell_type": "markdown",
      "metadata": {
        "id": "Qz21MXXozay4"
      },
      "source": [
        "If you play around with that for a while, you notice something quite profound: with enough of these rectified linear functions added together, you could approximate any function with a single input, to whatever accuracy you like! Any time the function doesn't quite match, you can just add a few more additions to the mix to make it a bit closer. As an experiment, perhaps you'd like to try creating your own `plot_triple_relu` interactive function, and maybe even include the scatter plot of our data from before, to see how close you can get?\n",
        "\n",
        "This exact same approach can be expanded to functions of 2, 3, or more parameters."
      ]
    },
    {
      "cell_type": "code",
      "execution_count": null,
      "metadata": {
        "id": "WRXKobJfzay4"
      },
      "outputs": [],
      "source": [
        "#Bonus\n",
        "def plot_triple_relu():\n",
        "    ..."
      ]
    },
    {
      "cell_type": "markdown",
      "metadata": {
        "id": "gF3ke9XDzay4"
      },
      "source": [
        "Now put them all together and try to learn the best function that fits your generated data(x,y) using only nueral networks as best as you can.\n",
        "\n",
        "you will see in the future how best is actully defined!"
      ]
    },
    {
      "cell_type": "code",
      "execution_count": null,
      "metadata": {
        "id": "fA82NsPTzay4"
      },
      "outputs": [],
      "source": [
        "#code here"
      ]
    }
  ],
  "metadata": {
    "kernelspec": {
      "display_name": "Python 3",
      "language": "python",
      "name": "python3"
    },
    "language_info": {
      "codemirror_mode": {
        "name": "ipython",
        "version": 3
      },
      "file_extension": ".py",
      "mimetype": "text/x-python",
      "name": "python",
      "nbconvert_exporter": "python",
      "pygments_lexer": "ipython3",
      "version": "3.13.0"
    },
    "colab": {
      "provenance": []
    },
    "widgets": {
      "application/vnd.jupyter.widget-state+json": {
        "993ca857cd564134ab518b7ad939cc5d": {
          "model_module": "@jupyter-widgets/controls",
          "model_name": "VBoxModel",
          "model_module_version": "1.5.0",
          "state": {
            "_dom_classes": [
              "widget-interact"
            ],
            "_model_module": "@jupyter-widgets/controls",
            "_model_module_version": "1.5.0",
            "_model_name": "VBoxModel",
            "_view_count": null,
            "_view_module": "@jupyter-widgets/controls",
            "_view_module_version": "1.5.0",
            "_view_name": "VBoxView",
            "box_style": "",
            "children": [
              "IPY_MODEL_9c8886c94b9b412ca18167fa62232834",
              "IPY_MODEL_76fd85751c124da6b62e11fe9d81ba8b",
              "IPY_MODEL_81ece7e587e24a21b28f2d59eccd7529",
              "IPY_MODEL_c4dbd23946614fc091ad82872a16a0fa"
            ],
            "layout": "IPY_MODEL_2a5909adee1541bc91ff3420548572c4"
          }
        },
        "9c8886c94b9b412ca18167fa62232834": {
          "model_module": "@jupyter-widgets/controls",
          "model_name": "FloatSliderModel",
          "model_module_version": "1.5.0",
          "state": {
            "_dom_classes": [],
            "_model_module": "@jupyter-widgets/controls",
            "_model_module_version": "1.5.0",
            "_model_name": "FloatSliderModel",
            "_view_count": null,
            "_view_module": "@jupyter-widgets/controls",
            "_view_module_version": "1.5.0",
            "_view_name": "FloatSliderView",
            "continuous_update": true,
            "description": "a",
            "description_tooltip": null,
            "disabled": false,
            "layout": "IPY_MODEL_b88683a6f7654408b13af19a7d30be9d",
            "max": 5,
            "min": -5,
            "orientation": "horizontal",
            "readout": true,
            "readout_format": ".2f",
            "step": 0.1,
            "style": "IPY_MODEL_1ee62befa5f1462081a0bd8d84b11a14",
            "value": 3.2
          }
        },
        "76fd85751c124da6b62e11fe9d81ba8b": {
          "model_module": "@jupyter-widgets/controls",
          "model_name": "FloatSliderModel",
          "model_module_version": "1.5.0",
          "state": {
            "_dom_classes": [],
            "_model_module": "@jupyter-widgets/controls",
            "_model_module_version": "1.5.0",
            "_model_name": "FloatSliderModel",
            "_view_count": null,
            "_view_module": "@jupyter-widgets/controls",
            "_view_module_version": "1.5.0",
            "_view_name": "FloatSliderView",
            "continuous_update": true,
            "description": "b",
            "description_tooltip": null,
            "disabled": false,
            "layout": "IPY_MODEL_042cc1a64ad3471a9f00221f90f842d2",
            "max": 5,
            "min": -5,
            "orientation": "horizontal",
            "readout": true,
            "readout_format": ".2f",
            "step": 0.1,
            "style": "IPY_MODEL_223fb8cbaa40481a99b86e77ff927b85",
            "value": 1.8
          }
        },
        "81ece7e587e24a21b28f2d59eccd7529": {
          "model_module": "@jupyter-widgets/controls",
          "model_name": "FloatSliderModel",
          "model_module_version": "1.5.0",
          "state": {
            "_dom_classes": [],
            "_model_module": "@jupyter-widgets/controls",
            "_model_module_version": "1.5.0",
            "_model_name": "FloatSliderModel",
            "_view_count": null,
            "_view_module": "@jupyter-widgets/controls",
            "_view_module_version": "1.5.0",
            "_view_name": "FloatSliderView",
            "continuous_update": true,
            "description": "c",
            "description_tooltip": null,
            "disabled": false,
            "layout": "IPY_MODEL_a9fb5f9f5b7a484488adb277165d5ca9",
            "max": 5,
            "min": -5,
            "orientation": "horizontal",
            "readout": true,
            "readout_format": ".2f",
            "step": 0.1,
            "style": "IPY_MODEL_17646d1a27a24b1a96c33a097d22816e",
            "value": 0.6
          }
        },
        "c4dbd23946614fc091ad82872a16a0fa": {
          "model_module": "@jupyter-widgets/output",
          "model_name": "OutputModel",
          "model_module_version": "1.0.0",
          "state": {
            "_dom_classes": [],
            "_model_module": "@jupyter-widgets/output",
            "_model_module_version": "1.0.0",
            "_model_name": "OutputModel",
            "_view_count": null,
            "_view_module": "@jupyter-widgets/output",
            "_view_module_version": "1.0.0",
            "_view_name": "OutputView",
            "layout": "IPY_MODEL_d7da21bca834468a8dc49784cfab3a5f",
            "msg_id": "",
            "outputs": [
              {
                "output_type": "display_data",
                "data": {
                  "text/plain": "<Figure size 576x432 with 1 Axes>",
                  "image/png": "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\n"
                },
                "metadata": {}
              }
            ]
          }
        },
        "2a5909adee1541bc91ff3420548572c4": {
          "model_module": "@jupyter-widgets/base",
          "model_name": "LayoutModel",
          "model_module_version": "1.2.0",
          "state": {
            "_model_module": "@jupyter-widgets/base",
            "_model_module_version": "1.2.0",
            "_model_name": "LayoutModel",
            "_view_count": null,
            "_view_module": "@jupyter-widgets/base",
            "_view_module_version": "1.2.0",
            "_view_name": "LayoutView",
            "align_content": null,
            "align_items": null,
            "align_self": null,
            "border": null,
            "bottom": null,
            "display": null,
            "flex": null,
            "flex_flow": null,
            "grid_area": null,
            "grid_auto_columns": null,
            "grid_auto_flow": null,
            "grid_auto_rows": null,
            "grid_column": null,
            "grid_gap": null,
            "grid_row": null,
            "grid_template_areas": null,
            "grid_template_columns": null,
            "grid_template_rows": null,
            "height": null,
            "justify_content": null,
            "justify_items": null,
            "left": null,
            "margin": null,
            "max_height": null,
            "max_width": null,
            "min_height": null,
            "min_width": null,
            "object_fit": null,
            "object_position": null,
            "order": null,
            "overflow": null,
            "overflow_x": null,
            "overflow_y": null,
            "padding": null,
            "right": null,
            "top": null,
            "visibility": null,
            "width": null
          }
        },
        "b88683a6f7654408b13af19a7d30be9d": {
          "model_module": "@jupyter-widgets/base",
          "model_name": "LayoutModel",
          "model_module_version": "1.2.0",
          "state": {
            "_model_module": "@jupyter-widgets/base",
            "_model_module_version": "1.2.0",
            "_model_name": "LayoutModel",
            "_view_count": null,
            "_view_module": "@jupyter-widgets/base",
            "_view_module_version": "1.2.0",
            "_view_name": "LayoutView",
            "align_content": null,
            "align_items": null,
            "align_self": null,
            "border": null,
            "bottom": null,
            "display": null,
            "flex": null,
            "flex_flow": null,
            "grid_area": null,
            "grid_auto_columns": null,
            "grid_auto_flow": null,
            "grid_auto_rows": null,
            "grid_column": null,
            "grid_gap": null,
            "grid_row": null,
            "grid_template_areas": null,
            "grid_template_columns": null,
            "grid_template_rows": null,
            "height": null,
            "justify_content": null,
            "justify_items": null,
            "left": null,
            "margin": null,
            "max_height": null,
            "max_width": null,
            "min_height": null,
            "min_width": null,
            "object_fit": null,
            "object_position": null,
            "order": null,
            "overflow": null,
            "overflow_x": null,
            "overflow_y": null,
            "padding": null,
            "right": null,
            "top": null,
            "visibility": null,
            "width": null
          }
        },
        "1ee62befa5f1462081a0bd8d84b11a14": {
          "model_module": "@jupyter-widgets/controls",
          "model_name": "SliderStyleModel",
          "model_module_version": "1.5.0",
          "state": {
            "_model_module": "@jupyter-widgets/controls",
            "_model_module_version": "1.5.0",
            "_model_name": "SliderStyleModel",
            "_view_count": null,
            "_view_module": "@jupyter-widgets/base",
            "_view_module_version": "1.2.0",
            "_view_name": "StyleView",
            "description_width": "",
            "handle_color": null
          }
        },
        "042cc1a64ad3471a9f00221f90f842d2": {
          "model_module": "@jupyter-widgets/base",
          "model_name": "LayoutModel",
          "model_module_version": "1.2.0",
          "state": {
            "_model_module": "@jupyter-widgets/base",
            "_model_module_version": "1.2.0",
            "_model_name": "LayoutModel",
            "_view_count": null,
            "_view_module": "@jupyter-widgets/base",
            "_view_module_version": "1.2.0",
            "_view_name": "LayoutView",
            "align_content": null,
            "align_items": null,
            "align_self": null,
            "border": null,
            "bottom": null,
            "display": null,
            "flex": null,
            "flex_flow": null,
            "grid_area": null,
            "grid_auto_columns": null,
            "grid_auto_flow": null,
            "grid_auto_rows": null,
            "grid_column": null,
            "grid_gap": null,
            "grid_row": null,
            "grid_template_areas": null,
            "grid_template_columns": null,
            "grid_template_rows": null,
            "height": null,
            "justify_content": null,
            "justify_items": null,
            "left": null,
            "margin": null,
            "max_height": null,
            "max_width": null,
            "min_height": null,
            "min_width": null,
            "object_fit": null,
            "object_position": null,
            "order": null,
            "overflow": null,
            "overflow_x": null,
            "overflow_y": null,
            "padding": null,
            "right": null,
            "top": null,
            "visibility": null,
            "width": null
          }
        },
        "223fb8cbaa40481a99b86e77ff927b85": {
          "model_module": "@jupyter-widgets/controls",
          "model_name": "SliderStyleModel",
          "model_module_version": "1.5.0",
          "state": {
            "_model_module": "@jupyter-widgets/controls",
            "_model_module_version": "1.5.0",
            "_model_name": "SliderStyleModel",
            "_view_count": null,
            "_view_module": "@jupyter-widgets/base",
            "_view_module_version": "1.2.0",
            "_view_name": "StyleView",
            "description_width": "",
            "handle_color": null
          }
        },
        "a9fb5f9f5b7a484488adb277165d5ca9": {
          "model_module": "@jupyter-widgets/base",
          "model_name": "LayoutModel",
          "model_module_version": "1.2.0",
          "state": {
            "_model_module": "@jupyter-widgets/base",
            "_model_module_version": "1.2.0",
            "_model_name": "LayoutModel",
            "_view_count": null,
            "_view_module": "@jupyter-widgets/base",
            "_view_module_version": "1.2.0",
            "_view_name": "LayoutView",
            "align_content": null,
            "align_items": null,
            "align_self": null,
            "border": null,
            "bottom": null,
            "display": null,
            "flex": null,
            "flex_flow": null,
            "grid_area": null,
            "grid_auto_columns": null,
            "grid_auto_flow": null,
            "grid_auto_rows": null,
            "grid_column": null,
            "grid_gap": null,
            "grid_row": null,
            "grid_template_areas": null,
            "grid_template_columns": null,
            "grid_template_rows": null,
            "height": null,
            "justify_content": null,
            "justify_items": null,
            "left": null,
            "margin": null,
            "max_height": null,
            "max_width": null,
            "min_height": null,
            "min_width": null,
            "object_fit": null,
            "object_position": null,
            "order": null,
            "overflow": null,
            "overflow_x": null,
            "overflow_y": null,
            "padding": null,
            "right": null,
            "top": null,
            "visibility": null,
            "width": null
          }
        },
        "17646d1a27a24b1a96c33a097d22816e": {
          "model_module": "@jupyter-widgets/controls",
          "model_name": "SliderStyleModel",
          "model_module_version": "1.5.0",
          "state": {
            "_model_module": "@jupyter-widgets/controls",
            "_model_module_version": "1.5.0",
            "_model_name": "SliderStyleModel",
            "_view_count": null,
            "_view_module": "@jupyter-widgets/base",
            "_view_module_version": "1.2.0",
            "_view_name": "StyleView",
            "description_width": "",
            "handle_color": null
          }
        },
        "d7da21bca834468a8dc49784cfab3a5f": {
          "model_module": "@jupyter-widgets/base",
          "model_name": "LayoutModel",
          "model_module_version": "1.2.0",
          "state": {
            "_model_module": "@jupyter-widgets/base",
            "_model_module_version": "1.2.0",
            "_model_name": "LayoutModel",
            "_view_count": null,
            "_view_module": "@jupyter-widgets/base",
            "_view_module_version": "1.2.0",
            "_view_name": "LayoutView",
            "align_content": null,
            "align_items": null,
            "align_self": null,
            "border": null,
            "bottom": null,
            "display": null,
            "flex": null,
            "flex_flow": null,
            "grid_area": null,
            "grid_auto_columns": null,
            "grid_auto_flow": null,
            "grid_auto_rows": null,
            "grid_column": null,
            "grid_gap": null,
            "grid_row": null,
            "grid_template_areas": null,
            "grid_template_columns": null,
            "grid_template_rows": null,
            "height": null,
            "justify_content": null,
            "justify_items": null,
            "left": null,
            "margin": null,
            "max_height": null,
            "max_width": null,
            "min_height": null,
            "min_width": null,
            "object_fit": null,
            "object_position": null,
            "order": null,
            "overflow": null,
            "overflow_x": null,
            "overflow_y": null,
            "padding": null,
            "right": null,
            "top": null,
            "visibility": null,
            "width": null
          }
        }
      }
    }
  },
  "nbformat": 4,
  "nbformat_minor": 0
}
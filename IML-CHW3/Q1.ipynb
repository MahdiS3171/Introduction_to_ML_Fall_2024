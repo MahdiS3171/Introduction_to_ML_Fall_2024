{
  "cells": [
    {
      "cell_type": "markdown",
      "metadata": {
        "id": "EcJRulXozayo"
      },
      "source": [
        "\n",
        "\n",
        "<br>\n",
        "<font>\n",
        "<div dir=ltr align=center>\n",
        "<img src=\"https://cdn.freebiesupply.com/logos/large/2x/sharif-logo-png-transparent.png\" width=150 height=150> <br>\n",
        "<font color=0F5298 size=7>\n",
        "Introduction to Machine Learning - 25732  <br>\n",
        "<font color=2565AE size=5>\n",
        "Department of Electrical Enginnering <br>\n",
        "Fall 2024<br>\n",
        "<font color=3C99D size=5>\n",
        "Dr. Mohammad Hossein Yassaee <br>\n",
        "<font color=696880 size=4>\n",
        "Zahra Maleki\n",
        "\n",
        "\n",
        "____\n",
        "\n"
      ]
    },
    {
      "cell_type": "markdown",
      "metadata": {
        "id": "BU2bsiHZzayr"
      },
      "source": [
        "\n",
        "### Information:\n",
        "\n",
        "1.   Full Name: Seyyed Amirmahdi Sadrzadeh\n",
        "2.   Student Number: 401102015\n",
        "\n",
        "---\n",
        "\n",
        "*I. You are just allowded to change those parts that start with \"TO DO\". Please do not change other parts.*\n",
        "\n",
        "*II. It is highly recommended to read each codeline carefully and try to understand what it exactly does.*\n",
        "\n",
        "*III. Do not copy codes completely from internet sources such as Chat-GPT or etc. If you are using any sources, please put its link in the beging of the block.*\n",
        "\n",
        "If you have any question you can contact related TAs:\n",
        " - Homeworks coordinator: @danialayati\n",
        " - This Notebook: @Rosebaekfany\n",
        "\n",
        " Best of luck and have fun!\n",
        "\n",
        "---"
      ]
    },
    {
      "cell_type": "markdown",
      "metadata": {
        "id": "NsLH59GYzays"
      },
      "source": [
        "## Introduction"
      ]
    },
    {
      "cell_type": "markdown",
      "metadata": {
        "id": "30taODumzays"
      },
      "source": [
        "## Fitting a function with *gradient descent*\n",
        "We'll be using *numpy* and *pytorch* for array calculations in this notebook.\n",
        "A neural network is just a mathematical function. In the most standard kind of neural network, the function:\n",
        "\n",
        "1. Multiplies each input by a number of values. These values are known as *parameters*\n",
        "1. Adds them up for each group of values\n",
        "1. Replaces the negative numbers with zeros\n",
        "\n",
        "This represents one \"layer\". Then these three steps are repeated, using the outputs of the previous layer as the inputs to the next layer. Initially, the parameters in this function are selected randomly. Therefore a newly created neural network doesn't do anything useful at all -- it's just random!\n",
        "\n",
        "To get the function to \"learn\" to do something useful, we have to change the parameters to make them \"better\" in some way. We do this using *gradient descent*. Let's see how this works..."
      ]
    },
    {
      "cell_type": "code",
      "execution_count": 1,
      "metadata": {
        "id": "r2QRzqMozays"
      },
      "outputs": [],
      "source": [
        "from ipywidgets import interact\n",
        "from fastai.basics import *\n",
        "from functools import partial\n",
        "import torch\n",
        "import numpy\n",
        "\n",
        "plt.rc('figure', dpi=90)\n",
        "\n",
        "def plot_function(f, title=None, min=-2.1, max=2.1, color='r', ylim=None):\n",
        "    x = torch.linspace(min,max, 100)[:,None]\n",
        "    if ylim: plt.ylim(ylim)\n",
        "    plt.plot(x, f(x), color)\n",
        "    if title is not None: plt.title(title)"
      ]
    },
    {
      "cell_type": "markdown",
      "metadata": {
        "id": "uPNRbYoazayu"
      },
      "source": [
        "To learn how gradient descent works, we're going to start by fitting a quadratic, since that's a function most of us are probably more familiar with than a neural network. Here's the quadratic we're going to try to fit:\n",
        "\n",
        "Write a Python function that represents the quadratic equation \\( f(x) = 3x^2 + 2x + 1 \\), and then create a plot of this function labeled with its mathematical representation."
      ]
    },
    {
      "cell_type": "code",
      "execution_count": 2,
      "metadata": {
        "id": "kEX5YOqNzayu"
      },
      "outputs": [],
      "source": [
        "def my_quad(x):\n",
        "  return 3 * x**2 + 2 * x + 1"
      ]
    },
    {
      "cell_type": "markdown",
      "metadata": {
        "id": "zVpUOlvazayv"
      },
      "source": [
        "This quadratic is of the form $ax^2+bx+c$, with parameters $a=3$, $b=2$, $c=1$. To make it easier to try out different quadratics for fitting a model to the data we'll create, Now create a function that calculates the value of a point on any quadratic:"
      ]
    },
    {
      "cell_type": "code",
      "execution_count": 3,
      "metadata": {
        "id": "iIRKZ0xAzayv"
      },
      "outputs": [],
      "source": [
        "def any_quad(a, b, c, x):\n",
        "  return a * x**2 + b * x + c"
      ]
    },
    {
      "cell_type": "markdown",
      "metadata": {
        "id": "n_85MNOrzayv"
      },
      "source": [
        "If we fix some particular values of a, b, and c, then we'll have made a quadratic. To fix values passed to a function in python, we use the `partial` function, like so:"
      ]
    },
    {
      "cell_type": "code",
      "execution_count": 4,
      "metadata": {
        "id": "5bZj7IwJzayv"
      },
      "outputs": [],
      "source": [
        "def mk_quad(a,b,c):\n",
        "  return partial(any_quad, a, b, c)"
      ]
    },
    {
      "cell_type": "code",
      "execution_count": 5,
      "metadata": {
        "colab": {
          "base_uri": "https://localhost:8080/",
          "height": 389
        },
        "id": "aKL0TeTzzayv",
        "outputId": "6c9675a0-21ce-463d-df17-a3946dbe1d1f"
      },
      "outputs": [
        {
          "output_type": "display_data",
          "data": {
            "text/plain": [
              "<Figure size 576x432 with 1 Axes>"
            ],
            "image/png": "[encoded data removed]"
          },
          "metadata": {}
        }
      ],
      "source": [
        "f2 = mk_quad(3,2,1)\n",
        "plot_function(f2)"
      ]
    },
    {
      "cell_type": "markdown",
      "metadata": {
        "id": "xQeF5CJPzayw"
      },
      "source": [
        "Now let's simulate making some noisy measurements of our quadratic `f`. We'll then use gradient descent to see if we can recreate the original function from the data.\n",
        "\n",
        "write down a couple of functions to add some random noise to data:"
      ]
    },
    {
      "cell_type": "code",
      "execution_count": 6,
      "metadata": {
        "id": "7Mvg1S0yzayw"
      },
      "outputs": [],
      "source": [
        "def noise(x, scale): return scale * torch.randn_like(x)\n",
        "def add_noise(x, mult, add): return x * (1 + noise(x, mult)) + noise(x, add)"
      ]
    },
    {
      "cell_type": "markdown",
      "metadata": {
        "id": "3CsjZSiQzayw"
      },
      "source": [
        "Let's use the now to create our noisy measurements based on the quadratic above:"
      ]
    },
    {
      "cell_type": "code",
      "execution_count": 7,
      "metadata": {
        "id": "gM0245sFzayw"
      },
      "outputs": [],
      "source": [
        "np.random.seed(42)\n",
        "\n",
        "x = torch.linspace(-2, 2, steps=20)[:,None]\n",
        "y = add_noise(my_quad(x), 0.15, 1.5)"
      ]
    },
    {
      "cell_type": "markdown",
      "metadata": {
        "id": "-yjVyhWuzayw"
      },
      "source": [
        "show the first few values of each of `x` and `y`:"
      ]
    },
    {
      "cell_type": "code",
      "execution_count": 8,
      "metadata": {
        "colab": {
          "base_uri": "https://localhost:8080/"
        },
        "id": "2P-hXBGezayx",
        "outputId": "bbd8aea5-7b4f-4a73-fca1-b5188197ce49"
      },
      "outputs": [
        {
          "output_type": "stream",
          "name": "stdout",
          "text": [
            "First few values of x:\n",
            "tensor([[-2.0000],\n",
            "        [-1.7895],\n",
            "        [-1.5789],\n",
            "        [-1.3684],\n",
            "        [-1.1579]])\n",
            "\n",
            "First few values of y:\n",
            "tensor([[7.2925],\n",
            "        [7.4703],\n",
            "        [8.0163],\n",
            "        [1.7915],\n",
            "        [1.3224]])\n"
          ]
        }
      ],
      "source": [
        "print(\"First few values of x:\")\n",
        "print(x[:5])\n",
        "\n",
        "print(\"\\nFirst few values of y:\")\n",
        "print(y[:5])"
      ]
    },
    {
      "cell_type": "markdown",
      "metadata": {
        "id": "y2IMyJbSzayx"
      },
      "source": [
        "As you can see, they're *tensors*. A tensor is just like an `array` in numpy. Furthermore, PyTorch, which most researchers use for deep learning, is modeled closely on numpy.) A tensor can be a single number (a *scalar* or *rank-0 tensor*), a list of numbers (a *vector* or *rank-1 tensor*), a table of numbers (a *matrix* or *rank-2 tensor*), a table of tables of numbers (a *rank-3 tensor*), and so forth.\n",
        "\n",
        "We're not going to learn much about our data by just looking at the raw numbers, so let's draw a picture:"
      ]
    },
    {
      "cell_type": "code",
      "execution_count": 9,
      "metadata": {
        "colab": {
          "base_uri": "https://localhost:8080/",
          "height": 389
        },
        "id": "OFSq8YVPzayx",
        "outputId": "974f63f1-add2-490d-f388-899895770f6b"
      },
      "outputs": [
        {
          "output_type": "display_data",
          "data": {
            "text/plain": [
              "<Figure size 576x432 with 1 Axes>"
            ],
            "image/png": "[encoded data removed]"
          },
          "metadata": {}
        }
      ],
      "source": [
        "plt.scatter(x,y);"
      ]
    },
    {
      "cell_type": "markdown",
      "metadata": {
        "id": "HRkHmeRgzayx"
      },
      "source": [
        "How do we find values of a, b, and c which fit this data? One approach is to try a few values and see what fits. Here's a function which overlays a quadratic on top of our data, along with some sliders to change a, b, and c, and see how it looks:"
      ]
    },
    {
      "cell_type": "code",
      "execution_count": 10,
      "metadata": {
        "colab": {
          "base_uri": "https://localhost:8080/",
          "height": 522,
          "referenced_widgets": [
            "3505edc881f84bb9b96b1923ab83f4bc",
            "0ffe75e28c9d42cfad53b0b4cd03c0b5",
            "67f32cd71a4046c09660ce168339729b",
            "c947f71da08e4f70bc615928728f101a",
            "a7e67147880342c7a79f2e26726e4182",
            "be1fd68b21bb45aa8136be093491f679",
            "d1c33fef46d1440f83db93ab4393ae35",
            "9ec7793e8ef845949624d21b596f258c",
            "41aa598807ea4238a01cf797ddf32aae",
            "ebb96b0673f144ae9f406fd6460298cb",
            "4cd7003d1d534d7f9c8d2cb8676b4bd2",
            "bdfa93af43dd4815a6df32c2fc8f7c69",
            "74169b2940eb4eccaa401aa2ff52d70b"
          ]
        },
        "id": "k12-lAy6zayy",
        "outputId": "95778544-05b2-4cda-a944-c1bf4d2da501"
      },
      "outputs": [
        {
          "output_type": "display_data",
          "data": {
            "text/plain": [
              "interactive(children=(FloatSlider(value=0.0, description='a', max=5.0, min=-5.0), FloatSlider(value=0.0, descr…"
            ],
            "application/vnd.jupyter.widget-view+json": {
              "version_major": 2,
              "version_minor": 0,
              "model_id": "3505edc881f84bb9b96b1923ab83f4bc"
            }
          },
          "metadata": {}
        }
      ],
      "source": [
        "@interact(a=(-5.0, 5.0, 0.1), b=(-5.0, 5.0, 0.1), c=(-5.0, 5.0, 0.1))\n",
        "def plot_quad(a, b, c):\n",
        "  f = any_quad(a, b, c, x)\n",
        "  plt.scatter(x, y, color='blue', alpha=0.5, label=\"Noisy Data\")\n",
        "  plt.plot(x, f, 'r', label=f\"Fitted Quadratic: {a}x^2 + {b}x + {c}\")\n",
        "  plt.title(\"Quadratic Fitting with Adjustable Parameters\")\n",
        "  plt.xlabel(\"x\")\n",
        "  plt.ylabel(\"f(x)\")\n",
        "  plt.axhline(0, color='black', linewidth=0.5)\n",
        "  plt.axvline(0, color='black', linewidth=0.5)\n",
        "  plt.grid(True)\n",
        "  plt.legend()\n",
        "  plt.show()"
      ]
    },
    {
      "cell_type": "markdown",
      "metadata": {
        "id": "e4GujmfGzayy"
      },
      "source": [
        "Try moving slider `a` a bit to the left. Does that look better or worse? How about if you move it a bit to the right? Find out which direction seems to improve the fit of the quadratic to the data, and move the slider a bit in that direction. Next, do the same for slider `b`: first figure out which direction improves the fit, then move it a bit in that direction. Then do the same for `c`.\n",
        "\n",
        "OK, now go back to slider `a` and repeat the process. Do it again for `b` and `c` as well.\n",
        "\n",
        "Did you notice that by going back and doing the sliders a second time that you were able to improve things a bit further? That's an important insight -- it's only after changing `b` and `c`, for instance, that you realise that `a` actually needs some adjustment based on those new values.\n",
        "\n",
        "One thing that's making this tricky is that we don't really have a great sense of whether our fit is really better or worse. It would be easier if we had a numeric measure of that. On easy metric we could use is *mean absolute error* -- which is the distance from each data point to the curve:"
      ]
    },
    {
      "cell_type": "markdown",
      "metadata": {
        "id": "CQWwEdDQzayy"
      },
      "source": [
        "Answer:\n",
        "\n",
        "We can see that by increaning the value of a, b and c at first, we get a better fit. But as a gets closer to 3.1, the increase in its value worsens the fit. and also when we settle for the a value, we change b and c again to get to the final fit."
      ]
    },
    {
      "cell_type": "code",
      "execution_count": 11,
      "metadata": {
        "id": "uf2VXmJKzayy"
      },
      "outputs": [],
      "source": [
        "def mae(preds, acts): return torch.mean(torch.abs(preds-acts))"
      ]
    },
    {
      "cell_type": "markdown",
      "metadata": {
        "id": "8uBUOHI0zayz"
      },
      "source": [
        "We'll update our interactive function to print this at the top for us.\n",
        "\n",
        "Use this to repeat the approach we took before to try to find the best fit, but this time just use the value of the metric to decide which direction to move each slider, and how far to move it.\n",
        "\n",
        "This time around, try doing it in the opposite order: `c`, then `b`, then `a`.\n",
        "\n",
        "You'll probably find that you have to go through the set of sliders a couple of times to get the best fit."
      ]
    },
    {
      "cell_type": "code",
      "execution_count": 17,
      "metadata": {
        "id": "tVqt6ycCzayz",
        "colab": {
          "base_uri": "https://localhost:8080/",
          "height": 504,
          "referenced_widgets": [
            "924347e96b184eaeab3fb7e31f54f3fb",
            "75caea22aa7b45d0b4e91f06f1dfcc86",
            "900c94e04c2744be867746090d5b1c6b",
            "3a03402ab9494589830099cc0cc50b2a",
            "30bbbef1f90b495880d4d4f4bcc32286",
            "e1d7d3d101df4b769659d1341de1fb65",
            "0d96739ccfdb4c0187a90d9c6a8f0e51",
            "b26756c3d88e48ada559908d7d41ab6f",
            "225ca700982a4158b2852fec16f24f24",
            "ade3ee162ef74e79999ab1b35e8db04b",
            "cac01bc8db11428b90447a0e08047705",
            "757e1cf9dfe94ea39b185a1439512001",
            "c312ce33704145b48d8a51021fa7d0c1"
          ]
        },
        "outputId": "d5832262-bc2d-4c99-b83e-0f5fb3babfc0"
      },
      "outputs": [
        {
          "output_type": "display_data",
          "data": {
            "text/plain": [
              "interactive(children=(FloatSlider(value=0.0, description='a', max=5.0, min=-5.0), FloatSlider(value=0.0, descr…"
            ],
            "application/vnd.jupyter.widget-view+json": {
              "version_major": 2,
              "version_minor": 0,
              "model_id": "924347e96b184eaeab3fb7e31f54f3fb"
            }
          },
          "metadata": {}
        }
      ],
      "source": [
        "@interact(a=(-5.0, 5.0, 0.1), b=(-5.0, 5.0, 0.1), c=(-5.0, 5.0, 0.1))\n",
        "def plot_quad(a, b, c):\n",
        "    f = mk_quad(a,b,c)\n",
        "    plt.scatter(x,y)\n",
        "    loss = mae(f(x), y)\n",
        "    plot_function(f, ylim=(-3,12), title=f\"MAE: {loss:.2f}\")\n",
        "    plt.show()"
      ]
    },
    {
      "cell_type": "markdown",
      "metadata": {
        "id": "uS4GoUzZzayz"
      },
      "source": [
        "In a modern neural network we'll often have tens of millions of parameters to fit, or more, and thousands or millions of data points to fit them to. We're not going to be able to do that by moving sliders around! We'll need to automate this process.\n",
        "\n",
        "Thankfully, that turns out to be pretty straightforward. We can use calculus to figure out, for each parameter, whether we should increase or decrease it.\n",
        "\n",
        "Uh oh, calculus! If you haven't touched calculus since school, you might be getting ready to run away at this point. But don't worry, we don't actually need much calculus at all. Just derivatives, which measure the rate of change of a function. We don't even need to calculate them ourselves, because the computer will do it for us!"
      ]
    },
    {
      "cell_type": "markdown",
      "metadata": {
        "id": "hfTKhvMbzayz"
      },
      "source": [
        "## Automating gradient descent\n",
        "The basic idea is this: if we know the *gradient* of our `mae()` function *with respect to* our parameters, `a`, `b`, and `c`, then that means we know how adjusting (for instance) `a` will change the value of `mae()`. If, say, `a` has a *negative* gradient, then we know that increasing `a` will decrease `mae()`. Then we know that's what we need to do, since we trying to make `mae()` as low as possible.\n",
        "\n",
        "So, we find the gradient of `mae()` for each of our parameters, and then adjust our parameters a bit in the *opposite* direction to the sign of the gradient.\n",
        "\n",
        "To do this, first we need a function that takes all the parameters `a`, `b`, and `c` as a single vector input, and returns the value `mae()` based on those parameters:"
      ]
    },
    {
      "cell_type": "code",
      "execution_count": 18,
      "metadata": {
        "id": "EkaCYvjmzayz"
      },
      "outputs": [],
      "source": [
        "def quad_mae(params):\n",
        "    a, b, c = params\n",
        "    f = mk_quad(a, b, c)\n",
        "    preds = f(x)\n",
        "    return mae(preds, y)"
      ]
    },
    {
      "cell_type": "code",
      "execution_count": 19,
      "metadata": {
        "id": "HnxjG9twzay0",
        "colab": {
          "base_uri": "https://localhost:8080/"
        },
        "outputId": "5a57ce10-40d4-4f84-bb0c-a206b4ab8e43"
      },
      "outputs": [
        {
          "output_type": "execute_result",
          "data": {
            "text/plain": [
              "tensor(2.3623)"
            ]
          },
          "metadata": {},
          "execution_count": 19
        }
      ],
      "source": [
        "quad_mae([1.1, 1.1, 1.1])"
      ]
    },
    {
      "cell_type": "markdown",
      "metadata": {
        "id": "QSkUQ6oMzay0"
      },
      "source": [
        "Yup, that's the same as the starting `mae()` we had in our plot before.\n",
        "\n",
        "We're first going to do exactly the same thing as we did manually -- pick some arbritrary starting point for our parameters. We'll put them all into a single tensor.\n",
        "\n",
        "To tell PyTorch that we want it to calculate gradients for these parameters.\n",
        "\n",
        "We can now calculate `mae()`. Generally, when doing gradient descent, the thing we're trying to minimise is called the *loss*:"
      ]
    },
    {
      "cell_type": "code",
      "execution_count": 50,
      "metadata": {
        "id": "b6kUnE8fzay0",
        "colab": {
          "base_uri": "https://localhost:8080/"
        },
        "outputId": "b48f1248-13eb-4518-e0e7-ccba24eb088c"
      },
      "outputs": [
        {
          "output_type": "stream",
          "name": "stdout",
          "text": [
            "tensor(2.3623, grad_fn=<MeanBackward0>)\n"
          ]
        }
      ],
      "source": [
        "params = torch.tensor([1.1, 1.1, 1.1], requires_grad=True)\n",
        "loss = quad_mae(params)\n",
        "print(loss)"
      ]
    },
    {
      "cell_type": "markdown",
      "metadata": {
        "id": "ksRHaPTRzay0"
      },
      "source": [
        "Get PyTorch to now calculate the gradients.\n",
        "\n",
        "The gradients will be stored for us in an attribute called `grad`.\n"
      ]
    },
    {
      "cell_type": "code",
      "execution_count": 51,
      "metadata": {
        "id": "Y6bqxqOrzay0",
        "colab": {
          "base_uri": "https://localhost:8080/"
        },
        "outputId": "b5372bb5-4e3e-41b6-a427-13db08276751"
      },
      "outputs": [
        {
          "output_type": "execute_result",
          "data": {
            "text/plain": [
              "tensor([-1.3274,  0.1053, -0.6000])"
            ]
          },
          "metadata": {},
          "execution_count": 51
        }
      ],
      "source": [
        "loss.backward()\n",
        "params.grad"
      ]
    },
    {
      "cell_type": "markdown",
      "metadata": {
        "id": "MqH6Mxg9zay0"
      },
      "source": [
        "According to these gradients, all our parameters are a little low. So let's increase them a bit. If we subtract the gradient, multiplied by a small number, that should improve them a bit."
      ]
    },
    {
      "cell_type": "code",
      "execution_count": 52,
      "metadata": {
        "id": "FfWv9Wnnzay1",
        "colab": {
          "base_uri": "https://localhost:8080/"
        },
        "outputId": "0d2cd77e-874a-4930-9bf5-18085fb3c249"
      },
      "outputs": [
        {
          "output_type": "stream",
          "name": "stdout",
          "text": [
            "loss=2.19\n"
          ]
        }
      ],
      "source": [
        "eta = 0.1\n",
        "params.data -= eta * params.grad\n",
        "loss = quad_mae(params)\n",
        "print(f'loss={loss:.2f}')"
      ]
    },
    {
      "cell_type": "markdown",
      "metadata": {
        "id": "7Z3tfNFOzay1"
      },
      "source": [
        "Yes, our loss has gone down!\n",
        "\n",
        "The \"small number\" we multiply is called the *learning rate*, and is the most important *hyper-parameter* to set when training a neural network.\n",
        "\n",
        "We can use a loop to do a few more iterations of this:"
      ]
    },
    {
      "cell_type": "code",
      "execution_count": 53,
      "metadata": {
        "id": "I2HLwnGJzay1",
        "colab": {
          "base_uri": "https://localhost:8080/"
        },
        "outputId": "5792e38e-87ec-4ea2-bedb-6449bebf9cbb"
      },
      "outputs": [
        {
          "output_type": "stream",
          "name": "stdout",
          "text": [
            "Iteration 1: Loss = 2.1916, Parameters = [2.1302493 1.1442106 1.5200001]\n",
            "Iteration 2: Loss = 1.5754, Parameters = [2.208698  1.2494737 1.5600001]\n",
            "Iteration 3: Loss = 1.5345, Parameters = [2.233518  1.308421  1.5600001]\n",
            "Iteration 4: Loss = 1.5243, Parameters = [2.2583377 1.3673683 1.5600001]\n",
            "Iteration 5: Loss = 1.5141, Parameters = [2.2831576 1.4263157 1.5600001]\n",
            "Iteration 6: Loss = 1.5039, Parameters = [2.3079774 1.485263  1.5600001]\n",
            "Iteration 7: Loss = 1.4936, Parameters = [2.3327973 1.5442103 1.5600001]\n",
            "Iteration 8: Loss = 1.4834, Parameters = [2.3576171 1.6031576 1.5600001]\n",
            "Iteration 9: Loss = 1.4732, Parameters = [2.382437  1.662105  1.5600001]\n",
            "Iteration 10: Loss = 1.4629, Parameters = [2.4072568 1.7210523 1.5600001]\n",
            "Iteration 11: Loss = 1.4527, Parameters = [2.4320767 1.7799996 1.5600001]\n",
            "Iteration 12: Loss = 1.4426, Parameters = [2.4351792 1.8094733 1.5200001]\n",
            "Iteration 13: Loss = 1.4380, Parameters = [2.459999  1.8684206 1.5200001]\n",
            "Iteration 14: Loss = 1.4318, Parameters = [2.4631016 1.8978943 1.4800001]\n",
            "Iteration 15: Loss = 1.4256, Parameters = [2.4662042 1.9273679 1.4400002]\n",
            "Iteration 16: Loss = 1.4194, Parameters = [2.4693067 1.9568416 1.4000002]\n",
            "Iteration 17: Loss = 1.4141, Parameters = [2.4941266 2.015789  1.4000002]\n",
            "Iteration 18: Loss = 1.4147, Parameters = [2.422326  1.9905258 1.3200002]\n",
            "Iteration 19: Loss = 1.4385, Parameters = [2.607146  1.9694732 1.3600001]\n",
            "Iteration 20: Loss = 1.4302, Parameters = [2.4356225 1.8810521 1.2400001]\n"
          ]
        }
      ],
      "source": [
        "n_iterations = 20\n",
        "eta = 0.4\n",
        "\n",
        "for i in range(n_iterations):\n",
        "    loss = quad_mae(params)\n",
        "    loss.backward()\n",
        "    params.data -= eta * params.grad\n",
        "    params.grad.zero_()\n",
        "    print(f\"Iteration {i+1}: Loss = {loss.item():.4f}, Parameters = {params.detach().numpy()}\")"
      ]
    },
    {
      "cell_type": "markdown",
      "metadata": {
        "id": "0wqBD5-Azay1"
      },
      "source": [
        "As you can see, our loss keeps going down!\n",
        "\n",
        "If you keep running this loop for long enough however, you'll see that the loss eventually starts increasing for a while. That's because once the parameters get close to the correct answer, our parameter updates will jump right over the correct answer! To avoid this, we need to decrease our learning rate as we train. This is done using a *learning rate schedule*, and can be automated in most deep learning frameworks, such as fastai and PyTorch."
      ]
    },
    {
      "cell_type": "markdown",
      "metadata": {
        "id": "_wpfpsVOzay2"
      },
      "source": [
        "## How a neural network approximates any given function\n",
        "\n",
        "But neural nets are much more convenient and powerful than this example showed, because we can learn much more than just a quadratic with them. How does *that* work?\n",
        "\n",
        "\n",
        "The trick is that a neural network is a very expressive function. A neural network can approximate any computable function, given enough parameters. A \"computable function\" can cover just about anything you can imagine: understand and translate human speech; paint a picture; diagnose a disease from medical imaging; write an essay; etc...\n",
        "\n",
        "The way a neural network approximates a function actually turns out to be very simple. The key trick is to combine two extremely basic steps:\n",
        "\n",
        "1. Matrix multiplication, which is just multiplying things together and then adding them up\n",
        "1. The function $max(x,0)$, which simply replaces all negative numbers with zero.\n",
        "\n",
        "The combination of a linear function and this *max()* is called a *rectified linear function*."
      ]
    },
    {
      "cell_type": "code",
      "execution_count": 54,
      "metadata": {
        "id": "Ok4Lqg79zay2"
      },
      "outputs": [],
      "source": [
        "def rectified_linear(m,b,x):\n",
        "    return torch.max(m * x + b, torch.zeros_like(x))"
      ]
    },
    {
      "cell_type": "code",
      "execution_count": 55,
      "metadata": {
        "id": "AqHPxeQ2zay2",
        "colab": {
          "base_uri": "https://localhost:8080/",
          "height": 389
        },
        "outputId": "6ced1939-0cb2-4700-9af9-82f8ae7e679d"
      },
      "outputs": [
        {
          "output_type": "display_data",
          "data": {
            "text/plain": [
              "<Figure size 576x432 with 1 Axes>"
            ],
            "image/png": "[encoded data removed]"
          },
          "metadata": {}
        }
      ],
      "source": [
        "plot_function(partial(rectified_linear, 1,1))"
      ]
    },
    {
      "cell_type": "markdown",
      "metadata": {
        "id": "Jc8eK_PDzay2"
      },
      "source": [
        "we can instead use `relu(x)`, which does exactly the same thing."
      ]
    },
    {
      "cell_type": "code",
      "execution_count": 56,
      "metadata": {
        "id": "xiu-Qj95zay3",
        "colab": {
          "base_uri": "https://localhost:8080/",
          "height": 389
        },
        "outputId": "75fc2082-98d2-4109-dba8-3be0d76d1e0a"
      },
      "outputs": [
        {
          "output_type": "display_data",
          "data": {
            "text/plain": [
              "<Figure size 576x432 with 1 Axes>"
            ],
            "image/png": "[encoded data removed]"
          },
          "metadata": {}
        }
      ],
      "source": [
        "def rectified_linear2(m,b,x): return F.relu(m * x + b)\n",
        "plot_function(partial(rectified_linear2, 1,1))"
      ]
    },
    {
      "cell_type": "markdown",
      "metadata": {
        "id": "EbBa5yeMzay3"
      },
      "source": [
        "To understand how this function works, try using this interactive version to play around with the parameters `m` and `b`:"
      ]
    },
    {
      "cell_type": "code",
      "execution_count": 58,
      "metadata": {
        "id": "BSEGsmTbzay3",
        "colab": {
          "base_uri": "https://localhost:8080/",
          "height": 472,
          "referenced_widgets": [
            "72470fa5d316418992bdb60ae840a880",
            "3dbd8faf3a3e4f89969351d25ced5478",
            "188b3df3cb404730876ebe62334016ed",
            "022be7aeef404e17b398fddd876b9746",
            "077981d40b0e426c89b526900a0ea7bd",
            "001427bfdabf40cab44d2a3919c698c6",
            "b5ac2035b88b49b398216c35a84a0b2e",
            "59bbc929690946028ea19e64a01601ba",
            "bb355e6b0ec549c4a84080a9cc480d22",
            "9c8cf917745e4fc5a1adbd215003e444"
          ]
        },
        "outputId": "7c905a6c-8cfa-41df-f33d-e24ab7e66572"
      },
      "outputs": [
        {
          "output_type": "display_data",
          "data": {
            "text/plain": [
              "interactive(children=(FloatSlider(value=1.0, description='m', max=3.0, min=-3.0), FloatSlider(value=1.0, descr…"
            ],
            "application/vnd.jupyter.widget-view+json": {
              "version_major": 2,
              "version_minor": 0,
              "model_id": "72470fa5d316418992bdb60ae840a880"
            }
          },
          "metadata": {}
        }
      ],
      "source": [
        "@interact(m=(-3.0, 3.0, 0.1), b=(-3.0, 3.0, 0.1))\n",
        "\n",
        "def plot_rectified_linear(m=1.0, b=1.0):\n",
        "    plot_function(partial(rectified_linear2, m, b), title=f\"ReLU with m={m}, b={b}\")\n",
        "    plt.show()"
      ]
    },
    {
      "cell_type": "markdown",
      "metadata": {
        "id": "Sxl1nziOzay3"
      },
      "source": [
        "As you see, `m` changes the slope, and `b` changes where the \"hook\" appears. This function doesn't do much on its own, but look what happens when we add two of them together:"
      ]
    },
    {
      "cell_type": "code",
      "execution_count": 60,
      "metadata": {
        "id": "TrTKSv9Wzay3",
        "colab": {
          "base_uri": "https://localhost:8080/",
          "height": 522,
          "referenced_widgets": [
            "0d00f655a5604ad0b02b9f48cc7a24ee",
            "12d3524bc7dc4b529d24035c8b19b661",
            "9fc51c8159304996af39a253a0c219df",
            "e469031446c244848bbdd623e40060e6",
            "74b6a3ff5c7b4d028f643155fe3147a5",
            "1a875e6954b24bb89bb68b7afc96c60e",
            "47a627a641f041afafddaa9b18a7ac19",
            "12f445d4f88d4bd089a452c517bf0aa8",
            "e9ecd1ba868b4f17a618f3243ecb9e35",
            "23cf46617f7a4ed2ab1fd84bb1ac47a1",
            "1503f0f6b80542c2b60af4cb1540e896",
            "e5ec10ccffc4407eb47fca51c0910923",
            "1a9795da4e51491f98f2c72a38488ed8",
            "f1d0ec0387dd44da8180175021500311",
            "0ce387a6c97d44c69d434006a89c51b7",
            "960caa9cb2e44b67af9bdc437184be8a"
          ]
        },
        "outputId": "0cecaa9e-3ba5-4b1a-def4-0f481345b0e5"
      },
      "outputs": [
        {
          "output_type": "display_data",
          "data": {
            "text/plain": [
              "interactive(children=(FloatSlider(value=0.0, description='m1', max=3.0, min=-3.0), FloatSlider(value=0.0, desc…"
            ],
            "application/vnd.jupyter.widget-view+json": {
              "version_major": 2,
              "version_minor": 0,
              "model_id": "0d00f655a5604ad0b02b9f48cc7a24ee"
            }
          },
          "metadata": {}
        }
      ],
      "source": [
        "def double_relu(m1,b1,m2,b2,x):\n",
        "    return rectified_linear2(m1, b1, x) + rectified_linear2(m2, b2, x)\n",
        "\n",
        "@interact(m1=(-3.0, 3.0, 0.1), b1=(-3.0, 3.0, 0.1), m2=(-3.0, 3.0, 0.1), b2=(-3.0, 3.0, 0.1))\n",
        "def plot_double_relu(m1, b1, m2, b2):\n",
        "    plot_function(partial(double_relu, m1,b1,m2,b2), ylim=(-1,6))\n",
        "    plt.show()"
      ]
    },
    {
      "cell_type": "markdown",
      "metadata": {
        "id": "Qz21MXXozay4"
      },
      "source": [
        "If you play around with that for a while, you notice something quite profound: with enough of these rectified linear functions added together, you could approximate any function with a single input, to whatever accuracy you like! Any time the function doesn't quite match, you can just add a few more additions to the mix to make it a bit closer. As an experiment, perhaps you'd like to try creating your own `plot_triple_relu` interactive function, and maybe even include the scatter plot of our data from before, to see how close you can get?\n",
        "\n",
        "This exact same approach can be expanded to functions of 2, 3, or more parameters."
      ]
    },
    {
      "cell_type": "code",
      "execution_count": 62,
      "metadata": {
        "id": "WRXKobJfzay4",
        "colab": {
          "base_uri": "https://localhost:8080/",
          "height": 586,
          "referenced_widgets": [
            "0d857915a887464f98ce58fd5a1134e2",
            "bbb3df3ca6364a4c88a0f8e86da3f420",
            "c759ced8681d4798baf9d708e9eecc81",
            "0f6cf1c4b85a410987b3c9f91d868d18",
            "3556a524d78e4258b88d17e8adb682df",
            "360367dc71dc40899f3c58e9dcff1f79",
            "8eec05194fdb4638a5ec6488974ec22f",
            "56b4a0504faa40508df3909babd83bbc",
            "648d0162a2fd4b59a239468ca73b2ad1",
            "5821422365ed484d8df7861526d03fc4",
            "86575c76ad9a4ae9af70da99e7a81c33",
            "083afe2a342f447a8fd57342a74b63b2",
            "3ab3670d229e419fb4a35aa32dd84c74",
            "eaa40f8a0ded470fa8103301d000d602",
            "aa1abb6e4b2d41fdaeb0482d362d9a75",
            "cc555e56ec494d81b2172ce197408fe6",
            "1870b97ccc15484b879ec6fa99b0c8b3",
            "097e5b9c0bfc4ba7bb75a26c8cfa465a",
            "fdbadb0af085490683b86337ef6c08f2",
            "0a8f9ba99b604ca290dbea5aae0d91a3",
            "ee821ca2d9b146f897e01c2edf1a40fb",
            "c5cb8149d7d049a98fb2ba4006f1ff55"
          ]
        },
        "outputId": "a7d66a82-189c-4927-eaa1-a3d69392ba14"
      },
      "outputs": [
        {
          "output_type": "display_data",
          "data": {
            "text/plain": [
              "interactive(children=(FloatSlider(value=0.0, description='m1', max=3.0, min=-3.0), FloatSlider(value=0.0, desc…"
            ],
            "application/vnd.jupyter.widget-view+json": {
              "version_major": 2,
              "version_minor": 0,
              "model_id": "0d857915a887464f98ce58fd5a1134e2"
            }
          },
          "metadata": {}
        }
      ],
      "source": [
        "#Bonus\n",
        "def triple_relu(m1, b1, m2, b2, m3, b3, x):\n",
        "    return (rectified_linear2(m1, b1, x) + rectified_linear2(m2, b2, x) + rectified_linear2(m3, b3, x))\n",
        "\n",
        "@interact(\n",
        "    m1=(-3.0, 3.0, 0.1), b1=(-3.0, 3.0, 0.1),\n",
        "    m2=(-3.0, 3.0, 0.1), b2=(-3.0, 3.0, 0.1),\n",
        "    m3=(-3.0, 3.0, 0.1), b3=(-3.0, 3.0, 0.1)\n",
        ")\n",
        "def plot_triple_relu(m1, b1, m2, b2, m3, b3):\n",
        "    plt.scatter(x.numpy(), y.numpy(), label=\"Noisy Data\", color=\"blue\", alpha=0.6)\n",
        "    plot_function(partial(triple_relu, m1, b1, m2, b2, m3, b3), ylim=(-1,6))\n",
        "    plt.show()"
      ]
    },
    {
      "cell_type": "markdown",
      "metadata": {
        "id": "gF3ke9XDzay4"
      },
      "source": [
        "Now put them all together and try to learn the best function that fits your generated data(x,y) using only nueral networks as best as you can.\n",
        "\n",
        "you will see in the future how best is actully defined!"
      ]
    },
    {
      "cell_type": "code",
      "execution_count": 82,
      "metadata": {
        "id": "fA82NsPTzay4",
        "colab": {
          "base_uri": "https://localhost:8080/",
          "height": 1000
        },
        "outputId": "c7e14afc-3ce3-45d7-d435-51dc1821530d"
      },
      "outputs": [
        {
          "output_type": "stream",
          "name": "stdout",
          "text": [
            "Epoch 50/1000, Loss: 4.7550\n",
            "Epoch 100/1000, Loss: 4.0834\n",
            "Epoch 150/1000, Loss: 3.8471\n",
            "Epoch 200/1000, Loss: 3.6521\n",
            "Epoch 250/1000, Loss: 3.4525\n",
            "Epoch 300/1000, Loss: 3.2556\n",
            "Epoch 350/1000, Loss: 3.1693\n",
            "Epoch 400/1000, Loss: 3.1088\n",
            "Epoch 450/1000, Loss: 3.0625\n",
            "Epoch 500/1000, Loss: 3.0203\n",
            "Epoch 550/1000, Loss: 2.9801\n",
            "Epoch 600/1000, Loss: 2.9583\n",
            "Epoch 650/1000, Loss: 2.9410\n",
            "Epoch 700/1000, Loss: 2.9181\n",
            "Epoch 750/1000, Loss: 2.8874\n",
            "Epoch 800/1000, Loss: 2.8695\n",
            "Epoch 850/1000, Loss: 2.8619\n",
            "Epoch 900/1000, Loss: 2.8483\n",
            "Epoch 950/1000, Loss: 2.8396\n",
            "Epoch 1000/1000, Loss: 2.8373\n"
          ]
        },
        {
          "output_type": "display_data",
          "data": {
            "text/plain": [
              "<Figure size 900x450 with 1 Axes>"
            ],
            "image/png": "[encoded data removed]"
          },
          "metadata": {}
        },
        {
          "output_type": "display_data",
          "data": {
            "text/plain": [
              "<Figure size 900x450 with 1 Axes>"
            ],
            "image/png": "[encoded data removed]"
          },
          "metadata": {}
        }
      ],
      "source": [
        "import torch\n",
        "import torch.nn as nn\n",
        "import torch.optim as optim\n",
        "import matplotlib.pyplot as plt\n",
        "\n",
        "class SimpleNN(nn.Module):\n",
        "    def __init__(self):\n",
        "        super(SimpleNN, self).__init__()\n",
        "        self.hidden1 = nn.Linear(1, 20)   # 20 neurons in the first hidden layer\n",
        "        self.hidden2 = nn.Linear(20, 10)  # 10 neurons in the second hidden layer\n",
        "        self.output = nn.Linear(10, 1)    # Single output\n",
        "        self.relu = nn.ReLU()             # Activation function\n",
        "\n",
        "    def forward(self, x):\n",
        "        x = self.relu(self.hidden1(x))\n",
        "        x = self.relu(self.hidden2(x))\n",
        "        return self.output(x)\n",
        "\n",
        "# Initialize the model, loss function, and optimizer\n",
        "model = SimpleNN()\n",
        "loss_fn = nn.MSELoss()  # Mean Squared Error\n",
        "optimizer = optim.SGD(model.parameters(), lr=0.01)  # Stochastic Gradient Descent\n",
        "\n",
        "# Training loop\n",
        "epochs = 1000\n",
        "losses = []\n",
        "\n",
        "for epoch in range(epochs):\n",
        "    model.train()\n",
        "\n",
        "    # Forward pass\n",
        "    preds = model(x)\n",
        "    loss = loss_fn(preds, y)\n",
        "\n",
        "    # Backward pass\n",
        "    optimizer.zero_grad()\n",
        "    loss.backward()\n",
        "    optimizer.step()\n",
        "\n",
        "    # Log loss\n",
        "    losses.append(loss.item())\n",
        "    if (epoch + 1) % 50 == 0:\n",
        "        print(f\"Epoch {epoch+1}/{epochs}, Loss: {loss.item():.4f}\")\n",
        "\n",
        "# Plot the loss curve\n",
        "plt.figure(figsize=(10, 5))\n",
        "plt.plot(losses, label=\"Loss\")\n",
        "plt.xlabel(\"Epochs\")\n",
        "plt.ylabel(\"MSE Loss\")\n",
        "plt.title(\"Training Loss Curve\")\n",
        "plt.legend()\n",
        "plt.show()\n",
        "\n",
        "# Plot the final fit\n",
        "model.eval()\n",
        "with torch.no_grad():\n",
        "    x_plot = torch.linspace(-2, 2, steps=100).view(-1, 1)  # High-resolution input for smooth plot\n",
        "    y_plot = model(x_plot)\n",
        "\n",
        "plt.figure(figsize=(10, 5))\n",
        "plt.scatter(x.numpy(), y.numpy(), label=\"Noisy Data\", color=\"blue\", alpha=0.6)\n",
        "plt.plot(x_plot.numpy(), y_plot.numpy(), label=\"Neural Network Fit\", color=\"red\")\n",
        "plt.title(\"Neural Network Fit to Data\")\n",
        "plt.xlabel(\"x\")\n",
        "plt.ylabel(\"y\")\n",
        "plt.legend()\n",
        "plt.show()\n"
      ]
    }
  ],
  "metadata": {
    "kernelspec": {
      "display_name": "Python 3",
      "language": "python",
      "name": "python3"
    },
    "language_info": {
      "codemirror_mode": {
        "name": "ipython",
        "version": 3
      },
      "file_extension": ".py",
      "mimetype": "text/x-python",
      "name": "python",
      "nbconvert_exporter": "python",
      "pygments_lexer": "ipython3",
      "version": "3.13.0"
    },
    "colab": {
      "provenance": []
    },
    "widgets": {
      "application/vnd.jupyter.widget-state+json": {
        "3505edc881f84bb9b96b1923ab83f4bc": {
          "model_module": "@jupyter-widgets/controls",
          "model_name": "VBoxModel",
          "model_module_version": "1.5.0",
          "state": {
            "_dom_classes": [
              "widget-interact"
            ],
            "_model_module": "@jupyter-widgets/controls",
            "_model_module_version": "1.5.0",
            "_model_name": "VBoxModel",
            "_view_count": null,
            "_view_module": "@jupyter-widgets/controls",
            "_view_module_version": "1.5.0",
            "_view_name": "VBoxView",
            "box_style": "",
            "children": [
              "IPY_MODEL_0ffe75e28c9d42cfad53b0b4cd03c0b5",
              "IPY_MODEL_67f32cd71a4046c09660ce168339729b",
              "IPY_MODEL_c947f71da08e4f70bc615928728f101a",
              "IPY_MODEL_a7e67147880342c7a79f2e26726e4182"
            ],
            "layout": "IPY_MODEL_be1fd68b21bb45aa8136be093491f679"
          }
        },
        "0ffe75e28c9d42cfad53b0b4cd03c0b5": {
          "model_module": "@jupyter-widgets/controls",
          "model_name": "FloatSliderModel",
          "model_module_version": "1.5.0",
          "state": {
            "_dom_classes": [],
            "_model_module": "@jupyter-widgets/controls",
            "_model_module_version": "1.5.0",
            "_model_name": "FloatSliderModel",
            "_view_count": null,
            "_view_module": "@jupyter-widgets/controls",
            "_view_module_version": "1.5.0",
            "_view_name": "FloatSliderView",
            "continuous_update": true,
            "description": "a",
            "description_tooltip": null,
            "disabled": false,
            "layout": "IPY_MODEL_d1c33fef46d1440f83db93ab4393ae35",
            "max": 5,
            "min": -5,
            "orientation": "horizontal",
            "readout": true,
            "readout_format": ".2f",
            "step": 0.1,
            "style": "IPY_MODEL_9ec7793e8ef845949624d21b596f258c",
            "value": 2.8
          }
        },
        "67f32cd71a4046c09660ce168339729b": {
          "model_module": "@jupyter-widgets/controls",
          "model_name": "FloatSliderModel",
          "model_module_version": "1.5.0",
          "state": {
            "_dom_classes": [],
            "_model_module": "@jupyter-widgets/controls",
            "_model_module_version": "1.5.0",
            "_model_name": "FloatSliderModel",
            "_view_count": null,
            "_view_module": "@jupyter-widgets/controls",
            "_view_module_version": "1.5.0",
            "_view_name": "FloatSliderView",
            "continuous_update": true,
            "description": "b",
            "description_tooltip": null,
            "disabled": false,
            "layout": "IPY_MODEL_41aa598807ea4238a01cf797ddf32aae",
            "max": 5,
            "min": -5,
            "orientation": "horizontal",
            "readout": true,
            "readout_format": ".2f",
            "step": 0.1,
            "style": "IPY_MODEL_ebb96b0673f144ae9f406fd6460298cb",
            "value": 1.5
          }
        },
        "c947f71da08e4f70bc615928728f101a": {
          "model_module": "@jupyter-widgets/controls",
          "model_name": "FloatSliderModel",
          "model_module_version": "1.5.0",
          "state": {
            "_dom_classes": [],
            "_model_module": "@jupyter-widgets/controls",
            "_model_module_version": "1.5.0",
            "_model_name": "FloatSliderModel",
            "_view_count": null,
            "_view_module": "@jupyter-widgets/controls",
            "_view_module_version": "1.5.0",
            "_view_name": "FloatSliderView",
            "continuous_update": true,
            "description": "c",
            "description_tooltip": null,
            "disabled": false,
            "layout": "IPY_MODEL_4cd7003d1d534d7f9c8d2cb8676b4bd2",
            "max": 5,
            "min": -5,
            "orientation": "horizontal",
            "readout": true,
            "readout_format": ".2f",
            "step": 0.1,
            "style": "IPY_MODEL_bdfa93af43dd4815a6df32c2fc8f7c69",
            "value": 0.7
          }
        },
        "a7e67147880342c7a79f2e26726e4182": {
          "model_module": "@jupyter-widgets/output",
          "model_name": "OutputModel",
          "model_module_version": "1.0.0",
          "state": {
            "_dom_classes": [],
            "_model_module": "@jupyter-widgets/output",
            "_model_module_version": "1.0.0",
            "_model_name": "OutputModel",
            "_view_count": null,
            "_view_module": "@jupyter-widgets/output",
            "_view_module_version": "1.0.0",
            "_view_name": "OutputView",
            "layout": "IPY_MODEL_74169b2940eb4eccaa401aa2ff52d70b",
            "msg_id": "",
            "outputs": [
              {
                "output_type": "display_data",
                "data": {
                  "text/plain": "<Figure size 576x432 with 1 Axes>",
                  "image/png": "iVBORw0KGgoAAAANSUhEUgAAAgcAAAGZCAYAAAAdJZKVAAAAOXRFWHRTb2Z0d2FyZQBNYXRwbG90bGliIHZlcnNpb24zLjguMCwgaHR0cHM6Ly9tYXRwbG90bGliLm9yZy81sbWrAAAACXBIWXMAAA3XAAAN1wFCKJt4AABuQklEQVR4nO3dd3iTVRsG8DvdI50UOmgpUyhQ9kaQouy9ZG+Qyt4gq60M2YgCooIMZauUIciw7C1QWQqo7D06KKUj9Hx/nK+RdJemedP0/l1XribvynPyJs2T856hEkIIEBEREf2fmdIBEBERkXFhckBEREQ6mBwQERGRDiYHREREpIPJAREREelgckBEREQ6mBwQERGRDiYHREREpIPJgYkTQmD16tWoWbMm1Go1HB0dERAQgF9++cXgsYwdOxZFixbV2/Hmzp2LgwcPplquUqmwZMmSHB27T58+UKlUqW4DBgzAwYMHoVKpcOnSJQBAQkICgoODER4ernOMx48fIzg4GDdv3tRZnnJ/Y9SgQQN07NhR+3jv3r34/PPPU23Xp08fVKtWLUfPFRwcDJVKhSlTpmR5n2rVqqFPnz56jSOl9M5rVhUtWhRjx47NcBt9vheKFi2qfZ9aWVmhTJkymD59OhISEnJ8bGOQ0/NB2cPkwMQNHjwYAwYMQM2aNbF161Zs2rQJRYoUQcuWLbFo0SKlw8uR9JKDEydOoFOnTjk+fpkyZXDixAmd26RJk1ClShWcOHECJUqUACD/aYWEhKSZHISEhKRKDlLub4yWLVuGzz77TPs4veRAHzZs2AAA2Lhx41sfY+rUqVi9erWeIpLSO6/GrFu3bjhx4gT27duHLl26ICQkBJMmTVI6LL3Ii+cjL7NQOgDKPaGhoVi+fDm++uorBAYGapc3a9YMHh4eGDduHN5//31UqFBBwSh1xcXFwcbGJkfHqFWrll5isbe3T/dYOXkOR0dHvcWYW8qWLWuQ5zl37hyuXbuG999/H7/99htOnz6NGjVqZPs4xpxoGZKnp6f2vfXee+/h7t27WL58OebNmweVSvVWx9THZ9IYvXr1Cra2tkqHYbRYc2DCFi9ejJIlS2LgwIGp1k2aNAlqtVqn+j2tatDVq1dDpVIhJiYGAPDy5UsMHToUpUuXhp2dHYoVK4YhQ4YgOjpaZ7/IyEh069YNarUanp6emDlzZqoYko99+vRpNGjQALa2tpg3bx4AYOLEifD394darYa3tze6d++Ohw8f6sT67NkzhISEaKtSk2sR0rqssHXrVtSoUQO2trYoUKAAmjdvjlu3bmXj1fxPyqpgBwcHAEDfvn21sdy8eRP+/v4AgICAAO3ytPZPjnnx4sWYNGkSChYsiEKFCmHIkCGIj49P9dwVKlSAjY0NqlevjtOnT8PNzQ3BwcHpxtu7d280btxY+/jq1atQqVRo3769dtnZs2ehUqlw/fp1ALqXFYKDg7FgwQLcunVLW443q/QBYN++fahQoQLs7e3x7rvv4vLly1l6LTds2AAbGxusXr0aNjY22lqEN126dAl169aFjY0N/Pz8sH379lTbpLysEBwcDDc3t1TbpXxvbN++HVWrVoW9vT1cXFxQs2ZNHDp0CED65xXI/P35punTp8PDwwNqtRrdu3dHVFRUhq9JUlISZs+ejZIlS8La2hrvvPMO1qxZk+E+6alatSpevnyJp0+f4sSJE2jdujU8PT1hb2+PSpUqYd26dTrb5+QzCfz3P2T27Nnw9PSEk5MTxowZAyEEdu3ahXLlysHBwQFt27ZFRESEzr7Pnz/HRx99BHd3d9jY2KBOnTo4deqUdn1G5yMuLg7jx4+Hj48PrK2tUbFiRezatStVbGPGjMH06dPh7e0NR0dHAMDly5fRtGlTuLq6wt7eHn5+fli6dOlbvd6mhDUHJkqj0eDEiRMYPHgwzM3NU613cnJCQECA9h9hVsXGxuL169eYOXMmChYsiDt37mDmzJno1KkT9uzZo92ub9++OHjwIBYtWgQPDw/Mnz8f//zzDywsUr/lunbtisGDByMoKAjOzs4AZJX8pEmT4OXlhSdPnmDBggVo2LAhLl26BDMzM2zduhUBAQHo2LEjBgwYACD9X7vff/89evXqhS5dumDq1KkQQiAsLAxPnjyBr69vhuXVaDQ6j9OKPywsDA0bNsSUKVPQokULAPIX3Lp169C9e3csXboUVapUyfB5AGjL+MMPP+DChQv45JNP4Ovri/HjxwMA7t27h+bNm6NOnTqYNWsWHj58iO7du+PVq1cZHrdevXoYNWoUXr9+DXNzcxw+fBg2NjY4evSodpvDhw/D3d0dpUqVSrX/gAEDcP36dYSFhWHr1q0AgIIFC2rX3759G+PGjcPkyZNha2uLsWPHonPnzrh48WKGv1aFENi0aROaNWsGb29vNG/eHJs3b8aCBQtgZiZ/t7x69QpNmjSBm5sb1q9fj1evXmHkyJGIiYlB+fLlM31NM/LPP/+gY8eOGDFiBObNm4e4uDicPXsWz58/B5D+eQUyf38m27BhA0qWLIlvv/0WDx48wPjx4zFgwABs2bIl3biGDRuGNWvWYNq0aahSpQr27duHfv36oUCBAmjZsmW2ynjz5k1YWVnB1dUVt27dQt26dREYGAgbGxscO3YMffv2hZmZGbp27aqz39t8JpNt3LgRNWrUwKpVq3D27FlMmTIFSUlJOHz4MKZPn45Xr15h6NCh+OSTT7B8+XIAQHx8PD744ANERkZi3rx5KFSoEL766it88MEHuH79Ojw8PDI8Hx07dsTp06cREhKCEiVKYPPmzWjdujV+//13VKpUSRvb+vXrUa5cOSxbtkz72W7VqhX8/Pzwww8/wNraGlevXk31YydfEmSSHjx4IACIzz//PN1tRowYIezs7LSPfX19xZgxY3S2WbVqlQAgXrx4keYxEhMTxdGjRwUAcevWLSGEEJcuXRIAxMaNG7XbvXjxQri4uAhfX99Ux84oRiGE0Gg04u7duwKAOHTokHZ5gQIFRFBQUKrtAYgvv/xSCCHE69evhZeXl2jXrl2Gz5FS7969BYBUt+vXr4sDBw4IAOLixYvasgEQq1at0jnGxYsXBQBx4MABneUp90+OuV69ejrbtWnTRtSsWVP7eOzYsaJAgQIiNjZWu2zTpk0CQJqvQ7K//vpLABBnzpwRQgjRs2dPMWjQIGFhYSH+/PNPIYQQ7dq1Ex07dtTu895774kOHTpoH48ZM0bn3L35Opmbm4tr165pl23dulUA0B47PYcPHxYAxKZNm4QQQmzZskUAEGFhYdptli5dKiwsLMSdO3e0y5Lfb71799aJo2rVqtrHQUFBokCBAqme8833xpYtW4Srq2u68aV3XlNK7/3p6+srXFxcdD47P/zwg1CpVOLKlStCiNTvhevXrwuVSiVWr16t8xw9e/YU1apVyzAOX19fMXr0aJGYmChevnwpduzYIRwdHXXOY7KkpCSRmJgoPvroIxEQEKBdntPPpK+vryhRooTQaDTaZdWrVxfm5ubi33//1S4bN26cKFSokPbxihUrhKWlpc77KDExURQvXlyMHTtWCJH++di/f78AIA4ePKizvF69ejrvaV9fX+Hh4SFevXqlXfbkyRMBQFy4cCHD8uZHvKyQz73Ndcjvv/8elStXhlqthqWlJd59910AwLVr1wAAZ86cAQC0adNGu49arUajRo3SPF7yr4A37d69G3Xq1IGTkxMsLCzg7e2t8xxZdfXqVdy/fx99+/bN1n4A4OfnhzNnzujcfHx8sn2crHqz6h+QNSF3797VPj5z5gwaNWqkc520devWmR63dOnSKFSoEI4cOQJA1hI0a9YMVapU0S47evQo6tWr91ZxFy1aVKfGIbkG583Y07JhwwbY29trfw23aNECDg4OOpcWTp8+japVq2rPPwDUrVsXhQoVeqtY3+Tv74+oqCj07t0be/fuxcuXL7O8b1bfn40aNYJardY+bteuHYQQ2s9ISr/99hvMzMzQrl07aDQa7e39999HeHg4Xr9+nWFcCxcuhKWlJezt7dGqVSvUr19fW0UeERGB4cOHw9fXF5aWlrC0tMQ333yT5mcqJ5/JBg0a6NRWlixZEkWLFkWxYsV0lj158kTbk2L//v2oWrUqihUrpi0zINtN/P777xmWef/+/fDw8EDdunVTvWYp933//fd12k+4urrCx8cHgYGB2LRpEx4/fpzhc+UnTA5MlJubG6ytrTO8rn7r1i1ttVxWbd26Fb169ULt2rWxZcsWnDx5UlvVHBcXBwB4+PAhHBwcUjViSu8furu7u87jM2fOoHXr1vD29sb333+PEydO4OTJkzrPkVXPnj0DgGyXEwDs7OxQrVo1nZu1tXW2j5NVydW3yaysrHTK+/DhQ53qfACwsbHR+fJJT7169XDkyBHcuXMHt2/fxrvvvqtd9ueff+LJkydvnRykFTeQ8bnSaDTYsmULGjdujISEBERGRiI+Ph5NmjTBTz/9hMTERACyzGm9b/SRHJQuXRrbtm3Dv//+i+bNm8PNzQ3dunXDkydPMtwvO+/PlHHa2dlBrVbjwYMHaR776dOneP36NZycnLRf4JaWlujTpw80Gk26+yXr0aMHzpw5gwsXLiA6Oho7duzQfr769OmDTZs2Ydy4cdi7dy/OnDmDfv36pXmecvKZTOv9kNYyIYQ2OXj69ClOnjypU2ZLS0usWrUKd+7cybDMT58+xcOHD1PtGxwcnGrflOUyMzPD3r174eHhgX79+sHDwwP16tXD+fPnM3zO/IBtDkyUhYUF6tSpg19++QXz58/XuSYIANHR0Th48KDOL08bG5tUfaJTNhrasmULatasiWXLlmmXpWy34OHhgRcvXqRq5ZxeVp6y9mLr1q0oWLAgNm3apF33to0HCxQoAACZ/lPNCzw8PFJ9ccXFxWkbi2akXr16mDlzJg4fPoyyZcuiQIECqFevHkaOHIm6devC0dERFStWzK3QU9m/fz+ePn2KrVu3apPLN+3ZswctW7aEh4cH/vrrr1TrM/uFl5X3MiB/Ibdo0QJRUVH45ZdfMHLkSAwbNizDbpXZeX+mjDM2NhYxMTHpJquurq6wsLDAsWPHUn1mgcyTInd39zTHe4iLi8POnTuxdOlSnZ5LSUlJaR4nNz+TaXF1dUW1atXw1VdfpVqXWULu6uqKwoULIzQ0NNPnSaumtEyZMtqE9MiRI5gwYQJatGiBu3fvpnkO8ov8W/J8YPjw4bh27RpWrFiRat3s2bMRGRmpU93u7e2NP//8U2e7vXv36jx+9epVqg9ryhbP1atXBwBs27ZNuywmJgb79u3LUtyvXr2CpaWlzgc55XMAqX9Zp6V06dIoXLjwW7f2zor0filn5Rd0dlSvXh379u3TaYCYVsv9tNSvXx9PnjzBN998g/r16wOQCcOtW7ewfv161KlTJ8N/hFl5rbNjw4YNcHV1xYEDB1LdChUqpL20UL16dZw9e1bnEsWxY8cyTQ68vb3x4sUL3Lt3T7ss5Xv5TU5OTujWrRvatWuHK1euAEj//GX1/QnIXhxvJm9bt26FSqVKd8Cmhg0b4vXr14iKikpVa1WtWjVtTNkVHx+PpKQknc/uixcvsvz+yU6Z38b777+Pv//+G0WKFElV5uReP+mdj/fffx8PHz6EWq1O8zXLKktLSzRs2BCjR4/GgwcPEBkZqbfy5UWsOTBhbdu2RWBgIIYMGYIrV66gZcuW0Gg02LRpE1avXo2hQ4eiQYMG2u3btWuHYcOGYdasWahevTp++umnVF3SGjVqhCFDhmDmzJmoWbMmdu3ahd9++01nm3LlyqF169b4+OOPER0dDU9PT8ybNw92dnZZirtRo0b4/PPPMXLkSLRq1QrHjx/HDz/8kGq7MmXK4JdffkHTpk2hVqtRunRpbXenZGZmZpg7dy66d++O7t27o2vXrlCpVAgLC0PXrl31MqqelZUVihUrhs2bN6N8+fKwsbFBhQoVUKRIEdja2mLNmjXaauKcPN/IkSOxdOlStGrVCqNGjcLDhw8xe/Zs2NnZZfoLp2LFinB0dMThw4fx8ccfA5C/uMqWLYvDhw+n2dX0TWXKlMGjR4+wevVqlC9fHm5ubm892mVcXBxCQ0PRrVs3nfdfss6dO+O7775DbGws+vbtixkzZqBFixYIDg7Gq1evMHXq1DS7Kb6padOmsLW1Rb9+/TBmzBjcuHFD2zI+2ddff40TJ06gadOm8PLywvXr17Flyxb06tULQPrnNavvTwCwtbVFixYtMG7cODx48ADjxo1Du3bt0u1ZU7p0aQQGBqJLly4YP348qlWrhri4OFy+fDndRD8rnJycUL16dXz66adwdHSEmZkZZs+eDScnpyy1zM9Omd9Gr169sHz5cjRo0ABjx45F8eLF8ezZM5w+fRoeHh4YNWpUhuejSZMmaNSoESZMmIBy5cohOjoa4eHhiIuL0xnMK6ULFy5oe9cUL14cERERmDNnDipWrAhXV1e9lS9PUrpFJOWupKQksWrVKlGjRg1hZ2enbXU/e/ZskZSUpLNtQkKCGDVqlHB3dxfOzs5i+PDh4uuvv9bpraDRaMSYMWNEwYIFhYODg2jfvr04efKkACB27NihPdbz589F586dhZ2dnShUqJAICQlJ1eI9o54Qc+bMEd7e3sLOzk68//774tq1azotzYUQ4vfffxc1a9bUliu5V0DK7YQQ4qeffhJVqlQR1tbWwtXVVTRv3lzcvHkz3dctZev3N6XV22DPnj3C399fWFtbCwDixo0bQgjZOr1UqVLC0tJSJH/c0uutkDLmtFrch4WFCX9/f2FlZSUqVqwoDh8+LKytrcWiRYvSLUuypk2bCgDi3r172mWBgYGpWpwLkbq3wqtXr0SfPn1EwYIFdXoKpPU63bhxI9X74U0//vijACCOHTuW5vpTp07p9Hb5448/RO3atYWVlZV45513xNatW0XVqlVT9VZI2Zp/165domzZssLW1la8++674sqVKzqv8/Hjx0Xz5s2Fp6ensLa2FkWLFhXjx48XcXFx2mOkd16z8v5M7j0QFBQkChUqJOzs7ESXLl1ERESEdpu03gtJSUli0aJFomzZssLKykq4ubmJ+vXrizVr1qT5er35fCl7G73p+vXromHDhsLOzk74+PiIOXPmpHqP5fQzmVYMab1H0nqeyMhIMXz4cOHt7S0sLS1F4cKFRbt27cTRo0e126R3PuLi4sS0adNEiRIlhKWlpXB3dxdNmjQRO3fuzDC2R48eiR49eohixYoJa2tr4e7uLrp06aLteZWfqYQQwkB5CBmBe/fuoVq1aqhcuTJ27NiR5hgIlHck9zIICwtDQECA0uEopkOHDoiJidEZa4OI3h7bHOQzhQsXxtatWxEWFobhw4crHQ5l04QJE7Bx40YcPHgQX3/9Nbp06YIKFSrgvffeUzo0RURERGDbtm04ePCg3ideIsrP2OYgH6pVq5ZeG5eR4cTHx2PcuHF49OgRHBwc0LhxYyxcuDDftqo+dOgQevbsiYYNG2LMmDFKh0NkMnhZgYiIiHTkz58bRERElC4mB0RERKSDyQERERHpyPcNEt9m4iEiIqK8LLPmhqw5gHyR9HULDQ3V6/GUvJlKWUylHKZWloCAAMVj4HkxzXKwLBnfsoLJAREREelgckBEREQ6mBwQERGRjnzfIDEjQghoNJosX6MB5CyAKeeRz6tMpSymUg7AtMri6OhoMmV52/OiUqlgYWHBhtFkdJgcpOPVq1e4c+cOXr9+na39vLy88M8//+RSVIZlKmUxlXIAplWWkSNHmkxZcnJezM3N4ePjA1tbWz1HRfT2mBykQQiBO3fuQK1WZzpvfErR0dFwdHTMpcgMy1TKYirlAEyrLABQokQJpUPQi5ycl6dPn+LOnTsoVaoUaxDIaDA5SINGo8Hr16/h5uYGKyurbO1rYWGR7X2MlamUxVTKAZhWWczMzEymLDk5L25uboiKioJGo4GlpaWeIyN6O2yQmIbstDEgItIH/t8hY8LkgIiIiHQwOSAiIjIyQgAXLgDLl8vHy5fLx4aqYGJykM+VK1cOO3fuVDoMIiL6PyGAzZuB2bOBo0flsqNH5ePNmw2TIDA5yMMaNGgAc3NzXLhwQbssMjISKpUKN2/ezNIxLl++jJYtW+o1rtWrV8Pc3BxqtRqOjo4oXLgwOnTogMOHD2f5GDdv3oRKpUJkZKReYyMiMnYXLwLbtgFeXkDJknJZyZLy8bZtcn1uY3KgZ29WBQUH535VkIuLCz755JPcOXgO+Pv7IyYmBtHR0bh48SIaNmyIZs2aYd26dUqHRkRk1I4fB8zMALVad7laDahUcn1uY3KgR0IAW7daaquC7t/P/aqgwYMH49ixY+n+KhdCYMGCBShRogRcXV3RtGlT/Pvvv9r1RYsWRWhoKADgxo0b+OCDD+Dk5ARXV1c0adIEsbGxWLx4MRo0aKBz3I0bN6Js2bJZitHV1RVDhgzB1KlTMXbsWCQlJQEAFi5ciFKlSsHBwQElSpTAkiVLtPvUqFEDAODt7Q21Wo1169YhJiYGbdq0QaFCheDk5IT69evjjz/+yOpLRUSUJzx8CNjZpb3O3h549Cj3Y2ByoEcXLwK7d1tqq4Le/JtbVUGurq6YMGECJk6cmOb677//HgsXLkRoaCju37+PcuXKoVWrVtBoNKm2nTx5MkqWLImnT5/i0aNH+PTTT2FhYYEePXrg1KlTuHHjhnbbVatWoW/fvtmKtWPHjnj48CGuXr0KAPD19UVYWBiio6OxYsUKjBs3DseOHQMAnD59GgBw9+5dxMTEoHv37khKSkK3bt1w48YNPHr0CJUrV8aHH37ILmBEZFI8PIDY2LTXvXwp1+c2Jgd6dPw4oFIJg1cFjRw5Erdu3dLWALzp+++/x/Dhw+Hv7w8bGxvMmjULd+7c0X75vsnS0hIPHjzAzZs3YWlpiZo1a8LKygoFChRA69atsWbNGgDAvXv3cOjQIfTs2TNbcRYuXBgA8Pz5cwBAhw4d4OPjA5VKhYCAADRp0gQHDx5Md39HR0d07twZ9vb2sLGxQUhICK5du4b79+9nKw4iImNWpw6QlATExOguj4mRNdC1a+d+DEwO9EipqiBbW1sEBQVh0qRJqeaCuHv3LooWLap9bG1tDS8vL9y9ezfVcebNm4fChQvjgw8+QNGiRTF79mztJYB+/fph7dq1EEJg7dq1aNy4MTyymb7eu3cPgKztAIB169ahSpUqcHV1hbOzM3bt2oWnT5+mu/+rV68wePBgFC1aFI6OjtpyZbQPEVFe4+8PtGkjL01fvy6XXb8uH7dpI9fnNiYHeqRkVVD//v2RlJSk/XWfzNvbW6fnQkJCAu7fvw9vb+9UxyhUqBCWLVuGW7duYceOHVi1ahW2bt0KAGjUqBE0Gg0OHTqENWvWZPuSAgD8+OOP8PDwQOnSpXH79m307t0bc+fOxePHjxEZGYnmzZtrLxGYmaV+ay5YsABnz57F0aNHER0drS0XLysQkSlRqYAPPwQmTgTq1ZPL6tWTjz/8UK7PbQZPDpYsWYJq1arB2toabdu21S6/ffs21Gq1zs3CwgKtW7dO91gNGjSAtbW1zj5KVjHXqQMIoVKkKsjc3BwzZ87ErFmzdJb36NEDS5YswZUrVxAfH48pU6agcOHC2gZ/b9q8eTNu374NIQScnZ1hbm4OCws5/YaZmRn69u2LkSNH4vnz59nq/hgREYGvv/4aM2bMwPz582FmZoaYmBgIIVCoUCGYmZlh165d2Lt3r3afggULwszMTGemu+joaNjY2MDFxQUxMTGYNGlSdl8mIqI8QaUCKlQAAgPl48BA+dhQc3MZPDnw8vLClClTMHDgQJ3lRYoUQUxMjPb2/PlzODs7o0uXLhkeb86cOTr7eXl55Wb4GfL3B5o1S9RWBb351xBVQR06dEDJ5E6x/9erVy8MGzYMLVu2hIeHB/744w/s2LFD+6X/prNnz6JOnTpQq9WoXbs2evTooZOc9e3bFxcuXECPHj0ynSDm4sWL2nEOypUrhz179uCXX35B9+7dAQBly5bF5MmT0bBhQxQoUACbNm3Sea7kSyXNmjWDs7Mz1q9fj9GjR8Pc3Bzu7u4oX748ahviwhsRUT6kEgrVyQYHByM8PDzNRnSA/BUbGBiI+/fvw8bGJs1tGjRogLZt22LkyJFvHYdKpUpVLZ2QkIB//vkHJUqUyPZMaxERkbhzxxnHj8s2Bu7uskbB399wGZ++REZGwtnZWfs4NjYWhQoVwsmTJ1G+fHnlAsumlOXIy0ypLFevXkXp0qWVDkMvcnJecvL/Rt+2bduGNm3aKBqDvrAs6Uvrey/VNsaaHDRp0gTvvPMOvvzyy3SP0aBBA1y6dAlJSUnw9fXFqFGj0KtXr0yfNyQkRGdZyhjMzMzg5eUFX1/fNH9h50dCCCxevBh79uzB7t27lQ6HTMCjR4/g7u6udBiK02g0uHXrFu7fv69tAEyUm9q2bZt5Wy2hkKCgINGmTZs01928eVOYmZmJ8PDwDI9x/PhxERkZKRISEsSvv/4qHB0dxc8//5ytONJ6CeLj48WVK1dEfHx8to4lhBARERHZ3sdYJZdFo9EItVotihYtKs6ePatsUG/BFM+JKfjrr7+UDkFvcnJecvL/Rt9CQ0OVDkFvWJb0ZeWr3yh/Fq9atQqVK1dGxYoVM9zuzWvOTZo0waBBg7Bp0ya0a9cut0PMV8zNzfHixQulwyAiIgMxuq6MSUlJWLVqFQYMGJDtfdPq/kZERETZY/BvU41Gg7i4OGg0GiQlJSEuLg4JCQna9fv27cPTp0/RtWvXDI8TGRmJXbt2ITY2Fq9fv8Zvv/2G5cuXo0OHDrldBCIiIpNm8ORgxowZsLW1xcyZM7Fjxw7Y2tqicePG2vUrV65Ex44d4eTklGrfZs2aafvxJyYmIiQkBB4eHnBxccGoUaOwcOFCdOrUyWBlISIiMkUGb3MQHByM4ODgdNdv3rw53XVvtpIvWLAgTp06pc/QiIiICEbY5oCIiIiUxeTABAUGBmLChAm5+hyRkZFQqVQ68zYYg5EjR6JPnz56Pea6detQp04dvR7T0KKiojB9+nTs2rVL6VCIKA9gcpCHpTW3xLJly7B8+XLMmTMHAHDz5k2oVCpERkZq9zt48KBBRtn7+++/0alTJ7i6usLe3h5Vq1bFli1bcv15cyKt16Z79+44rqf5tufPn48KFSrA0dER3t7eGDt2rE6D3JSio6PRu3dvFCpUCK6urujYsaPOfBNZERsbixYtWmD37t3o3Lkztm/frrM+Pj4eAwcORLFixeDg4IAyZcrgu+++e6vyZebBgwdo3bo1vLy8UKZMGYSHh2e4/cGDB6FSqXTe40OHDs2V2DITGhqKUqVKwc7ODu+++y7++uuvdLcNDAzUidnOzg4qlQrnzp0zYMREb4/JQR6Xcm6JwYMHKx0SAODWrVuoVasWPD098eeff+LZs2eYPHkyBg0ahOXLlysSU2JioiLP+6bXr19j5cqVePbsGU6ePImDBw9m2AZn2rRpuHr1Kq5cuYIHDx7Ax8cHPXr0yPLzJSQkoF27dvD19cWhQ4ewfft2DBgwAL/99pt2G41GA09PT+zfvx/R0dFYvXo1xowZozMRVkZWr16d5doaMzMzNG3aNN2RUdPi5OSk8x5fsmRJlvfNSGbtn9509epVdO/eHYsWLcLz58/RsGFDtGnTBhqNJs3tly9frhPz9OnT8c4776BKlSp6iZ0otzE5MEF9+vTRzjeRPPuit7c31Go11q1bh2bNmiEqKkr7q+bIkSMAgP3796NGjRpwdnZGuXLldKqg4+Pj8fHHH8PV1RXFihXDjz/+mGEMQUFBqFSpEr744gu4u7vDxsYG7du3x+LFizFx4kS8fPkSAFC0aFGdL4rQ0FAULVpU+3jhwoUoVaoUHBwcUKJEiVRfDIcPH4a/vz/UajXat2+vM1hTcq3JunXrULJkSe001ePHj4evry8cHBxQtmxZbW3Gs2fP0nxtVq9ejUqVKmmPGx0djaFDh8LX1xeOjo6oXr067ty5k4UzA0yYMAHVq1eHpaUlvL290atXLxw9ejTd7f/991+0bt0abm5usLa2RufOnXHx4kVtHCVKlMCKFSu027dq1Uo7nfbr16/RpUsXlCpVCj/88AMsLS0REBCA3bt3Y8CAAThx4gQAwN7eHp9++ilKlCgBlUqFWrVqISAgIMO43pa7uzsGDx6c5qygb6NTp046ydK8efNQrlw5vHr1Si/HT/bDDz8gICAALVu2hI2NDaZOnYrHjx9rPzuZWblyJfr166fXmIhyk1GOkGiUfH2BqKhMN3MSImczLDk5Abduvf3+KZw+fRrFihXD3bt3tdXlhQsXRtu2bXUuNVy4cAGdOnXCTz/9hAYNGuD48eNo3rw5qlatitKlS2PmzJk4ceIELl26BDs7O3Tr1i3D592zZw9mzpyZannnzp3Rp08fnDhxAh988EGm8fv6+iIsLAze3t44ePAgmjdvjsqVK6Nu3bqIiIhA69atMWfOHPTv3x+7d+9Gx44dU42RsXv3bvz+++/aSW0qVqyIsWPHokCBAtiyZQt69uyJatWqoVixYti9e3eq1yZlNX6fPn0QGxuLEydOaGe6tLW1BQDMnj0bR48exc6dOzMtGwAcOnQIFSpUSHf90KFDMXPmTPTr1w9OTk7YsGEDWrVqBQBwdHTE+vXr0aRJE7z77rvYs2cPrl27ho0bNwKQI1v+/PPPqY5ZtWpV3LhxI93njIuLw+nTpzM9x4aSPNuqmZkZ3nvvPcydOxeFCxcGAHz77beoWLEi1q5di7Jly2LGjBk4evSo9nzoy4ULF3QSREtLS5QtWxYXLlxAQEBAhvueOHEC169f13tbGKLcxOQgj/vkk090qkbv3bv3Vsf5+uuv0adPHzRs2BAA8O6776JJkybYvHkzpk6dinXr1uGzzz7TTokdFBSU4QRMT58+TXP6bCsrK7i5ueHx48dZiuvNQa0CAgLQpEkTHDx4EHXr1sXOnTvh5eWFQYMGAZC/mpPjf9OECRN02hEkTxsNAF26dMHs2bNx/PhxFCtWLNN4Hj16hK1bt+LWrVva8lWuXFm7fuLEiVkqFyC/2I4dO4bz58+nu03FihXh5OQET09PmJubo0SJEjqXBGrWrIkJEyagTZs2ePDgAQ4ePAh7e/ssx5CSEAIDBgxAqVKl0L59+7c+jr4kt0vw8/PDkydPMHr0aLRq1Qq///47zMzM4OzsjHXr1qFVq1ZwcXHBrFmz4J8Lc6PHxMSkaovi7OycpWHFV6xYgZYtW3KSKcpTmBxkVRZ/zUcZeErdzz77LEdTVie7efMmwsLCsGrVKu0yjUYDNzc3AMD9+/fh6+urXffm/bS4ubnh/v37qZYnJibi6dOnKFiwYJbiWrduHRYsWICbN28iKSkJsbGx2i/xlDElxxUXF6ezLPlyQrJFixZhxYoVuHv3LlQqFWJiYvD06dMsxXPr1i1YW1ujSJEiWdo+PevWrcOUKVOwb98+eHp6prtdx44d4evri+fPn8Pe3h4LFy5EvXr1cPnyZdjZ2QEA+vfvj+DgYDRu3DhH17SFEBg8eDCuXr2K/fv3ZzgcecuWLbWXHRISEqDRaHQuD124cCHHrxEAeHh4wMPDQ3v/m2++gZOTE65du4YyZcoAAOrWrYvixYvj1q1bmQ67XqFCBdy+fRsAtO+Tzz//XLv+zRqjN6nVakSlqDmMioqCg4NDhs8XExODzZs3Y8OGDRluR2Rs2ObAxKX1Dz6tZT4+PhgxYgQiIyO1t7t37+Krr74CAHh5eeHWGwlS8j/Y9DRq1CjNf4ibNm2CjY0NatasCUD+042NjdWuf/Dggc5z9O7dG3PnzsXjx48RGRmJ5s2ba6caTRlTenG9Wd6jR48iODgYa9euRUREBCIjI1G+fHntMTObn8PX1xfx8fFZbmOQlnXr1mHkyJH49ddfM7ykAADnz59HYGAgXFxcYGVlhUGDBuHu3bu4cuWKdpv+/fujVatWOHXqVKqeCFklhMCQIUNw6tQp7N27N80RSt+0c+dO7ftk2bJl6Natm857Rx+JQVpUaVyyW7BgAeLj4+Hn54dJkyZluP+FCxe0MU6cOBETJ07UiTs9FSpU0OlZkZiYiCtXrmRaS7Fx40Y4OjqiWbNmGW5HZGyYHJi4ggULwszMTOe6ubu7O168eKFTtT9o0CCsWrUKBw4cwOvXrxEfH4/Tp0/jzz//BAB07doVs2fPxv379xEZGYlPP/00w+cNCQnBuXPnMGrUKDx+/BhxcXEIDQ3FyJEj8cknn8DR0REAUKVKFWzYsAFxcXH4999/sXTpUu0xYmJiIIRAoUKFYGZmhl27dum0oG/RogXu3buHb7/9FhqNBr/88gvCwsIyjCs6Ohrm5uYoWLAgkpKS8N133+HSpUsZvjZvcnd3R5s2bRAYGIgHDx4gKSkJ58+fx7NnzzJ83mQbNmzA8OHDsXv3bp3LEempXbs2vv32W7x48QIajQYrVqyAjY0NSpYsCQD44osvcO3aNaxZswbfffcd+vfvn2aNTWaGDh2KY8eOYd++fXBxccn2/tkRFxen/dWekJCAuLg4JCUlpbntgQMHcOPGDQgh8OzZM3z88ccoV64cSpUqBQA4e/Yspk+fjg0bNmD9+vVYvXo19uzZo/eYe/TogbCwMOzatQvx8fGYOXMm3NzcUL9+/Qz3W7lyJfr06QNzc3O9x0SUm5gcmDhbW1sEBQWhWbNmcHZ2xvr161G6dGn0798fZcuWhbOzM44ePYrKlStjw4YNmDJlCgoWLIjChQtj1qxZiI+PBwBMmTIF1apVQ/ny5VGpUiW0bds2w+ctVqwYTp48iTt37qB06dLa3gTTpk3D5MmTtdvNmDEDkZGRKFiwILp164ZevXpp15UtWxaTJ09Gw4YNUaBAAWzatAmtW7fWrnd1dcW2bduwePFiODs7Y8WKFTrtCdLStGlTdOzYEf7+/vDy8sLly5dRt25d7fq0XpuU1qxZAx8fH1SrVg3Ozs4IDAzUto6fNWtWhr8SJ02ahOjoaDRo0EDbI6JcuXLa9Sn3X7VqFV6+fInixYvDzc0NmzZtQmhoKJydnXHhwgVMmTIFGzZsgL29PVq2bIlu3bqhZ8+e6X7ZpuXWrVtYtmwZrl69Cl9fX21cgYGBWT5Gdtja2mobDNasWRO2trY4fPgwAODIkSNQq9Xabc+fP4/69etDrVajfPny0Gg02LlzJ8zNzRETE4OuXbti5syZ8Pf3h4+PD7799lv07t07y21asqp06dL44YcfMGLECDg7O2Pfvn3Yvn07LCzkldnjx4/rxA0AV65cwalTp9C/f3+9xkJkCCqRXJ+aT6lUKqR8CRISEvDPP/+gRIkS2hbuWRVp4DYHuUmfZYmJiUFAQACqVq1q8HEOeE6M09WrV1G6dGmlw9CLnJyXnPy/0bdt27ahTZs2isagLyxL+tL63kuJNQdkEGq1Grt27YKnpyeuXr2qdDhERJQB9lYggylYsCCCgoKUDoOIiDLBmgMiIiLSweSAiIiIdDA5SENafamJiHIT/++QMWGbgzRYWFjA3NwcT58+1Y4QmFUajSbDKXjzElMpi6mUAzCtsiQlJZlMWXJyXp4+fQpzc3Ntt0giY8B3YxpUKhV8fHxw586dVEOmZiY2NlY7rG1eZyplMZVyAKZVlkePHikdgt7k5LyYm5vDx8eHNQdkVJgcpMPW1halSpWCRqPJtD/om/bs2YMmTZrkYmSGYyplMZVyAKZVlk8++QSbN29WOgy9eNvzolKpYGFhwcSAjA6TgwyoVCpYWlpma5+kpCTFBzLRF1Mpi6mUAzCtskRHR5tMWUzpvBABbJBIREREKTA5ICIiIh1MDoiIiEgHkwMiIiLSweSAiIiIdDA5ICIiIh1MDoiIiEgHkwMiIiLSweSAiIiIdDA5ICIiIh0GTw6WLFmCatWqwdraGm3bttVZ16BBA1hbW0OtVmtv9+/fT/dY0dHR6NatGxwdHeHu7o7p06fncvRERESmz+DJgZeXF6ZMmYKBAwemuX7OnDmIiYnR3ry8vNI91rBhw/D8+XPcvn0bR44cwbfffou1a9fmVuhERET5gsEnXmrfvj0AIDw8HHfv3n3r48TGxmLjxo04duwYnJ2d4ezsjGHDhmHlypXo1auXvsIlIiLKd1QiO/MR61FwcDDCw8MRGhqqXdagQQNcunQJSUlJ8PX1xahRo9L9oj9//jyqVKmCxMREWFjIHGffvn348MMPERERkeHzhoSE6Cx7MwYiMozFixdjxIgRSodBZLRUGg2qz5mD2++/j4e1auntuG3btkWmX/1CIUFBQaJNmzY6y44fPy4iIyNFQkKC+PXXX4Wjo6P4+eef09z/8OHDwt7eXmfZ6dOnhbm5ebbi0PdLEBoaqtfjKclUymIq5RDCtMoSEBCgdAh6YyrnxVTKIYSJlOXrr4UAxMMqVfR62Kx87xlVb4XatWvDyckJlpaWaNKkCQYNGoRNmzalua1arUZsbCw0Go12WVRUFBwcHAwVLhERUe6IiwP+38j+z27dDP70RpUcpGRmln54pUuXhqWlJf744w/tsvDwcPj7+xsiNCIiotzz7bfA3btA27aIKlnS4E9v8ORAo9EgLi4OGo0GSUlJiIuLQ0JCAiIjI7Fr1y7Exsbi9evX+O2337B8+XJ06NAhzePY2dmhc+fOmDp1KqKionD9+nV8+eWXGDBggIFLREREpEexscCsWfJ+ijZyhmLw5GDGjBmwtbXFzJkzsWPHDtja2qJx48ZITExESEgIPDw84OLiglGjRmHhwoXo1KmTdt9mzZphVvILBjlmgpOTE7y9vVG3bl3079+fPRWIiChv++or4OFD4MMPgQoVFAnB4F0Zg4ODERwcnOa6U6dOZbjv7t27dR47Ojpiw4YN+gqNiIhIWTExwOzZgJkZkM53pSEYdZsDIiKifOWLL4CnT4Hu3QE/P8XCYHJARERkDKKigPnzAXNzYNo0RUNhckBERGQMFi0CIiKAPn0ABXoovInJARERkdKeP5fJgaUlMHWq0tEwOSAiIlLc/PlAdDQwYADg66t0NEwOiIiIFPX4MbB4MWBtDUyerHQ0AJgcEBERKWvOHDnw0ccfA4ULKx0NACYHREREyrl/H1i2DLCzAyZOVDoaLSYHRERESvnsMznJ0tChgLu70tFoMTkgIiJSwu3bwDffAA4OwPjxSkejg8kBERGREmbMABISgJEjgQIFlI5GB5MDIiIiQ/v3X2DVKsDZGRg9WuloUmFyQEREZGiffgpoNMCYMTJBMDJMDoiIiAzp6lXg++/lpYQRI5SOJk1MDoiIiAwpJARISgImTJCNEY0QkwMiIiJDuXQJ2LhRdlscMkTpaNLF5ICIiMhQgoIAIYBPPpEDHxkpJgdERESGcP488PPPcojkQYOUjiZDTA6IiIgMYdo0+XfyZMDGRtlYMsHkgIiIKLedOgXs3CmnY+7fX+loMsXkgIiIKLdNnSr/TpsGWFkpG0sWMDkgIiLKTUeOAPv2ASVLAr16KR1NljA5ICIiyi1C/FdrEBQEWFgoG08WMTkgIiLKLWFhwKFDgJ8f0LWr0tFkGZMDIiKi3PBmrUFICGBurmw82cDkgIiIKDfs3g2cOAFUqAB06KB0NNnC5ICIiEjfhPhvXINPPwXM8tbXbd6KloiIKC/Ytg04exaoVg1o3VrpaLKNyQEREZE+JSX9V2swfTqgUikbz1tgckBERKRPP/4IXLwI1KkDNGmidDRvxeDJwZIlS1CtWjVYW1ujbdu22uWPHz9G9+7d4e3tDUdHR1SuXBnbt2/P8FhFixaFra0t1Go11Go1nJ2dczd4IiKijLx+LcczAPJsrQGgQHLg5eWFKVOmYODAgTrLY2JiULlyZZw8eRKRkZH49NNP0bVrV1y5ciXD423YsAExMTGIiYlBZGRkLkZORESUifXrgb/+Aho0ABo2VDqat2bwoZrat28PAAgPD8fdu3e1y4sXL46xY8dqH7dq1QqlS5fGyZMnUbZsWUOHSURElD2JiXI8A0DWGuRhRtvm4PHjx/jzzz9RoUKFDLcbNGgQ3NzcULt2bezatctA0REREaWwdi3wzz+yncG77yodTY6ohBBCiScODg5GeHg4QkNDU61LSEhA06ZN4ePjgzVr1qR7jCNHjqBq1aowNzfHTz/9hP79++Pw4cOoXr16hs8bkpzZ/V9aMRBR7lq8eDFGjBihdBhEemGWmIj3Bw+G3ZMnODR3LiLfeUfpkNLVtm1bZPrVLxQSFBQk2rRpk2p5fHy8aNWqlWjRooWIj4/P1jE7deokJkyYkK199P0ShIaG6vV4SjKVsphKOYQwrbIEBAQoHYLemMp5MZVyCKFAWZYsEQIQolUrvR9a32XJyveeUU0PlZCQgE6dOiEhIQHbtm2DVTbnvDbLYyNQERGRCYiMBIKDZc+EPN7WIJnBkwONRqO9JSUlIS4uDmZmZlCpVPjwww/x8uVL7Ny5E9bW1hke5/bt27h58yZq1qwJMzMzbN26Fdu2bcOBAwcMVBIiIiIAM2cCT58C/foBFSsqHY1eGPyn9owZM2Bra4uZM2dix44dsLW1RePGjXH8+HFs27YNx44dg5ubm3bsglmzZmn3LVeuHNatWwdAdn0cPnw4ChQogIIFC2L+/PnYvHkzatWqZegiERFRfvX338DixYC9PTBjhtLR6I3Baw6Cg4MRHByc5jqRSQOJy5cva++XLVsW4eHheoyMiIgom8aPl10Yg4MBT0+lo9EbXqQnIiJ6GwcPAlu3AkWKAKNGKR2NXjE5ICIiyq7Xr/9LCObMAWxtlY1Hz5gcEBERZdeaNUB4OFC7NtC5s9LR6B2TAyIioux48QKYPFne//zzPDu5UkaYHBAREWXH7NnAw4dA9+5AjRpKR5MrmBwQERFl1a1bwIIFso3BZ58pHU2uYXJARESUVRMnAvHxwLhxgI+P0tHkGiYHREREWXH8OLBxI+DlJcc3MGFMDoiIiDKTlPRf18XPPpMjIpowJgdERESZWb8eOH0aqFYN6NFD6WhyHZMDIiKijMTGAp98Iu8vXAjkgxmATb+EREREOTF/PnD3LtCpE1CvntLRGASTAyIiovTcuyeHR7aykn/zCSYHRERE6Zk0SV5WGD0aKFZM6WgMhskBERFRWn7/HVi7FihU6L82B/kEkwMiIqKUhABGjpT3Z8wAHB0VDcfQLJQOgIiIyBCEAC5elGMZPXwIeHgAdeoA/v5pzJ3044/AsWNAhQpAv36KxKskJgdERGTyhAA2bwa2bZM9Ee3sgL//Bg4fBtq0AT788I0EIS7uvxEQFy0CzM0Vi1spTA6IiMjkXbwoEwMvL0Ct/m95TIxc7ucnKwkAyGmYb94EWrcGGjZUIFrlsc0BERGZvOPHZY3Bm4kBIB+rVHI9AHm9YdYswNJSjm+QTzE5ICIik/fwobyUkBZ7e+DRo/8/mDoVePECGDoUKFXKYPEZGyYHRERk8jw85HAFaXn5Uq7HH38AK1cCBQrIJCEfY3JAREQmr04dObFiTIzu8pgY2Vixdi0hZ10UAggJAVxclAnUSLBBIhERmTx/f9krYds22cbA3l7WGAghl/vf2A4cOCBbJg4apHS4imNyQEREJk+lkt0V/fxk48NHjwB39/+Pc1A6AaryY+WGCxYAFvxq5CtARET5gkoluytquywmW7RUDnrQtCnQrJkisRkbtjkgIqL86+lT2cbA3FzWGhAAJgdERJSfBQcDUVGynUHZskpHYzSYHBARUf505QqwfDng5CRrD0iLyQEREeVPY8YAr18D06YBbm5KR2NUmBwQEVH+8+uv8laypBwNkXQYPDlYsmQJqlWrBmtra7Rt21ZnXXR0NLp16wZHR0e4u7tj+vTpGR4ru9sTERFBowFGj5b3588HrKyUjccIGbwro5eXF6ZMmYL9+/fj7t27OuuGDRuG58+f4/bt23j8+DE++OAD+Pr6olevXmkeK7vbExER4euvgT//BAIC5MyLlIrBk4P27dsDAMLDw3WSg9jYWGzcuBHHjh2Ds7MznJ2dMWzYMKxcuTLNL/vsbk9ERITHj2UbA5UKWLhQ/qVUVEIIocQTBwcHIzw8HKGhoQCA8+fPo0qVKkhMTITF/0en2rdvHz788ENERESk2j+727/5vCEpWqUmx0BEhrN48WKMGDFC6TAon6mycCF8Dh/GjWbNcCGfDpPctm1bZPrVLxQSFBQk2rRpo318+PBhYW9vr7PN6dOnhbm5eZr7Z3f79Oj7JQgNDdXr8ZRkKmUxlXIIYVplCQgIUDoEvTGV82Iq5RAinbLs2iUEIEThwkJERRk+qLek7/OSle89o+mtoFarERsbC41Go10WFRUFBwcHvWxPRET5WEwM8PHH8v7SpYCjo7LxGDmjSQ5Kly4NS0tL/PHHH9pl4eHh8Pf318v2RESUj02bBty6BXToIKdhpAwZPDnQaDSIi4uDRqNBUlIS4uLikJCQADs7O3Tu3BlTp05FVFQUrl+/ji+//BIDBgxI8zjZ3Z6IiPKpM2eAxYvlSIhffql0NHmCwZODGTNmwNbWFjNnzsSOHTtga2uLxo0bA5BjIDg5OcHb2xt169ZF//79dXoeNGvWDLNmzdI+zmx7IiLK5xITgYEDgaQkYO5cwNNT6YjyBIN3ZQwODkZwcHCa6xwdHbFhw4Z09929e3e2ticionxu4ULgjz+AevUA1ixnmdG0OSAiItKrv/+Wsy5aWQHffAOY8Ssvq/hKERGR6RECCAwE4uKAyZOBMmWUjihPYXJAREQmx+fAAeC334CyZYGJE5UOJ89hckBERKbl8WOUX7VKDo387becWOktMDkgIiLTMmoUrF68kIMe1amjdDR5EpMDIiIyHbt3A+vX41WBAsBnnykdTZ7F5ICIiEzDG0MkX/joIw6RnANZHucgLi4Ohw4dQnh4OCIiIuDi4oJKlSqhfv36sLW1zc0YiYiIMvfGEMkPa9ZUOpo8LdOag+fPn2P06NHw9PTEkCFDcOzYMdy9exfHjh3DkCFD4OXlhVGjRuHZs2eGiJeIiCg1DpGsV5nWHNSoUQO9e/dGeHg4fH19U62/ffs21qxZg9q1a+PatWu5EiQREVG6OESy3mWaHISHh0OtVqe7vkiRIpg6dSpGjRql18DynKQkYMkS+P71F2f8IiLKISGAixeB48eBhw8BDw/Z8cDfX/ZQ1MEhkvUu0+TgzcQgPj4e1tbWqbZ5+vQp3Nzc9BtZXnPtGjBmDMqbmQGjRgGlSikdERFRniQEsHkzsG2bHPHYzk6OhHz4sPzt9eGHbyQIHCI5V2TrVaxWrRquXLmis2zv3r2oUKGCXoPKk8qUAaZNg0VCAtC7N/D6tdIRERHlSRcvysTAywsoWVL377Ztcj0A3SGSp0zhEMl6lK3koFevXqhbty6WL1+OxMREjB07Ft27d8fSpUtzK7685ZNPEFGqFHDiBDB/vtLREBHlScePywqAlFe01WpZY3D8+P8XrF373xDJEyYYPE5Tlq3kYNy4cdi3bx/mzZuHwoUL48yZMzh//jzatWuXW/HlLRYWODd8OGBtLbvUaNNbIiLKqocP5aWEtNjbA48eAXj8GBg9mkMk55JsX5z566+/EBERgSJFiiAiIgLR0dG5EVeeFePjA8yaBSQkAL16yb9ERJRlHh5AbGza616+lOsxahTw/DmHSM4l2UoOevbsialTp2Lnzp34/ffftZcZvvrqq9yKL28aORKoXx8IDwdmzFA6GiKiPKVOHdkBLCZGd3lMjGxm0Pi1HCIZhQtziORckq3kID4+HuHh4ajz/yxt7Nix2L9/Pz7//PPciC3vMjMDVq2S9V+zZsnBOYiIKEv8/WWvhPv3gevXdf92aBKDonPlEMlYupRDJOeSLA+fDACbN29Otaxq1ao4d+6c3gIyGcWLy763gwbJywvnzgEcZpqIKFMqleyu6OcnGx8+egS4u/9/nINV06D6/xDJHFMm92SaHFy5cgVly5bNcBt7e3v8+eef8PPz01tgJmHgQODnn4E9e2Q3mwULlI6IiChPUKmAChXkTevMGeALDpFsCJleVujatSs6deqEXbt24eXLlzrrYmNjsXv3bnTq1Aldu3bNtSDzLJUKWLkScHYGFi0CDh1SOiIioryJQyQbVKbJwfnz59GiRQsEBQXB2dkZRYsWRYUKFVC0aFE4OTlh2rRpaN68OS8tpKdwYWDJEtmKpm9f4MULpSMiIsp7OESyQWV6WaFr167YtGkT+vTpg1mzZqFy5co6UzZ7MnvLXLdu8vLCzz8D48YBy5crFkq2xisnIjIGHCLZ4DJNDn799Vft/dmzZ3Ncg7ehUsmE4MgR4OuvgbZtgaZNDR5GtsYrJyIyBm8Okfzppxwi2UAyTQ6qVq2KJk2aoFy5coiPj8fo0aPT3G7hwoV6D86kFCwoM9527YD+/YFLlwAXF4OG8OZ45W8OSxoTI5f7+aVo/ENEpLTkIZLLleMQyQaUad3M5s2bUb9+fURHR0MIgYiIiDRvlAVt2wI9e8rOusOGGfzpszxeORGRMXj0iEMkKyTTmgM3NzdMnjwZABAdHY1Vq1blelAm7YsvgLAwYN06WYvQoYPBnjpL45UTERmDpCSgTx85RPKQIUDt2kpHlK9kq1VHWoMgUTY5OwPffSfvBwbKyUMMJEvjlRMRGYPFi4Fff5XXO+fOVTqafIdNPpXQuLFMDJ4+lSMoCmGQp81svHIm5kRkFM6dk+0LrKyADRvSr/KkXJOt4ZNJj+bNA/buBUJDgR9+kG0RclnyeOXbtslLePb2ssZACLnc3z/XQyAiylhMDNC1qxz0aPFioGJFpSPKkKl2D2dyoBS1Gli9GnjvPdk4MSAA8PbO1afMcLzyPP5GJiITMWIEcO0a0KKFIg23s8OUu4cbXXKgTtGUPj4+Hn5+frhw4UKa2/fp0wfr16+H1RutWPft24faeaGOvF49YMwYYP582b3x11+176TcykbTHK+ciMgYbNok22R5esqZbY38m9WUu4cbXZuDmJgYnZufnx+6dOmS4T6DBw/W2SdPJAbJpk+X76C9e+UASfgvG509Gzh6VPZ8PHpUPt682WBNFIiIDOfmTeCjj2RCsHatHBvGyJly93CjSw7edPr0aVy5cgV9+vRROpTcY2MjPwjm5sDYscA//+hkoyVL6v7dtk1mq0REJkOjkcPMR0cD48cDH3ygdERZYsrdw1VCGO/v0EGDBuH+/fvYsWNHutv06dMH27dvBwB4enqiX79+GDVqFMzSGXs7ODgYISEhOstCQ0P1FvPbKr1hA8ps2oRnfn44OmOGTBaITNjixYsxYsQIpcMgI1Bm/XqU3rwZEaVK4chnn0FYGN0Vb5PStm1bZPbVb7TJwcuXL+Hl5YW1a9eiTZs26W537tw5+Pj4wNXVFWfOnMGHH36IUaNGYdSoUVl6HpVKlemLlJGUDVI6ddqGLVvaICkpmw1SEhOBWrWAc+ewp9F8/FR0DLy8Um92/76c6DEo6K1DzrJt27Zl+NrnFaZSDsC0ytKwYUOEhYUpHYZemMp5UaQchw7JBtn29kB4OFCihF4Oa4iyXLggL/em1ebg/n1g4kT9tDnQd1my8r1ntJcVtmzZAjs7O7Ro0SLD7apUqYKCBQvC3NwctWrVwsSJE7Fp0yYDRYlUlwCAt7wEYGkpLy9YWeH9A5Phcv9ymptxsCIiMhnPnwM9eshfWV99pbfEwFCSu4ffvw9cv677N693Dzfa5GDFihXo3bs3LLJZvZTe5YTcotcGKeXKATNmwEITj0EneiM2KlFnNQcrIiKTIQQwYABw965MEHr0UDqibEvuHj5xoux8Vriw/DtxYt7uxggYYVdGALh69SqOHz+epXkcNm/ejKZNm8LBwQFnz57F7NmzMWTIEANEKem9Qcro0RDbtqH4sWOosX8WtlYI4mBFRGR6vv4a2LoVKF4cWLpU6Wjemql2DzfK5GDlypWoV68eSpUqlWpdYGAgAGD58uUAgCVLluCjjz6CRqNB4cKFMXjwYIwZM8ZgsXp4yEEv0vJWlwDMzaFavRqiYkV0+GsG0LIlLttU5WBFRGQ6Ll8GRo0CLCzk8MiOjkpHRCkYZXIwN4NJNpKTgmSHDx/O7XAyVKeOHA0rJiZ1g5S3vgRQsiRU8+YBQ4ag447e6Pj777LLIxFRXvfqlRweOS5OtuarUUPpiCgNRtvmIK9I2SAF0FODlI8/Bho1khn2tGl6i5eISFHjxsmW2u+/L++TUTLKmoO8JOV8BYBskJLjSwAqFbByJVC+vBxeuUkT+WEiIsqrtm+X7Qvc3GTvLAM3IKes45nRg+QGKf9vDoHAQPk4x20DfHyA5cvl9YkuXYDbt3McKxGRIu7dA/r1k/dXrUKaA7mQ0WByYOy6dpUzkz19CnTsCMTHKx0REVH2vH4tp6V/9kz+P2vZUumIKBNMDvKC+fPldYozZ+R0pkREecncucCBA7JKNYMG52Q8mBzkBVZWwJYtgLu77BuchfEfiIiMwsmTwNSpgK2t7LbInld5ApODvMLLS07iYG4uezKcO6d0REREGYuKkrMtvn4NfP45ULas0hFRFjE5yEvq1wfmzZPtDjp0kNfviIiMkRDyh8yNG0D79sDAgUpHRNnA5CCvGTkS6NwZuHkT6N5dZuRERMZm7Vp5GcHHB/j2Ww7tmscwOchrVCpgxQo5SdOePUBIiNIRERHpun4dGDJEjmOwbh3g6qp0RJRNTA7yIrUa+PlnwMEBmD4d2LlT6YiIiKSEBNkF++VLYMoUOSoc5TlMDvKqd94B1qyR93v0SH/2JyIiQ5o8GTh7FqhbV/ZSoDyJyUFe1q6dnDg8Kko2UIyNVToiIsrP9u6V47I4OcnLCRYcoT+vYnKQ182YAXzwAXDhAjBokGwhTERkaI8fA716yfvffgv4+iobD+UIk4O8ztwcWL9etgj+4Qdg2TKlIyKi/CYxUbYzePQIGDAA6NRJ6Ygoh5gcmIKCBYGffpIjKY4c+d/0kEREuUwkCTzrOhQIC8ND94pYUf5zXLjASsy8jsmBqaheHViyBNBoZNb+8KHSERGRiRMCON/3CxT46RtE2rjj84bbcfCMPWbPlgO6MkHIu5gcmJIBA+SUqPfvy4GSEhOVjoiITNjNr3aj0vejkWhujS3dt8HmnSIoWVKO9r5tG3DxotIR0tticmBKVCpZe1ClCnD4sOzJQESUGy5dQuExnWEmkrCt7Wrc866pXaVWy39HvMKZdzE5MDW2trL9gasrsHChrNsjItKnx4+BVq1gFfcCO6oE4VL5Lqk2sbeX7RMpb2JyYIqKFpU9GFQqeZnhyhWlIyIiUxEfLydSunkTf1ftjE1lgtLc7OVLwMPDwLGR3jA5MFVNmgCffio/oe3bA9HRSkdERHmdEHJ2xWPHgOrV8WrZKiQJFWJidDeLiZGb1q6tTJiUc0wOTNmkSUCrVsDVq0Dfvmw6TEQ5M3s28P33gLc3sG0byle3RZs2sg309eu6f9u0Afz9lQ6Y3hbHtjRlZmZy2tRq1eRETfPmAePHKx0VEeVFP/8sf3DY2QHbtwOenlAB+PBDwM9PNj589Ahwdwfq1JGJAWdpzruYHJg6Z2f5oa5VC/jkE5koNGyodFRElJecOwf07Cm/7detAypX1q5SqYAKFeSNTAcvK+QHFSrIsc6TkuT4B3fuKB0REeUV9+8DrVvLid0++wxo21bpiMgAmBzkF927A8OGAU+fAh07yhbHREQZiY2VjQfu3QN69+ZlyXyEyUF+Mn++vBh4+rScg4GIKD1JSUCfPsDvvwP16gFff81GBPkIk4P8xMoK2LJFthhavlxeaiAiSktwsPx/UayYHFjN2lrpiMiAmBzkN15ectRES0sgMBAIDVU6IiIyNuvXA9OnA46OwI4dcuZXyleYHORH9esDP/wgxz3o0gU4eFDpiIjIWJw4IUdWNTMDNm0CypVTOiJSgNElB3369IGVlRXUarX2duLEiXS3T0xMxNChQ+Hi4gJXV1cMGzYMGo3GgBHnUR9+CCxdKhsmtm4tuyoRUb5m+/ix7I0QHw8sWgQ0bap0SKQQo0sOAGDw4MGIiYnR3mpnMAbnjBkzcPToUVy5cgWXL1/GkSNHMGvWLANGm4d9/LEcYvnFC/lP4No1pSMiIqW8eIGaM2fKSZUCA2XvJsq3jDI5yI7vvvsOU6ZMgaenJzw9PTF58mSsXLlS6bDyjilT5D+BJ0+Axo1llyUiyl9evwa6dYPTrVvA++8DX3zBngn5nEoI4xpwv0+fPti+fTsAwNPTE/369cOoUaNgZpY6j4mIiICrqyuuX7+OkiVLAgCuX7+Od955B5GRkXByckq1T3BwMEJCQnSWheb3RnlJSajy+efwOXwY0UWK4OjMmUh0cFA6KjJxixcvxogRI5QOgwCUXb0apUJDEePlhcNz5yJRrVY6JMpFbdu2RaZf/cLInD17Vjx+/FhoNBpx4sQJ4ePjIxYuXJjmtrdv3xYAxJMnT7TLHj9+LACIO3fuZOn59P0ShIaG6vV4BhMfL0TTpkIAQtSuLURMTN4tSwqmUg4hTKssAQEBSoegN3n6vKxYIT/3Li5i37JlSkejN3n6nKSg77Jk5XvP6C4rVKlSBQULFoS5uTlq1aqFiRMnYtOmTWluq/5/dhsVFaVdlnzfgb98s8fKCvjxRznH6okTQMeOUCUmKh0VEeWmQ4dk+wILC+Cnn/DSy0vpiMhIGF1ykFJalxOSubi4wNvbG+Hh4dpl4eHh8PHxSfOSAmXC3h7YuVN2Xfr1V1T54gs5ShoRmZ6//wbatwc0GmDZMiAgQOmIyIgYXXKwefNmREdHQwiB33//HbNnz0aHDh3S3b5v376YOXMmHj58iIcPH2LWrFkYMGCAASM2Ma6uwJ49gK8vvI8cAUaMkOMhEJHpiIwEWrUCnj8HRo0CBg5UOiIyMkY3ZfOSJUvw0UcfQaPRoHDhwhg8eDDGjBmjXR8YGAgAWL58OQBg6tSpePbsGfz8/AAAPXr0wKRJkwwfuCkpXBjYtw/x1avDeskSOTratGlKR0VE+hAXB3TqBPz1F9CiBTBvntIRkREyuuTg8OHDGa5PTgqSWVpaYunSpVi6dGluhpX/lCqFE0FBaBAUBAQFyQTh44+VjoqIciIuDujQAdi/H/D3l8Mkm5srHRUZIaO7rEDGI6p4cWD7djnhypAhcihVIsqb4uNlYrBrF+DnB+zbJ+dOIEoDkwPKWIMGwMaNckCUnj2BvXuVjoiIsis+XjY+TE4MDhyQs7MSpcPoLiuQEWrbVk7v3L8/0K4dEBYG1KypdFREJk0I4OJF4Phx4OFDwMMDqFNHXg3I1uCFTAzoLTA5oKzp1w94+hSYMAFo3hw4cgQoW1bpqIhMkhByZvVt2+TkiHZ2sufh4cNAmzZy3rQsJQgpE4OwMCYGlCW8rEBZN348MHas7P7UuDFw65bSERGZpIsXZWLg5QWULKn7d9s2uT5TKdsYhIXJ6geiLGByQNkzdy7Qt6+coKlxYzlhExHp1fHjssYg5RQHarWsMTh+PJMDJCcGv/wClCnDxICyjckBZY9KBXzzjazbvHYNaNZMTvlMRHrz8KG8lJAWe3vg0aMMdo6PBzp2/C8xOHCAiQFlG5MDyj4LC2DDBqB+feDsWdlgMS5O6aiITIaHBxAbm/a6ly8z+K5PTgx27mRiQDnC5IDejq2tHAOhUiVZZdm9u5wTnohyrE4dOa1JTIzu8pgY2Vixdu00doqPlyMfJicGvJRAOcDkgN6ekxPw66+ypdTPP8sRFDkPA1GO+fvLK3f37wPXr+v+bdNGrteRnBjs2PFfYuDpqUjsZBrYlZFyxt1dDoxUt64cC8HFBZg9O5sdsYnoTSqV7K7o5ycbHz56JD9qaY5z8GZiULo0EwPSCyYHlHPFismZHOvXl70ZIiOBpUtl2wQieisqFVChgrylKyFBNzE4cICJAekFLyuQfvj7AwcPymuc33wjG0W9eqV0VESmKyFBfs6YGFAuYHJA+lOxInDiBPDOO3Kklg8+kAMmEZF+scaAchmTA9KvokWBY8fk3AvHjwPvvgvcvq10VESmIzkx2L5dJuJMDCgXMDkg/XNzA377DWjRAvjzT9mK6tIlpaMiyvtSJgYHDzIxoFzBFmOUO+ztgdBQYNAg4LvvZA3C9u2y0SKRQvQ206ESEhJkFwbWGJABMDmg3GNhAaxYIWeLmTFDzsWwbp0c853IwPQ206ESkhODbdv+Swy8vJSOikwYLytQ7lKpgOnTZdfG5CrRpUuVjoryIb3MdKiEhASgc2cmBmRQTA7IMAYPBn78EbCyAoYOBSZP5miKZFA5nulQCcmJQWgoUKoUEwMyGCYHZDjt2wP79gHOzsCsWUD//kBiotJRUT6Ro5kOlfDoEdCw4X+JwcGDTAzIYJgckGHVqwccOQIULgysWiVndHz5UumoKB9465kOlfD770C1arJbcPXqwKFDTAzIoJgckOGVLy8HS/LzA3btkr+Onj5VOioycW8106ESfvhBJtF37wK9eskWk+yVQAbG5ICU4eMDHD0qJ2w6fVr+vXFD6ajIhGV7pkNDe/0aGDcO6NlTtjVYtAhYvRqwsVE4MMqP2JWRlOPqKtsgdO0qW2LXqQPs3g1UqqR0ZGSCsjXToaFFRMjPwZ49cmbTzZvl8ONECmFyQMqytZW9GIYMkRM21a8vG2A1bKh0ZGSCsjTToaFduSKrLv7+GyhXTibKJUooHRXlc0wOSHkWFsDy5bKRYlAQ0LQp8P33sgsXkSnbvh3o0QN48QJo1w5YswZwcMi1p8vTI0SSQTE5IOOgUgHTpsmGV4GBQJcu8r/XiBFKR0akf0IAM2cCU6fKx8HB8r5Z7jUDy8oIkUTJmByQcRk4UF4I7twZGDkSuHcPmD07V/9pEhlUTAzQpw/w009yBKbvv5ddenPZmyNEvjkQVEyMXO7nl+shUB7C/7hkfFq3lrM6urgA8+YBvXsDcXFKR0WUczduyHr8n34CiheXXXoNkBgAeXSESFIMkwMyTnXqyAFgfHxkv+8aNTjtM+VtYWFyQKOLF2VPhDNn5JgfBpLnRogkRRldchAfH4+BAweiWLFicHBwQJkyZfDdd9+lu32DBg1gbW0NtVqtvd2/f9+AEVOu8fMDTp6UPRcuXpQjxi1eLEeyIcorhAC+/FLOSvrsGTBqlOyy6+pq0DDy1AiRpDijSw40Gg08PT2xf/9+REdHY/Xq1RgzZgz27t2b7j5z5sxBTEyM9ubFYUZNh5eXHAth3jyZFIwcCTRrBjx4oHRkRJmLj5dziAwfLnvlrFkDLFwo7xtYnhkhkoyC0SUH9vb2+PTTT1GiRAmoVCrUqlULAQEBOHr0qNKhkVLMzICxY+VIin5+wN69su9VaKjSkRGl78EDoEEDOYeIl5fsFtCrl2LhGP0IkWRUVEIY97y5cXFxKFmyJD7//HN07Ngx1foGDRrg0qVLSEpKgq+vL0aNGoVeGXwAg4ODERISorMslF8yeYZ5fDzKrlmD4rt2AQBuNmqES/374zWHmM1zFi9ejBEm2lXV5do1VJ89G7bPn+N56dI4PWEC4g18GYEoPW3btkWmX/3CiCUlJYnu3buLBg0aiNevX6e5zfHjx0VkZKRISEgQv/76q3B0dBQ///xzlp9D3y9BaGioXo+nJKMuyy+/CFGokBCAEKVKCXH6dLqbGnU5ssnYypKUJMTGjUJ07SpE9+5CDBwo/3btKpcnJaW/b0BAgOECzWU652X1aiGsrOR7s39/IeLilAssm4zt/ZUTLEv6svK9Z3SXFZIJITB48GBcvXoVoaGhMEunn3vt2rXh5OQES0tLNGnSBIMGDcKmTZsMHC0ZXPPmspFiixaybrROHWDWLDl5DRnMm33nS5bU/bttm1yfb2g0srFhnz7yffjll8C33wLW1kpHRpRtRjkIkhACQ4YMwalTp/Dbb7/Byckpy/uml0SQCSpUCNixQw69PGYMMHky8OuvclAZX1+DhZGfh6TNSt95o5rHIJc43rwpp1k+eRIoUADYsgUICFA6LKK3ZpTJwdChQ3Hs2DGEhYXBxcUl3e0iIyNx/PhxbXfGgwcPYvny5fj2228NGC0pSqUCPv5YNvzq3h04ckR+G331FdCtW64/fVaGpDWmBEHfiUy+7zv/8iUQEoL3FiyQXQGqVpWJQbFiSkdGlCNG9zP71q1bWLZsGa5evQpfX1/t2AWBgYEAgGbNmmHWrFkAgMTERISEhMDDwwMuLi4YNWoUFi5ciE6dOilZBFJC8pgI48fLSWy6d5e3yMhcfdq8VK2enMjMng0cPSpbqR89Kh9v3izXZ1e+7ju/c6ecRXHePCRZWQGffy7fg0wMyAQYXc2Br69vhq0od+/erb1fsGBBnDp1yhBhUV5gZQXMmSNndezVC1i/Hjh6FAUGDZI/43NBXqpWz8rY+tmNtU4dWUsSE5P6mCbbd/7ePTluwc8/y8ft2+O35s3RpH9/ZeMi0iOjqzkgyrGAAODCBVmnf/s26k6ZItsjJCbq/anyUrV6boytn6/6zr9+DXzxhcyifv4ZKFIE2LED4sefEOfmhuXL5eSKy5fLt59xdxInypjR1RxQ3mOUDfJcXICNG4EWLaAJDITlrFly8KR164B33tHb03h4yDYGaTG2avXcSGRUKpmD+fnJ8//okZxUU/Hzr29nzwKDBsm/5ubAuHFAUBCEnT02bwZsbOQlGmNvc0KUVUwOKEeMukGeSgX06oWDcXFotGaN/PaqXFleGx4wQC+B5aVq9dxKZFQqeTnCWC6f6FV0NDB1KrBkiWxwWKsW8PXX2sJevCDf+507y7YmyXJyqYbIGPCyAuVIXmiQF+vuDhw6BISEyLHuP/oIaNdOL3X+ealanWPrZ4MQclplPz95KcHRUV4vOHZM59s++VJNSpwGmfI61hxQjuSZBnkWFsC0aXJmvB49ZOayfz8wYoSctyGDLrMZyUvV6smJzLZtMi57e1ljIITxJTKKunkTGDoU+OUX+bhbNzlZkrt7qk3zUpsTouxgckA5kuf+OdaqBZw/DwQFAcuWyVEVly6VCcKIEYCDQ7YPmVeq1fNSIqOIxERg0SJZwxQbK6vAli0DGjVKd5e81OaEKDt4WYFyJE/2c3dwkL8Er1+XlxhevpTXlYsXl8tfvVI6wlyTnMgEBsr8KDBQPs73icGJE3IAowkTZJIwdarscpBBYgD8d6kmJV6qobyOyQHlSJ6+ju3jIxuX/fUX0LMn8OyZHIa5ZEk5wmJCgtIRUm6LiJC9EOrUkQ1k3nsP+OMP4NNPAVvbTHdPvlQDGH+bE6LsYHJAOZJbDfKEkD/cDNJ3vEQJYO1a4NIloGNHGfzgwUDp0sDq1XJCHTItQshBssqUAb75Rs6HsGoVcOCAvO6SRcmXagA5tULhwvLvxInsxkh5G9scUI7kxnVsxbpHli0rx8U/d05WK+/aBfTtK8cX/vRTmThwYq+8LSkJ2LMHmDsXOHhQLuvbVz52c3urQya/F/8/wjuRSWByQDmm7wZ5uTHMb7IsDdhUpYpsqX78ODBlivw12bkzULEiMH060LIlfxLmNS9eAGvWyGmUr12Ty8qUkVVS772nbGxERog/g8jo5MYwv8BbTDxUpw4QFia7PNasKa9Ft24tG1Ls38/xcfOCf/4BRo0CvL2BYcNkYvDuu/KEJ7cxIKJUmByQ0cmt7pFvPWDT++/L1uw7dsjag1OnZCv2hg05yo0xEgL47TeZyJUqJUfEjIsDevcGfv9dTuvdqZMc+4KI0sTkgIxObnWPzFGNhEolLyecOyd/dZYpI69Z160LNG8ul5OyYmNl40J/f+CDD2Qy5+4u24vcuSMbl1atqnSURHkCkwMyOrnVPVIvNRJmZvJX58WL8hp2sWLA7t3yS6djRyA8nJcbDO3WLTk+gbe37JZ4+TJQo4acZOvWLdm4tFAhpaMkylOYHJDRya3ukXqtkbCwAHr1kmMkLF8u+7D99JOc2KlsWfmF9McfTBRyixCy+0rHjnLwqrlzZaPDrl2BkyflpZ9u3QArK6UjJcqTeNGNjE5uDfObKzMoWlnJX6u9eskq7TVr5PDMM2bIW8mS8gusY0fZC4K9HHImLg7YsEFOhhQeLpcVLCjPwccfywYkRJRjTA7IKOXGfAW5OvGQra2cm2HECNlC/qefgB9/BM6ckd0hZs8Gihb9L1GoUYOJQnbcvy/nOfj6a+DpU7msUiX5enfpAtjYKBoekalhckD5hsEmHipRAhg/Xt5u3gR+/lkmCidOAPPny5uPD9Chg0wUatfm4EppuXtXVvXs2CFfP41Gvk4dOwLDh8suiUywiHIFkwPKVww+g2LRosDo0fJ29+5/icLRo7KL3eefA56e/yUK774LmJsbKDgjIsR/w2AeOSL/3rihXf3KxgV/NfwINqMHo0zjIswJiHIZkwMiQ/H2lr94hw8HHjwAtm6VicKhQ8CSJfJWqBDQvr1MFN57z3T74iclwTImRk6XffiwvD18qLNJZBF/nLauj6vu9XG1VEtEJtghaQ3QJpLzFhDlNhP9z0Nk5Dw95eROgwcDjx8DoaEyUQgLk70fli+XkwG1awe0bSurOgoXVjrqt5eYKBtqJicCR4/CMyJCtskAZG1JjRpy1qL69XHZ5V3M/MpVO4S2G+RNH0NoE1HmmBwQKa1QIeCjj+Tt2TP57ffjj8C+fcCKFfIGANbWaFiwoHxcooTsCVGihLwVLWpc3fbi4oDTp/9LBo4fl60/k1lbI87ZGRg6FKhfX7a7eKMLyZHlmQ9YxeSAKPcwOSAyJgUKAP36yVtEhGyMt3evvB7/999wuHtXtl1IycwMKFJEN2F48769vX7i02jkeAJv3qKj/7t//bpMBk6fBhIS/ttPrQaaNNHWDKB6dTxu3lxOZJWG3BpCm4iyhskBkbFycZHjJ/TqpV30y7p1aFGmjOwu+c8/MmlIvn/zprzt35/6WB4eqRMGc/O0v+AzevzqVdZid3X9LxGoX192O8xG+wkPD1m0tORkCG0iyhomB0R5iEatlkM1pzVHwKtXsoX/mwlD8v2bN+XP8WPH3u6JrawABwf5rezgoHtzdPzvvpeXTAr8/HLUPTNXBqwioixjckBkKmxt5dDNZcumXqfRALdv/5cw/PuvvHif3pd8yscGbs+QqwNWEVGmmBwQ5QcWFnIOguLF5XTTRs5gA1YRUZqYHBCRUTL4gFVEpMUxW4mIiEgHkwMiIiLSYZTJQWJiIoYOHQoXFxe4urpi2LBh0Gg0Od6WiIiIMmeUycGMGTNw9OhRXLlyBZcvX8aRI0cwa9asHG9LREREmTPK5OC7777DlClT4OnpCU9PT0yePBkrV67M8bZERESUOZUQQigdxJsiIiLg6uqK69evo2TJkgCA69ev45133kFkZCScnJzeattkwcHBCAkJ0VkWEBCQiyUiorT8+eef8PPzUzoMonznwIEDyPSrXxiZ27dvCwDiyZMn2mWPHz8WAMSdO3feetv06PslCA0N1evxlGQqZTGVcghhWmUJCAhQOgS9MZXzYirlEIJlyUhWvveM7rKC+v9jpUZFRWmXJd93cHB4622JiIgoa4wuOXBxcYG3tzfCw8O1y8LDw+Hj45PqMkF2tiUiIqKsMcoREvv27YuZM2eibt26AIBZs2ZhwIABOd6WKK8QArh4UQ4d/PChnO+oTh2loyKi/MIok4OpU6fi2bNn2sZKPXr0wKRJkwAAgYGBAIDly5dnui1RXiQEsHmznHTIzAyws5NzJR0+DHTuLNdzbgEiyk1GmRxYWlpi6dKlWLp0aap1yUlBVrYlyosuXpSJgZdX6umKk9dzvgEiyk1G1+aAKL87flzWGLyZGAD/PT5+3PAxEVH+wuSAyMg8fCgvJaTn0SPDxUJE+ROTAyIj4+EBxMZmvJ6IKDcxOSAyMnXqAElJ/7UxSJb8uHZtw8dERPmLUTZIJMrP/P2BNm1ko0SVCrC3B16+lL0UktcTEeUmJgdERkalAj78EPDzk40PHz0C3N1ljcKNG+zGSES5j8kBkRFSqWR3xZRdFm/cUCYeIspf2OaAiIiIdDA5ICIiIh1MDoiIiEgHkwMiIiLSweSAiIiIdDA5ICIiIh1MDoiIiEgHkwMiIiLSweSAiIiIdHCERAAqjkdLpAh+9oiMU75PDkTybDZ6olKp9H5MpZhKWUylHADLYqxMpSymUg6AZckpXlYgIiIiHUwOiIiISAeTAz0LCgpSOgS9MZWymEo5AJbFWJlKWUylHADLklMqYSoXZYiIiEgvWHNAREREOpgcEBERkQ4mB0RERKSDyQERERHpYHJAREREOpgc5MAvv/yC+vXrw8XFBYUKFULHjh1x9+7dDPcJDQ1FqVKlYGdnh3fffRd//fWXgaLN2IMHD9C6dWt4eXlBpVIhPDw8w+0PHjwIlUoFtVqtvQ0dOtQwwWYgu+UAjPecAMCxY8dQsWJF2NnZoVKlSjhx4kS62968eTPVOWnVqpUBo9WVmJiIoUOHwsXFBa6urhg2bBg0Gk2OtzW07MTWp08fWFlZ6ZyDjM6ZoS1ZsgTVqlWDtbU12rZtm+G20dHR6NatGxwdHeHu7o7p06cbJsgsyE45GjRoAGtra51zcv/+fcMEmgXx8fEYOHAgihUrBgcHB5QpUwbfffddutsb6rwwOciBqKgoTJgwAXfu3MGNGzfg6OiIDz/8MN3tr169iu7du2PRokV4/vw5GjZsiDZt2hjFP0EzMzM0bdoUoaGhWd7HyckJMTEx2tuSJUtyL8Asym45jPmcPH/+HC1btsTQoUMRERGBIUOGoGXLloiMjMxwv7t372rPyY4dOwwTbBpmzJiBo0eP4sqVK7h8+TKOHDmCWbNm5XhbQ8tubIMHD9b5XNSuXduA0WbMy8sLU6ZMwcCBAzPddtiwYXj+/Dlu376NI0eO4Ntvv8XatWsNEGXmslMOAJgzZ47OOfHy8srlCLNOo9HA09MT+/fvR3R0NFavXo0xY8Zg7969aW5vsPMiSG/++OMPYWZmJhITE9NcP2XKFNGiRQvt44SEBOHs7CzCwsIMFWKWABDnz5/PcJsDBw4IJycng8TztrJSDmM+JytWrBDlypXTWVa2bFnx3Xffpbn9jRs3BAARERFhgOgy5+3tLbZs2aJ9vHnzZlGkSJEcb2to2Ymtd+/eYsSIEQaK7O0FBQWJNm3apLv+5cuXwsrKSpw5c0a7bO7cuaJ+/foGiC7rMiuHEEK89957YtGiRQaJR1/atWsnpk6dmmq5Ic8Law706NChQ/Dz84OFRdrzWV24cAGVKlXSPra0tETZsmVx4cIFA0WoX8kZuLe3N7p374579+4pHVK2GfM5SRkbAFSqVCnT2MqXLw8PDw+0bt1asUskERERuHv3rk78lSpVwu3btxEVFfXW2xra28S2du1auLq6oly5cliwYAGSkpIMFK3+XL16FQkJCanKbQyfi7cxY8YMuLq6onLlykZT+5GeuLg4nD59GhUqVEi1zpDnhclBOlq2bAmVSpXu7ebNmzrbnz9/HlOnTsWiRYvSPWZMTAycnZ11ljk7O+PFixe5UIL/ZLcsWVGmTBmEh4fjzp07+P333yGEQKtWrXL1H2FulMOYz0l2Y3Nzc8OpU6dw48YN/PXXXyhVqhQaNWqE6OjoXC1LWmJiYgBAJ/7k+ynjz862hpbd2IYPH46rV6/iyZMnWLlyJRYvXozFixcbIlS9iomJgb29vc4PHUN8LnLDZ599hn/++QePHj3C7NmzMWzYMGzdulXpsNIkhMCAAQNQqlQptG/fPtV6Q56XfD9lc3rWr1+PhISEdNe7urpq71+8eBHNmjXDkiVL0KhRo3T3UavVqX5tREVFwcHBIecBZyA7ZckqDw8PeHh4aO9/8803cHJywrVr11CmTJm3jjUjuVEOYz4narUaz58/TxVbwYIF09xHrVajRo0aAOQ/jPnz52PdunU4fvw4mjZtqr/gs0CtVgOQ8bq5uWnvA0j12mZnW0PLbmxVqlTR3q9VqxYmTpyItWvXYtSoUQaIVn/UajViY2Oh0Wi0X0SG+FzkhjfbfDRp0gSDBg3Cpk2b0K5dOwWjSk0IgcGDB+Pq1avYv38/zMxS/3Y35HlhcpAOR0fHLG138eJFfPDBB5g9ezZ69OiR4bYVKlTQaT2fmJiIK1euwN/fPyehZiqrZckJlUqV68+RG+Uw5nNSoUIFfP755zrLwsPDMXr06Cw9R3IthBJcXFzg7e2N8PBwlChRAoCM3cfHB05OTm+9raHlNLa0/sHnBaVLl4alpSX++OMPVK1aFYAsd25/LgzBGM+JEAJDhgzBqVOn8Ntvv6X73jLoedF7K4Z85NKlS6JQoULim2++ydL2f/31l7CzsxO//PKLiIuLE0FBQaJUqVLpNmA0tFevXolXr14JAOLUqVPi1atX4vXr12luGxYWJv7991+RlJQknj59Knr27Cn8/f2FRqMxcNSpZaccxnxOnj17JpydncWKFStEfHy8WLFihXB1dRXPnz9Pc/uTJ0+KK1euCI1GI168eCHGjx8vPD09RWRkpIEjl6ZOnSoqV64sHjx4IB48eCAqV64sQkJCcrytoWUntk2bNomoqCiRlJQkzpw5I3x9fcXcuXMNHHH6EhMTxatXr8TkyZNFq1atxKtXr0R8fHya2/bs2VM0a9ZMREZGimvXrokiRYqINWvWGDjitGW1HBEREeKXX34RL1++FBqNRuzfv184OTmJzZs3KxB1+gYPHiwqVKggnj59mum2hjovTA5yoE+fPkKlUgl7e3ud261bt4QQQhw+fFjY29vr7PPzzz+LkiVLChsbG1GnTh3x559/KhF6mgCkuh04cEAIkbosCxYsEN7e3sLOzk54eHiIrl27asuttOyUQwjjPidHjhwR/v7+wsbGRlSoUEEcO3ZMu+7WrVs677f169eL4sWLCzs7O+Hm5iZatGghLl68qFToIiEhQQwePFg4OzsLZ2dnMXToUG3SNWjQIDFo0KAsbau07JSjXr16wsnJSdjb24t33nlHzJkzJ93EVAlBQUGpPhvvvfeeEEKIpk2bipkzZ2q3jYqKEl26dBFqtVoULFjQaJI1IbJejsePH4saNWoIBwcH4eDgIPz9/cXKlSsVjDy1mzdvCgDC2tpa53sk+X2l1HnhlM1ERESkw/guvhAREZGimBwQERGRDiYHREREpIPJAREREelgckBEREQ6mBwQERGRDiYHREREpIPJAREREelgckBEREQ6mBwQERGRDiYHRGQQd+7cgZubG/bt2wcASEhIQJUqVRASEqJwZESUEudWICKD+emnnzB06FD88ccf+Oyzz3Du3DmEhYXB3Nxc6dCI6A1MDojIoAYNGoQTJ07g3r17CA8Ph4+Pj9IhEVEKvKxARAY1ePBgXLx4Ed26dWNiQGSkWHNARAaTkJCA2rVrw9/fH1u3bkVYWBiqVq2qdFhElIKF0gEQUf4xceJEqNVqfPfdd6hWrRq6du2Kc+fOQa1WKx0aEb2BNQdEZBC//vorunfvrtPOoE2bNnB1dcWqVasUjo6I3sTkgIiIiHSwQSIRERHpYHJAREREOpgcEBERkQ4mB0RERKSDyQERERHpYHJAREREOpgcEBERkQ4mB0RERKSDyQERERHpYHJAREREOv4HgXVEJNNOUaMAAAAASUVORK5CYII=\n"
                },
                "metadata": {}
              }
            ]
          }
        },
        "be1fd68b21bb45aa8136be093491f679": {
          "model_module": "@jupyter-widgets/base",
          "model_name": "LayoutModel",
          "model_module_version": "1.2.0",
          "state": {
            "_model_module": "@jupyter-widgets/base",
            "_model_module_version": "1.2.0",
            "_model_name": "LayoutModel",
            "_view_count": null,
            "_view_module": "@jupyter-widgets/base",
            "_view_module_version": "1.2.0",
            "_view_name": "LayoutView",
            "align_content": null,
            "align_items": null,
            "align_self": null,
            "border": null,
            "bottom": null,
            "display": null,
            "flex": null,
            "flex_flow": null,
            "grid_area": null,
            "grid_auto_columns": null,
            "grid_auto_flow": null,
            "grid_auto_rows": null,
            "grid_column": null,
            "grid_gap": null,
            "grid_row": null,
            "grid_template_areas": null,
            "grid_template_columns": null,
            "grid_template_rows": null,
            "height": null,
            "justify_content": null,
            "justify_items": null,
            "left": null,
            "margin": null,
            "max_height": null,
            "max_width": null,
            "min_height": null,
            "min_width": null,
            "object_fit": null,
            "object_position": null,
            "order": null,
            "overflow": null,
            "overflow_x": null,
            "overflow_y": null,
            "padding": null,
            "right": null,
            "top": null,
            "visibility": null,
            "width": null
          }
        },
        "d1c33fef46d1440f83db93ab4393ae35": {
          "model_module": "@jupyter-widgets/base",
          "model_name": "LayoutModel",
          "model_module_version": "1.2.0",
          "state": {
            "_model_module": "@jupyter-widgets/base",
            "_model_module_version": "1.2.0",
            "_model_name": "LayoutModel",
            "_view_count": null,
            "_view_module": "@jupyter-widgets/base",
            "_view_module_version": "1.2.0",
            "_view_name": "LayoutView",
            "align_content": null,
            "align_items": null,
            "align_self": null,
            "border": null,
            "bottom": null,
            "display": null,
            "flex": null,
            "flex_flow": null,
            "grid_area": null,
            "grid_auto_columns": null,
            "grid_auto_flow": null,
            "grid_auto_rows": null,
            "grid_column": null,
            "grid_gap": null,
            "grid_row": null,
            "grid_template_areas": null,
            "grid_template_columns": null,
            "grid_template_rows": null,
            "height": null,
            "justify_content": null,
            "justify_items": null,
            "left": null,
            "margin": null,
            "max_height": null,
            "max_width": null,
            "min_height": null,
            "min_width": null,
            "object_fit": null,
            "object_position": null,
            "order": null,
            "overflow": null,
            "overflow_x": null,
            "overflow_y": null,
            "padding": null,
            "right": null,
            "top": null,
            "visibility": null,
            "width": null
          }
        },
        "9ec7793e8ef845949624d21b596f258c": {
          "model_module": "@jupyter-widgets/controls",
          "model_name": "SliderStyleModel",
          "model_module_version": "1.5.0",
          "state": {
            "_model_module": "@jupyter-widgets/controls",
            "_model_module_version": "1.5.0",
            "_model_name": "SliderStyleModel",
            "_view_count": null,
            "_view_module": "@jupyter-widgets/base",
            "_view_module_version": "1.2.0",
            "_view_name": "StyleView",
            "description_width": "",
            "handle_color": null
          }
        },
        "41aa598807ea4238a01cf797ddf32aae": {
          "model_module": "@jupyter-widgets/base",
          "model_name": "LayoutModel",
          "model_module_version": "1.2.0",
          "state": {
            "_model_module": "@jupyter-widgets/base",
            "_model_module_version": "1.2.0",
            "_model_name": "LayoutModel",
            "_view_count": null,
            "_view_module": "@jupyter-widgets/base",
            "_view_module_version": "1.2.0",
            "_view_name": "LayoutView",
            "align_content": null,
            "align_items": null,
            "align_self": null,
            "border": null,
            "bottom": null,
            "display": null,
            "flex": null,
            "flex_flow": null,
            "grid_area": null,
            "grid_auto_columns": null,
            "grid_auto_flow": null,
            "grid_auto_rows": null,
            "grid_column": null,
            "grid_gap": null,
            "grid_row": null,
            "grid_template_areas": null,
            "grid_template_columns": null,
            "grid_template_rows": null,
            "height": null,
            "justify_content": null,
            "justify_items": null,
            "left": null,
            "margin": null,
            "max_height": null,
            "max_width": null,
            "min_height": null,
            "min_width": null,
            "object_fit": null,
            "object_position": null,
            "order": null,
            "overflow": null,
            "overflow_x": null,
            "overflow_y": null,
            "padding": null,
            "right": null,
            "top": null,
            "visibility": null,
            "width": null
          }
        },
        "ebb96b0673f144ae9f406fd6460298cb": {
          "model_module": "@jupyter-widgets/controls",
          "model_name": "SliderStyleModel",
          "model_module_version": "1.5.0",
          "state": {
            "_model_module": "@jupyter-widgets/controls",
            "_model_module_version": "1.5.0",
            "_model_name": "SliderStyleModel",
            "_view_count": null,
            "_view_module": "@jupyter-widgets/base",
            "_view_module_version": "1.2.0",
            "_view_name": "StyleView",
            "description_width": "",
            "handle_color": null
          }
        },
        "4cd7003d1d534d7f9c8d2cb8676b4bd2": {
          "model_module": "@jupyter-widgets/base",
          "model_name": "LayoutModel",
          "model_module_version": "1.2.0",
          "state": {
            "_model_module": "@jupyter-widgets/base",
            "_model_module_version": "1.2.0",
            "_model_name": "LayoutModel",
            "_view_count": null,
            "_view_module": "@jupyter-widgets/base",
            "_view_module_version": "1.2.0",
            "_view_name": "LayoutView",
            "align_content": null,
            "align_items": null,
            "align_self": null,
            "border": null,
            "bottom": null,
            "display": null,
            "flex": null,
            "flex_flow": null,
            "grid_area": null,
            "grid_auto_columns": null,
            "grid_auto_flow": null,
            "grid_auto_rows": null,
            "grid_column": null,
            "grid_gap": null,
            "grid_row": null,
            "grid_template_areas": null,
            "grid_template_columns": null,
            "grid_template_rows": null,
            "height": null,
            "justify_content": null,
            "justify_items": null,
            "left": null,
            "margin": null,
            "max_height": null,
            "max_width": null,
            "min_height": null,
            "min_width": null,
            "object_fit": null,
            "object_position": null,
            "order": null,
            "overflow": null,
            "overflow_x": null,
            "overflow_y": null,
            "padding": null,
            "right": null,
            "top": null,
            "visibility": null,
            "width": null
          }
        },
        "bdfa93af43dd4815a6df32c2fc8f7c69": {
          "model_module": "@jupyter-widgets/controls",
          "model_name": "SliderStyleModel",
          "model_module_version": "1.5.0",
          "state": {
            "_model_module": "@jupyter-widgets/controls",
            "_model_module_version": "1.5.0",
            "_model_name": "SliderStyleModel",
            "_view_count": null,
            "_view_module": "@jupyter-widgets/base",
            "_view_module_version": "1.2.0",
            "_view_name": "StyleView",
            "description_width": "",
            "handle_color": null
          }
        },
        "74169b2940eb4eccaa401aa2ff52d70b": {
          "model_module": "@jupyter-widgets/base",
          "model_name": "LayoutModel",
          "model_module_version": "1.2.0",
          "state": {
            "_model_module": "@jupyter-widgets/base",
            "_model_module_version": "1.2.0",
            "_model_name": "LayoutModel",
            "_view_count": null,
            "_view_module": "@jupyter-widgets/base",
            "_view_module_version": "1.2.0",
            "_view_name": "LayoutView",
            "align_content": null,
            "align_items": null,
            "align_self": null,
            "border": null,
            "bottom": null,
            "display": null,
            "flex": null,
            "flex_flow": null,
            "grid_area": null,
            "grid_auto_columns": null,
            "grid_auto_flow": null,
            "grid_auto_rows": null,
            "grid_column": null,
            "grid_gap": null,
            "grid_row": null,
            "grid_template_areas": null,
            "grid_template_columns": null,
            "grid_template_rows": null,
            "height": null,
            "justify_content": null,
            "justify_items": null,
            "left": null,
            "margin": null,
            "max_height": null,
            "max_width": null,
            "min_height": null,
            "min_width": null,
            "object_fit": null,
            "object_position": null,
            "order": null,
            "overflow": null,
            "overflow_x": null,
            "overflow_y": null,
            "padding": null,
            "right": null,
            "top": null,
            "visibility": null,
            "width": null
          }
        },
        "924347e96b184eaeab3fb7e31f54f3fb": {
          "model_module": "@jupyter-widgets/controls",
          "model_name": "VBoxModel",
          "model_module_version": "1.5.0",
          "state": {
            "_dom_classes": [
              "widget-interact"
            ],
            "_model_module": "@jupyter-widgets/controls",
            "_model_module_version": "1.5.0",
            "_model_name": "VBoxModel",
            "_view_count": null,
            "_view_module": "@jupyter-widgets/controls",
            "_view_module_version": "1.5.0",
            "_view_name": "VBoxView",
            "box_style": "",
            "children": [
              "IPY_MODEL_75caea22aa7b45d0b4e91f06f1dfcc86",
              "IPY_MODEL_900c94e04c2744be867746090d5b1c6b",
              "IPY_MODEL_3a03402ab9494589830099cc0cc50b2a",
              "IPY_MODEL_30bbbef1f90b495880d4d4f4bcc32286"
            ],
            "layout": "IPY_MODEL_e1d7d3d101df4b769659d1341de1fb65"
          }
        },
        "75caea22aa7b45d0b4e91f06f1dfcc86": {
          "model_module": "@jupyter-widgets/controls",
          "model_name": "FloatSliderModel",
          "model_module_version": "1.5.0",
          "state": {
            "_dom_classes": [],
            "_model_module": "@jupyter-widgets/controls",
            "_model_module_version": "1.5.0",
            "_model_name": "FloatSliderModel",
            "_view_count": null,
            "_view_module": "@jupyter-widgets/controls",
            "_view_module_version": "1.5.0",
            "_view_name": "FloatSliderView",
            "continuous_update": true,
            "description": "a",
            "description_tooltip": null,
            "disabled": false,
            "layout": "IPY_MODEL_0d96739ccfdb4c0187a90d9c6a8f0e51",
            "max": 5,
            "min": -5,
            "orientation": "horizontal",
            "readout": true,
            "readout_format": ".2f",
            "step": 0.1,
            "style": "IPY_MODEL_b26756c3d88e48ada559908d7d41ab6f",
            "value": 2.8
          }
        },
        "900c94e04c2744be867746090d5b1c6b": {
          "model_module": "@jupyter-widgets/controls",
          "model_name": "FloatSliderModel",
          "model_module_version": "1.5.0",
          "state": {
            "_dom_classes": [],
            "_model_module": "@jupyter-widgets/controls",
            "_model_module_version": "1.5.0",
            "_model_name": "FloatSliderModel",
            "_view_count": null,
            "_view_module": "@jupyter-widgets/controls",
            "_view_module_version": "1.5.0",
            "_view_name": "FloatSliderView",
            "continuous_update": true,
            "description": "b",
            "description_tooltip": null,
            "disabled": false,
            "layout": "IPY_MODEL_225ca700982a4158b2852fec16f24f24",
            "max": 5,
            "min": -5,
            "orientation": "horizontal",
            "readout": true,
            "readout_format": ".2f",
            "step": 0.1,
            "style": "IPY_MODEL_ade3ee162ef74e79999ab1b35e8db04b",
            "value": 2.1
          }
        },
        "3a03402ab9494589830099cc0cc50b2a": {
          "model_module": "@jupyter-widgets/controls",
          "model_name": "FloatSliderModel",
          "model_module_version": "1.5.0",
          "state": {
            "_dom_classes": [],
            "_model_module": "@jupyter-widgets/controls",
            "_model_module_version": "1.5.0",
            "_model_name": "FloatSliderModel",
            "_view_count": null,
            "_view_module": "@jupyter-widgets/controls",
            "_view_module_version": "1.5.0",
            "_view_name": "FloatSliderView",
            "continuous_update": true,
            "description": "c",
            "description_tooltip": null,
            "disabled": false,
            "layout": "IPY_MODEL_cac01bc8db11428b90447a0e08047705",
            "max": 5,
            "min": -5,
            "orientation": "horizontal",
            "readout": true,
            "readout_format": ".2f",
            "step": 0.1,
            "style": "IPY_MODEL_757e1cf9dfe94ea39b185a1439512001",
            "value": 0.6
          }
        },
        "30bbbef1f90b495880d4d4f4bcc32286": {
          "model_module": "@jupyter-widgets/output",
          "model_name": "OutputModel",
          "model_module_version": "1.0.0",
          "state": {
            "_dom_classes": [],
            "_model_module": "@jupyter-widgets/output",
            "_model_module_version": "1.0.0",
            "_model_name": "OutputModel",
            "_view_count": null,
            "_view_module": "@jupyter-widgets/output",
            "_view_module_version": "1.0.0",
            "_view_name": "OutputView",
            "layout": "IPY_MODEL_c312ce33704145b48d8a51021fa7d0c1",
            "msg_id": "",
            "outputs": [
              {
                "output_type": "display_data",
                "data": {
                  "text/plain": "<Figure size 576x432 with 1 Axes>",
                  "image/png": "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\n"
                },
                "metadata": {}
              }
            ]
          }
        },
        "e1d7d3d101df4b769659d1341de1fb65": {
          "model_module": "@jupyter-widgets/base",
          "model_name": "LayoutModel",
          "model_module_version": "1.2.0",
          "state": {
            "_model_module": "@jupyter-widgets/base",
            "_model_module_version": "1.2.0",
            "_model_name": "LayoutModel",
            "_view_count": null,
            "_view_module": "@jupyter-widgets/base",
            "_view_module_version": "1.2.0",
            "_view_name": "LayoutView",
            "align_content": null,
            "align_items": null,
            "align_self": null,
            "border": null,
            "bottom": null,
            "display": null,
            "flex": null,
            "flex_flow": null,
            "grid_area": null,
            "grid_auto_columns": null,
            "grid_auto_flow": null,
            "grid_auto_rows": null,
            "grid_column": null,
            "grid_gap": null,
            "grid_row": null,
            "grid_template_areas": null,
            "grid_template_columns": null,
            "grid_template_rows": null,
            "height": null,
            "justify_content": null,
            "justify_items": null,
            "left": null,
            "margin": null,
            "max_height": null,
            "max_width": null,
            "min_height": null,
            "min_width": null,
            "object_fit": null,
            "object_position": null,
            "order": null,
            "overflow": null,
            "overflow_x": null,
            "overflow_y": null,
            "padding": null,
            "right": null,
            "top": null,
            "visibility": null,
            "width": null
          }
        },
        "0d96739ccfdb4c0187a90d9c6a8f0e51": {
          "model_module": "@jupyter-widgets/base",
          "model_name": "LayoutModel",
          "model_module_version": "1.2.0",
          "state": {
            "_model_module": "@jupyter-widgets/base",
            "_model_module_version": "1.2.0",
            "_model_name": "LayoutModel",
            "_view_count": null,
            "_view_module": "@jupyter-widgets/base",
            "_view_module_version": "1.2.0",
            "_view_name": "LayoutView",
            "align_content": null,
            "align_items": null,
            "align_self": null,
            "border": null,
            "bottom": null,
            "display": null,
            "flex": null,
            "flex_flow": null,
            "grid_area": null,
            "grid_auto_columns": null,
            "grid_auto_flow": null,
            "grid_auto_rows": null,
            "grid_column": null,
            "grid_gap": null,
            "grid_row": null,
            "grid_template_areas": null,
            "grid_template_columns": null,
            "grid_template_rows": null,
            "height": null,
            "justify_content": null,
            "justify_items": null,
            "left": null,
            "margin": null,
            "max_height": null,
            "max_width": null,
            "min_height": null,
            "min_width": null,
            "object_fit": null,
            "object_position": null,
            "order": null,
            "overflow": null,
            "overflow_x": null,
            "overflow_y": null,
            "padding": null,
            "right": null,
            "top": null,
            "visibility": null,
            "width": null
          }
        },
        "b26756c3d88e48ada559908d7d41ab6f": {
          "model_module": "@jupyter-widgets/controls",
          "model_name": "SliderStyleModel",
          "model_module_version": "1.5.0",
          "state": {
            "_model_module": "@jupyter-widgets/controls",
            "_model_module_version": "1.5.0",
            "_model_name": "SliderStyleModel",
            "_view_count": null,
            "_view_module": "@jupyter-widgets/base",
            "_view_module_version": "1.2.0",
            "_view_name": "StyleView",
            "description_width": "",
            "handle_color": null
          }
        },
        "225ca700982a4158b2852fec16f24f24": {
          "model_module": "@jupyter-widgets/base",
          "model_name": "LayoutModel",
          "model_module_version": "1.2.0",
          "state": {
            "_model_module": "@jupyter-widgets/base",
            "_model_module_version": "1.2.0",
            "_model_name": "LayoutModel",
            "_view_count": null,
            "_view_module": "@jupyter-widgets/base",
            "_view_module_version": "1.2.0",
            "_view_name": "LayoutView",
            "align_content": null,
            "align_items": null,
            "align_self": null,
            "border": null,
            "bottom": null,
            "display": null,
            "flex": null,
            "flex_flow": null,
            "grid_area": null,
            "grid_auto_columns": null,
            "grid_auto_flow": null,
            "grid_auto_rows": null,
            "grid_column": null,
            "grid_gap": null,
            "grid_row": null,
            "grid_template_areas": null,
            "grid_template_columns": null,
            "grid_template_rows": null,
            "height": null,
            "justify_content": null,
            "justify_items": null,
            "left": null,
            "margin": null,
            "max_height": null,
            "max_width": null,
            "min_height": null,
            "min_width": null,
            "object_fit": null,
            "object_position": null,
            "order": null,
            "overflow": null,
            "overflow_x": null,
            "overflow_y": null,
            "padding": null,
            "right": null,
            "top": null,
            "visibility": null,
            "width": null
          }
        },
        "ade3ee162ef74e79999ab1b35e8db04b": {
          "model_module": "@jupyter-widgets/controls",
          "model_name": "SliderStyleModel",
          "model_module_version": "1.5.0",
          "state": {
            "_model_module": "@jupyter-widgets/controls",
            "_model_module_version": "1.5.0",
            "_model_name": "SliderStyleModel",
            "_view_count": null,
            "_view_module": "@jupyter-widgets/base",
            "_view_module_version": "1.2.0",
            "_view_name": "StyleView",
            "description_width": "",
            "handle_color": null
          }
        },
        "cac01bc8db11428b90447a0e08047705": {
          "model_module": "@jupyter-widgets/base",
          "model_name": "LayoutModel",
          "model_module_version": "1.2.0",
          "state": {
            "_model_module": "@jupyter-widgets/base",
            "_model_module_version": "1.2.0",
            "_model_name": "LayoutModel",
            "_view_count": null,
            "_view_module": "@jupyter-widgets/base",
            "_view_module_version": "1.2.0",
            "_view_name": "LayoutView",
            "align_content": null,
            "align_items": null,
            "align_self": null,
            "border": null,
            "bottom": null,
            "display": null,
            "flex": null,
            "flex_flow": null,
            "grid_area": null,
            "grid_auto_columns": null,
            "grid_auto_flow": null,
            "grid_auto_rows": null,
            "grid_column": null,
            "grid_gap": null,
            "grid_row": null,
            "grid_template_areas": null,
            "grid_template_columns": null,
            "grid_template_rows": null,
            "height": null,
            "justify_content": null,
            "justify_items": null,
            "left": null,
            "margin": null,
            "max_height": null,
            "max_width": null,
            "min_height": null,
            "min_width": null,
            "object_fit": null,
            "object_position": null,
            "order": null,
            "overflow": null,
            "overflow_x": null,
            "overflow_y": null,
            "padding": null,
            "right": null,
            "top": null,
            "visibility": null,
            "width": null
          }
        },
        "757e1cf9dfe94ea39b185a1439512001": {
          "model_module": "@jupyter-widgets/controls",
          "model_name": "SliderStyleModel",
          "model_module_version": "1.5.0",
          "state": {
            "_model_module": "@jupyter-widgets/controls",
            "_model_module_version": "1.5.0",
            "_model_name": "SliderStyleModel",
            "_view_count": null,
            "_view_module": "@jupyter-widgets/base",
            "_view_module_version": "1.2.0",
            "_view_name": "StyleView",
            "description_width": "",
            "handle_color": null
          }
        },
        "c312ce33704145b48d8a51021fa7d0c1": {
          "model_module": "@jupyter-widgets/base",
          "model_name": "LayoutModel",
          "model_module_version": "1.2.0",
          "state": {
            "_model_module": "@jupyter-widgets/base",
            "_model_module_version": "1.2.0",
            "_model_name": "LayoutModel",
            "_view_count": null,
            "_view_module": "@jupyter-widgets/base",
            "_view_module_version": "1.2.0",
            "_view_name": "LayoutView",
            "align_content": null,
            "align_items": null,
            "align_self": null,
            "border": null,
            "bottom": null,
            "display": null,
            "flex": null,
            "flex_flow": null,
            "grid_area": null,
            "grid_auto_columns": null,
            "grid_auto_flow": null,
            "grid_auto_rows": null,
            "grid_column": null,
            "grid_gap": null,
            "grid_row": null,
            "grid_template_areas": null,
            "grid_template_columns": null,
            "grid_template_rows": null,
            "height": null,
            "justify_content": null,
            "justify_items": null,
            "left": null,
            "margin": null,
            "max_height": null,
            "max_width": null,
            "min_height": null,
            "min_width": null,
            "object_fit": null,
            "object_position": null,
            "order": null,
            "overflow": null,
            "overflow_x": null,
            "overflow_y": null,
            "padding": null,
            "right": null,
            "top": null,
            "visibility": null,
            "width": null
          }
        },
        "72470fa5d316418992bdb60ae840a880": {
          "model_module": "@jupyter-widgets/controls",
          "model_name": "VBoxModel",
          "model_module_version": "1.5.0",
          "state": {
            "_dom_classes": [
              "widget-interact"
            ],
            "_model_module": "@jupyter-widgets/controls",
            "_model_module_version": "1.5.0",
            "_model_name": "VBoxModel",
            "_view_count": null,
            "_view_module": "@jupyter-widgets/controls",
            "_view_module_version": "1.5.0",
            "_view_name": "VBoxView",
            "box_style": "",
            "children": [
              "IPY_MODEL_3dbd8faf3a3e4f89969351d25ced5478",
              "IPY_MODEL_188b3df3cb404730876ebe62334016ed",
              "IPY_MODEL_022be7aeef404e17b398fddd876b9746"
            ],
            "layout": "IPY_MODEL_077981d40b0e426c89b526900a0ea7bd"
          }
        },
        "3dbd8faf3a3e4f89969351d25ced5478": {
          "model_module": "@jupyter-widgets/controls",
          "model_name": "FloatSliderModel",
          "model_module_version": "1.5.0",
          "state": {
            "_dom_classes": [],
            "_model_module": "@jupyter-widgets/controls",
            "_model_module_version": "1.5.0",
            "_model_name": "FloatSliderModel",
            "_view_count": null,
            "_view_module": "@jupyter-widgets/controls",
            "_view_module_version": "1.5.0",
            "_view_name": "FloatSliderView",
            "continuous_update": true,
            "description": "m",
            "description_tooltip": null,
            "disabled": false,
            "layout": "IPY_MODEL_001427bfdabf40cab44d2a3919c698c6",
            "max": 3,
            "min": -3,
            "orientation": "horizontal",
            "readout": true,
            "readout_format": ".2f",
            "step": 0.1,
            "style": "IPY_MODEL_b5ac2035b88b49b398216c35a84a0b2e",
            "value": -1.1
          }
        },
        "188b3df3cb404730876ebe62334016ed": {
          "model_module": "@jupyter-widgets/controls",
          "model_name": "FloatSliderModel",
          "model_module_version": "1.5.0",
          "state": {
            "_dom_classes": [],
            "_model_module": "@jupyter-widgets/controls",
            "_model_module_version": "1.5.0",
            "_model_name": "FloatSliderModel",
            "_view_count": null,
            "_view_module": "@jupyter-widgets/controls",
            "_view_module_version": "1.5.0",
            "_view_name": "FloatSliderView",
            "continuous_update": true,
            "description": "b",
            "description_tooltip": null,
            "disabled": false,
            "layout": "IPY_MODEL_59bbc929690946028ea19e64a01601ba",
            "max": 3,
            "min": -3,
            "orientation": "horizontal",
            "readout": true,
            "readout_format": ".2f",
            "step": 0.1,
            "style": "IPY_MODEL_bb355e6b0ec549c4a84080a9cc480d22",
            "value": 1.8
          }
        },
        "022be7aeef404e17b398fddd876b9746": {
          "model_module": "@jupyter-widgets/output",
          "model_name": "OutputModel",
          "model_module_version": "1.0.0",
          "state": {
            "_dom_classes": [],
            "_model_module": "@jupyter-widgets/output",
            "_model_module_version": "1.0.0",
            "_model_name": "OutputModel",
            "_view_count": null,
            "_view_module": "@jupyter-widgets/output",
            "_view_module_version": "1.0.0",
            "_view_name": "OutputView",
            "layout": "IPY_MODEL_9c8cf917745e4fc5a1adbd215003e444",
            "msg_id": "",
            "outputs": [
              {
                "output_type": "display_data",
                "data": {
                  "text/plain": "<Figure size 576x432 with 1 Axes>",
                  "image/png": "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\n"
                },
                "metadata": {}
              }
            ]
          }
        },
        "077981d40b0e426c89b526900a0ea7bd": {
          "model_module": "@jupyter-widgets/base",
          "model_name": "LayoutModel",
          "model_module_version": "1.2.0",
          "state": {
            "_model_module": "@jupyter-widgets/base",
            "_model_module_version": "1.2.0",
            "_model_name": "LayoutModel",
            "_view_count": null,
            "_view_module": "@jupyter-widgets/base",
            "_view_module_version": "1.2.0",
            "_view_name": "LayoutView",
            "align_content": null,
            "align_items": null,
            "align_self": null,
            "border": null,
            "bottom": null,
            "display": null,
            "flex": null,
            "flex_flow": null,
            "grid_area": null,
            "grid_auto_columns": null,
            "grid_auto_flow": null,
            "grid_auto_rows": null,
            "grid_column": null,
            "grid_gap": null,
            "grid_row": null,
            "grid_template_areas": null,
            "grid_template_columns": null,
            "grid_template_rows": null,
            "height": null,
            "justify_content": null,
            "justify_items": null,
            "left": null,
            "margin": null,
            "max_height": null,
            "max_width": null,
            "min_height": null,
            "min_width": null,
            "object_fit": null,
            "object_position": null,
            "order": null,
            "overflow": null,
            "overflow_x": null,
            "overflow_y": null,
            "padding": null,
            "right": null,
            "top": null,
            "visibility": null,
            "width": null
          }
        },
        "001427bfdabf40cab44d2a3919c698c6": {
          "model_module": "@jupyter-widgets/base",
          "model_name": "LayoutModel",
          "model_module_version": "1.2.0",
          "state": {
            "_model_module": "@jupyter-widgets/base",
            "_model_module_version": "1.2.0",
            "_model_name": "LayoutModel",
            "_view_count": null,
            "_view_module": "@jupyter-widgets/base",
            "_view_module_version": "1.2.0",
            "_view_name": "LayoutView",
            "align_content": null,
            "align_items": null,
            "align_self": null,
            "border": null,
            "bottom": null,
            "display": null,
            "flex": null,
            "flex_flow": null,
            "grid_area": null,
            "grid_auto_columns": null,
            "grid_auto_flow": null,
            "grid_auto_rows": null,
            "grid_column": null,
            "grid_gap": null,
            "grid_row": null,
            "grid_template_areas": null,
            "grid_template_columns": null,
            "grid_template_rows": null,
            "height": null,
            "justify_content": null,
            "justify_items": null,
            "left": null,
            "margin": null,
            "max_height": null,
            "max_width": null,
            "min_height": null,
            "min_width": null,
            "object_fit": null,
            "object_position": null,
            "order": null,
            "overflow": null,
            "overflow_x": null,
            "overflow_y": null,
            "padding": null,
            "right": null,
            "top": null,
            "visibility": null,
            "width": null
          }
        },
        "b5ac2035b88b49b398216c35a84a0b2e": {
          "model_module": "@jupyter-widgets/controls",
          "model_name": "SliderStyleModel",
          "model_module_version": "1.5.0",
          "state": {
            "_model_module": "@jupyter-widgets/controls",
            "_model_module_version": "1.5.0",
            "_model_name": "SliderStyleModel",
            "_view_count": null,
            "_view_module": "@jupyter-widgets/base",
            "_view_module_version": "1.2.0",
            "_view_name": "StyleView",
            "description_width": "",
            "handle_color": null
          }
        },
        "59bbc929690946028ea19e64a01601ba": {
          "model_module": "@jupyter-widgets/base",
          "model_name": "LayoutModel",
          "model_module_version": "1.2.0",
          "state": {
            "_model_module": "@jupyter-widgets/base",
            "_model_module_version": "1.2.0",
            "_model_name": "LayoutModel",
            "_view_count": null,
            "_view_module": "@jupyter-widgets/base",
            "_view_module_version": "1.2.0",
            "_view_name": "LayoutView",
            "align_content": null,
            "align_items": null,
            "align_self": null,
            "border": null,
            "bottom": null,
            "display": null,
            "flex": null,
            "flex_flow": null,
            "grid_area": null,
            "grid_auto_columns": null,
            "grid_auto_flow": null,
            "grid_auto_rows": null,
            "grid_column": null,
            "grid_gap": null,
            "grid_row": null,
            "grid_template_areas": null,
            "grid_template_columns": null,
            "grid_template_rows": null,
            "height": null,
            "justify_content": null,
            "justify_items": null,
            "left": null,
            "margin": null,
            "max_height": null,
            "max_width": null,
            "min_height": null,
            "min_width": null,
            "object_fit": null,
            "object_position": null,
            "order": null,
            "overflow": null,
            "overflow_x": null,
            "overflow_y": null,
            "padding": null,
            "right": null,
            "top": null,
            "visibility": null,
            "width": null
          }
        },
        "bb355e6b0ec549c4a84080a9cc480d22": {
          "model_module": "@jupyter-widgets/controls",
          "model_name": "SliderStyleModel",
          "model_module_version": "1.5.0",
          "state": {
            "_model_module": "@jupyter-widgets/controls",
            "_model_module_version": "1.5.0",
            "_model_name": "SliderStyleModel",
            "_view_count": null,
            "_view_module": "@jupyter-widgets/base",
            "_view_module_version": "1.2.0",
            "_view_name": "StyleView",
            "description_width": "",
            "handle_color": null
          }
        },
        "9c8cf917745e4fc5a1adbd215003e444": {
          "model_module": "@jupyter-widgets/base",
          "model_name": "LayoutModel",
          "model_module_version": "1.2.0",
          "state": {
            "_model_module": "@jupyter-widgets/base",
            "_model_module_version": "1.2.0",
            "_model_name": "LayoutModel",
            "_view_count": null,
            "_view_module": "@jupyter-widgets/base",
            "_view_module_version": "1.2.0",
            "_view_name": "LayoutView",
            "align_content": null,
            "align_items": null,
            "align_self": null,
            "border": null,
            "bottom": null,
            "display": null,
            "flex": null,
            "flex_flow": null,
            "grid_area": null,
            "grid_auto_columns": null,
            "grid_auto_flow": null,
            "grid_auto_rows": null,
            "grid_column": null,
            "grid_gap": null,
            "grid_row": null,
            "grid_template_areas": null,
            "grid_template_columns": null,
            "grid_template_rows": null,
            "height": null,
            "justify_content": null,
            "justify_items": null,
            "left": null,
            "margin": null,
            "max_height": null,
            "max_width": null,
            "min_height": null,
            "min_width": null,
            "object_fit": null,
            "object_position": null,
            "order": null,
            "overflow": null,
            "overflow_x": null,
            "overflow_y": null,
            "padding": null,
            "right": null,
            "top": null,
            "visibility": null,
            "width": null
          }
        },
        "0d00f655a5604ad0b02b9f48cc7a24ee": {
          "model_module": "@jupyter-widgets/controls",
          "model_name": "VBoxModel",
          "model_module_version": "1.5.0",
          "state": {
            "_dom_classes": [
              "widget-interact"
            ],
            "_model_module": "@jupyter-widgets/controls",
            "_model_module_version": "1.5.0",
            "_model_name": "VBoxModel",
            "_view_count": null,
            "_view_module": "@jupyter-widgets/controls",
            "_view_module_version": "1.5.0",
            "_view_name": "VBoxView",
            "box_style": "",
            "children": [
              "IPY_MODEL_12d3524bc7dc4b529d24035c8b19b661",
              "IPY_MODEL_9fc51c8159304996af39a253a0c219df",
              "IPY_MODEL_e469031446c244848bbdd623e40060e6",
              "IPY_MODEL_74b6a3ff5c7b4d028f643155fe3147a5",
              "IPY_MODEL_1a875e6954b24bb89bb68b7afc96c60e"
            ],
            "layout": "IPY_MODEL_47a627a641f041afafddaa9b18a7ac19"
          }
        },
        "12d3524bc7dc4b529d24035c8b19b661": {
          "model_module": "@jupyter-widgets/controls",
          "model_name": "FloatSliderModel",
          "model_module_version": "1.5.0",
          "state": {
            "_dom_classes": [],
            "_model_module": "@jupyter-widgets/controls",
            "_model_module_version": "1.5.0",
            "_model_name": "FloatSliderModel",
            "_view_count": null,
            "_view_module": "@jupyter-widgets/controls",
            "_view_module_version": "1.5.0",
            "_view_name": "FloatSliderView",
            "continuous_update": true,
            "description": "m1",
            "description_tooltip": null,
            "disabled": false,
            "layout": "IPY_MODEL_12f445d4f88d4bd089a452c517bf0aa8",
            "max": 3,
            "min": -3,
            "orientation": "horizontal",
            "readout": true,
            "readout_format": ".2f",
            "step": 0.1,
            "style": "IPY_MODEL_e9ecd1ba868b4f17a618f3243ecb9e35",
            "value": 2.5
          }
        },
        "9fc51c8159304996af39a253a0c219df": {
          "model_module": "@jupyter-widgets/controls",
          "model_name": "FloatSliderModel",
          "model_module_version": "1.5.0",
          "state": {
            "_dom_classes": [],
            "_model_module": "@jupyter-widgets/controls",
            "_model_module_version": "1.5.0",
            "_model_name": "FloatSliderModel",
            "_view_count": null,
            "_view_module": "@jupyter-widgets/controls",
            "_view_module_version": "1.5.0",
            "_view_name": "FloatSliderView",
            "continuous_update": true,
            "description": "b1",
            "description_tooltip": null,
            "disabled": false,
            "layout": "IPY_MODEL_23cf46617f7a4ed2ab1fd84bb1ac47a1",
            "max": 3,
            "min": -3,
            "orientation": "horizontal",
            "readout": true,
            "readout_format": ".2f",
            "step": 0.1,
            "style": "IPY_MODEL_1503f0f6b80542c2b60af4cb1540e896",
            "value": -2.2
          }
        },
        "e469031446c244848bbdd623e40060e6": {
          "model_module": "@jupyter-widgets/controls",
          "model_name": "FloatSliderModel",
          "model_module_version": "1.5.0",
          "state": {
            "_dom_classes": [],
            "_model_module": "@jupyter-widgets/controls",
            "_model_module_version": "1.5.0",
            "_model_name": "FloatSliderModel",
            "_view_count": null,
            "_view_module": "@jupyter-widgets/controls",
            "_view_module_version": "1.5.0",
            "_view_name": "FloatSliderView",
            "continuous_update": true,
            "description": "m2",
            "description_tooltip": null,
            "disabled": false,
            "layout": "IPY_MODEL_e5ec10ccffc4407eb47fca51c0910923",
            "max": 3,
            "min": -3,
            "orientation": "horizontal",
            "readout": true,
            "readout_format": ".2f",
            "step": 0.1,
            "style": "IPY_MODEL_1a9795da4e51491f98f2c72a38488ed8",
            "value": -1.8
          }
        },
        "74b6a3ff5c7b4d028f643155fe3147a5": {
          "model_module": "@jupyter-widgets/controls",
          "model_name": "FloatSliderModel",
          "model_module_version": "1.5.0",
          "state": {
            "_dom_classes": [],
            "_model_module": "@jupyter-widgets/controls",
            "_model_module_version": "1.5.0",
            "_model_name": "FloatSliderModel",
            "_view_count": null,
            "_view_module": "@jupyter-widgets/controls",
            "_view_module_version": "1.5.0",
            "_view_name": "FloatSliderView",
            "continuous_update": true,
            "description": "b2",
            "description_tooltip": null,
            "disabled": false,
            "layout": "IPY_MODEL_f1d0ec0387dd44da8180175021500311",
            "max": 3,
            "min": -3,
            "orientation": "horizontal",
            "readout": true,
            "readout_format": ".2f",
            "step": 0.1,
            "style": "IPY_MODEL_0ce387a6c97d44c69d434006a89c51b7",
            "value": 0
          }
        },
        "1a875e6954b24bb89bb68b7afc96c60e": {
          "model_module": "@jupyter-widgets/output",
          "model_name": "OutputModel",
          "model_module_version": "1.0.0",
          "state": {
            "_dom_classes": [],
            "_model_module": "@jupyter-widgets/output",
            "_model_module_version": "1.0.0",
            "_model_name": "OutputModel",
            "_view_count": null,
            "_view_module": "@jupyter-widgets/output",
            "_view_module_version": "1.0.0",
            "_view_name": "OutputView",
            "layout": "IPY_MODEL_960caa9cb2e44b67af9bdc437184be8a",
            "msg_id": "",
            "outputs": [
              {
                "output_type": "display_data",
                "data": {
                  "text/plain": "<Figure size 576x432 with 1 Axes>",
                  "image/png": "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\n"
                },
                "metadata": {}
              }
            ]
          }
        },
        "47a627a641f041afafddaa9b18a7ac19": {
          "model_module": "@jupyter-widgets/base",
          "model_name": "LayoutModel",
          "model_module_version": "1.2.0",
          "state": {
            "_model_module": "@jupyter-widgets/base",
            "_model_module_version": "1.2.0",
            "_model_name": "LayoutModel",
            "_view_count": null,
            "_view_module": "@jupyter-widgets/base",
            "_view_module_version": "1.2.0",
            "_view_name": "LayoutView",
            "align_content": null,
            "align_items": null,
            "align_self": null,
            "border": null,
            "bottom": null,
            "display": null,
            "flex": null,
            "flex_flow": null,
            "grid_area": null,
            "grid_auto_columns": null,
            "grid_auto_flow": null,
            "grid_auto_rows": null,
            "grid_column": null,
            "grid_gap": null,
            "grid_row": null,
            "grid_template_areas": null,
            "grid_template_columns": null,
            "grid_template_rows": null,
            "height": null,
            "justify_content": null,
            "justify_items": null,
            "left": null,
            "margin": null,
            "max_height": null,
            "max_width": null,
            "min_height": null,
            "min_width": null,
            "object_fit": null,
            "object_position": null,
            "order": null,
            "overflow": null,
            "overflow_x": null,
            "overflow_y": null,
            "padding": null,
            "right": null,
            "top": null,
            "visibility": null,
            "width": null
          }
        },
        "12f445d4f88d4bd089a452c517bf0aa8": {
          "model_module": "@jupyter-widgets/base",
          "model_name": "LayoutModel",
          "model_module_version": "1.2.0",
          "state": {
            "_model_module": "@jupyter-widgets/base",
            "_model_module_version": "1.2.0",
            "_model_name": "LayoutModel",
            "_view_count": null,
            "_view_module": "@jupyter-widgets/base",
            "_view_module_version": "1.2.0",
            "_view_name": "LayoutView",
            "align_content": null,
            "align_items": null,
            "align_self": null,
            "border": null,
            "bottom": null,
            "display": null,
            "flex": null,
            "flex_flow": null,
            "grid_area": null,
            "grid_auto_columns": null,
            "grid_auto_flow": null,
            "grid_auto_rows": null,
            "grid_column": null,
            "grid_gap": null,
            "grid_row": null,
            "grid_template_areas": null,
            "grid_template_columns": null,
            "grid_template_rows": null,
            "height": null,
            "justify_content": null,
            "justify_items": null,
            "left": null,
            "margin": null,
            "max_height": null,
            "max_width": null,
            "min_height": null,
            "min_width": null,
            "object_fit": null,
            "object_position": null,
            "order": null,
            "overflow": null,
            "overflow_x": null,
            "overflow_y": null,
            "padding": null,
            "right": null,
            "top": null,
            "visibility": null,
            "width": null
          }
        },
        "e9ecd1ba868b4f17a618f3243ecb9e35": {
          "model_module": "@jupyter-widgets/controls",
          "model_name": "SliderStyleModel",
          "model_module_version": "1.5.0",
          "state": {
            "_model_module": "@jupyter-widgets/controls",
            "_model_module_version": "1.5.0",
            "_model_name": "SliderStyleModel",
            "_view_count": null,
            "_view_module": "@jupyter-widgets/base",
            "_view_module_version": "1.2.0",
            "_view_name": "StyleView",
            "description_width": "",
            "handle_color": null
          }
        },
        "23cf46617f7a4ed2ab1fd84bb1ac47a1": {
          "model_module": "@jupyter-widgets/base",
          "model_name": "LayoutModel",
          "model_module_version": "1.2.0",
          "state": {
            "_model_module": "@jupyter-widgets/base",
            "_model_module_version": "1.2.0",
            "_model_name": "LayoutModel",
            "_view_count": null,
            "_view_module": "@jupyter-widgets/base",
            "_view_module_version": "1.2.0",
            "_view_name": "LayoutView",
            "align_content": null,
            "align_items": null,
            "align_self": null,
            "border": null,
            "bottom": null,
            "display": null,
            "flex": null,
            "flex_flow": null,
            "grid_area": null,
            "grid_auto_columns": null,
            "grid_auto_flow": null,
            "grid_auto_rows": null,
            "grid_column": null,
            "grid_gap": null,
            "grid_row": null,
            "grid_template_areas": null,
            "grid_template_columns": null,
            "grid_template_rows": null,
            "height": null,
            "justify_content": null,
            "justify_items": null,
            "left": null,
            "margin": null,
            "max_height": null,
            "max_width": null,
            "min_height": null,
            "min_width": null,
            "object_fit": null,
            "object_position": null,
            "order": null,
            "overflow": null,
            "overflow_x": null,
            "overflow_y": null,
            "padding": null,
            "right": null,
            "top": null,
            "visibility": null,
            "width": null
          }
        },
        "1503f0f6b80542c2b60af4cb1540e896": {
          "model_module": "@jupyter-widgets/controls",
          "model_name": "SliderStyleModel",
          "model_module_version": "1.5.0",
          "state": {
            "_model_module": "@jupyter-widgets/controls",
            "_model_module_version": "1.5.0",
            "_model_name": "SliderStyleModel",
            "_view_count": null,
            "_view_module": "@jupyter-widgets/base",
            "_view_module_version": "1.2.0",
            "_view_name": "StyleView",
            "description_width": "",
            "handle_color": null
          }
        },
        "e5ec10ccffc4407eb47fca51c0910923": {
          "model_module": "@jupyter-widgets/base",
          "model_name": "LayoutModel",
          "model_module_version": "1.2.0",
          "state": {
            "_model_module": "@jupyter-widgets/base",
            "_model_module_version": "1.2.0",
            "_model_name": "LayoutModel",
            "_view_count": null,
            "_view_module": "@jupyter-widgets/base",
            "_view_module_version": "1.2.0",
            "_view_name": "LayoutView",
            "align_content": null,
            "align_items": null,
            "align_self": null,
            "border": null,
            "bottom": null,
            "display": null,
            "flex": null,
            "flex_flow": null,
            "grid_area": null,
            "grid_auto_columns": null,
            "grid_auto_flow": null,
            "grid_auto_rows": null,
            "grid_column": null,
            "grid_gap": null,
            "grid_row": null,
            "grid_template_areas": null,
            "grid_template_columns": null,
            "grid_template_rows": null,
            "height": null,
            "justify_content": null,
            "justify_items": null,
            "left": null,
            "margin": null,
            "max_height": null,
            "max_width": null,
            "min_height": null,
            "min_width": null,
            "object_fit": null,
            "object_position": null,
            "order": null,
            "overflow": null,
            "overflow_x": null,
            "overflow_y": null,
            "padding": null,
            "right": null,
            "top": null,
            "visibility": null,
            "width": null
          }
        },
        "1a9795da4e51491f98f2c72a38488ed8": {
          "model_module": "@jupyter-widgets/controls",
          "model_name": "SliderStyleModel",
          "model_module_version": "1.5.0",
          "state": {
            "_model_module": "@jupyter-widgets/controls",
            "_model_module_version": "1.5.0",
            "_model_name": "SliderStyleModel",
            "_view_count": null,
            "_view_module": "@jupyter-widgets/base",
            "_view_module_version": "1.2.0",
            "_view_name": "StyleView",
            "description_width": "",
            "handle_color": null
          }
        },
        "f1d0ec0387dd44da8180175021500311": {
          "model_module": "@jupyter-widgets/base",
          "model_name": "LayoutModel",
          "model_module_version": "1.2.0",
          "state": {
            "_model_module": "@jupyter-widgets/base",
            "_model_module_version": "1.2.0",
            "_model_name": "LayoutModel",
            "_view_count": null,
            "_view_module": "@jupyter-widgets/base",
            "_view_module_version": "1.2.0",
            "_view_name": "LayoutView",
            "align_content": null,
            "align_items": null,
            "align_self": null,
            "border": null,
            "bottom": null,
            "display": null,
            "flex": null,
            "flex_flow": null,
            "grid_area": null,
            "grid_auto_columns": null,
            "grid_auto_flow": null,
            "grid_auto_rows": null,
            "grid_column": null,
            "grid_gap": null,
            "grid_row": null,
            "grid_template_areas": null,
            "grid_template_columns": null,
            "grid_template_rows": null,
            "height": null,
            "justify_content": null,
            "justify_items": null,
            "left": null,
            "margin": null,
            "max_height": null,
            "max_width": null,
            "min_height": null,
            "min_width": null,
            "object_fit": null,
            "object_position": null,
            "order": null,
            "overflow": null,
            "overflow_x": null,
            "overflow_y": null,
            "padding": null,
            "right": null,
            "top": null,
            "visibility": null,
            "width": null
          }
        },
        "0ce387a6c97d44c69d434006a89c51b7": {
          "model_module": "@jupyter-widgets/controls",
          "model_name": "SliderStyleModel",
          "model_module_version": "1.5.0",
          "state": {
            "_model_module": "@jupyter-widgets/controls",
            "_model_module_version": "1.5.0",
            "_model_name": "SliderStyleModel",
            "_view_count": null,
            "_view_module": "@jupyter-widgets/base",
            "_view_module_version": "1.2.0",
            "_view_name": "StyleView",
            "description_width": "",
            "handle_color": null
          }
        },
        "960caa9cb2e44b67af9bdc437184be8a": {
          "model_module": "@jupyter-widgets/base",
          "model_name": "LayoutModel",
          "model_module_version": "1.2.0",
          "state": {
            "_model_module": "@jupyter-widgets/base",
            "_model_module_version": "1.2.0",
            "_model_name": "LayoutModel",
            "_view_count": null,
            "_view_module": "@jupyter-widgets/base",
            "_view_module_version": "1.2.0",
            "_view_name": "LayoutView",
            "align_content": null,
            "align_items": null,
            "align_self": null,
            "border": null,
            "bottom": null,
            "display": null,
            "flex": null,
            "flex_flow": null,
            "grid_area": null,
            "grid_auto_columns": null,
            "grid_auto_flow": null,
            "grid_auto_rows": null,
            "grid_column": null,
            "grid_gap": null,
            "grid_row": null,
            "grid_template_areas": null,
            "grid_template_columns": null,
            "grid_template_rows": null,
            "height": null,
            "justify_content": null,
            "justify_items": null,
            "left": null,
            "margin": null,
            "max_height": null,
            "max_width": null,
            "min_height": null,
            "min_width": null,
            "object_fit": null,
            "object_position": null,
            "order": null,
            "overflow": null,
            "overflow_x": null,
            "overflow_y": null,
            "padding": null,
            "right": null,
            "top": null,
            "visibility": null,
            "width": null
          }
        },
        "0d857915a887464f98ce58fd5a1134e2": {
          "model_module": "@jupyter-widgets/controls",
          "model_name": "VBoxModel",
          "model_module_version": "1.5.0",
          "state": {
            "_dom_classes": [
              "widget-interact"
            ],
            "_model_module": "@jupyter-widgets/controls",
            "_model_module_version": "1.5.0",
            "_model_name": "VBoxModel",
            "_view_count": null,
            "_view_module": "@jupyter-widgets/controls",
            "_view_module_version": "1.5.0",
            "_view_name": "VBoxView",
            "box_style": "",
            "children": [
              "IPY_MODEL_bbb3df3ca6364a4c88a0f8e86da3f420",
              "IPY_MODEL_c759ced8681d4798baf9d708e9eecc81",
              "IPY_MODEL_0f6cf1c4b85a410987b3c9f91d868d18",
              "IPY_MODEL_3556a524d78e4258b88d17e8adb682df",
              "IPY_MODEL_360367dc71dc40899f3c58e9dcff1f79",
              "IPY_MODEL_8eec05194fdb4638a5ec6488974ec22f",
              "IPY_MODEL_56b4a0504faa40508df3909babd83bbc"
            ],
            "layout": "IPY_MODEL_648d0162a2fd4b59a239468ca73b2ad1"
          }
        },
        "bbb3df3ca6364a4c88a0f8e86da3f420": {
          "model_module": "@jupyter-widgets/controls",
          "model_name": "FloatSliderModel",
          "model_module_version": "1.5.0",
          "state": {
            "_dom_classes": [],
            "_model_module": "@jupyter-widgets/controls",
            "_model_module_version": "1.5.0",
            "_model_name": "FloatSliderModel",
            "_view_count": null,
            "_view_module": "@jupyter-widgets/controls",
            "_view_module_version": "1.5.0",
            "_view_name": "FloatSliderView",
            "continuous_update": true,
            "description": "m1",
            "description_tooltip": null,
            "disabled": false,
            "layout": "IPY_MODEL_5821422365ed484d8df7861526d03fc4",
            "max": 3,
            "min": -3,
            "orientation": "horizontal",
            "readout": true,
            "readout_format": ".2f",
            "step": 0.1,
            "style": "IPY_MODEL_86575c76ad9a4ae9af70da99e7a81c33",
            "value": 1.1
          }
        },
        "c759ced8681d4798baf9d708e9eecc81": {
          "model_module": "@jupyter-widgets/controls",
          "model_name": "FloatSliderModel",
          "model_module_version": "1.5.0",
          "state": {
            "_dom_classes": [],
            "_model_module": "@jupyter-widgets/controls",
            "_model_module_version": "1.5.0",
            "_model_name": "FloatSliderModel",
            "_view_count": null,
            "_view_module": "@jupyter-widgets/controls",
            "_view_module_version": "1.5.0",
            "_view_name": "FloatSliderView",
            "continuous_update": true,
            "description": "b1",
            "description_tooltip": null,
            "disabled": false,
            "layout": "IPY_MODEL_083afe2a342f447a8fd57342a74b63b2",
            "max": 3,
            "min": -3,
            "orientation": "horizontal",
            "readout": true,
            "readout_format": ".2f",
            "step": 0.1,
            "style": "IPY_MODEL_3ab3670d229e419fb4a35aa32dd84c74",
            "value": 0.8
          }
        },
        "0f6cf1c4b85a410987b3c9f91d868d18": {
          "model_module": "@jupyter-widgets/controls",
          "model_name": "FloatSliderModel",
          "model_module_version": "1.5.0",
          "state": {
            "_dom_classes": [],
            "_model_module": "@jupyter-widgets/controls",
            "_model_module_version": "1.5.0",
            "_model_name": "FloatSliderModel",
            "_view_count": null,
            "_view_module": "@jupyter-widgets/controls",
            "_view_module_version": "1.5.0",
            "_view_name": "FloatSliderView",
            "continuous_update": true,
            "description": "m2",
            "description_tooltip": null,
            "disabled": false,
            "layout": "IPY_MODEL_eaa40f8a0ded470fa8103301d000d602",
            "max": 3,
            "min": -3,
            "orientation": "horizontal",
            "readout": true,
            "readout_format": ".2f",
            "step": 0.1,
            "style": "IPY_MODEL_aa1abb6e4b2d41fdaeb0482d362d9a75",
            "value": -2.1
          }
        },
        "3556a524d78e4258b88d17e8adb682df": {
          "model_module": "@jupyter-widgets/controls",
          "model_name": "FloatSliderModel",
          "model_module_version": "1.5.0",
          "state": {
            "_dom_classes": [],
            "_model_module": "@jupyter-widgets/controls",
            "_model_module_version": "1.5.0",
            "_model_name": "FloatSliderModel",
            "_view_count": null,
            "_view_module": "@jupyter-widgets/controls",
            "_view_module_version": "1.5.0",
            "_view_name": "FloatSliderView",
            "continuous_update": true,
            "description": "b2",
            "description_tooltip": null,
            "disabled": false,
            "layout": "IPY_MODEL_cc555e56ec494d81b2172ce197408fe6",
            "max": 3,
            "min": -3,
            "orientation": "horizontal",
            "readout": true,
            "readout_format": ".2f",
            "step": 0.1,
            "style": "IPY_MODEL_1870b97ccc15484b879ec6fa99b0c8b3",
            "value": -1.3
          }
        },
        "360367dc71dc40899f3c58e9dcff1f79": {
          "model_module": "@jupyter-widgets/controls",
          "model_name": "FloatSliderModel",
          "model_module_version": "1.5.0",
          "state": {
            "_dom_classes": [],
            "_model_module": "@jupyter-widgets/controls",
            "_model_module_version": "1.5.0",
            "_model_name": "FloatSliderModel",
            "_view_count": null,
            "_view_module": "@jupyter-widgets/controls",
            "_view_module_version": "1.5.0",
            "_view_name": "FloatSliderView",
            "continuous_update": true,
            "description": "m3",
            "description_tooltip": null,
            "disabled": false,
            "layout": "IPY_MODEL_097e5b9c0bfc4ba7bb75a26c8cfa465a",
            "max": 3,
            "min": -3,
            "orientation": "horizontal",
            "readout": true,
            "readout_format": ".2f",
            "step": 0.1,
            "style": "IPY_MODEL_fdbadb0af085490683b86337ef6c08f2",
            "value": 1.4
          }
        },
        "8eec05194fdb4638a5ec6488974ec22f": {
          "model_module": "@jupyter-widgets/controls",
          "model_name": "FloatSliderModel",
          "model_module_version": "1.5.0",
          "state": {
            "_dom_classes": [],
            "_model_module": "@jupyter-widgets/controls",
            "_model_module_version": "1.5.0",
            "_model_name": "FloatSliderModel",
            "_view_count": null,
            "_view_module": "@jupyter-widgets/controls",
            "_view_module_version": "1.5.0",
            "_view_name": "FloatSliderView",
            "continuous_update": true,
            "description": "b3",
            "description_tooltip": null,
            "disabled": false,
            "layout": "IPY_MODEL_0a8f9ba99b604ca290dbea5aae0d91a3",
            "max": 3,
            "min": -3,
            "orientation": "horizontal",
            "readout": true,
            "readout_format": ".2f",
            "step": 0.1,
            "style": "IPY_MODEL_ee821ca2d9b146f897e01c2edf1a40fb",
            "value": 0
          }
        },
        "56b4a0504faa40508df3909babd83bbc": {
          "model_module": "@jupyter-widgets/output",
          "model_name": "OutputModel",
          "model_module_version": "1.0.0",
          "state": {
            "_dom_classes": [],
            "_model_module": "@jupyter-widgets/output",
            "_model_module_version": "1.0.0",
            "_model_name": "OutputModel",
            "_view_count": null,
            "_view_module": "@jupyter-widgets/output",
            "_view_module_version": "1.0.0",
            "_view_name": "OutputView",
            "layout": "IPY_MODEL_c5cb8149d7d049a98fb2ba4006f1ff55",
            "msg_id": "",
            "outputs": [
              {
                "output_type": "display_data",
                "data": {
                  "text/plain": "<Figure size 576x432 with 1 Axes>",
                  "image/png": "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\n"
                },
                "metadata": {}
              }
            ]
          }
        },
        "648d0162a2fd4b59a239468ca73b2ad1": {
          "model_module": "@jupyter-widgets/base",
          "model_name": "LayoutModel",
          "model_module_version": "1.2.0",
          "state": {
            "_model_module": "@jupyter-widgets/base",
            "_model_module_version": "1.2.0",
            "_model_name": "LayoutModel",
            "_view_count": null,
            "_view_module": "@jupyter-widgets/base",
            "_view_module_version": "1.2.0",
            "_view_name": "LayoutView",
            "align_content": null,
            "align_items": null,
            "align_self": null,
            "border": null,
            "bottom": null,
            "display": null,
            "flex": null,
            "flex_flow": null,
            "grid_area": null,
            "grid_auto_columns": null,
            "grid_auto_flow": null,
            "grid_auto_rows": null,
            "grid_column": null,
            "grid_gap": null,
            "grid_row": null,
            "grid_template_areas": null,
            "grid_template_columns": null,
            "grid_template_rows": null,
            "height": null,
            "justify_content": null,
            "justify_items": null,
            "left": null,
            "margin": null,
            "max_height": null,
            "max_width": null,
            "min_height": null,
            "min_width": null,
            "object_fit": null,
            "object_position": null,
            "order": null,
            "overflow": null,
            "overflow_x": null,
            "overflow_y": null,
            "padding": null,
            "right": null,
            "top": null,
            "visibility": null,
            "width": null
          }
        },
        "5821422365ed484d8df7861526d03fc4": {
          "model_module": "@jupyter-widgets/base",
          "model_name": "LayoutModel",
          "model_module_version": "1.2.0",
          "state": {
            "_model_module": "@jupyter-widgets/base",
            "_model_module_version": "1.2.0",
            "_model_name": "LayoutModel",
            "_view_count": null,
            "_view_module": "@jupyter-widgets/base",
            "_view_module_version": "1.2.0",
            "_view_name": "LayoutView",
            "align_content": null,
            "align_items": null,
            "align_self": null,
            "border": null,
            "bottom": null,
            "display": null,
            "flex": null,
            "flex_flow": null,
            "grid_area": null,
            "grid_auto_columns": null,
            "grid_auto_flow": null,
            "grid_auto_rows": null,
            "grid_column": null,
            "grid_gap": null,
            "grid_row": null,
            "grid_template_areas": null,
            "grid_template_columns": null,
            "grid_template_rows": null,
            "height": null,
            "justify_content": null,
            "justify_items": null,
            "left": null,
            "margin": null,
            "max_height": null,
            "max_width": null,
            "min_height": null,
            "min_width": null,
            "object_fit": null,
            "object_position": null,
            "order": null,
            "overflow": null,
            "overflow_x": null,
            "overflow_y": null,
            "padding": null,
            "right": null,
            "top": null,
            "visibility": null,
            "width": null
          }
        },
        "86575c76ad9a4ae9af70da99e7a81c33": {
          "model_module": "@jupyter-widgets/controls",
          "model_name": "SliderStyleModel",
          "model_module_version": "1.5.0",
          "state": {
            "_model_module": "@jupyter-widgets/controls",
            "_model_module_version": "1.5.0",
            "_model_name": "SliderStyleModel",
            "_view_count": null,
            "_view_module": "@jupyter-widgets/base",
            "_view_module_version": "1.2.0",
            "_view_name": "StyleView",
            "description_width": "",
            "handle_color": null
          }
        },
        "083afe2a342f447a8fd57342a74b63b2": {
          "model_module": "@jupyter-widgets/base",
          "model_name": "LayoutModel",
          "model_module_version": "1.2.0",
          "state": {
            "_model_module": "@jupyter-widgets/base",
            "_model_module_version": "1.2.0",
            "_model_name": "LayoutModel",
            "_view_count": null,
            "_view_module": "@jupyter-widgets/base",
            "_view_module_version": "1.2.0",
            "_view_name": "LayoutView",
            "align_content": null,
            "align_items": null,
            "align_self": null,
            "border": null,
            "bottom": null,
            "display": null,
            "flex": null,
            "flex_flow": null,
            "grid_area": null,
            "grid_auto_columns": null,
            "grid_auto_flow": null,
            "grid_auto_rows": null,
            "grid_column": null,
            "grid_gap": null,
            "grid_row": null,
            "grid_template_areas": null,
            "grid_template_columns": null,
            "grid_template_rows": null,
            "height": null,
            "justify_content": null,
            "justify_items": null,
            "left": null,
            "margin": null,
            "max_height": null,
            "max_width": null,
            "min_height": null,
            "min_width": null,
            "object_fit": null,
            "object_position": null,
            "order": null,
            "overflow": null,
            "overflow_x": null,
            "overflow_y": null,
            "padding": null,
            "right": null,
            "top": null,
            "visibility": null,
            "width": null
          }
        },
        "3ab3670d229e419fb4a35aa32dd84c74": {
          "model_module": "@jupyter-widgets/controls",
          "model_name": "SliderStyleModel",
          "model_module_version": "1.5.0",
          "state": {
            "_model_module": "@jupyter-widgets/controls",
            "_model_module_version": "1.5.0",
            "_model_name": "SliderStyleModel",
            "_view_count": null,
            "_view_module": "@jupyter-widgets/base",
            "_view_module_version": "1.2.0",
            "_view_name": "StyleView",
            "description_width": "",
            "handle_color": null
          }
        },
        "eaa40f8a0ded470fa8103301d000d602": {
          "model_module": "@jupyter-widgets/base",
          "model_name": "LayoutModel",
          "model_module_version": "1.2.0",
          "state": {
            "_model_module": "@jupyter-widgets/base",
            "_model_module_version": "1.2.0",
            "_model_name": "LayoutModel",
            "_view_count": null,
            "_view_module": "@jupyter-widgets/base",
            "_view_module_version": "1.2.0",
            "_view_name": "LayoutView",
            "align_content": null,
            "align_items": null,
            "align_self": null,
            "border": null,
            "bottom": null,
            "display": null,
            "flex": null,
            "flex_flow": null,
            "grid_area": null,
            "grid_auto_columns": null,
            "grid_auto_flow": null,
            "grid_auto_rows": null,
            "grid_column": null,
            "grid_gap": null,
            "grid_row": null,
            "grid_template_areas": null,
            "grid_template_columns": null,
            "grid_template_rows": null,
            "height": null,
            "justify_content": null,
            "justify_items": null,
            "left": null,
            "margin": null,
            "max_height": null,
            "max_width": null,
            "min_height": null,
            "min_width": null,
            "object_fit": null,
            "object_position": null,
            "order": null,
            "overflow": null,
            "overflow_x": null,
            "overflow_y": null,
            "padding": null,
            "right": null,
            "top": null,
            "visibility": null,
            "width": null
          }
        },
        "aa1abb6e4b2d41fdaeb0482d362d9a75": {
          "model_module": "@jupyter-widgets/controls",
          "model_name": "SliderStyleModel",
          "model_module_version": "1.5.0",
          "state": {
            "_model_module": "@jupyter-widgets/controls",
            "_model_module_version": "1.5.0",
            "_model_name": "SliderStyleModel",
            "_view_count": null,
            "_view_module": "@jupyter-widgets/base",
            "_view_module_version": "1.2.0",
            "_view_name": "StyleView",
            "description_width": "",
            "handle_color": null
          }
        },
        "cc555e56ec494d81b2172ce197408fe6": {
          "model_module": "@jupyter-widgets/base",
          "model_name": "LayoutModel",
          "model_module_version": "1.2.0",
          "state": {
            "_model_module": "@jupyter-widgets/base",
            "_model_module_version": "1.2.0",
            "_model_name": "LayoutModel",
            "_view_count": null,
            "_view_module": "@jupyter-widgets/base",
            "_view_module_version": "1.2.0",
            "_view_name": "LayoutView",
            "align_content": null,
            "align_items": null,
            "align_self": null,
            "border": null,
            "bottom": null,
            "display": null,
            "flex": null,
            "flex_flow": null,
            "grid_area": null,
            "grid_auto_columns": null,
            "grid_auto_flow": null,
            "grid_auto_rows": null,
            "grid_column": null,
            "grid_gap": null,
            "grid_row": null,
            "grid_template_areas": null,
            "grid_template_columns": null,
            "grid_template_rows": null,
            "height": null,
            "justify_content": null,
            "justify_items": null,
            "left": null,
            "margin": null,
            "max_height": null,
            "max_width": null,
            "min_height": null,
            "min_width": null,
            "object_fit": null,
            "object_position": null,
            "order": null,
            "overflow": null,
            "overflow_x": null,
            "overflow_y": null,
            "padding": null,
            "right": null,
            "top": null,
            "visibility": null,
            "width": null
          }
        },
        "1870b97ccc15484b879ec6fa99b0c8b3": {
          "model_module": "@jupyter-widgets/controls",
          "model_name": "SliderStyleModel",
          "model_module_version": "1.5.0",
          "state": {
            "_model_module": "@jupyter-widgets/controls",
            "_model_module_version": "1.5.0",
            "_model_name": "SliderStyleModel",
            "_view_count": null,
            "_view_module": "@jupyter-widgets/base",
            "_view_module_version": "1.2.0",
            "_view_name": "StyleView",
            "description_width": "",
            "handle_color": null
          }
        },
        "097e5b9c0bfc4ba7bb75a26c8cfa465a": {
          "model_module": "@jupyter-widgets/base",
          "model_name": "LayoutModel",
          "model_module_version": "1.2.0",
          "state": {
            "_model_module": "@jupyter-widgets/base",
            "_model_module_version": "1.2.0",
            "_model_name": "LayoutModel",
            "_view_count": null,
            "_view_module": "@jupyter-widgets/base",
            "_view_module_version": "1.2.0",
            "_view_name": "LayoutView",
            "align_content": null,
            "align_items": null,
            "align_self": null,
            "border": null,
            "bottom": null,
            "display": null,
            "flex": null,
            "flex_flow": null,
            "grid_area": null,
            "grid_auto_columns": null,
            "grid_auto_flow": null,
            "grid_auto_rows": null,
            "grid_column": null,
            "grid_gap": null,
            "grid_row": null,
            "grid_template_areas": null,
            "grid_template_columns": null,
            "grid_template_rows": null,
            "height": null,
            "justify_content": null,
            "justify_items": null,
            "left": null,
            "margin": null,
            "max_height": null,
            "max_width": null,
            "min_height": null,
            "min_width": null,
            "object_fit": null,
            "object_position": null,
            "order": null,
            "overflow": null,
            "overflow_x": null,
            "overflow_y": null,
            "padding": null,
            "right": null,
            "top": null,
            "visibility": null,
            "width": null
          }
        },
        "fdbadb0af085490683b86337ef6c08f2": {
          "model_module": "@jupyter-widgets/controls",
          "model_name": "SliderStyleModel",
          "model_module_version": "1.5.0",
          "state": {
            "_model_module": "@jupyter-widgets/controls",
            "_model_module_version": "1.5.0",
            "_model_name": "SliderStyleModel",
            "_view_count": null,
            "_view_module": "@jupyter-widgets/base",
            "_view_module_version": "1.2.0",
            "_view_name": "StyleView",
            "description_width": "",
            "handle_color": null
          }
        },
        "0a8f9ba99b604ca290dbea5aae0d91a3": {
          "model_module": "@jupyter-widgets/base",
          "model_name": "LayoutModel",
          "model_module_version": "1.2.0",
          "state": {
            "_model_module": "@jupyter-widgets/base",
            "_model_module_version": "1.2.0",
            "_model_name": "LayoutModel",
            "_view_count": null,
            "_view_module": "@jupyter-widgets/base",
            "_view_module_version": "1.2.0",
            "_view_name": "LayoutView",
            "align_content": null,
            "align_items": null,
            "align_self": null,
            "border": null,
            "bottom": null,
            "display": null,
            "flex": null,
            "flex_flow": null,
            "grid_area": null,
            "grid_auto_columns": null,
            "grid_auto_flow": null,
            "grid_auto_rows": null,
            "grid_column": null,
            "grid_gap": null,
            "grid_row": null,
            "grid_template_areas": null,
            "grid_template_columns": null,
            "grid_template_rows": null,
            "height": null,
            "justify_content": null,
            "justify_items": null,
            "left": null,
            "margin": null,
            "max_height": null,
            "max_width": null,
            "min_height": null,
            "min_width": null,
            "object_fit": null,
            "object_position": null,
            "order": null,
            "overflow": null,
            "overflow_x": null,
            "overflow_y": null,
            "padding": null,
            "right": null,
            "top": null,
            "visibility": null,
            "width": null
          }
        },
        "ee821ca2d9b146f897e01c2edf1a40fb": {
          "model_module": "@jupyter-widgets/controls",
          "model_name": "SliderStyleModel",
          "model_module_version": "1.5.0",
          "state": {
            "_model_module": "@jupyter-widgets/controls",
            "_model_module_version": "1.5.0",
            "_model_name": "SliderStyleModel",
            "_view_count": null,
            "_view_module": "@jupyter-widgets/base",
            "_view_module_version": "1.2.0",
            "_view_name": "StyleView",
            "description_width": "",
            "handle_color": null
          }
        },
        "c5cb8149d7d049a98fb2ba4006f1ff55": {
          "model_module": "@jupyter-widgets/base",
          "model_name": "LayoutModel",
          "model_module_version": "1.2.0",
          "state": {
            "_model_module": "@jupyter-widgets/base",
            "_model_module_version": "1.2.0",
            "_model_name": "LayoutModel",
            "_view_count": null,
            "_view_module": "@jupyter-widgets/base",
            "_view_module_version": "1.2.0",
            "_view_name": "LayoutView",
            "align_content": null,
            "align_items": null,
            "align_self": null,
            "border": null,
            "bottom": null,
            "display": null,
            "flex": null,
            "flex_flow": null,
            "grid_area": null,
            "grid_auto_columns": null,
            "grid_auto_flow": null,
            "grid_auto_rows": null,
            "grid_column": null,
            "grid_gap": null,
            "grid_row": null,
            "grid_template_areas": null,
            "grid_template_columns": null,
            "grid_template_rows": null,
            "height": null,
            "justify_content": null,
            "justify_items": null,
            "left": null,
            "margin": null,
            "max_height": null,
            "max_width": null,
            "min_height": null,
            "min_width": null,
            "object_fit": null,
            "object_position": null,
            "order": null,
            "overflow": null,
            "overflow_x": null,
            "overflow_y": null,
            "padding": null,
            "right": null,
            "top": null,
            "visibility": null,
            "width": null
          }
        }
      }
    }
  },
  "nbformat": 4,
  "nbformat_minor": 0
}
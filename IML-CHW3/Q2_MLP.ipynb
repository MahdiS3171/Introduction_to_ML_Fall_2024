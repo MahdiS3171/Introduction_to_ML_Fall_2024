{
  "cells": [
    {
      "cell_type": "markdown",
      "metadata": {
        "id": "g_FQqz9h3BW3"
      },
      "source": [
        "\n",
        "<br>\n",
        "<font>\n",
        "<div dir=ltr align=center>\n",
        "<img src=\"https://cdn.freebiesupply.com/logos/large/2x/sharif-logo-png-transparent.png\" width=150 height=150> <br>\n",
        "<font color=0F5298 size=7>\n",
        "Introduction to Machine Learning - 25732  <br>\n",
        "<font color=2565AE size=5>\n",
        "Department of Electrical Enginnering <br>\n",
        "Fall 2024<br>\n",
        "<font color=3C99D size=5>\n",
        "Dr. Mohammad Hossein Yassaee <br>\n",
        "<font color=696880 size=4>\n",
        "Armin Dehghan\n",
        "\n",
        "\n",
        "____"
      ]
    },
    {
      "cell_type": "markdown",
      "metadata": {
        "id": "zkdwhXBV3BW9"
      },
      "source": [
        "### Information:\n",
        "\n",
        "1.   Full Name: Seyyed Amirmahdi Sadrzadeh\n",
        "2.   Student Number: 401102015\n",
        "\n",
        "---\n",
        "\n",
        "*I. You are just allowded to change those parts that start with \"TO DO\". Please do not change other parts.*\n",
        "\n",
        "*II. It is highly recommended to read each codeline carefully and try to understand what it exactly does.*\n",
        "\n",
        "*III. Do not copy codes completely from internet sources such as Chat-GPT or etc. If you are using any sources, please put its link in the beging of the block.*\n",
        "\n",
        "If you have any question you can contact related TAs:\n",
        " - Homeworks coordinator: @danialayati\n",
        " - This Notebook: @armin_dh\n",
        "\n",
        " Best of luck and have fun!\n",
        "\n",
        "---"
      ]
    },
    {
      "cell_type": "markdown",
      "metadata": {
        "id": "nz5CmA1W3BW-"
      },
      "source": [
        "## Libraries"
      ]
    },
    {
      "cell_type": "code",
      "execution_count": 164,
      "metadata": {
        "id": "NhaKP7Ch3BW-"
      },
      "outputs": [],
      "source": [
        "from tqdm import tqdm\n",
        "import numpy as np\n",
        "import matplotlib.pyplot as plt\n",
        "\n",
        "import torch\n",
        "import torchvision\n",
        "import torchvision.transforms as transforms\n",
        "from sklearn.model_selection import train_test_split"
      ]
    },
    {
      "cell_type": "markdown",
      "metadata": {
        "id": "k3m_ahbk3BXB"
      },
      "source": [
        "## Introduction:\n",
        "\n",
        "In this Notebook, we introduce the fundamental concepts of neural networks, focusing specifically on the architecture and functionality of Multilayer Perceptrons (MLPs). MLPs are a class of feedforward artificial neural networks that consist of multiple layers of nodes, each layer fully connected to the next. These networks are widely used for a variety of machine learning tasks, including classification and regression. The core idea behind MLPs is to learn complex functions by adjusting the weights and biases of the network through a process known as training, typically involving backpropagation and an optimization algorithm like gradient descent.\n",
        "\n",
        "\n",
        "To provide a practical context to these concepts, we will be working with the MNIST dataset, a large collection of handwritten digits commonly used for training and testing in the field of machine learning. The dataset consists of 60,000 training images and 10,000 test images, each being a 28x28 pixel grayscale image of digits ranging from 0 to 9. The simplicity and size of the MNIST dataset make it an excellent choice for exploring and understanding the mechanics of neural networks, particularly in recognizing patterns and classifying images. Throughout this notebook, we will apply MLPs to this dataset, exploring every step of the process from data preparation and exploration to model training and evaluation."
      ]
    },
    {
      "cell_type": "markdown",
      "metadata": {
        "id": "HSh-nL0H3BXB"
      },
      "source": [
        "## Getting the Data\n",
        "\n",
        "\n",
        "The following Python cell performs two primary actions: it loads the MNIST dataset and then splits it into two distinct sets - one for training and one for testing.\n",
        "\n",
        "- `X_train, Y_train`: These variables represent the training set. `X_train` contains the images of handwritten digits, and `Y_train` contains the corresponding labels that indicate the actual digit each image represents (0 through 9).\n",
        "- `X_test, Y_test`: Similarly, these variables represent the test set. `X_test` includes the images reserved for testing the model's performance, while `Y_test` contains the labels for these images.\n",
        "\n",
        "By executing the next cell, you will download the dataset and prepare these variables.\n",
        "\n",
        "**There is no need to change the following cell.**\n"
      ]
    },
    {
      "cell_type": "code",
      "execution_count": 165,
      "metadata": {
        "id": "7eadaEra3BXC"
      },
      "outputs": [],
      "source": [
        "# Load the MNIST dataset\n",
        "transform = transforms.Compose([\n",
        "    transforms.ToTensor()\n",
        "])\n",
        "\n",
        "trainset = torchvision.datasets.MNIST(root='./data', train=True, download=True)\n",
        "testset = torchvision.datasets.MNIST(root='./data', train=False, download=True)\n",
        "\n",
        "X_train_torch = trainset.data\n",
        "Y_train_torch = trainset.targets\n",
        "\n",
        "X_test_torch = testset.data\n",
        "Y_test_torch = testset.targets\n",
        "\n",
        "\n",
        "\n",
        "# Training Images:\n",
        "X_train = X_train_torch.numpy()\n",
        "# Training Labels:\n",
        "Y_train = Y_train_torch.numpy()\n",
        "\n",
        "# Test Images:\n",
        "X_test = X_test_torch.numpy()\n",
        "# Test Labels:\n",
        "Y_test = Y_test_torch.numpy()"
      ]
    },
    {
      "cell_type": "markdown",
      "metadata": {
        "id": "llIFk2vt3BXC"
      },
      "source": [
        "## Exploratory Data Analysis: (5 Points)\n",
        "\n",
        "Before diving into model building, it's crucial to perform an exploratory data analysis (EDA) to understand the characteristics and structure of the dataset at hand. EDA involves visualizing the data, identifying patterns, understanding the distribution of variables, and spotting any anomalies or outliers. This step not only helps in making informed decisions about data preprocessing and model design but also provides insights that could be useful for feature engineering.\n",
        "\n",
        "Here are two examples of EDA for the MNIST dataset, which consists of handwritten digits:\n",
        "\n",
        "1. **Visualizing Sample Images**:\n",
        "   - Display a few sample images from the dataset to get a sense of what the handwritten digits look like. This can help in understanding the variety of handwriting styles and the clarity of images.\n",
        "\n",
        "</br>\n",
        "\n",
        "2. **Checking the Distribution of Classes**:\n",
        "   - Plot the frequency of each digit (0-9) in the dataset to check if the dataset is balanced. This is crucial as an imbalanced dataset may need special treatment during training, such as class weighting or resampling techniques."
      ]
    },
    {
      "cell_type": "code",
      "execution_count": 166,
      "metadata": {
        "colab": {
          "base_uri": "https://localhost:8080/",
          "height": 647
        },
        "id": "ZG5eqjJ23BXD",
        "outputId": "26e5e4f7-760f-46ad-b053-6d6d4dd99b6d"
      },
      "outputs": [
        {
          "output_type": "display_data",
          "data": {
            "text/plain": [
              "<Figure size 1000x200 with 5 Axes>"
            ],
            "image/png": "[encoded data removed]"
          },
          "metadata": {}
        },
        {
          "output_type": "display_data",
          "data": {
            "text/plain": [
              "<Figure size 640x480 with 1 Axes>"
            ],
            "image/png": "[encoded data removed]"
          },
          "metadata": {}
        }
      ],
      "source": [
        "# Exploratory data analysis\n",
        "plt.figure(figsize=(10, 2))\n",
        "for i in range(5):\n",
        "    plt.subplot(1, 5, i + 1)\n",
        "    plt.imshow(X_train[i], cmap='gray')\n",
        "    plt.title(f\"Label: {Y_train[i]}\")\n",
        "    plt.axis('off')\n",
        "plt.show()\n",
        "\n",
        "unique, counts = np.unique(Y_train, return_counts=True)\n",
        "plt.bar(unique, counts, color='skyblue')\n",
        "plt.xlabel('Digit')\n",
        "plt.ylabel('Frequency')\n",
        "plt.title('Distribution of Digits')\n",
        "plt.xticks(range(10))\n",
        "plt.show()"
      ]
    },
    {
      "cell_type": "markdown",
      "metadata": {
        "id": "2uMJTjyk3BXD"
      },
      "source": [
        "## Data Split: (5 Points)\n",
        "\n",
        "To evaluate the performance of our MLP model effectively, we divide the dataset into three distinct sets: training, validation, and test sets. The training set is used to train the model, where the model learns to make predictions by adjusting its parameters. The validation set is used to fine-tune the hyperparameters and make informed decisions about the model architecture without overfitting to the training data. Finally, the test set is utilized to assess the model's performance on unseen data, providing an unbiased evaluation of its ability to generalize.\n",
        "\n",
        "In the next cell, you should take the initial training set `(X_train, Y_train)` and further split it into validation `(X_val, Y_val)` and revised training sets `(X_train, Y_train)` using a 1:5 ratio. This process ensures that we have a separate dataset to validate the model's performance during the training phase, helping us to avoid overfitting and ensuring that our model generalizes well to new, unseen data."
      ]
    },
    {
      "cell_type": "code",
      "execution_count": 167,
      "metadata": {
        "id": "DW3Zwaks3BXD"
      },
      "outputs": [],
      "source": [
        "X_train, X_val, Y_train, Y_val = train_test_split(X_train, Y_train, test_size=1/6, random_state=40)"
      ]
    },
    {
      "cell_type": "markdown",
      "metadata": {
        "id": "2giYKhcl3BXE"
      },
      "source": [
        "## Preparation of the Data:\n",
        "\n",
        "Data preparation is a critical step in the machine learning pipeline. This process includes cleaning the data, handling missing values, normalizing or standardizing the data, and reshaping it into a format suitable for the neural network. Proper data preparation ensures that the model learns effectively and achieves high performance.\n",
        "\n",
        "In the next cell, we will focus on preparing the MNIST dataset for our MLP model. Given that the MNIST images are grayscale with pixel values ranging from 0 to 255, we will start by normalizing these values to a range of 0 to 1. This normalization helps in speeding up the convergence of the neural network by providing a consistent scale of input values. Additionally, we will reshape the images from their original 2D shape (28x28 pixels) into a flat 1D vector of 784 elements. This step is necessary because our MLP model expects input vectors of a fixed size.\n",
        "\n",
        "**There is no need to change the following cell.**\n"
      ]
    },
    {
      "cell_type": "code",
      "execution_count": 168,
      "metadata": {
        "id": "MFkB2eGM3BXE"
      },
      "outputs": [],
      "source": [
        "# Normalize the images\n",
        "X_train = X_train / 255\n",
        "X_val = X_val / 255\n",
        "X_test = X_test / 255\n",
        "\n",
        "# Flatten the images\n",
        "X_train = X_train.reshape(X_train.shape[0], -1)\n",
        "X_val = X_val.reshape(X_val.shape[0], -1)\n",
        "X_test = X_test.reshape(X_test.shape[0], -1)"
      ]
    },
    {
      "cell_type": "markdown",
      "metadata": {
        "id": "LEPEqbiW3BXE"
      },
      "source": [
        "## Preparation of Model Parameters:\n",
        "\n",
        "Initializing the parameters of an MLP, including weights and biases, is an important step that can significantly affect the model's learning process. Proper initialization can help in preventing issues related to vanishing or exploding gradients, thereby ensuring a stable and efficient training process.\n",
        "\n",
        "In the next cell, we define the architecture of our neural network and initialize its weights and biases. Our network consists of an input layer, three hidden layers, and an output layer, structured as follows:\n",
        "\n",
        "- `n_inp`: Represents the number of neurons in the input layer, determined by the number of features in `X_train`.\n",
        "- `n_hid1`, `n_hid2`, `n_hid3`: Denote the number of neurons in the first, second, and third hidden layers, respectively, set to 256, 128, and 64 for a progressively narrowing architecture.\n",
        "- `n_out`: The number of neurons in the output layer, set to 10, corresponding to the number of possible classifications (for example, digits 0-9 in the MNIST dataset).\n",
        "\n",
        "For each layer, we initialize the weights and biases as follows:\n",
        "- `W1`, `W2`, `W3`, `W4`: Weight matrices for the first, second, third, and output layers, initialized with small random values drawn from a normal distribution, scaled by 0.01 to keep the values small.\n",
        "- `B1`, `B2`, `B3`, `B4`: Bias vectors for each layer, also initialized with small random values, similarly scaled.\n",
        "\n",
        "A random seed (`manual_seed(42)`) is set for reproducibility, ensuring that the random numbers generated are the same each time the code is run. This aids in debugging and comparing model performances across different runs.\n",
        "\n",
        "**There is no need to change the following cell.**"
      ]
    },
    {
      "cell_type": "code",
      "execution_count": 169,
      "metadata": {
        "id": "0QfHDJJd3BXE"
      },
      "outputs": [],
      "source": [
        "# Defining the Sizes of the Layers\n",
        "n_inp = X_train.shape[1]\n",
        "n_hid1 = 256\n",
        "n_hid2 = 128\n",
        "n_hid3 = 64\n",
        "n_out = 10\n",
        "\n",
        "# Seed for Reproducibility\n",
        "g = torch.Generator().manual_seed(42)\n",
        "\n",
        "# Weights and Biases of the First Layer:\n",
        "W1 = torch.randn(n_inp, n_hid1, generator=g, requires_grad=True) * 0.01\n",
        "B1 = torch.randn(1, n_hid1, generator=g, requires_grad=True) * 0.01\n",
        "\n",
        "# Weights and Biases of the Second Layer:\n",
        "W2 = torch.randn(n_hid1, n_hid2, generator=g, requires_grad=True) * 0.01\n",
        "B2 = torch.randn(1, n_hid2, generator=g, requires_grad=True) * 0.01\n",
        "\n",
        "# Weights and Biases of the Third Layer:\n",
        "W3 = torch.randn(n_hid2, n_hid3, generator=g, requires_grad=True) * 0.01\n",
        "B3 = torch.randn(1, n_hid3, generator=g, requires_grad=True) * 0.01\n",
        "\n",
        "# Weights and Biases of the Fourth Layer:\n",
        "W4 = torch.randn(n_hid3, n_out, generator=g, requires_grad=True) * 0.01\n",
        "B4 = torch.randn(1, n_out, generator=g, requires_grad=True) * 0.01"
      ]
    },
    {
      "cell_type": "markdown",
      "metadata": {
        "id": "h-2fCxby3BXE"
      },
      "source": [
        "## Forward Pass:\n",
        "\n",
        "The forward pass refers to the computation process where the input data is passed through the network layer by layer to produce the output. At each layer, the input is transformed using a linear transformation (weighted sum followed by the addition of a bias term) and then typically passed through a non-linear activation function. The output of the final layer is considered the prediction of the network. This step is crucial for both training and evaluation of the model.\n",
        "\n",
        "In the next cell, we will illustrate the forward pass using our MLP model designed for the MNIST dataset. We will walk through the process step by step, starting with the input layer, moving through the hidden layers, and finally to the output layer. For each layer, we will apply the linear transformation, followed by an activation function for hidden layers. The final layer will use the softmax function to produce a probability distribution over the 10 possible digit classes.\n",
        "\n",
        "\n",
        "Here's a step-by-step breakdown:\n",
        "\n",
        "- `batch_size = 32`: This specifies the number of training examples to process simultaneously, which affects the efficiency of training and the generalization capability of the model.\n",
        "\n",
        "**Layer 1:**\n",
        "- `PreActivation1`: Result of the linear transformation applied to the input, computed as `sample_inp @ W1 + B1`, resulting in dimensions `[batch_size, n_hid1]`.\n",
        "- `Hidden1`: Output after applying the sigmoid activation function to `PreActivation1`, maintaining dimensions `[batch_size, n_hid1]`.\n",
        "\n",
        "**Layer 2:**\n",
        "- `PreActivation2`: Linear transformation for the second layer, using `Hidden1` as input, resulting in dimensions `[batch_size, n_hid2]`.\n",
        "- `Hidden2`: Output after applying the ReLU activation function to `PreActivation2`, with dimensions `[batch_size, n_hid2]`.\n",
        "\n",
        "**Layer 3:**\n",
        "- `PreActivation3`: Linear transformation for the third layer, with dimensions `[batch_size, n_hid3]`.\n",
        "- `Hidden3`: Output after applying the tanh activation function to `PreActivation3`, maintaining dimensions `[batch_size, n_hid3]`.\n",
        "\n",
        "**Layer 4 (Output Layer):**\n",
        "- `Logits`: Result of the final linear transformation applied to `Hidden3`, with dimensions `[batch_size, n_out]`, where `n_out` is the number of output classes.\n",
        "- `Probs`: Probabilities for each class, obtained by applying the softmax function to `Logits`, with dimensions `[batch_size, n_out]`. The softmax ensures these probabilities sum to 1 for each sample.\n",
        "\n",
        "**Loss Computation:**\n",
        "- `LogProbs`: Logarithm of `Probs`, necessary for computing cross-entropy loss, maintaining dimensions `[batch_size, n_out]`.\n",
        "- `Loss`: The cross-entropy loss for the batch, calculated by taking the negative log likelihood of the correct class probabilities (indexed by `sample_out`) and averaging, resulting in a single scalar value. This metric quantifies the model's prediction accuracy, guiding parameter adjustments during training.\n",
        "\n",
        "**There is no need to change the following cell.**\n",
        "\n"
      ]
    },
    {
      "cell_type": "code",
      "execution_count": 170,
      "metadata": {
        "id": "-CkldNbC3BXF"
      },
      "outputs": [],
      "source": [
        "batch_size = 32\n",
        "sample_inp = torch.Tensor(X_train[:batch_size])\n",
        "sample_out = torch.Tensor(Y_train[:batch_size]).int()\n",
        "\n",
        "# Forward pass\n",
        "\n",
        "# Layer 1\n",
        "# Applying Linear transformation\n",
        "PreActivation1 = sample_inp @ W1 + B1\n",
        "# Applying Sigmoid activation function\n",
        "Hidden1 = torch.sigmoid(PreActivation1)\n",
        "\n",
        "# Layer 2\n",
        "# Applying Linear transformation\n",
        "PreActivation2 = Hidden1 @ W2 + B2\n",
        "# Applying ReLU activation function\n",
        "Hidden2 = torch.relu(PreActivation2)\n",
        "\n",
        "# Layer 3\n",
        "# Applying Linear transformation\n",
        "PreActivation3 = Hidden2 @ W3 + B3\n",
        "# Applying Tanh activation function\n",
        "Hidden3 = torch.tanh(PreActivation3)\n",
        "\n",
        "\n",
        "# Layer 4\n",
        "# Applying Linear transformation\n",
        "Logits = Hidden3 @ W4 + B4\n",
        "# Applying Softmax activation function\n",
        "Exp4 = torch.exp(Logits)\n",
        "Sum4 = torch.sum(Exp4, dim=1).view(-1, 1)\n",
        "SumInverse4 = 1 / Sum4\n",
        "Probs = Exp4 * SumInverse4\n",
        "\n",
        "# Loss computation (Cross-entropy loss)\n",
        "LogProbs = Probs.log()\n",
        "Loss = -LogProbs[range(batch_size), sample_out].mean()"
      ]
    },
    {
      "cell_type": "markdown",
      "metadata": {
        "id": "TOqx2YYk3BXF"
      },
      "source": [
        "## Backward Pass and Gradient Computation:\n",
        "\n",
        "Following the forward pass, the next critical phase in training a neural network is the backward pass, which involves computing the gradients of the loss function with respect to each parameter in the model. This process, often facilitated by automatic differentiation libraries like PyTorch's `autograd`, allows us to understand how each parameter needs to be adjusted to minimize the loss.\n",
        "\n",
        "In the next cell, we will compute the gradients of our model using `autograd` and save all the values as numpy arrays.\n",
        "\n",
        "\n",
        "\n",
        "\n",
        "Here's a breakdown of the variables in the code:\n",
        "\n",
        "- **`parameters`:** A list containing all the trainable parameters of the network, including the weights (`W1`, `W2`, `W3`, `W4`) and biases (`B1`, `B2`, `B3`, `B4`) of each layer.\n",
        "\n",
        "- **`middle_values`:** A list of intermediate values computed during the forward pass. These include pre-activation values (`PreActivation1`, `PreActivation2`, `PreActivation3`), hidden layer outputs (`Hidden1`, `Hidden2`, `Hidden3`), and other intermediate computations (`Logits`, `Exp4`, `Sum4`, `SumInverse4`, `Probs`, `LogProbs`) crucial for the loss calculation.\n",
        "\n",
        "- **Weights (`W1`, `W2`, `W3`, `W4`):** These matrices represent the wights of different layers of our model saved as NumPy arrays.\n",
        "\n",
        "- **Biases (`B1`, `B2`, `B3`, `B4`):** These matrices represent the biases of different layers of our model saved as NumPy arrays.\n",
        "\n",
        "- **Weight Gradients (`W1_grad`, `W2_grad`, `W3_grad`, `W4_grad`):** After the backward pass, `W1_grad` holds the gradients of the loss function with respect to `W1`, and similarly for the other weight matrices. All these matrices are saved as NumPy arrays.\n",
        "\n",
        "- **Bias Gradients (`B1_grad`, `B2_grad`, `B3_grad`, `B4_grad`):** Similar to weight gradients, these vectors contain the gradients of the loss with respect to the biases. `B1_grad` is associated with the biases of the first hidden layer, `B2_grad` with the second, and so on. All these vectors are saved as NumPy arrays.\n",
        "\n",
        "**There is no need to change the following cell.**\n"
      ]
    },
    {
      "cell_type": "code",
      "execution_count": 171,
      "metadata": {
        "id": "vdIHjv7L3BXF"
      },
      "outputs": [],
      "source": [
        "parameters = [W1, B1, W2, B2, W3, B3, W4, B4]\n",
        "\n",
        "middle_values = [PreActivation1, Hidden1,\n",
        "                 PreActivation2, Hidden2,\n",
        "                 PreActivation3, Hidden3,\n",
        "                 Logits, Exp4, Sum4, SumInverse4, Probs,\n",
        "                 LogProbs]\n",
        "\n",
        "# Backward pass (autograd)\n",
        "for p in parameters:\n",
        "    p.grad = None\n",
        "    p.retain_grad()\n",
        "for m in middle_values:\n",
        "    m.retain_grad()\n",
        "Loss.backward()\n",
        "\n",
        "Loss = np.array(Loss.detach())\n",
        "\n",
        "LogProbs_grad = np.array(LogProbs.grad)\n",
        "LogProbs = np.array(LogProbs.detach())\n",
        "\n",
        "Probs_grad = np.array(Probs.grad)\n",
        "Probs = np.array(Probs.detach())\n",
        "\n",
        "SumInverse4_grad = np.array(SumInverse4.grad)\n",
        "SumInverse4 = np.array(SumInverse4.detach())\n",
        "\n",
        "Sum4_grad = np.array(Sum4.grad)\n",
        "Sum4 = np.array(Sum4.detach())\n",
        "\n",
        "Exp4_grad = np.array(Exp4.grad)\n",
        "Exp4 = np.array(Exp4.detach())\n",
        "\n",
        "Logits_grad = np.array(Logits.grad)\n",
        "Logits = np.array(Logits.detach())\n",
        "\n",
        "B4_grad = np.array(B4.grad)\n",
        "B4 = np.array(B4.detach())\n",
        "\n",
        "W4_grad = np.array(W4.grad)\n",
        "W4 = np.array(W4.detach())\n",
        "\n",
        "Hidden3_grad = np.array(Hidden3.grad)\n",
        "Hidden3 = np.array(Hidden3.detach())\n",
        "\n",
        "PreActivation3_grad = np.array(PreActivation3.grad)\n",
        "PreActivation3 = np.array(PreActivation3.detach())\n",
        "\n",
        "B3_grad = np.array(B3.grad)\n",
        "B3 = np.array(B3.detach())\n",
        "\n",
        "W3_grad = np.array(W3.grad)\n",
        "W3 = np.array(W3.detach())\n",
        "\n",
        "Hidden2_grad = np.array(Hidden2.grad)\n",
        "Hidden2 = np.array(Hidden2.detach())\n",
        "\n",
        "PreActivation2_grad = np.array(PreActivation2.grad)\n",
        "PreActivation2 = np.array(PreActivation2.detach())\n",
        "\n",
        "B2_grad = np.array(B2.grad)\n",
        "B2 = np.array(B2.detach())\n",
        "\n",
        "W2_grad = np.array(W2.grad)\n",
        "W2 = np.array(W2.detach())\n",
        "\n",
        "Hidden1_grad = np.array(Hidden1.grad)\n",
        "Hidden1 = np.array(Hidden1.detach())\n",
        "\n",
        "PreActivation1_grad = np.array(PreActivation1.grad)\n",
        "PreActivation1 = np.array(PreActivation1.detach())\n",
        "\n",
        "B1_grad = np.array(B1.grad)\n",
        "B1 = np.array(B1.detach())\n",
        "\n",
        "W1_grad = np.array(W1.grad)\n",
        "W1 = np.array(W1.detach())\n",
        "\n",
        "sample_inp = np.array(sample_inp)\n",
        "sample_out = np.array(sample_out)"
      ]
    },
    {
      "cell_type": "markdown",
      "metadata": {
        "id": "LlpMkk3Z3BXF"
      },
      "source": [
        "## Manual Gradient Calculation by Chain Rule: (50 Points)\n",
        "\n",
        "The chain rule is a fundamental principle in calculus that facilitates the computation of complex derivatives by breaking them down into simpler parts. In the context of neural networks, the chain rule enables the efficient calculation of gradients of the loss function with respect to any parameter in the network, regardless of its position. This process is crucial for understanding how changes in parameters affect the overall loss, guiding the optimization process towards lower loss values.\n",
        "\n",
        "In the next cells, we will start a hands-on exploration of this concept by manually calculating the gradients for selected parts of our model. This exercise will not only deepen your understanding of backpropagation  but also reinforce the mathematical intuition behind the learning process.\n",
        "\n",
        "We will proceed as follows:\n",
        "\n",
        "1. **Identify Key Operations:** We will start by pinpointing the key operations in our model that contribute to the final prediction. This includes linear transformations, activation functions, and the final loss computation.\n",
        "   \n",
        "2. **Compute Local Gradients:** For each operation, we will compute the local gradient, which represents the rate of change of the operation's output with respect to its input.\n",
        "\n",
        "3. **Apply the Chain Rule:** Using the chain rule, we will then piece together these local gradients to compute the gradient of the loss function with respect to each parameter in our model. This involves multiplying the local gradients along the paths from the output back to each parameter.\n",
        "\n",
        "4. **Verify Your Calculations:** Finally, we will compare our manually computed gradients with those obtained using automatic differentiation (e.g., PyTorch's `autograd`), ensuring the correctness of our computations. For example `dLogProbs` that you manualy calculate should be equal to the `LogProbs_grad` that we calculated before using PyTorch's autograd and we will verify that by `check()` function.\n",
        "\n",
        "\n",
        "**HINT:** As you start doing manual gradient calculation, keep in mind that the gradient of any parameter or intermediate variable should retain the same dimensions as the original array.\n",
        "\n",
        "Additionally, all calculations in this exercise **should be performed using NumPy** and its functions.\n",
        "\n",
        "**Please complete the #TODO parts of the following cells**\n",
        "\n"
      ]
    },
    {
      "cell_type": "code",
      "execution_count": 172,
      "metadata": {
        "id": "0MtrH3ux3BXF"
      },
      "outputs": [],
      "source": [
        "# Function to compare manually computed gradients with PyTorch (autograd) gradients\n",
        "def check(s, manual_grad, autograd_grad):\n",
        "  corrcetness = np.allclose(manual_grad, autograd_grad)\n",
        "  print(f'{s:15s} | Gradient Correctness: {str(corrcetness):5s}')"
      ]
    },
    {
      "cell_type": "code",
      "execution_count": 173,
      "metadata": {
        "colab": {
          "base_uri": "https://localhost:8080/"
        },
        "id": "b8iTcljj3BXG",
        "outputId": "84d71338-bbd7-4c01-87b2-4398ea1c0bbb"
      },
      "outputs": [
        {
          "output_type": "stream",
          "name": "stdout",
          "text": [
            "LogProbs        | Gradient Correctness: True \n"
          ]
        }
      ],
      "source": [
        "# Backward pass (manual)\n",
        "# Loss\n",
        "# TODO\n",
        "dLogProbs = np.zeros_like(LogProbs)\n",
        "for i in range(batch_size):\n",
        "    dLogProbs[i, sample_out[i]] = -1 / batch_size\n",
        "\n",
        "\n",
        "# Verify the correctness of the gradients that you calculated\n",
        "check('LogProbs', dLogProbs, LogProbs_grad)"
      ]
    },
    {
      "cell_type": "code",
      "execution_count": 174,
      "metadata": {
        "colab": {
          "base_uri": "https://localhost:8080/"
        },
        "id": "E62O5TGX3BXG",
        "outputId": "a73db1df-5a10-47a0-b90d-4f4467f1779a"
      },
      "outputs": [
        {
          "output_type": "stream",
          "name": "stdout",
          "text": [
            "Probs           | Gradient Correctness: True \n",
            "SumInverse4     | Gradient Correctness: True \n",
            "Sum4            | Gradient Correctness: True \n",
            "Exp4            | Gradient Correctness: True \n",
            "Logits          | Gradient Correctness: True \n",
            "B4              | Gradient Correctness: True \n",
            "W4              | Gradient Correctness: True \n",
            "Hidden3         | Gradient Correctness: True \n"
          ]
        }
      ],
      "source": [
        "# Backward pass (manual)\n",
        "# Layer 4\n",
        "\n",
        "# TODO\n",
        "dProbs = dLogProbs / Probs\n",
        "\n",
        "# TODO\n",
        "dSumInverse4 = np.sum(dProbs * Exp4, axis=1, keepdims=True)\n",
        "\n",
        "# TODO\n",
        "dSum4 = dSumInverse4 * -1 * SumInverse4 ** 2\n",
        "# TODO\n",
        "dExp4 = dProbs * SumInverse4 + dSum4\n",
        "\n",
        "# TODO\n",
        "dLogits = dExp4 * Exp4\n",
        "\n",
        "# TODO\n",
        "dB4 = dLogits.sum(axis=0)\n",
        "\n",
        "# TODO\n",
        "dW4 = (Hidden3.T @ dLogits)\n",
        "\n",
        "# TODO\n",
        "dHidden3 =  dLogits @ W4.T\n",
        "\n",
        "\n",
        "# Verify the correctness of the gradients that you calculated\n",
        "check('Probs', dProbs, Probs_grad)\n",
        "check('SumInverse4', dSumInverse4, SumInverse4_grad)\n",
        "check('Sum4', dSum4, Sum4_grad)\n",
        "check('Exp4', dExp4, Exp4_grad)\n",
        "check('Logits', dLogits, Logits_grad)\n",
        "check('B4', dB4, B4_grad)\n",
        "check('W4', dW4, W4_grad)\n",
        "check('Hidden3', dHidden3, Hidden3_grad)"
      ]
    },
    {
      "cell_type": "code",
      "execution_count": 175,
      "metadata": {
        "colab": {
          "base_uri": "https://localhost:8080/"
        },
        "id": "kupvJRTN3BXG",
        "outputId": "7263bd43-1c21-4087-a956-254a77508092"
      },
      "outputs": [
        {
          "output_type": "stream",
          "name": "stdout",
          "text": [
            "PreActivation3  | Gradient Correctness: True \n",
            "B3              | Gradient Correctness: True \n",
            "W3              | Gradient Correctness: True \n",
            "Hidden2         | Gradient Correctness: True \n"
          ]
        }
      ],
      "source": [
        "# Backward pass (manual)\n",
        "# Layer 3\n",
        "\n",
        "# TODO\n",
        "dPreActivation3 = dHidden3 * (1 - Hidden3 ** 2)\n",
        "\n",
        "# TODO\n",
        "dB3 = dPreActivation3.sum(axis=0)\n",
        "\n",
        "# TODO\n",
        "dW3 = Hidden2.T @ dPreActivation3\n",
        "\n",
        "# TODO\n",
        "dHidden2 = dPreActivation3 @ W3.T\n",
        "\n",
        "\n",
        "# Verify the correctness of the gradients that you calculated\n",
        "check('PreActivation3', dPreActivation3, PreActivation3_grad)\n",
        "check('B3', dB3, B3_grad)\n",
        "check('W3', dW3, W3_grad)\n",
        "check('Hidden2', dHidden2, Hidden2_grad)"
      ]
    },
    {
      "cell_type": "code",
      "execution_count": 176,
      "metadata": {
        "colab": {
          "base_uri": "https://localhost:8080/"
        },
        "id": "OtUoqWVS3BXG",
        "outputId": "ced03ae2-bbb6-48bb-ed3a-913f55e976cc"
      },
      "outputs": [
        {
          "output_type": "stream",
          "name": "stdout",
          "text": [
            "PreActivation2  | Gradient Correctness: True \n",
            "B2              | Gradient Correctness: True \n",
            "W2              | Gradient Correctness: True \n",
            "Hidden1         | Gradient Correctness: True \n"
          ]
        }
      ],
      "source": [
        "# Backward pass (manual)\n",
        "# Layer 2\n",
        "\n",
        "# TODO\n",
        "dPreActivation2 = dHidden2 * (Hidden2 > 0)\n",
        "\n",
        "# TODO\n",
        "dB2 = dPreActivation2.sum(axis=0)\n",
        "\n",
        "# TODO\n",
        "dW2 = Hidden1.T @ dPreActivation2\n",
        "\n",
        "# TODO\n",
        "dHidden1 = dPreActivation2 @ W2.T\n",
        "\n",
        "\n",
        "# Verify the correctness of the gradients that you calculated\n",
        "check('PreActivation2', dPreActivation2, PreActivation2_grad)\n",
        "check('B2', dB2, B2_grad)\n",
        "check('W2', dW2, W2_grad)\n",
        "check('Hidden1', dHidden1, Hidden1_grad)"
      ]
    },
    {
      "cell_type": "code",
      "execution_count": 177,
      "metadata": {
        "colab": {
          "base_uri": "https://localhost:8080/"
        },
        "id": "_TkskFqS3BXG",
        "outputId": "9b078f3c-2bc7-41b9-dd3a-ec6bdb7636e5"
      },
      "outputs": [
        {
          "output_type": "stream",
          "name": "stdout",
          "text": [
            "PreActivation1  | Gradient Correctness: True \n",
            "B1              | Gradient Correctness: True \n",
            "W1              | Gradient Correctness: True \n"
          ]
        }
      ],
      "source": [
        "# Backward pass (manual)\n",
        "# Layer 1\n",
        "\n",
        "# TODO\n",
        "dPreActivation1 = dHidden1 * (np.array(torch.sigmoid(torch.from_numpy(PreActivation1))) - np.array(torch.sigmoid(torch.from_numpy(PreActivation1))) ** 2)\n",
        "\n",
        "# TODO\n",
        "dB1 = dPreActivation1.sum(axis=0)\n",
        "\n",
        "# TODO\n",
        "dW1 = sample_inp.T @ dPreActivation1\n",
        "\n",
        "\n",
        "# Verify the correctness of the gradients that you calculated\n",
        "check('PreActivation1', dPreActivation1, PreActivation1_grad)\n",
        "check('B1', dB1, B1_grad)\n",
        "check('W1', dW1, W1_grad)"
      ]
    },
    {
      "cell_type": "markdown",
      "metadata": {
        "id": "iW1mIK7j3BXH"
      },
      "source": [
        "## Updating Model Parameters: (5 Points)\n",
        "\n",
        "With the gradients computed during the backpropagation step, the next critical phase in training our neural network involves updating the model's parameters. This step is essential for minimizing the loss function and improving the model's predictions over time.\n",
        "\n",
        "For our model, this translates to the following updates:\n",
        "- For the first layer's weights (`W1`) and biases (`B1`), we subtract the product of the learning rate and their respective gradients (`dW1`, `dB1`).\n",
        "- Similarly, this pattern is repeated for the subsequent layers' weights (`W2`, `W3`, `W4`) and biases (`B2`, `B3`, `B4`), ensuring that each parameter is nudged in the direction that minimizes the loss.\n",
        "\n",
        "**Please complete the #TODO parts of the following cell**"
      ]
    },
    {
      "cell_type": "code",
      "execution_count": 178,
      "metadata": {
        "id": "62ECgQaW3BXH"
      },
      "outputs": [],
      "source": [
        "# Update parameters\n",
        "# TODO\n",
        "learning_rate = 0.01\n",
        "\n",
        "# TODO\n",
        "W1 -= learning_rate * dW1\n",
        "B1 -= learning_rate * dB1\n",
        "\n",
        "# TODO\n",
        "W2 -= learning_rate * dW2\n",
        "B2 -= learning_rate * dB2\n",
        "\n",
        "# TODO\n",
        "W3 -= learning_rate * dW3\n",
        "B3 -= learning_rate * dB3\n",
        "\n",
        "# TODO\n",
        "W4 -= learning_rate * dW4\n",
        "B4 -= learning_rate * dB4"
      ]
    },
    {
      "cell_type": "markdown",
      "metadata": {
        "id": "GhsKdksv3BXH"
      },
      "source": [
        "## Activation Functions Using Numpy Instead of PyTorch: (10 Points)\n",
        "\n",
        "In the next phase of this notebook, we will try to implement a complete multilayer perceptron (MLP) model using only the NumPy library. For this purpose, you should implement the following activation functions using only NumPy functions:\n",
        "\n",
        "- **Sigmoid:**\n",
        "  The Sigmoid function is defined as \\( \\sigma(x) = \\frac{1}{1 + e^{-x}} \\). It maps any input value to a value between 0 and 1.\n",
        "\n",
        "- **ReLU:**\n",
        "  The Rectified Linear Unit (ReLU) function is defined as \\( \\text{ReLU}(x) = \\max(0, x) \\). It introduces non-linearity with less computational complexity and has become one of the most popular activation functions in deep learning.\n",
        "\n",
        "- **Tanh:**\n",
        "  The Hyperbolic Tangent (Tanh) function is defined as \\( \\tanh(x) = \\frac{e^{x} - e^{-x}}{e^{x} + e^{-x}} \\). It maps any input value to a range between -1 and 1.\n",
        "\n",
        "**Please complete the #TODO parts of the following cells**\n"
      ]
    },
    {
      "cell_type": "code",
      "execution_count": 179,
      "metadata": {
        "id": "otiaenTe3BXH"
      },
      "outputs": [],
      "source": [
        "def sigmoid(x):\n",
        "    \"\"\"\n",
        "    Compute the sigmoid function for the input array.\n",
        "\n",
        "    Parameters:\n",
        "    - x (np.array): The input array for which to compute the sigmoid function.\n",
        "\n",
        "    Returns:\n",
        "    - np.array: The output array where the sigmoid function has been applied element-wise.\n",
        "    \"\"\"\n",
        "    return 1 / (1 + np.exp(-x))\n",
        "\n",
        "def relu(x):\n",
        "    \"\"\"\n",
        "    Compute the Rectified Linear Unit (ReLU) for the input array.\n",
        "\n",
        "    Parameters:\n",
        "    - x (np.array): The input array for which to compute the ReLU function.\n",
        "\n",
        "    Returns:\n",
        "    - np.array: The output array where the ReLU function has been applied element-wise, keeping only positive values and setting negative values to zero.\n",
        "    \"\"\"\n",
        "    return np.maximum(0, x)\n",
        "\n",
        "def tanh(x):\n",
        "    \"\"\"\n",
        "    Compute the hyperbolic tangent (tanh) for the input array.\n",
        "\n",
        "    Parameters:\n",
        "    - x (np.array): The input array for which to compute the tanh function.\n",
        "\n",
        "    Returns:\n",
        "    - np.array: The output array where the tanh function has been applied element-wise.\n",
        "    \"\"\"\n",
        "    return np.tanh(x)"
      ]
    },
    {
      "cell_type": "markdown",
      "metadata": {
        "id": "WpCplOkG3BXH"
      },
      "source": [
        "## Writing the MLP Class: (10 Points)\n",
        "\n",
        "In the next cell, you are tasked with completing the MLP class, which will serve as the foundation for training an MLP model on the MNIST dataset. The class should have the essential components of an MLP, including:\n",
        "\n",
        "- **Initialization of Parameters:** Define the architecture (number of layers, size of each layer) and initialize the weights and biases accordingly. This sets up the structure of your neural network and prepares it for the forward and backward passes. You can use NumPy random functions for this purpose.\n",
        "\n",
        "- **Forward Pass Method:** Implement the forward propagation algorithm to compute the output of the network for a given input. This involves applying a series of linear transformations and non-linear activations to the input data to obtain the final output. You are free to choose the size of the layers and also the activation functions\n",
        "\n",
        "- **Loss Computation:** Calculate the loss to evaluate how well the model is performing. The loss function measures the discrepancy between the predicted outputs and the actual targets, guiding the training process. Use Cross-entropy loss for this example.\n",
        "\n",
        "- **Backward Pass Method:** Compute the gradients of the loss with respect to the parameters **manually**.\n",
        "\n",
        "- **Step Method:**\n",
        "  The step method is responsible for updating the model's parameters (weights and biases) using the gradients computed after the backward pass. Typically, the step method will iterate over all parameters and apply the update:\n",
        "  \\[ \\text{parameter} = \\text{parameter} - (\\text{learning_rate} \\times \\text{gradient}) \\]\n",
        "\n",
        "\n",
        "\n",
        "Feel free to design the architecture of your model, select appropriate hyperparameters, and choose activation functions based on your specific requirements and objectives! This flexibility allows you to tailor the model to optimally address your unique dataset and performance goals.\n",
        "\n",
        "\n",
        "All calculations in this exercise **should be performed using NumPy** and its functions.\n",
        "\n",
        "**Please complete the #TODO parts of the following cell**\n",
        "\n",
        "\n",
        "\n"
      ]
    },
    {
      "cell_type": "code",
      "execution_count": 180,
      "metadata": {
        "id": "JVlRjqOX3BXH"
      },
      "outputs": [],
      "source": [
        "class MLP:\n",
        "    \"\"\"\n",
        "    A class representing a Multilayer Perceptron (MLP).\n",
        "\n",
        "    Attributes:\n",
        "        W1, W2, ... (np.ndarray): Weights for each layer.\n",
        "        B1, B2, ... (np.ndarray): Biases for each layer.\n",
        "        dW1, dW2, ... (np.ndarray): Gradients of weights for each layer during backpropagation.\n",
        "        dB1, dB2, ... (np.ndarray): Gradients of biases for each layer during backpropagation.\n",
        "        (You can add other attributes related to activations and gradients during forward and backward passes)\n",
        "\n",
        "    Methods:\n",
        "        forward(X): Performs the forward pass using the input X.\n",
        "        Loss(Y): Computes the cross-entropy loss for the output compared to true labels Y.\n",
        "        backward(X, Y): Performs the backward pass using the input X and labels Y to compute gradients.\n",
        "        step(learning_rate): Updates the weights and biases according to the computed gradients and learning rate.\n",
        "    \"\"\"\n",
        "    def __init__(self, n_inp, n_hid1, n_hid2, n_hid3, n_out):\n",
        "            \"\"\"\n",
        "            Initializes a new MLP instance with specified layer sizes.\n",
        "            (Don't forget to initialize the intermediate values and their gradients as well!)\n",
        "\n",
        "            Parameters:\n",
        "                n_inp (int): Number of input neurons.\n",
        "                n_hid1 (int): Number of neurons in the first hidden layer.\n",
        "                n_hid2 (int): Number of neurons in the second hidden layer.\n",
        "                n_hid3 (int): Number of neurons in the third hidden layer.\n",
        "                n_out (int): Number of output neurons (typically the number of classes).\n",
        "            \"\"\"\n",
        "            # Initialize weights with small random values\n",
        "            self.W1 = np.random.randn(n_inp, n_hid1) * 0.01\n",
        "            self.B1 = np.random.randn(1, n_hid1) * 0.01\n",
        "            self.W2 = np.random.randn(n_hid1, n_hid2) * 0.01\n",
        "            self.B2 = np.random.randn(1, n_hid2) * 0.01\n",
        "            self.W3 = np.random.randn(n_hid2, n_hid3) * 0.01\n",
        "            self.B3 = np.random.randn(1, n_hid3) * 0.01\n",
        "            self.W4 = np.random.randn(n_hid3, n_out) * 0.01\n",
        "            self.B4 = np.random.randn(1, n_out) * 0.01\n",
        "\n",
        "            # Initialize placeholders for intermediate values and gradients\n",
        "            self.PreActivation1 = None\n",
        "            self.Hidden1 = None\n",
        "            self.PreActivation2 = None\n",
        "            self.Hidden2 = None\n",
        "            self.PreActivation3 = None\n",
        "            self.Hidden3 = None\n",
        "            self.Logits = None\n",
        "            self.Probs = None\n",
        "\n",
        "            self.dW1 = None\n",
        "            self.dB1 = None\n",
        "            self.dW2 = None\n",
        "            self.dB2 = None\n",
        "            self.dW3 = None\n",
        "            self.dB3 = None\n",
        "            self.dW4 = None\n",
        "            self.dB4 = None\n",
        "\n",
        "    def sigmoid(self, x):\n",
        "        return 1 / (1 + np.exp(-x))\n",
        "\n",
        "    def relu(self, x):\n",
        "        return np.maximum(0, x)\n",
        "\n",
        "    def tanh(self, x):\n",
        "        return np.tanh(x)\n",
        "\n",
        "    def softmax(self, x):\n",
        "        exp_x = np.exp(x - np.max(x, axis=1, keepdims=True))\n",
        "        return exp_x / np.sum(exp_x, axis=1, keepdims=True)\n",
        "\n",
        "\n",
        "    def forward(self, X):\n",
        "        \"\"\"\n",
        "        Perform the forward pass through the network and return the probability of each class.\n",
        "\n",
        "        Parameters:\n",
        "            X (np.ndarray): Input data matrix, where each row represents a sample.\n",
        "\n",
        "        Returns:\n",
        "            np.ndarray: Probabilities of each class for each input sample.\n",
        "        \"\"\"\n",
        "        self.PreActivation1 = X @ self.W1 + self.B1\n",
        "        self.Hidden1 = self.sigmoid(self.PreActivation1)\n",
        "        self.PreActivation2 = self.Hidden1 @ self.W2 + self.B2\n",
        "        self.Hidden2 = self.relu(self.PreActivation2)\n",
        "        self.PreActivation3 = self.Hidden2 @ self.W3 + self.B3\n",
        "        self.Hidden3 = self.tanh(self.PreActivation3)\n",
        "        self.Logits = self.Hidden3 @ self.W4 + self.B4\n",
        "        self.Probs = self.softmax(self.Logits)\n",
        "        return self.Probs\n",
        "\n",
        "\n",
        "    def Loss(self, Y):\n",
        "        \"\"\"\n",
        "        Compute the cross-entropy loss for the output of the network compared to the true labels.\n",
        "\n",
        "        Parameters:\n",
        "            Y (np.ndarray): True labels for the input data, where each entry is an index of the true class.\n",
        "\n",
        "        Returns:\n",
        "            float: The mean cross-entropy loss across all input samples.\n",
        "        \"\"\"\n",
        "        m = Y.shape[0]\n",
        "        log_likelihood = -np.log(self.Probs[np.arange(m), Y])\n",
        "        loss = np.sum(log_likelihood) / m\n",
        "        return loss\n",
        "\n",
        "\n",
        "\n",
        "    def backward(self, X, Y):\n",
        "        m = X.shape[0]\n",
        "\n",
        "        one_hot_labels = np.zeros_like(self.Probs)\n",
        "        one_hot_labels[np.arange(m), Y] = 1\n",
        "\n",
        "        dLogProbs = self.Probs - one_hot_labels\n",
        "        dLogProbs /= m\n",
        "\n",
        "        self.dW4 = self.Hidden3.T @ dLogProbs\n",
        "        self.dB4 = np.sum(dLogProbs, axis=0, keepdims=True)\n",
        "\n",
        "        dHidden3 = dLogProbs @ self.W4.T\n",
        "        dPreActivation3 = dHidden3 * (1 - np.tanh(self.PreActivation3) ** 2)\n",
        "\n",
        "        self.dW3 = self.Hidden2.T @ dPreActivation3\n",
        "        self.dB3 = np.sum(dPreActivation3, axis=0, keepdims=True)\n",
        "\n",
        "        dHidden2 = dPreActivation3 @ self.W3.T\n",
        "        dPreActivation2 = dHidden2 * (self.PreActivation2 > 0)\n",
        "\n",
        "        self.dW2 = self.Hidden1.T @ dPreActivation2\n",
        "        self.dB2 = np.sum(dPreActivation2, axis=0, keepdims=True)\n",
        "\n",
        "        dHidden1 = dPreActivation2 @ self.W2.T\n",
        "        dPreActivation1 = dHidden1 * (self.Hidden1 * (1 - self.Hidden1))\n",
        "\n",
        "        self.dW1 = X.T @ dPreActivation1\n",
        "        self.dB1 = np.sum(dPreActivation1, axis=0, keepdims=True)\n",
        "\n",
        "\n",
        "    def step(self, learning_rate):\n",
        "        self.W1 -= learning_rate * self.dW1\n",
        "        self.B1 -= learning_rate * self.dB1\n",
        "        self.W2 -= learning_rate * self.dW2\n",
        "        self.B2 -= learning_rate * self.dB2\n",
        "        self.W3 -= learning_rate * self.dW3\n",
        "        self.B3 -= learning_rate * self.dB3\n",
        "        self.W4 -= learning_rate * self.dW4\n",
        "        self.B4 -= learning_rate * self.dB4"
      ]
    },
    {
      "cell_type": "markdown",
      "metadata": {
        "id": "ExkjHV6B3BXI"
      },
      "source": [
        "## Setting the Hyperparameters and Model Configuration:\n",
        "\n",
        "Hyperparameters, such as the learning rate, number of epochs, and batch size, play a crucial role in the training process and significantly influence the model's performance and efficiency. Unlike model parameters that are learned during training, hyperparameters must be predefined and can have a profound impact on the learning dynamics and final outcomes.\n",
        "\n",
        "- **Learning Rate:** Determines the step size at each iteration while moving toward a minimum of the loss function. An appropriately chosen learning rate ensures that the model converges efficiently to a good solution.\n",
        "\n",
        "- **Number of Epochs:** The total number of times the training dataset is passed through the network. Properly setting this value ensures that the model is adequately trained without falling into the pitfalls of underfitting or overfitting.\n",
        "\n",
        "- **Batch Size:** Dictates the number of training examples used in one iteration. It balances the trade-off between the regularization effect and the stability of the gradient, also impacting memory usage and computational speed.\n",
        "\n",
        "- **Model Size and Parameters:** Refers to the architecture of the MLP, including the number of layers and the number of neurons in each layer. The model's size directly affects its capacity to learn, with more parameters allowing for more complex functions to be modeled. However, larger models also require more data to train effectively without overfitting and entail higher computational costs. You could define this part in the previous cell as you wrote tha MLP class as well.\n",
        "\n",
        "In the next cell, you will define these hyperparameters and configure the model's architecture.\n",
        "\n",
        "**Please complete the #TODO parts of the following cell**\n"
      ]
    },
    {
      "cell_type": "code",
      "execution_count": 181,
      "metadata": {
        "id": "-PR0eXE33BXI"
      },
      "outputs": [],
      "source": [
        "# Setting the hyperparameters\n",
        "n_inp = 784\n",
        "n_hid1 = 256\n",
        "n_hid2 = 128\n",
        "n_hid3 = 64\n",
        "n_out = 10\n",
        "\n",
        "batch_size = 40\n",
        "learning_rate = 0.05\n",
        "n_epochs = 50\n"
      ]
    },
    {
      "cell_type": "markdown",
      "metadata": {
        "id": "MRfpz92C3BXI"
      },
      "source": [
        "## Creating Batches for Different Splits of Data (5 Points)\n",
        "\n",
        "In the next cell, you should focus on batching the different splits of the MNIST dataset: the training, validation, and test sets.\n",
        "\n",
        "Implementing this batching process will prepare your data for the training loop, where each batch will be fed into the model sequentially to perform forward and backward passes and update the model parameters.\n",
        "\n",
        "**Please complete the #TODO parts of the following cell**\n"
      ]
    },
    {
      "cell_type": "code",
      "execution_count": 182,
      "metadata": {
        "id": "PpnukMrv3BXI"
      },
      "outputs": [],
      "source": [
        "# Creating batches\n",
        "# TODO\n",
        "training_batches = [(X_train[i:i+batch_size], Y_train[i:i+batch_size]) for i in range(0, len(X_train), batch_size)]\n",
        "\n",
        "\n",
        "# TODO\n",
        "validation_batches = [(X_val[i:i+batch_size], Y_val[i:i+batch_size]) for i in range(0, len(X_val), batch_size)]\n",
        "\n",
        "\n",
        "# TODO\n",
        "test_batches = [(X_test[i:i+batch_size], Y_test[i:i+batch_size]) for i in range(0, len(X_test), batch_size)]\n"
      ]
    },
    {
      "cell_type": "markdown",
      "metadata": {
        "id": "C-Xp_0-O3BXI"
      },
      "source": [
        "## Writing the Training Loop (15 Points)\n",
        "\n",
        "Training a neural network involves iteratively adjusting its parameters to minimize a loss function. This process is encapsulated within a training loop, where the model learns from the training data over multiple epochs. Each epoch represents one complete pass through the entire dataset.\n",
        "\n",
        "In the next cell, you should do the following:\n",
        "\n",
        "1. **Initialize the MLP Model:** Before you can start training, you need to instantiate your MLP class.\n",
        "\n",
        "2. **Implement the Training Loop:** The training loop should include the following key steps for each epoch:\n",
        "   - **Forward Pass:** For each batch of data, compute the model's predictions by passing the data through the model from input to output.\n",
        "   - **Compute Loss:** Evaluate how well the model's predictions match the actual labels by calculating the loss, using a suitable loss function for classification (e.g., cross-entropy loss).\n",
        "   - **Backward Pass:** Compute the gradients of the loss function with respect to the model's parameters.\n",
        "   - **Update Parameters:** Adjust the model's parameters in the opposite direction of the gradients to minimize the loss.\n",
        "   - **Validation:** Periodically, after a set number of epochs, evaluate the model's performance on the validation set to monitor its learning progress and adjust training parameters if necessary.\n",
        "\n",
        "Remember to track the loss during training to monitor the model's performance over time. This information is valuable for debugging and optimizing the training process.\n",
        "\n",
        "**Please complete the #TODO parts of the following cell**\n"
      ]
    },
    {
      "cell_type": "code",
      "execution_count": 183,
      "metadata": {
        "colab": {
          "base_uri": "https://localhost:8080/"
        },
        "id": "OId0ysbg3BXI",
        "outputId": "eac5cb91-fdd5-4c34-a409-106c87a62b71"
      },
      "outputs": [
        {
          "output_type": "stream",
          "name": "stdout",
          "text": [
            "Epoch 1/50\t| Training Loss: 2.3017\t| Validation Loss: 2.3007\n",
            "Epoch 2/50\t| Training Loss: 2.3017\t| Validation Loss: 2.3007\n",
            "Epoch 3/50\t| Training Loss: 2.3016\t| Validation Loss: 2.3006\n",
            "Epoch 4/50\t| Training Loss: 2.3016\t| Validation Loss: 2.3005\n",
            "Epoch 5/50\t| Training Loss: 2.3013\t| Validation Loss: 2.3001\n",
            "Epoch 6/50\t| Training Loss: 2.2775\t| Validation Loss: 2.0241\n",
            "Epoch 7/50\t| Training Loss: 1.6610\t| Validation Loss: 1.6896\n",
            "Epoch 8/50\t| Training Loss: 1.3860\t| Validation Loss: 1.1951\n",
            "Epoch 9/50\t| Training Loss: 0.8923\t| Validation Loss: 0.8385\n",
            "Epoch 10/50\t| Training Loss: 0.6110\t| Validation Loss: 0.5116\n",
            "Epoch 11/50\t| Training Loss: 0.4474\t| Validation Loss: 0.4253\n",
            "Epoch 12/50\t| Training Loss: 0.3815\t| Validation Loss: 0.3581\n",
            "Epoch 13/50\t| Training Loss: 0.3249\t| Validation Loss: 0.3022\n",
            "Epoch 14/50\t| Training Loss: 0.2810\t| Validation Loss: 0.2647\n",
            "Epoch 15/50\t| Training Loss: 0.2499\t| Validation Loss: 0.2391\n",
            "Epoch 16/50\t| Training Loss: 0.2262\t| Validation Loss: 0.2196\n",
            "Epoch 17/50\t| Training Loss: 0.2069\t| Validation Loss: 0.2021\n",
            "Epoch 18/50\t| Training Loss: 0.1902\t| Validation Loss: 0.1881\n",
            "Epoch 19/50\t| Training Loss: 0.1756\t| Validation Loss: 0.1757\n",
            "Epoch 20/50\t| Training Loss: 0.1630\t| Validation Loss: 0.1649\n",
            "Epoch 21/50\t| Training Loss: 0.1518\t| Validation Loss: 0.1562\n",
            "Epoch 22/50\t| Training Loss: 0.1419\t| Validation Loss: 0.1492\n",
            "Epoch 23/50\t| Training Loss: 0.1332\t| Validation Loss: 0.1432\n",
            "Epoch 24/50\t| Training Loss: 0.1253\t| Validation Loss: 0.1377\n",
            "Epoch 25/50\t| Training Loss: 0.1182\t| Validation Loss: 0.1330\n",
            "Epoch 26/50\t| Training Loss: 0.1117\t| Validation Loss: 0.1288\n",
            "Epoch 27/50\t| Training Loss: 0.1058\t| Validation Loss: 0.1250\n",
            "Epoch 28/50\t| Training Loss: 0.1005\t| Validation Loss: 0.1218\n",
            "Epoch 29/50\t| Training Loss: 0.0953\t| Validation Loss: 0.1199\n",
            "Epoch 30/50\t| Training Loss: 0.0906\t| Validation Loss: 0.1180\n",
            "Epoch 31/50\t| Training Loss: 0.0862\t| Validation Loss: 0.1157\n",
            "Epoch 32/50\t| Training Loss: 0.0820\t| Validation Loss: 0.1139\n",
            "Epoch 33/50\t| Training Loss: 0.0780\t| Validation Loss: 0.1126\n",
            "Epoch 34/50\t| Training Loss: 0.0743\t| Validation Loss: 0.1120\n",
            "Epoch 35/50\t| Training Loss: 0.0707\t| Validation Loss: 0.1108\n",
            "Epoch 36/50\t| Training Loss: 0.0674\t| Validation Loss: 0.1098\n",
            "Epoch 37/50\t| Training Loss: 0.0643\t| Validation Loss: 0.1089\n",
            "Epoch 38/50\t| Training Loss: 0.0612\t| Validation Loss: 0.1079\n",
            "Epoch 39/50\t| Training Loss: 0.0583\t| Validation Loss: 0.1069\n",
            "Epoch 40/50\t| Training Loss: 0.0556\t| Validation Loss: 0.1060\n",
            "Epoch 41/50\t| Training Loss: 0.0530\t| Validation Loss: 0.1057\n",
            "Epoch 42/50\t| Training Loss: 0.0505\t| Validation Loss: 0.1053\n",
            "Epoch 43/50\t| Training Loss: 0.0482\t| Validation Loss: 0.1050\n",
            "Epoch 44/50\t| Training Loss: 0.0460\t| Validation Loss: 0.1044\n",
            "Epoch 45/50\t| Training Loss: 0.0438\t| Validation Loss: 0.1040\n",
            "Epoch 46/50\t| Training Loss: 0.0417\t| Validation Loss: 0.1042\n",
            "Epoch 47/50\t| Training Loss: 0.0398\t| Validation Loss: 0.1042\n",
            "Epoch 48/50\t| Training Loss: 0.0379\t| Validation Loss: 0.1040\n",
            "Epoch 49/50\t| Training Loss: 0.0362\t| Validation Loss: 0.1039\n",
            "Epoch 50/50\t| Training Loss: 0.0345\t| Validation Loss: 0.1041\n"
          ]
        }
      ],
      "source": [
        "mlp = MLP(n_inp, n_hid1, n_hid2, n_hid3, n_out)\n",
        "\n",
        "training_losses = []\n",
        "validation_losses = []\n",
        "\n",
        "for epoch in range(n_epochs):\n",
        "    train_loss = 0.0\n",
        "    for X, Y in training_batches:\n",
        "        outputs = mlp.forward(X)\n",
        "\n",
        "        loss = mlp.Loss(Y)\n",
        "        train_loss += loss\n",
        "\n",
        "        mlp.backward(X, Y)\n",
        "\n",
        "        mlp.step(learning_rate)\n",
        "\n",
        "    train_loss /= len(training_batches)\n",
        "    training_losses.append(train_loss)\n",
        "\n",
        "    val_loss = 0.0\n",
        "    for X, Y in validation_batches:\n",
        "        outputs = mlp.forward(X)\n",
        "\n",
        "        loss = mlp.Loss(Y)\n",
        "        val_loss += loss\n",
        "\n",
        "    val_loss /= len(validation_batches)\n",
        "    validation_losses.append(val_loss)\n",
        "\n",
        "    print(f\"Epoch {epoch+1}/{n_epochs}\\t| Training Loss: {train_loss:.4f}\\t| Validation Loss: {val_loss:.4f}\")\n"
      ]
    },
    {
      "cell_type": "markdown",
      "metadata": {
        "id": "K72kGCga3BXI"
      },
      "source": [
        "## Plotting the Validation and Training Loss (5 Points)\n",
        "\n",
        "Visualizing the training and validation loss over time is a crucial aspect of the model development process. It provides valuable insights into how well the model is learning, helps identify issues such as overfitting or underfitting, and can guide decisions on model adjustments or hyperparameter tuning.\n",
        "\n",
        "In the next cell, you will create a plot to visualize the training and validation loss over time.\n",
        "\n",
        "**Please complete the #TODO parts of the following cell**"
      ]
    },
    {
      "cell_type": "code",
      "execution_count": 190,
      "metadata": {
        "id": "s08VFSXZ3BXN",
        "outputId": "a0ca5c78-6a39-46cb-a2c0-12f704759b53",
        "colab": {
          "base_uri": "https://localhost:8080/",
          "height": 472
        }
      },
      "outputs": [
        {
          "output_type": "display_data",
          "data": {
            "text/plain": [
              "<Figure size 640x480 with 1 Axes>"
            ],
            "image/png": "[encoded data removed]"
          },
          "metadata": {}
        }
      ],
      "source": [
        "# plot losses\n",
        "# TODO\n",
        "plt.plot(training_losses, label='Training Loss')\n",
        "plt.plot(validation_losses, label='Validation Loss')\n",
        "plt.xlabel('Epoch')\n",
        "plt.ylabel('Loss')\n",
        "plt.grid(True,\"both\")\n",
        "plt.legend()\n",
        "plt.title('Training and Validation Losses')\n",
        "plt.show()\n"
      ]
    },
    {
      "cell_type": "markdown",
      "metadata": {
        "id": "6hpVu4W43BXN"
      },
      "source": [
        "## Visualizing Some Examples (5 Points)\n",
        "\n",
        "In the next cell, visualize a subset of the test images along with their true and predicted labels.\n",
        "\n",
        "**Please complete the #TODO parts of the following cell**"
      ]
    },
    {
      "cell_type": "code",
      "execution_count": 191,
      "metadata": {
        "id": "5aNvqc9_3BXO",
        "outputId": "1e29939a-7d58-47ad-aeaf-be6afbeff3e3",
        "colab": {
          "base_uri": "https://localhost:8080/",
          "height": 1000
        }
      },
      "outputs": [
        {
          "output_type": "display_data",
          "data": {
            "text/plain": [
              "<Figure size 1500x1500 with 64 Axes>"
            ],
            "image/png": "[encoded data removed]"
          },
          "metadata": {}
        }
      ],
      "source": [
        "# Visualize test images\n",
        "# TODO\n",
        "n_samples = 64\n",
        "sample_images = X_test[:n_samples]\n",
        "sample_labels = Y_test[:n_samples]\n",
        "sample_preds = np.argmax(mlp.forward(sample_images), axis=1)\n",
        "\n",
        "fig, axes = plt.subplots(8, 8, figsize=(15, 15))\n",
        "fig.subplots_adjust(hspace=0.5, wspace=0.5)\n",
        "\n",
        "for i, ax in enumerate(axes.flat):\n",
        "    ax.imshow(sample_images[i].reshape(28, 28), cmap='gray')\n",
        "    true_label = sample_labels[i]\n",
        "    pred_label = sample_preds[i]\n",
        "    ax.set_title(f\"True: {true_label} | Pred: {pred_label}\")\n",
        "    ax.axis('off')\n",
        "\n",
        "plt.show()\n"
      ]
    },
    {
      "cell_type": "markdown",
      "metadata": {
        "id": "DAzLa3cP3BXO"
      },
      "source": [
        "## Calculating Model Metrics for Different Splits (15 Points)\n",
        "\n",
        "Evaluating the performance of your MLP model across different data splits (training, validation, and test sets) is critical for understanding its generalization ability and overall effectiveness. This evaluation helps ensure that the model performs well not only on the data it was trained on but also on new, unseen data.\n",
        "\n",
        "In the next cell, you should calculate model metrics(precision, recall, F1, ...) for each split and report them.\n",
        "\n",
        "You can use sklearn library for this part, if you want to.\n",
        "\n",
        "**Please complete the #TODO parts of the following cells**"
      ]
    },
    {
      "cell_type": "code",
      "execution_count": 192,
      "metadata": {
        "id": "6t9BcYxP3BXO",
        "outputId": "31d7b1e3-ef30-4e4e-9c35-6a8edc60abf1",
        "colab": {
          "base_uri": "https://localhost:8080/"
        }
      },
      "outputs": [
        {
          "output_type": "stream",
          "name": "stdout",
          "text": [
            "Training Data Metrics:\n",
            "              precision    recall  f1-score   support\n",
            "\n",
            "           0       0.98      1.00      0.99      4943\n",
            "           1       1.00      0.99      0.99      5624\n",
            "           2       0.99      0.99      0.99      4950\n",
            "           3       0.99      0.98      0.99      5064\n",
            "           4       0.99      0.99      0.99      4878\n",
            "           5       0.99      0.99      0.99      4571\n",
            "           6       1.00      0.99      0.99      4942\n",
            "           7       0.99      0.99      0.99      5213\n",
            "           8       0.98      0.99      0.99      4896\n",
            "           9       0.99      0.98      0.98      4919\n",
            "\n",
            "    accuracy                           0.99     50000\n",
            "   macro avg       0.99      0.99      0.99     50000\n",
            "weighted avg       0.99      0.99      0.99     50000\n",
            "\n"
          ]
        }
      ],
      "source": [
        "from sklearn.metrics import classification_report\n",
        "\n",
        "# Training data metrics\n",
        "# TODO\n",
        "train_preds = np.argmax(mlp.forward(X_train), axis=1)\n",
        "print(\"Training Data Metrics:\")\n",
        "print(classification_report(Y_train, train_preds))"
      ]
    },
    {
      "cell_type": "code",
      "execution_count": 193,
      "metadata": {
        "id": "QdtZcJ0i3BXO",
        "outputId": "e00641b2-b595-4682-942a-292310b74d9d",
        "colab": {
          "base_uri": "https://localhost:8080/"
        }
      },
      "outputs": [
        {
          "output_type": "stream",
          "name": "stdout",
          "text": [
            "Validation Data Metrics:\n",
            "              precision    recall  f1-score   support\n",
            "\n",
            "           0       0.96      0.99      0.98       980\n",
            "           1       0.99      0.98      0.99      1118\n",
            "           2       0.97      0.97      0.97      1008\n",
            "           3       0.97      0.95      0.96      1067\n",
            "           4       0.96      0.97      0.96       964\n",
            "           5       0.97      0.95      0.96       850\n",
            "           6       0.98      0.97      0.98       976\n",
            "           7       0.98      0.98      0.98      1052\n",
            "           8       0.97      0.98      0.97       955\n",
            "           9       0.97      0.97      0.97      1030\n",
            "\n",
            "    accuracy                           0.97     10000\n",
            "   macro avg       0.97      0.97      0.97     10000\n",
            "weighted avg       0.97      0.97      0.97     10000\n",
            "\n"
          ]
        }
      ],
      "source": [
        "# Validation data metrics\n",
        "# TODO\n",
        "val_preds = np.argmax(mlp.forward(X_val), axis=1)\n",
        "print(\"Validation Data Metrics:\")\n",
        "print(classification_report(Y_val, val_preds))"
      ]
    },
    {
      "cell_type": "code",
      "execution_count": 194,
      "metadata": {
        "id": "KdEpnjdc3BXO",
        "outputId": "2fed1143-8888-40c6-99ad-b8f84f1ef66a",
        "colab": {
          "base_uri": "https://localhost:8080/"
        }
      },
      "outputs": [
        {
          "output_type": "stream",
          "name": "stdout",
          "text": [
            "Test Data Metrics:\n",
            "              precision    recall  f1-score   support\n",
            "\n",
            "           0       0.96      0.99      0.98       980\n",
            "           1       0.99      0.98      0.99      1135\n",
            "           2       0.97      0.97      0.97      1032\n",
            "           3       0.97      0.96      0.97      1010\n",
            "           4       0.97      0.97      0.97       982\n",
            "           5       0.96      0.96      0.96       892\n",
            "           6       0.99      0.97      0.98       958\n",
            "           7       0.97      0.97      0.97      1028\n",
            "           8       0.94      0.97      0.96       974\n",
            "           9       0.96      0.95      0.96      1009\n",
            "\n",
            "    accuracy                           0.97     10000\n",
            "   macro avg       0.97      0.97      0.97     10000\n",
            "weighted avg       0.97      0.97      0.97     10000\n",
            "\n"
          ]
        }
      ],
      "source": [
        "# Test data metrics\n",
        "# TODO\n",
        "test_preds = np.argmax(mlp.forward(X_test), axis=1)\n",
        "print(\"Test Data Metrics:\")\n",
        "print(classification_report(Y_test, test_preds))"
      ]
    },
    {
      "cell_type": "markdown",
      "metadata": {
        "id": "XV2-h6g83BXO"
      },
      "source": [
        "## Reporting the Findings (5 Points)\n",
        "\n",
        "In the next cell you should do the following:\n",
        "\n",
        "1. **Analyze Results:** Compare the metrics across the different splits. A model that performs exceptionally well on the training set but poorly on the validation/test sets may be overfitting. Conversely, underfitting may be indicated by poor performance across all sets.\n",
        "\n",
        "2. **Report Findings:** Summarize the results in a clear and concise manner."
      ]
    },
    {
      "cell_type": "markdown",
      "metadata": {
        "id": "_JjGaYvA3BXP"
      },
      "source": [
        "### Your Explanation:\n",
        "\n",
        "**Training Data Metrics**: The model performs exceptionally well on the training set with very high precision, recall, and f1-score, all around 0.99 or higher.\n",
        "\n",
        "\n",
        "**Validation Data Metrics**: The performance on the validation set is also very high but slightly lower than the training set, with precision, recall, and f1-scores around 0.97.\n",
        "\n",
        "the model shows excellent performance on both the training and validation datasets. However, the slight drop in metrics for the validation set compared to the training set may suggest slight overfitting we can solve that using different hyperparameters such as lower learning rate, but the performance is still very good."
      ]
    }
  ],
  "metadata": {
    "kernelspec": {
      "display_name": "ai",
      "language": "python",
      "name": "python3"
    },
    "language_info": {
      "codemirror_mode": {
        "name": "ipython",
        "version": 3
      },
      "file_extension": ".py",
      "mimetype": "text/x-python",
      "name": "python",
      "nbconvert_exporter": "python",
      "pygments_lexer": "ipython3",
      "version": "3.11.6"
    },
    "colab": {
      "provenance": []
    }
  },
  "nbformat": 4,
  "nbformat_minor": 0
}
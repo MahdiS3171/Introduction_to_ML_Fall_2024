{
  "cells": [
    {
      "cell_type": "markdown",
      "metadata": {
        "id": "y0Y4B_4b3lnJ"
      },
      "source": [
        "<br>\n",
        "<font>\n",
        "<div dir=ltr align=center>\n",
        "<img src=\"https://cdn.freebiesupply.com/logos/large/2x/sharif-logo-png-transparent.png\" width=150 height=150> <br>\n",
        "<font color=0F5298 size=7>\n",
        "Introduction to Machine Learning - 25732 <br>\n",
        "<font color=2565AE size=5>\n",
        "Department of Electrical Enginnering<br>\n",
        "Dr. Mohammad Hossein Yassaee<br>\n",
        "Fall 2024<br>"
      ]
    },
    {
      "cell_type": "markdown",
      "metadata": {
        "id": "nSltFU5u7nLs"
      },
      "source": [
        "### Information:\n",
        "\n",
        "1.   Full Name: Seyyed Amirmahdi Sadrzadeh\n",
        "2.   Student Number: 401102015"
      ]
    },
    {
      "cell_type": "markdown",
      "metadata": {
        "id": "1Wtyv2jR3lnL"
      },
      "source": [
        "\n",
        "\n",
        "---\n",
        "\n",
        "*I. You are just allowded to change those parts that start with \"TO DO\". Please do not change other parts.*\n",
        "\n",
        "*II. It is highly recommended to read each codeline carefully and try to understand what it exactly does.*\n",
        "\n",
        "*III. Do not copy codes completely from internet sources such as Chat-GPT or etc. If you are using any sources, please put its link in the beging of the block.*\n",
        "\n",
        "*IV. Question 6 has additional points.*\n",
        "\n",
        "If you have any question you can contact related TAs:\n",
        " - Homeworks coordinator: @danialayati\n",
        " - Questions 1, 2, 3 & 6: @armin_dh\n",
        " - Question 4 & 5: @Rosebaekfany\n",
        "\n",
        "\n",
        " Best of luck and have fun!\n",
        "\n",
        "---"
      ]
    },
    {
      "cell_type": "markdown",
      "metadata": {
        "id": "BYy0iYLy3lnL"
      },
      "source": [
        "<font color=3C99D size=5>\n",
        "Question One: Numpy Applications"
      ]
    },
    {
      "cell_type": "markdown",
      "metadata": {
        "id": "26PX8_4T3lnM"
      },
      "source": [
        "##  Part I: Image Processing with NumPy"
      ]
    },
    {
      "cell_type": "markdown",
      "metadata": {
        "id": "ONYYSp0G3lnM"
      },
      "source": [
        "### Libraries"
      ]
    },
    {
      "cell_type": "code",
      "execution_count": 2,
      "metadata": {
        "id": "IHdEmfc53lnM"
      },
      "outputs": [],
      "source": [
        "# Imports\n",
        "import cv2\n",
        "# for google colab\n",
        "from google.colab.patches import cv2_imshow\n",
        "import numpy as np\n",
        "import matplotlib.pyplot as plt\n"
      ]
    },
    {
      "cell_type": "markdown",
      "metadata": {
        "id": "ymqqc0FA3lnN"
      },
      "source": [
        "In this section, First you should load an image and convert it to a gray scaled image then we'll process it by some operations using numpy."
      ]
    },
    {
      "cell_type": "code",
      "execution_count": 4,
      "metadata": {
        "id": "lCoiwAm03lnN",
        "outputId": "c9a7ca4a-d2e9-498c-a458-e565558bdf3d",
        "colab": {
          "base_uri": "https://localhost:8080/",
          "height": 211
        }
      },
      "outputs": [
        {
          "output_type": "error",
          "ename": "error",
          "evalue": "OpenCV(4.10.0) /io/opencv/modules/imgproc/src/color.cpp:196: error: (-215:Assertion failed) !_src.empty() in function 'cvtColor'\n",
          "traceback": [
            "\u001b[0;31m---------------------------------------------------------------------------\u001b[0m",
            "\u001b[0;31merror\u001b[0m                                     Traceback (most recent call last)",
            "\u001b[0;32m<ipython-input-4-ad09fbe67332>\u001b[0m in \u001b[0;36m<cell line: 3>\u001b[0;34m()\u001b[0m\n\u001b[1;32m      1\u001b[0m \u001b[0;31m# read and show the image\u001b[0m\u001b[0;34m\u001b[0m\u001b[0;34m\u001b[0m\u001b[0m\n\u001b[1;32m      2\u001b[0m \u001b[0mimage\u001b[0m \u001b[0;34m=\u001b[0m \u001b[0mcv2\u001b[0m\u001b[0;34m.\u001b[0m\u001b[0mimread\u001b[0m\u001b[0;34m(\u001b[0m\u001b[0;34m'image.jpeg'\u001b[0m\u001b[0;34m)\u001b[0m\u001b[0;34m\u001b[0m\u001b[0;34m\u001b[0m\u001b[0m\n\u001b[0;32m----> 3\u001b[0;31m \u001b[0mgray_image\u001b[0m \u001b[0;34m=\u001b[0m \u001b[0mcv2\u001b[0m\u001b[0;34m.\u001b[0m\u001b[0mcvtColor\u001b[0m\u001b[0;34m(\u001b[0m\u001b[0mimage\u001b[0m\u001b[0;34m,\u001b[0m \u001b[0mcv2\u001b[0m\u001b[0;34m.\u001b[0m\u001b[0mCOLOR_BGR2GRAY\u001b[0m\u001b[0;34m)\u001b[0m\u001b[0;34m\u001b[0m\u001b[0;34m\u001b[0m\u001b[0m\n\u001b[0m\u001b[1;32m      4\u001b[0m \u001b[0mcv2_imshow\u001b[0m\u001b[0;34m(\u001b[0m\u001b[0mgray_image\u001b[0m\u001b[0;34m)\u001b[0m\u001b[0;34m\u001b[0m\u001b[0;34m\u001b[0m\u001b[0m\n\u001b[1;32m      5\u001b[0m \u001b[0;31m# another way to load image by pyplot\u001b[0m\u001b[0;34m\u001b[0m\u001b[0;34m\u001b[0m\u001b[0m\n",
            "\u001b[0;31merror\u001b[0m: OpenCV(4.10.0) /io/opencv/modules/imgproc/src/color.cpp:196: error: (-215:Assertion failed) !_src.empty() in function 'cvtColor'\n"
          ]
        }
      ],
      "source": [
        "# read and show the image\n",
        "image = cv2.imread('image.jpeg')\n",
        "gray_image = cv2.cvtColor(image, cv2.COLOR_BGR2GRAY)\n",
        "cv2_imshow(gray_image)\n",
        "# another way to load image by pyplot\n",
        "# image = np.asarray(Image.open('./R.jpeg'))\n",
        "plt.imshow(image)"
      ]
    },
    {
      "cell_type": "markdown",
      "metadata": {
        "id": "I8lm0Hsb3lnO"
      },
      "source": [
        "<b> From now on, you must work with the grayscale image in each cell."
      ]
    },
    {
      "cell_type": "markdown",
      "metadata": {
        "id": "tZNhuqQf3lnO"
      },
      "source": [
        "In gray scaled 0 means black and 255 is white and each number between these two shows a color in range of black to white. Now for this task, Make pixels brighter than 150, 100 degree darker."
      ]
    },
    {
      "cell_type": "code",
      "execution_count": null,
      "metadata": {
        "id": "bIh6gn3L3lnO"
      },
      "outputs": [],
      "source": [
        "# TODO: don't use loop or anything like that and try to code by numpy where\n",
        "darker_image = None\n",
        "cv2_imshow(darker_image)"
      ]
    },
    {
      "cell_type": "markdown",
      "metadata": {
        "id": "9k4rmfns3lnO"
      },
      "source": [
        "In grayscale images, pixel values typically range from 0 to 255, where 0 represents black and 255 represents white. Subtracting each pixel value from 255 effectively produces the negative of the grayscale image. Now we want to create negative grayscale version of our image."
      ]
    },
    {
      "cell_type": "code",
      "execution_count": null,
      "metadata": {
        "id": "AtC3PHc03lnO"
      },
      "outputs": [],
      "source": [
        "# TODO: Create negative grayscale image\n",
        "negative_grayscale_image = None\n",
        "cv2_imshow(negative_grayscale_image)"
      ]
    },
    {
      "cell_type": "code",
      "execution_count": null,
      "metadata": {
        "id": "tCGkRx0p3lnP"
      },
      "outputs": [],
      "source": [
        "# TODO: Split the image horizontally into two equal parts using NumPy's split function.\n",
        "upper_half, lower_half = None, None\n",
        "cv2_imshow(upper_half)\n",
        "cv2_imshow(lower_half)"
      ]
    },
    {
      "cell_type": "code",
      "execution_count": null,
      "metadata": {
        "id": "Oc-JLtY33lnP"
      },
      "outputs": [],
      "source": [
        "# TODO: Split the image vertically into two equal parts using indexes and slicing.\n",
        "left_half, right_half = None, None\n",
        "cv2_imshow(left_half)\n",
        "cv2_imshow(right_half)ll"
      ]
    },
    {
      "cell_type": "markdown",
      "metadata": {
        "id": "ZzSFKZAL3lnP"
      },
      "source": [
        "Now We need 4 vertical split (vsplit) from image. write the code in a way that can be used for each image (not hard code size)."
      ]
    },
    {
      "cell_type": "code",
      "execution_count": null,
      "metadata": {
        "id": "Z6FJLcaR3lnP"
      },
      "outputs": [],
      "source": [
        "# TODO: Split the image vertically into four equal parts using numpy vsplit function.\n",
        "part1, part2, part3, part4 = None, None, None, None\n",
        "cv2_imshow(part1)\n",
        "cv2_imshow(part2)\n",
        "cv2_imshow(part3)\n",
        "cv2_imshow(part4)"
      ]
    },
    {
      "cell_type": "markdown",
      "metadata": {
        "id": "iEhMl9W23lnP"
      },
      "source": [
        "In this section first split the original image horizontally calling them left and right images"
      ]
    },
    {
      "cell_type": "code",
      "execution_count": null,
      "metadata": {
        "id": "3UxsP8Bb3lnP"
      },
      "outputs": [],
      "source": [
        "#TODO split image\n",
        "left,right = None, None"
      ]
    },
    {
      "cell_type": "code",
      "execution_count": null,
      "metadata": {
        "id": "6vhJk6te3lnP"
      },
      "outputs": [],
      "source": [
        "cv2_imshow(left)"
      ]
    },
    {
      "cell_type": "code",
      "execution_count": null,
      "metadata": {
        "id": "PD0T9s8e3lnQ"
      },
      "outputs": [],
      "source": [
        "cv2_imshow(right)"
      ]
    },
    {
      "cell_type": "markdown",
      "metadata": {
        "id": "_01APn2t3lnQ"
      },
      "source": [
        "Now, using  invert the left image."
      ]
    },
    {
      "cell_type": "code",
      "execution_count": null,
      "metadata": {
        "id": "c3eaZUKF3lnQ"
      },
      "outputs": [],
      "source": [
        "#TODO: invert left\n",
        "inverted_left = None\n",
        "\n",
        "cv2_imshow(inverted_left)"
      ]
    },
    {
      "cell_type": "markdown",
      "metadata": {
        "id": "8f5ewtnA3lnQ"
      },
      "source": [
        "Now, mirror both the inverted left image and the right image."
      ]
    },
    {
      "cell_type": "code",
      "execution_count": null,
      "metadata": {
        "id": "v4Oe3SXM3lnQ"
      },
      "outputs": [],
      "source": [
        "#TODO: flip inverted left image\n",
        "mirrored_left = None\n",
        "\n",
        "cv2_imshow(mirrored_left)"
      ]
    },
    {
      "cell_type": "code",
      "execution_count": null,
      "metadata": {
        "id": "cLQ0B0w_3lnQ"
      },
      "outputs": [],
      "source": [
        "#TODO: flip right image\n",
        "mirrored_right = None\n",
        "\n",
        "cv2_imshow(mirrored_right)"
      ]
    },
    {
      "cell_type": "markdown",
      "metadata": {
        "id": "XShXpKt73lnQ"
      },
      "source": [
        "In the next step we want to concat the two images horizontally."
      ]
    },
    {
      "cell_type": "code",
      "execution_count": null,
      "metadata": {
        "id": "KjxHmRsc3lnQ"
      },
      "outputs": [],
      "source": [
        "#TODO: concat mirrored_left and mirrored_right\n",
        "final_image = None\n",
        "\n",
        "cv2_imshow(final_image)"
      ]
    },
    {
      "cell_type": "markdown",
      "metadata": {
        "id": "pfBJw1r43lnR"
      },
      "source": [
        "For the final step invert the concated image."
      ]
    },
    {
      "cell_type": "code",
      "execution_count": null,
      "metadata": {
        "id": "yjgQltKv3lnR"
      },
      "outputs": [],
      "source": [
        "#TODO: invert final_image\n",
        "invert_final_image = None\n",
        "\n",
        "cv2_imshow(invert_final_image)"
      ]
    },
    {
      "cell_type": "markdown",
      "metadata": {
        "id": "Bc8QERBO3lnR"
      },
      "source": [
        "##  Part II: Broadcasting with NumPy"
      ]
    },
    {
      "cell_type": "markdown",
      "metadata": {
        "id": "DkJ-UMJ33lnR"
      },
      "source": [
        "In this question, we have several vectors. From them, we want to find a vector that is most similar to a specific vector."
      ]
    },
    {
      "cell_type": "markdown",
      "metadata": {
        "id": "hU6F4-xa3lnR"
      },
      "source": [
        "In order to compare how \"similar\" two vectors are, we define the D parameter like below (a and b are the two vectors we want to compare, with n indices). the smaller the value of D for 2 vectors is, the more similar those two vectors are."
      ]
    },
    {
      "cell_type": "markdown",
      "metadata": {
        "id": "KmI_ddBJ3lnR"
      },
      "source": [
        "$D=\\sqrt{\\Sigma_{i=1}^n(a_i-b_i)^2}$"
      ]
    },
    {
      "cell_type": "markdown",
      "metadata": {
        "id": "s5ecIsrF3lnR"
      },
      "source": [
        "Inputs: in the first line the users gives the value m, which is the number of vectors. In each of the next m lines, the user will give a vector as the input. In the next line, the users gives the vector v."
      ]
    },
    {
      "cell_type": "markdown",
      "metadata": {
        "id": "6WDb4TcH3lnR"
      },
      "source": [
        "You are expected to find the closest vector to v."
      ]
    },
    {
      "cell_type": "code",
      "execution_count": null,
      "metadata": {
        "id": "ezW6LD6Y3lnS"
      },
      "outputs": [],
      "source": [
        "#in this cell, you should only get the inputs\n",
        "\n",
        "\n",
        "#TODO: get the number m\n",
        "\n",
        "#TODO: get m vectors\n",
        "\n",
        "#TODO: get the vector v"
      ]
    },
    {
      "cell_type": "code",
      "execution_count": null,
      "metadata": {
        "id": "WVvKUmEm3lnS"
      },
      "outputs": [],
      "source": [
        "#in this cell you should find the expected output. you are not allowed to use loops in this cell.\n",
        "\n",
        "\n",
        "#TODO: find the difference of all vectors with v\n",
        "\n",
        "#TODO: compute D for each vector\n",
        "\n",
        "#TODO: find the vector with the lowest D\n",
        "\n",
        "#TODO: print the most similar vector"
      ]
    },
    {
      "cell_type": "markdown",
      "metadata": {
        "id": "MgMC0PgC3lnT"
      },
      "source": [
        "<font color=3C99D size=5>\n",
        "Question Two: Introduction to Pandas\n",
        "\n",
        "In this part you will learn how to work with Pandas library and how to convert raw data into suitable data for model input ."
      ]
    },
    {
      "cell_type": "markdown",
      "metadata": {
        "id": "kqMpK50F3lnU"
      },
      "source": [
        "### Libraries"
      ]
    },
    {
      "cell_type": "code",
      "execution_count": null,
      "metadata": {
        "id": "2LKMdqzJ3lnU"
      },
      "outputs": [],
      "source": [
        "import numpy as np\n",
        "import pandas as pd\n",
        "import seaborn as sns\n",
        "import string\n",
        "import re\n",
        "import matplotlib.pyplot as plt\n",
        "import math\n",
        "from matplotlib import rc\n",
        "import matplotlib.ticker as ticker\n",
        "from math import sqrt\n",
        "%matplotlib inline\n",
        "sns.set(style='whitegrid', palette='muted', font_scale=1.3)"
      ]
    },
    {
      "cell_type": "code",
      "execution_count": null,
      "metadata": {
        "id": "WTJJ4oGt3lnU"
      },
      "outputs": [],
      "source": [
        "# Change the address as you wish\n",
        "plays = pd.read_csv('./data/user_artists.dat', sep='\\t')\n",
        "artists = pd.read_csv('./data/artists.dat', sep='\\t', usecols=['id','name'])"
      ]
    },
    {
      "cell_type": "markdown",
      "metadata": {
        "id": "w2YwCvVO3lnU"
      },
      "source": [
        "# Preprocessing"
      ]
    },
    {
      "cell_type": "code",
      "execution_count": null,
      "metadata": {
        "id": "BfIw9hPn3lnU"
      },
      "outputs": [],
      "source": [
        "###############################################################################\n",
        "## TODO: merge two DataSets in a way that below DataFrame is created         ##\n",
        "###############################################################################\n",
        "\n",
        "ap = # Your Code"
      ]
    },
    {
      "cell_type": "code",
      "execution_count": null,
      "metadata": {
        "id": "YyIzu_i8qhYY",
        "outputId": "ad8ce166-fb85-46f3-a992-8bb573074b47"
      },
      "outputs": [
        {
          "data": {
            "text/html": [
              "\n",
              "  <div id=\"df-3622266d-a4a1-42e7-bdb0-477b36ae09d9\">\n",
              "    <div class=\"colab-df-container\">\n",
              "      <div>\n",
              "<style scoped>\n",
              "    .dataframe tbody tr th:only-of-type {\n",
              "        vertical-align: middle;\n",
              "    }\n",
              "\n",
              "    .dataframe tbody tr th {\n",
              "        vertical-align: top;\n",
              "    }\n",
              "\n",
              "    .dataframe thead th {\n",
              "        text-align: right;\n",
              "    }\n",
              "</style>\n",
              "<table border=\"1\" class=\"dataframe\">\n",
              "  <thead>\n",
              "    <tr style=\"text-align: right;\">\n",
              "      <th></th>\n",
              "      <th>id</th>\n",
              "      <th>name</th>\n",
              "      <th>userID</th>\n",
              "      <th>artistID</th>\n",
              "      <th>weight</th>\n",
              "    </tr>\n",
              "  </thead>\n",
              "  <tbody>\n",
              "    <tr>\n",
              "      <th>0</th>\n",
              "      <td>1</td>\n",
              "      <td>MALICE MIZER</td>\n",
              "      <td>34</td>\n",
              "      <td>1</td>\n",
              "      <td>212</td>\n",
              "    </tr>\n",
              "    <tr>\n",
              "      <th>1</th>\n",
              "      <td>1</td>\n",
              "      <td>MALICE MIZER</td>\n",
              "      <td>274</td>\n",
              "      <td>1</td>\n",
              "      <td>483</td>\n",
              "    </tr>\n",
              "    <tr>\n",
              "      <th>2</th>\n",
              "      <td>1</td>\n",
              "      <td>MALICE MIZER</td>\n",
              "      <td>785</td>\n",
              "      <td>1</td>\n",
              "      <td>76</td>\n",
              "    </tr>\n",
              "    <tr>\n",
              "      <th>3</th>\n",
              "      <td>2</td>\n",
              "      <td>Diary of Dreams</td>\n",
              "      <td>135</td>\n",
              "      <td>2</td>\n",
              "      <td>1021</td>\n",
              "    </tr>\n",
              "    <tr>\n",
              "      <th>4</th>\n",
              "      <td>2</td>\n",
              "      <td>Diary of Dreams</td>\n",
              "      <td>257</td>\n",
              "      <td>2</td>\n",
              "      <td>152</td>\n",
              "    </tr>\n",
              "    <tr>\n",
              "      <th>...</th>\n",
              "      <td>...</td>\n",
              "      <td>...</td>\n",
              "      <td>...</td>\n",
              "      <td>...</td>\n",
              "      <td>...</td>\n",
              "    </tr>\n",
              "    <tr>\n",
              "      <th>92829</th>\n",
              "      <td>18741</td>\n",
              "      <td>Diamanda Galás</td>\n",
              "      <td>454</td>\n",
              "      <td>18741</td>\n",
              "      <td>301</td>\n",
              "    </tr>\n",
              "    <tr>\n",
              "      <th>92830</th>\n",
              "      <td>18742</td>\n",
              "      <td>Aya RL</td>\n",
              "      <td>454</td>\n",
              "      <td>18742</td>\n",
              "      <td>294</td>\n",
              "    </tr>\n",
              "    <tr>\n",
              "      <th>92831</th>\n",
              "      <td>18743</td>\n",
              "      <td>Coptic Rain</td>\n",
              "      <td>454</td>\n",
              "      <td>18743</td>\n",
              "      <td>287</td>\n",
              "    </tr>\n",
              "    <tr>\n",
              "      <th>92832</th>\n",
              "      <td>18744</td>\n",
              "      <td>Oz Alchemist</td>\n",
              "      <td>454</td>\n",
              "      <td>18744</td>\n",
              "      <td>286</td>\n",
              "    </tr>\n",
              "    <tr>\n",
              "      <th>92833</th>\n",
              "      <td>18745</td>\n",
              "      <td>Grzegorz Tomczak</td>\n",
              "      <td>585</td>\n",
              "      <td>18745</td>\n",
              "      <td>426</td>\n",
              "    </tr>\n",
              "  </tbody>\n",
              "</table>\n",
              "<p>92834 rows × 5 columns</p>\n",
              "</div>\n",
              "      <button class=\"colab-df-convert\" onclick=\"convertToInteractive('df-3622266d-a4a1-42e7-bdb0-477b36ae09d9')\"\n",
              "              title=\"Convert this dataframe to an interactive table.\"\n",
              "              style=\"display:none;\">\n",
              "        \n",
              "  <svg xmlns=\"http://www.w3.org/2000/svg\" height=\"24px\"viewBox=\"0 0 24 24\"\n",
              "       width=\"24px\">\n",
              "    <path d=\"M0 0h24v24H0V0z\" fill=\"none\"/>\n",
              "    <path d=\"M18.56 5.44l.94 2.06.94-2.06 2.06-.94-2.06-.94-.94-2.06-.94 2.06-2.06.94zm-11 1L8.5 8.5l.94-2.06 2.06-.94-2.06-.94L8.5 2.5l-.94 2.06-2.06.94zm10 10l.94 2.06.94-2.06 2.06-.94-2.06-.94-.94-2.06-.94 2.06-2.06.94z\"/><path d=\"M17.41 7.96l-1.37-1.37c-.4-.4-.92-.59-1.43-.59-.52 0-1.04.2-1.43.59L10.3 9.45l-7.72 7.72c-.78.78-.78 2.05 0 2.83L4 21.41c.39.39.9.59 1.41.59.51 0 1.02-.2 1.41-.59l7.78-7.78 2.81-2.81c.8-.78.8-2.07 0-2.86zM5.41 20L4 18.59l7.72-7.72 1.47 1.35L5.41 20z\"/>\n",
              "  </svg>\n",
              "      </button>\n",
              "      \n",
              "  <style>\n",
              "    .colab-df-container {\n",
              "      display:flex;\n",
              "      flex-wrap:wrap;\n",
              "      gap: 12px;\n",
              "    }\n",
              "\n",
              "    .colab-df-convert {\n",
              "      background-color: #E8F0FE;\n",
              "      border: none;\n",
              "      border-radius: 50%;\n",
              "      cursor: pointer;\n",
              "      display: none;\n",
              "      fill: #1967D2;\n",
              "      height: 32px;\n",
              "      padding: 0 0 0 0;\n",
              "      width: 32px;\n",
              "    }\n",
              "\n",
              "    .colab-df-convert:hover {\n",
              "      background-color: #E2EBFA;\n",
              "      box-shadow: 0px 1px 2px rgba(60, 64, 67, 0.3), 0px 1px 3px 1px rgba(60, 64, 67, 0.15);\n",
              "      fill: #174EA6;\n",
              "    }\n",
              "\n",
              "    [theme=dark] .colab-df-convert {\n",
              "      background-color: #3B4455;\n",
              "      fill: #D2E3FC;\n",
              "    }\n",
              "\n",
              "    [theme=dark] .colab-df-convert:hover {\n",
              "      background-color: #434B5C;\n",
              "      box-shadow: 0px 1px 3px 1px rgba(0, 0, 0, 0.15);\n",
              "      filter: drop-shadow(0px 1px 2px rgba(0, 0, 0, 0.3));\n",
              "      fill: #FFFFFF;\n",
              "    }\n",
              "  </style>\n",
              "\n",
              "      <script>\n",
              "        const buttonEl =\n",
              "          document.querySelector('#df-3622266d-a4a1-42e7-bdb0-477b36ae09d9 button.colab-df-convert');\n",
              "        buttonEl.style.display =\n",
              "          google.colab.kernel.accessAllowed ? 'block' : 'none';\n",
              "\n",
              "        async function convertToInteractive(key) {\n",
              "          const element = document.querySelector('#df-3622266d-a4a1-42e7-bdb0-477b36ae09d9');\n",
              "          const dataTable =\n",
              "            await google.colab.kernel.invokeFunction('convertToInteractive',\n",
              "                                                     [key], {});\n",
              "          if (!dataTable) return;\n",
              "\n",
              "          const docLinkHtml = 'Like what you see? Visit the ' +\n",
              "            '<a target=\"_blank\" href=https://colab.research.google.com/notebooks/data_table.ipynb>data table notebook</a>'\n",
              "            + ' to learn more about interactive tables.';\n",
              "          element.innerHTML = '';\n",
              "          dataTable['output_type'] = 'display_data';\n",
              "          await google.colab.output.renderOutput(dataTable, element);\n",
              "          const docLink = document.createElement('div');\n",
              "          docLink.innerHTML = docLinkHtml;\n",
              "          element.appendChild(docLink);\n",
              "        }\n",
              "      </script>\n",
              "    </div>\n",
              "  </div>\n",
              "  "
            ],
            "text/plain": [
              "          id              name  userID  artistID  weight\n",
              "0          1      MALICE MIZER      34         1     212\n",
              "1          1      MALICE MIZER     274         1     483\n",
              "2          1      MALICE MIZER     785         1      76\n",
              "3          2   Diary of Dreams     135         2    1021\n",
              "4          2   Diary of Dreams     257         2     152\n",
              "...      ...               ...     ...       ...     ...\n",
              "92829  18741    Diamanda Galás     454     18741     301\n",
              "92830  18742            Aya RL     454     18742     294\n",
              "92831  18743       Coptic Rain     454     18743     287\n",
              "92832  18744      Oz Alchemist     454     18744     286\n",
              "92833  18745  Grzegorz Tomczak     585     18745     426\n",
              "\n",
              "[92834 rows x 5 columns]"
            ]
          },
          "metadata": {},
          "output_type": "display_data"
        }
      ],
      "source": [
        "ap"
      ]
    },
    {
      "cell_type": "code",
      "execution_count": null,
      "metadata": {
        "id": "SiEc2zCB3lnV"
      },
      "outputs": [],
      "source": [
        "###############################################################################\n",
        "## TODO: rename the weight columns to PlayCount         ##\n",
        "###############################################################################\n",
        "ap = ap.rename(columns={\"weight\": \"playCount\"})"
      ]
    },
    {
      "cell_type": "code",
      "execution_count": null,
      "metadata": {
        "id": "8rUff2zl3lnV"
      },
      "outputs": [],
      "source": [
        "###############################################################################\n",
        "## TODO: Delete the \"id\" columns and reset_indexes of ap                     ##\n",
        "###############################################################################\n",
        "\n",
        "#TODO"
      ]
    },
    {
      "cell_type": "code",
      "execution_count": null,
      "metadata": {
        "id": "I0YXP9xW3lnV"
      },
      "outputs": [],
      "source": [
        "###############################################################################\n",
        "## TODO: Create  a Dataframe like below where \"totalUniqueUsers\" is the number of\n",
        "## userID's assigned to each name in \"ap\" dataframe.\n",
        "## \"totalArtistPlays\" is sum of all playcounts assigned to an artist\n",
        "## and sort the Frame in descending order of \"totalArtistPlays\" (highest \"totalArtistPlays\" at top of table)\n",
        "## and \"avgUserPlays\" is divison of \"totalArtistPlays\" by \"totalUniqueUsers\"\n",
        "###############################################################################\n",
        "\n",
        "\n",
        "artist_rank = # Your Code\n",
        "\n",
        "artist_rank['avgUserPlays'] = # Your Code"
      ]
    },
    {
      "cell_type": "code",
      "execution_count": null,
      "metadata": {
        "id": "uraHLsBMqhYY",
        "outputId": "0847af03-bb70-4e01-d77c-3cd5b920a863"
      },
      "outputs": [
        {
          "data": {
            "text/html": [
              "\n",
              "  <div id=\"df-1762d27b-5117-4fbd-95f6-c75f3be94c38\">\n",
              "    <div class=\"colab-df-container\">\n",
              "      <div>\n",
              "<style scoped>\n",
              "    .dataframe tbody tr th:only-of-type {\n",
              "        vertical-align: middle;\n",
              "    }\n",
              "\n",
              "    .dataframe tbody tr th {\n",
              "        vertical-align: top;\n",
              "    }\n",
              "\n",
              "    .dataframe thead th {\n",
              "        text-align: right;\n",
              "    }\n",
              "</style>\n",
              "<table border=\"1\" class=\"dataframe\">\n",
              "  <thead>\n",
              "    <tr style=\"text-align: right;\">\n",
              "      <th></th>\n",
              "      <th>totalUniqueUsers</th>\n",
              "      <th>totalArtistPlays</th>\n",
              "      <th>avgUserPlays</th>\n",
              "    </tr>\n",
              "    <tr>\n",
              "      <th>name</th>\n",
              "      <th></th>\n",
              "      <th></th>\n",
              "      <th></th>\n",
              "    </tr>\n",
              "  </thead>\n",
              "  <tbody>\n",
              "    <tr>\n",
              "      <th>Britney Spears</th>\n",
              "      <td>522</td>\n",
              "      <td>2393140</td>\n",
              "      <td>4584.559387</td>\n",
              "    </tr>\n",
              "    <tr>\n",
              "      <th>Depeche Mode</th>\n",
              "      <td>282</td>\n",
              "      <td>1301308</td>\n",
              "      <td>4614.567376</td>\n",
              "    </tr>\n",
              "    <tr>\n",
              "      <th>Lady Gaga</th>\n",
              "      <td>611</td>\n",
              "      <td>1291387</td>\n",
              "      <td>2113.563011</td>\n",
              "    </tr>\n",
              "    <tr>\n",
              "      <th>Christina Aguilera</th>\n",
              "      <td>407</td>\n",
              "      <td>1058405</td>\n",
              "      <td>2600.503686</td>\n",
              "    </tr>\n",
              "    <tr>\n",
              "      <th>Paramore</th>\n",
              "      <td>399</td>\n",
              "      <td>963449</td>\n",
              "      <td>2414.659148</td>\n",
              "    </tr>\n",
              "    <tr>\n",
              "      <th>...</th>\n",
              "      <td>...</td>\n",
              "      <td>...</td>\n",
              "      <td>...</td>\n",
              "    </tr>\n",
              "    <tr>\n",
              "      <th>Morris</th>\n",
              "      <td>1</td>\n",
              "      <td>1</td>\n",
              "      <td>1.000000</td>\n",
              "    </tr>\n",
              "    <tr>\n",
              "      <th>Eddie Kendricks</th>\n",
              "      <td>1</td>\n",
              "      <td>1</td>\n",
              "      <td>1.000000</td>\n",
              "    </tr>\n",
              "    <tr>\n",
              "      <th>Excess Pressure</th>\n",
              "      <td>1</td>\n",
              "      <td>1</td>\n",
              "      <td>1.000000</td>\n",
              "    </tr>\n",
              "    <tr>\n",
              "      <th>My Mine</th>\n",
              "      <td>1</td>\n",
              "      <td>1</td>\n",
              "      <td>1.000000</td>\n",
              "    </tr>\n",
              "    <tr>\n",
              "      <th>A.M. Architect</th>\n",
              "      <td>1</td>\n",
              "      <td>1</td>\n",
              "      <td>1.000000</td>\n",
              "    </tr>\n",
              "  </tbody>\n",
              "</table>\n",
              "<p>17632 rows × 3 columns</p>\n",
              "</div>\n",
              "      <button class=\"colab-df-convert\" onclick=\"convertToInteractive('df-1762d27b-5117-4fbd-95f6-c75f3be94c38')\"\n",
              "              title=\"Convert this dataframe to an interactive table.\"\n",
              "              style=\"display:none;\">\n",
              "        \n",
              "  <svg xmlns=\"http://www.w3.org/2000/svg\" height=\"24px\"viewBox=\"0 0 24 24\"\n",
              "       width=\"24px\">\n",
              "    <path d=\"M0 0h24v24H0V0z\" fill=\"none\"/>\n",
              "    <path d=\"M18.56 5.44l.94 2.06.94-2.06 2.06-.94-2.06-.94-.94-2.06-.94 2.06-2.06.94zm-11 1L8.5 8.5l.94-2.06 2.06-.94-2.06-.94L8.5 2.5l-.94 2.06-2.06.94zm10 10l.94 2.06.94-2.06 2.06-.94-2.06-.94-.94-2.06-.94 2.06-2.06.94z\"/><path d=\"M17.41 7.96l-1.37-1.37c-.4-.4-.92-.59-1.43-.59-.52 0-1.04.2-1.43.59L10.3 9.45l-7.72 7.72c-.78.78-.78 2.05 0 2.83L4 21.41c.39.39.9.59 1.41.59.51 0 1.02-.2 1.41-.59l7.78-7.78 2.81-2.81c.8-.78.8-2.07 0-2.86zM5.41 20L4 18.59l7.72-7.72 1.47 1.35L5.41 20z\"/>\n",
              "  </svg>\n",
              "      </button>\n",
              "      \n",
              "  <style>\n",
              "    .colab-df-container {\n",
              "      display:flex;\n",
              "      flex-wrap:wrap;\n",
              "      gap: 12px;\n",
              "    }\n",
              "\n",
              "    .colab-df-convert {\n",
              "      background-color: #E8F0FE;\n",
              "      border: none;\n",
              "      border-radius: 50%;\n",
              "      cursor: pointer;\n",
              "      display: none;\n",
              "      fill: #1967D2;\n",
              "      height: 32px;\n",
              "      padding: 0 0 0 0;\n",
              "      width: 32px;\n",
              "    }\n",
              "\n",
              "    .colab-df-convert:hover {\n",
              "      background-color: #E2EBFA;\n",
              "      box-shadow: 0px 1px 2px rgba(60, 64, 67, 0.3), 0px 1px 3px 1px rgba(60, 64, 67, 0.15);\n",
              "      fill: #174EA6;\n",
              "    }\n",
              "\n",
              "    [theme=dark] .colab-df-convert {\n",
              "      background-color: #3B4455;\n",
              "      fill: #D2E3FC;\n",
              "    }\n",
              "\n",
              "    [theme=dark] .colab-df-convert:hover {\n",
              "      background-color: #434B5C;\n",
              "      box-shadow: 0px 1px 3px 1px rgba(0, 0, 0, 0.15);\n",
              "      filter: drop-shadow(0px 1px 2px rgba(0, 0, 0, 0.3));\n",
              "      fill: #FFFFFF;\n",
              "    }\n",
              "  </style>\n",
              "\n",
              "      <script>\n",
              "        const buttonEl =\n",
              "          document.querySelector('#df-1762d27b-5117-4fbd-95f6-c75f3be94c38 button.colab-df-convert');\n",
              "        buttonEl.style.display =\n",
              "          google.colab.kernel.accessAllowed ? 'block' : 'none';\n",
              "\n",
              "        async function convertToInteractive(key) {\n",
              "          const element = document.querySelector('#df-1762d27b-5117-4fbd-95f6-c75f3be94c38');\n",
              "          const dataTable =\n",
              "            await google.colab.kernel.invokeFunction('convertToInteractive',\n",
              "                                                     [key], {});\n",
              "          if (!dataTable) return;\n",
              "\n",
              "          const docLinkHtml = 'Like what you see? Visit the ' +\n",
              "            '<a target=\"_blank\" href=https://colab.research.google.com/notebooks/data_table.ipynb>data table notebook</a>'\n",
              "            + ' to learn more about interactive tables.';\n",
              "          element.innerHTML = '';\n",
              "          dataTable['output_type'] = 'display_data';\n",
              "          await google.colab.output.renderOutput(dataTable, element);\n",
              "          const docLink = document.createElement('div');\n",
              "          docLink.innerHTML = docLinkHtml;\n",
              "          element.appendChild(docLink);\n",
              "        }\n",
              "      </script>\n",
              "    </div>\n",
              "  </div>\n",
              "  "
            ],
            "text/plain": [
              "                    totalUniqueUsers  totalArtistPlays  avgUserPlays\n",
              "name                                                                \n",
              "Britney Spears                   522           2393140   4584.559387\n",
              "Depeche Mode                     282           1301308   4614.567376\n",
              "Lady Gaga                        611           1291387   2113.563011\n",
              "Christina Aguilera               407           1058405   2600.503686\n",
              "Paramore                         399            963449   2414.659148\n",
              "...                              ...               ...           ...\n",
              "Morris                             1                 1      1.000000\n",
              "Eddie Kendricks                    1                 1      1.000000\n",
              "Excess Pressure                    1                 1      1.000000\n",
              "My Mine                            1                 1      1.000000\n",
              "A.M. Architect                     1                 1      1.000000\n",
              "\n",
              "[17632 rows x 3 columns]"
            ]
          },
          "metadata": {},
          "output_type": "display_data"
        }
      ],
      "source": [
        "artist_rank"
      ]
    },
    {
      "cell_type": "code",
      "execution_count": null,
      "metadata": {
        "id": "E3Fgx-gV3lnV"
      },
      "outputs": [],
      "source": [
        "###############################################################################\n",
        "## TODO: Create  a Dataframe like below where for each name in ap dataframe,\n",
        "# corresponding row in artist rank is attached to it\n",
        "###############################################################################\n",
        "\n",
        "\n",
        "\n",
        "ap = #TODO"
      ]
    },
    {
      "cell_type": "code",
      "execution_count": null,
      "metadata": {
        "id": "tYNcHcWZqhYY",
        "outputId": "ac1e5a7d-b60d-4dc0-b25f-0a6407db9ac7"
      },
      "outputs": [
        {
          "data": {
            "text/html": [
              "<div>\n",
              "<style scoped>\n",
              "    .dataframe tbody tr th:only-of-type {\n",
              "        vertical-align: middle;\n",
              "    }\n",
              "\n",
              "    .dataframe tbody tr th {\n",
              "        vertical-align: top;\n",
              "    }\n",
              "\n",
              "    .dataframe thead th {\n",
              "        text-align: right;\n",
              "    }\n",
              "</style>\n",
              "<table border=\"1\" class=\"dataframe\">\n",
              "  <thead>\n",
              "    <tr style=\"text-align: right;\">\n",
              "      <th></th>\n",
              "      <th>id</th>\n",
              "      <th>name</th>\n",
              "      <th>userID</th>\n",
              "      <th>artistID</th>\n",
              "      <th>playCount</th>\n",
              "      <th>totalUniqueUsers</th>\n",
              "      <th>totalArtistPlays</th>\n",
              "      <th>avgUserPlays</th>\n",
              "    </tr>\n",
              "  </thead>\n",
              "  <tbody>\n",
              "    <tr>\n",
              "      <th>2800</th>\n",
              "      <td>72</td>\n",
              "      <td>Depeche Mode</td>\n",
              "      <td>1642</td>\n",
              "      <td>72</td>\n",
              "      <td>352698</td>\n",
              "      <td>282</td>\n",
              "      <td>1301308</td>\n",
              "      <td>4614.567376</td>\n",
              "    </tr>\n",
              "    <tr>\n",
              "      <th>35843</th>\n",
              "      <td>792</td>\n",
              "      <td>Thalía</td>\n",
              "      <td>2071</td>\n",
              "      <td>792</td>\n",
              "      <td>324663</td>\n",
              "      <td>26</td>\n",
              "      <td>350035</td>\n",
              "      <td>13462.884615</td>\n",
              "    </tr>\n",
              "    <tr>\n",
              "      <th>27302</th>\n",
              "      <td>511</td>\n",
              "      <td>U2</td>\n",
              "      <td>1094</td>\n",
              "      <td>511</td>\n",
              "      <td>320725</td>\n",
              "      <td>185</td>\n",
              "      <td>493024</td>\n",
              "      <td>2664.994595</td>\n",
              "    </tr>\n",
              "    <tr>\n",
              "      <th>8152</th>\n",
              "      <td>203</td>\n",
              "      <td>Blur</td>\n",
              "      <td>1905</td>\n",
              "      <td>203</td>\n",
              "      <td>257978</td>\n",
              "      <td>114</td>\n",
              "      <td>318221</td>\n",
              "      <td>2791.412281</td>\n",
              "    </tr>\n",
              "    <tr>\n",
              "      <th>26670</th>\n",
              "      <td>498</td>\n",
              "      <td>Paramore</td>\n",
              "      <td>1664</td>\n",
              "      <td>498</td>\n",
              "      <td>227829</td>\n",
              "      <td>399</td>\n",
              "      <td>963449</td>\n",
              "      <td>2414.659148</td>\n",
              "    </tr>\n",
              "    <tr>\n",
              "      <th>21191</th>\n",
              "      <td>378</td>\n",
              "      <td>Evanescence</td>\n",
              "      <td>1146</td>\n",
              "      <td>378</td>\n",
              "      <td>203165</td>\n",
              "      <td>226</td>\n",
              "      <td>513476</td>\n",
              "      <td>2272.017699</td>\n",
              "    </tr>\n",
              "    <tr>\n",
              "      <th>14165</th>\n",
              "      <td>292</td>\n",
              "      <td>Christina Aguilera</td>\n",
              "      <td>514</td>\n",
              "      <td>292</td>\n",
              "      <td>176133</td>\n",
              "      <td>407</td>\n",
              "      <td>1058405</td>\n",
              "      <td>2600.503686</td>\n",
              "    </tr>\n",
              "    <tr>\n",
              "      <th>33309</th>\n",
              "      <td>701</td>\n",
              "      <td>Shakira</td>\n",
              "      <td>1983</td>\n",
              "      <td>701</td>\n",
              "      <td>172496</td>\n",
              "      <td>319</td>\n",
              "      <td>688529</td>\n",
              "      <td>2158.398119</td>\n",
              "    </tr>\n",
              "    <tr>\n",
              "      <th>33127</th>\n",
              "      <td>701</td>\n",
              "      <td>Shakira</td>\n",
              "      <td>757</td>\n",
              "      <td>701</td>\n",
              "      <td>169596</td>\n",
              "      <td>319</td>\n",
              "      <td>688529</td>\n",
              "      <td>2158.398119</td>\n",
              "    </tr>\n",
              "    <tr>\n",
              "      <th>31835</th>\n",
              "      <td>679</td>\n",
              "      <td>Glee Cast</td>\n",
              "      <td>1086</td>\n",
              "      <td>679</td>\n",
              "      <td>165902</td>\n",
              "      <td>249</td>\n",
              "      <td>506453</td>\n",
              "      <td>2033.947791</td>\n",
              "    </tr>\n",
              "    <tr>\n",
              "      <th>26983</th>\n",
              "      <td>503</td>\n",
              "      <td>In Flames</td>\n",
              "      <td>903</td>\n",
              "      <td>503</td>\n",
              "      <td>146411</td>\n",
              "      <td>67</td>\n",
              "      <td>237148</td>\n",
              "      <td>3539.522388</td>\n",
              "    </tr>\n",
              "    <tr>\n",
              "      <th>32498</th>\n",
              "      <td>687</td>\n",
              "      <td>All Time Low</td>\n",
              "      <td>946</td>\n",
              "      <td>687</td>\n",
              "      <td>144559</td>\n",
              "      <td>77</td>\n",
              "      <td>215777</td>\n",
              "      <td>2802.298701</td>\n",
              "    </tr>\n",
              "    <tr>\n",
              "      <th>13324</th>\n",
              "      <td>289</td>\n",
              "      <td>Britney Spears</td>\n",
              "      <td>542</td>\n",
              "      <td>289</td>\n",
              "      <td>131733</td>\n",
              "      <td>522</td>\n",
              "      <td>2393140</td>\n",
              "      <td>4584.559387</td>\n",
              "    </tr>\n",
              "    <tr>\n",
              "      <th>21165</th>\n",
              "      <td>378</td>\n",
              "      <td>Evanescence</td>\n",
              "      <td>938</td>\n",
              "      <td>378</td>\n",
              "      <td>129595</td>\n",
              "      <td>226</td>\n",
              "      <td>513476</td>\n",
              "      <td>2272.017699</td>\n",
              "    </tr>\n",
              "    <tr>\n",
              "      <th>13680</th>\n",
              "      <td>289</td>\n",
              "      <td>Britney Spears</td>\n",
              "      <td>2031</td>\n",
              "      <td>289</td>\n",
              "      <td>128654</td>\n",
              "      <td>522</td>\n",
              "      <td>2393140</td>\n",
              "      <td>4584.559387</td>\n",
              "    </tr>\n",
              "    <tr>\n",
              "      <th>25865</th>\n",
              "      <td>486</td>\n",
              "      <td>30 Seconds to Mars</td>\n",
              "      <td>1368</td>\n",
              "      <td>486</td>\n",
              "      <td>125471</td>\n",
              "      <td>216</td>\n",
              "      <td>485532</td>\n",
              "      <td>2247.833333</td>\n",
              "    </tr>\n",
              "    <tr>\n",
              "      <th>5575</th>\n",
              "      <td>163</td>\n",
              "      <td>Pink Floyd</td>\n",
              "      <td>292</td>\n",
              "      <td>163</td>\n",
              "      <td>123065</td>\n",
              "      <td>258</td>\n",
              "      <td>466104</td>\n",
              "      <td>1806.604651</td>\n",
              "    </tr>\n",
              "    <tr>\n",
              "      <th>3640</th>\n",
              "      <td>89</td>\n",
              "      <td>Lady Gaga</td>\n",
              "      <td>1135</td>\n",
              "      <td>89</td>\n",
              "      <td>114672</td>\n",
              "      <td>611</td>\n",
              "      <td>1291387</td>\n",
              "      <td>2113.563011</td>\n",
              "    </tr>\n",
              "    <tr>\n",
              "      <th>6792</th>\n",
              "      <td>187</td>\n",
              "      <td>a-ha</td>\n",
              "      <td>442</td>\n",
              "      <td>187</td>\n",
              "      <td>112009</td>\n",
              "      <td>97</td>\n",
              "      <td>205195</td>\n",
              "      <td>2115.412371</td>\n",
              "    </tr>\n",
              "    <tr>\n",
              "      <th>7737</th>\n",
              "      <td>198</td>\n",
              "      <td>System of a Down</td>\n",
              "      <td>459</td>\n",
              "      <td>198</td>\n",
              "      <td>110185</td>\n",
              "      <td>181</td>\n",
              "      <td>277397</td>\n",
              "      <td>1532.580110</td>\n",
              "    </tr>\n",
              "  </tbody>\n",
              "</table>\n",
              "</div>"
            ],
            "text/plain": [
              "        id                name  ...  totalArtistPlays  avgUserPlays\n",
              "2800    72        Depeche Mode  ...           1301308   4614.567376\n",
              "35843  792              Thalía  ...            350035  13462.884615\n",
              "27302  511                  U2  ...            493024   2664.994595\n",
              "8152   203                Blur  ...            318221   2791.412281\n",
              "26670  498            Paramore  ...            963449   2414.659148\n",
              "21191  378         Evanescence  ...            513476   2272.017699\n",
              "14165  292  Christina Aguilera  ...           1058405   2600.503686\n",
              "33309  701             Shakira  ...            688529   2158.398119\n",
              "33127  701             Shakira  ...            688529   2158.398119\n",
              "31835  679           Glee Cast  ...            506453   2033.947791\n",
              "26983  503           In Flames  ...            237148   3539.522388\n",
              "32498  687        All Time Low  ...            215777   2802.298701\n",
              "13324  289      Britney Spears  ...           2393140   4584.559387\n",
              "21165  378         Evanescence  ...            513476   2272.017699\n",
              "13680  289      Britney Spears  ...           2393140   4584.559387\n",
              "25865  486  30 Seconds to Mars  ...            485532   2247.833333\n",
              "5575   163          Pink Floyd  ...            466104   1806.604651\n",
              "3640    89           Lady Gaga  ...           1291387   2113.563011\n",
              "6792   187                a-ha  ...            205195   2115.412371\n",
              "7737   198    System of a Down  ...            277397   1532.580110\n",
              "\n",
              "[20 rows x 8 columns]"
            ]
          },
          "metadata": {},
          "output_type": "display_data"
        }
      ],
      "source": [
        "ap.head(20)"
      ]
    },
    {
      "cell_type": "markdown",
      "metadata": {
        "id": "gkIan_kn3lnV"
      },
      "source": [
        "# Exploration"
      ]
    },
    {
      "cell_type": "code",
      "execution_count": null,
      "metadata": {
        "id": "4VT91Yww3lnW"
      },
      "outputs": [],
      "source": [
        "def bar_chart_int(x,y,x_label,y_label,title,caption,total_val):\n",
        "    fig, ax = plt.subplots();\n",
        "    fig.set_size_inches(16, 5);\n",
        "    ax = sns.barplot(x[:20], y[:20], palette='Blues_r');\n",
        "    ax.set_xlabel(x_label);\n",
        "    ax.set_ylabel(y_label);\n",
        "    ax.set_title(title);\n",
        "    ax.get_yaxis().set_major_formatter(ticker.FuncFormatter(lambda x, p: '{:,}'.format(int(x))));\n",
        "\n",
        "    # our bar label placement\n",
        "    for p in ax.patches:\n",
        "        height = p.get_height()\n",
        "        pct = 100*(height/total_val)\n",
        "        ax.text(p.get_x()+p.get_width()/2.,\n",
        "                height + 3,\n",
        "                '{:1.1f}%'.format(pct),\n",
        "                ha=\"center\",verticalalignment='bottom',color='black', fontsize=12);\n",
        "\n",
        "    # our caption statement\n",
        "    ax.text(19, max(y[:20])*0.95, caption,horizontalalignment='right');\n",
        "\n",
        "    plt.xticks(rotation=90);\n",
        "    plt.show();"
      ]
    },
    {
      "cell_type": "code",
      "execution_count": null,
      "metadata": {
        "id": "LyY3Eg403lnW"
      },
      "outputs": [],
      "source": [
        "c1 = artist_rank\n",
        "x = c1.index\n",
        "y = c1.totalArtistPlays\n",
        "x_label = 'Artist Name'\n",
        "y_label = 'Total Artist Plays'\n",
        "title = 'Total Plays by Artist'\n",
        "caption = 'Percentage of total plays'\n",
        "total_val = c1.totalArtistPlays.sum()\n",
        "\n",
        "bar_chart_int(x,y,x_label,y_label,title,caption,total_val);"
      ]
    },
    {
      "cell_type": "code",
      "execution_count": null,
      "metadata": {
        "id": "4lPFiFrt3lnW"
      },
      "outputs": [],
      "source": [
        "c2 = artist_rank.sort_values(['totalUniqueUsers'],ascending=False)\n",
        "x = c2.index\n",
        "y = c2.totalUniqueUsers\n",
        "x_label = 'Artist Name'\n",
        "y_label = 'Unique Users Played'\n",
        "title = 'Unique Users per Artist'\n",
        "caption = 'Percentage of total unique users'\n",
        "total_val = ap.userID.nunique()\n",
        "\n",
        "bar_chart_int(x,y,x_label,y_label,title,caption,total_val)"
      ]
    },
    {
      "cell_type": "code",
      "execution_count": null,
      "metadata": {
        "id": "uNVWG9yO3lnW"
      },
      "outputs": [],
      "source": [
        "top_artists =  # TODO : index of top 12 items in \"artist_rank\" based on their \"totalArtistPlays\"\n",
        "\n",
        "x = # TODO : \"totalUniqueUsers\" of \"artist_rank\"\n",
        "y =  # TODO :  \"totalArtistPlays\" of \"artist_rank\"\n",
        "labels =  # TODO : index of \"artist_rank\"\n",
        "\n",
        "fig, ax = plt.subplots(figsize=(15,10))\n",
        "sns.regplot(x,y)\n",
        "ax.set_title('Artist Popularity: Play Count vs Unique Users')\n",
        "ax.yaxis.set_major_formatter(ticker.FuncFormatter(lambda y, _: '{:,.0f}'.format(y)))\n",
        "ax.set_xlabel('Total Unique Users')\n",
        "ax.set_ylabel('Total Artist Plays')\n",
        "\n",
        "for i, t in enumerate(labels):\n",
        "    if t in top_artists:\n",
        "        ax.annotate(t,(x[i],y[i]))"
      ]
    },
    {
      "cell_type": "code",
      "execution_count": null,
      "metadata": {
        "id": "yUND1ds13lnW"
      },
      "outputs": [],
      "source": [
        "pc = ap.playCount\n",
        "play_count_scaled = (pc - pc.min()) / (pc.max() - pc.min())\n",
        "ap = ap.assign(playCountScaled=play_count_scaled)"
      ]
    },
    {
      "cell_type": "code",
      "execution_count": null,
      "metadata": {
        "id": "CB2KUTNZ3lnW"
      },
      "outputs": [],
      "source": [
        "###############################################################################\n",
        "## TODO: Create  a Dataframe with userID as its rows, artistID as its columns and\n",
        "## \"play_count_scaled\" as the value of each cell, in this manner you're creating\n",
        "## a table which demonstrates what rating each user has for a set of items(artists)\n",
        "## Your created table should be like below example\n",
        "###############################################################################\n",
        "\n",
        "ratings_df = # Your Code"
      ]
    },
    {
      "cell_type": "code",
      "execution_count": null,
      "metadata": {
        "id": "duocdAMTqhYZ",
        "outputId": "ba7822b0-404d-494c-9a38-2846ee457259"
      },
      "outputs": [
        {
          "data": {
            "text/html": [
              "\n",
              "  <div id=\"df-963f326b-16e6-4932-9599-eeb31372f708\">\n",
              "    <div class=\"colab-df-container\">\n",
              "      <div>\n",
              "<style scoped>\n",
              "    .dataframe tbody tr th:only-of-type {\n",
              "        vertical-align: middle;\n",
              "    }\n",
              "\n",
              "    .dataframe tbody tr th {\n",
              "        vertical-align: top;\n",
              "    }\n",
              "\n",
              "    .dataframe thead th {\n",
              "        text-align: right;\n",
              "    }\n",
              "</style>\n",
              "<table border=\"1\" class=\"dataframe\">\n",
              "  <thead>\n",
              "    <tr style=\"text-align: right;\">\n",
              "      <th>artistID</th>\n",
              "      <th>1</th>\n",
              "      <th>2</th>\n",
              "      <th>3</th>\n",
              "      <th>4</th>\n",
              "      <th>5</th>\n",
              "      <th>6</th>\n",
              "      <th>7</th>\n",
              "      <th>8</th>\n",
              "      <th>9</th>\n",
              "      <th>10</th>\n",
              "      <th>...</th>\n",
              "      <th>18736</th>\n",
              "      <th>18737</th>\n",
              "      <th>18738</th>\n",
              "      <th>18739</th>\n",
              "      <th>18740</th>\n",
              "      <th>18741</th>\n",
              "      <th>18742</th>\n",
              "      <th>18743</th>\n",
              "      <th>18744</th>\n",
              "      <th>18745</th>\n",
              "    </tr>\n",
              "    <tr>\n",
              "      <th>userID</th>\n",
              "      <th></th>\n",
              "      <th></th>\n",
              "      <th></th>\n",
              "      <th></th>\n",
              "      <th></th>\n",
              "      <th></th>\n",
              "      <th></th>\n",
              "      <th></th>\n",
              "      <th></th>\n",
              "      <th></th>\n",
              "      <th></th>\n",
              "      <th></th>\n",
              "      <th></th>\n",
              "      <th></th>\n",
              "      <th></th>\n",
              "      <th></th>\n",
              "      <th></th>\n",
              "      <th></th>\n",
              "      <th></th>\n",
              "      <th></th>\n",
              "      <th></th>\n",
              "    </tr>\n",
              "  </thead>\n",
              "  <tbody>\n",
              "    <tr>\n",
              "      <th>2</th>\n",
              "      <td>NaN</td>\n",
              "      <td>NaN</td>\n",
              "      <td>NaN</td>\n",
              "      <td>NaN</td>\n",
              "      <td>NaN</td>\n",
              "      <td>NaN</td>\n",
              "      <td>NaN</td>\n",
              "      <td>NaN</td>\n",
              "      <td>NaN</td>\n",
              "      <td>NaN</td>\n",
              "      <td>...</td>\n",
              "      <td>NaN</td>\n",
              "      <td>NaN</td>\n",
              "      <td>NaN</td>\n",
              "      <td>NaN</td>\n",
              "      <td>NaN</td>\n",
              "      <td>NaN</td>\n",
              "      <td>NaN</td>\n",
              "      <td>NaN</td>\n",
              "      <td>NaN</td>\n",
              "      <td>NaN</td>\n",
              "    </tr>\n",
              "    <tr>\n",
              "      <th>3</th>\n",
              "      <td>NaN</td>\n",
              "      <td>NaN</td>\n",
              "      <td>NaN</td>\n",
              "      <td>NaN</td>\n",
              "      <td>NaN</td>\n",
              "      <td>NaN</td>\n",
              "      <td>NaN</td>\n",
              "      <td>NaN</td>\n",
              "      <td>NaN</td>\n",
              "      <td>NaN</td>\n",
              "      <td>...</td>\n",
              "      <td>NaN</td>\n",
              "      <td>NaN</td>\n",
              "      <td>NaN</td>\n",
              "      <td>NaN</td>\n",
              "      <td>NaN</td>\n",
              "      <td>NaN</td>\n",
              "      <td>NaN</td>\n",
              "      <td>NaN</td>\n",
              "      <td>NaN</td>\n",
              "      <td>NaN</td>\n",
              "    </tr>\n",
              "    <tr>\n",
              "      <th>4</th>\n",
              "      <td>NaN</td>\n",
              "      <td>NaN</td>\n",
              "      <td>NaN</td>\n",
              "      <td>NaN</td>\n",
              "      <td>NaN</td>\n",
              "      <td>NaN</td>\n",
              "      <td>NaN</td>\n",
              "      <td>NaN</td>\n",
              "      <td>NaN</td>\n",
              "      <td>NaN</td>\n",
              "      <td>...</td>\n",
              "      <td>NaN</td>\n",
              "      <td>NaN</td>\n",
              "      <td>NaN</td>\n",
              "      <td>NaN</td>\n",
              "      <td>NaN</td>\n",
              "      <td>NaN</td>\n",
              "      <td>NaN</td>\n",
              "      <td>NaN</td>\n",
              "      <td>NaN</td>\n",
              "      <td>NaN</td>\n",
              "    </tr>\n",
              "    <tr>\n",
              "      <th>5</th>\n",
              "      <td>NaN</td>\n",
              "      <td>NaN</td>\n",
              "      <td>NaN</td>\n",
              "      <td>NaN</td>\n",
              "      <td>NaN</td>\n",
              "      <td>NaN</td>\n",
              "      <td>NaN</td>\n",
              "      <td>NaN</td>\n",
              "      <td>NaN</td>\n",
              "      <td>NaN</td>\n",
              "      <td>...</td>\n",
              "      <td>NaN</td>\n",
              "      <td>NaN</td>\n",
              "      <td>NaN</td>\n",
              "      <td>NaN</td>\n",
              "      <td>NaN</td>\n",
              "      <td>NaN</td>\n",
              "      <td>NaN</td>\n",
              "      <td>NaN</td>\n",
              "      <td>NaN</td>\n",
              "      <td>NaN</td>\n",
              "    </tr>\n",
              "    <tr>\n",
              "      <th>6</th>\n",
              "      <td>NaN</td>\n",
              "      <td>NaN</td>\n",
              "      <td>NaN</td>\n",
              "      <td>NaN</td>\n",
              "      <td>NaN</td>\n",
              "      <td>NaN</td>\n",
              "      <td>NaN</td>\n",
              "      <td>NaN</td>\n",
              "      <td>NaN</td>\n",
              "      <td>NaN</td>\n",
              "      <td>...</td>\n",
              "      <td>NaN</td>\n",
              "      <td>NaN</td>\n",
              "      <td>NaN</td>\n",
              "      <td>NaN</td>\n",
              "      <td>NaN</td>\n",
              "      <td>NaN</td>\n",
              "      <td>NaN</td>\n",
              "      <td>NaN</td>\n",
              "      <td>NaN</td>\n",
              "      <td>NaN</td>\n",
              "    </tr>\n",
              "    <tr>\n",
              "      <th>...</th>\n",
              "      <td>...</td>\n",
              "      <td>...</td>\n",
              "      <td>...</td>\n",
              "      <td>...</td>\n",
              "      <td>...</td>\n",
              "      <td>...</td>\n",
              "      <td>...</td>\n",
              "      <td>...</td>\n",
              "      <td>...</td>\n",
              "      <td>...</td>\n",
              "      <td>...</td>\n",
              "      <td>...</td>\n",
              "      <td>...</td>\n",
              "      <td>...</td>\n",
              "      <td>...</td>\n",
              "      <td>...</td>\n",
              "      <td>...</td>\n",
              "      <td>...</td>\n",
              "      <td>...</td>\n",
              "      <td>...</td>\n",
              "      <td>...</td>\n",
              "    </tr>\n",
              "    <tr>\n",
              "      <th>2095</th>\n",
              "      <td>NaN</td>\n",
              "      <td>NaN</td>\n",
              "      <td>NaN</td>\n",
              "      <td>NaN</td>\n",
              "      <td>NaN</td>\n",
              "      <td>NaN</td>\n",
              "      <td>NaN</td>\n",
              "      <td>NaN</td>\n",
              "      <td>NaN</td>\n",
              "      <td>NaN</td>\n",
              "      <td>...</td>\n",
              "      <td>NaN</td>\n",
              "      <td>NaN</td>\n",
              "      <td>NaN</td>\n",
              "      <td>NaN</td>\n",
              "      <td>NaN</td>\n",
              "      <td>NaN</td>\n",
              "      <td>NaN</td>\n",
              "      <td>NaN</td>\n",
              "      <td>NaN</td>\n",
              "      <td>NaN</td>\n",
              "    </tr>\n",
              "    <tr>\n",
              "      <th>2096</th>\n",
              "      <td>NaN</td>\n",
              "      <td>NaN</td>\n",
              "      <td>NaN</td>\n",
              "      <td>NaN</td>\n",
              "      <td>NaN</td>\n",
              "      <td>NaN</td>\n",
              "      <td>NaN</td>\n",
              "      <td>NaN</td>\n",
              "      <td>NaN</td>\n",
              "      <td>NaN</td>\n",
              "      <td>...</td>\n",
              "      <td>NaN</td>\n",
              "      <td>NaN</td>\n",
              "      <td>NaN</td>\n",
              "      <td>NaN</td>\n",
              "      <td>NaN</td>\n",
              "      <td>NaN</td>\n",
              "      <td>NaN</td>\n",
              "      <td>NaN</td>\n",
              "      <td>NaN</td>\n",
              "      <td>NaN</td>\n",
              "    </tr>\n",
              "    <tr>\n",
              "      <th>2097</th>\n",
              "      <td>NaN</td>\n",
              "      <td>NaN</td>\n",
              "      <td>NaN</td>\n",
              "      <td>NaN</td>\n",
              "      <td>NaN</td>\n",
              "      <td>NaN</td>\n",
              "      <td>NaN</td>\n",
              "      <td>NaN</td>\n",
              "      <td>NaN</td>\n",
              "      <td>NaN</td>\n",
              "      <td>...</td>\n",
              "      <td>NaN</td>\n",
              "      <td>NaN</td>\n",
              "      <td>NaN</td>\n",
              "      <td>NaN</td>\n",
              "      <td>NaN</td>\n",
              "      <td>NaN</td>\n",
              "      <td>NaN</td>\n",
              "      <td>NaN</td>\n",
              "      <td>NaN</td>\n",
              "      <td>NaN</td>\n",
              "    </tr>\n",
              "    <tr>\n",
              "      <th>2099</th>\n",
              "      <td>NaN</td>\n",
              "      <td>NaN</td>\n",
              "      <td>NaN</td>\n",
              "      <td>NaN</td>\n",
              "      <td>NaN</td>\n",
              "      <td>NaN</td>\n",
              "      <td>NaN</td>\n",
              "      <td>NaN</td>\n",
              "      <td>NaN</td>\n",
              "      <td>NaN</td>\n",
              "      <td>...</td>\n",
              "      <td>NaN</td>\n",
              "      <td>NaN</td>\n",
              "      <td>NaN</td>\n",
              "      <td>NaN</td>\n",
              "      <td>NaN</td>\n",
              "      <td>NaN</td>\n",
              "      <td>NaN</td>\n",
              "      <td>NaN</td>\n",
              "      <td>NaN</td>\n",
              "      <td>NaN</td>\n",
              "    </tr>\n",
              "    <tr>\n",
              "      <th>2100</th>\n",
              "      <td>NaN</td>\n",
              "      <td>NaN</td>\n",
              "      <td>0.001154</td>\n",
              "      <td>NaN</td>\n",
              "      <td>NaN</td>\n",
              "      <td>0.001143</td>\n",
              "      <td>NaN</td>\n",
              "      <td>NaN</td>\n",
              "      <td>NaN</td>\n",
              "      <td>NaN</td>\n",
              "      <td>...</td>\n",
              "      <td>NaN</td>\n",
              "      <td>NaN</td>\n",
              "      <td>NaN</td>\n",
              "      <td>NaN</td>\n",
              "      <td>NaN</td>\n",
              "      <td>NaN</td>\n",
              "      <td>NaN</td>\n",
              "      <td>NaN</td>\n",
              "      <td>NaN</td>\n",
              "      <td>NaN</td>\n",
              "    </tr>\n",
              "  </tbody>\n",
              "</table>\n",
              "<p>1892 rows × 17632 columns</p>\n",
              "</div>\n",
              "      <button class=\"colab-df-convert\" onclick=\"convertToInteractive('df-963f326b-16e6-4932-9599-eeb31372f708')\"\n",
              "              title=\"Convert this dataframe to an interactive table.\"\n",
              "              style=\"display:none;\">\n",
              "        \n",
              "  <svg xmlns=\"http://www.w3.org/2000/svg\" height=\"24px\"viewBox=\"0 0 24 24\"\n",
              "       width=\"24px\">\n",
              "    <path d=\"M0 0h24v24H0V0z\" fill=\"none\"/>\n",
              "    <path d=\"M18.56 5.44l.94 2.06.94-2.06 2.06-.94-2.06-.94-.94-2.06-.94 2.06-2.06.94zm-11 1L8.5 8.5l.94-2.06 2.06-.94-2.06-.94L8.5 2.5l-.94 2.06-2.06.94zm10 10l.94 2.06.94-2.06 2.06-.94-2.06-.94-.94-2.06-.94 2.06-2.06.94z\"/><path d=\"M17.41 7.96l-1.37-1.37c-.4-.4-.92-.59-1.43-.59-.52 0-1.04.2-1.43.59L10.3 9.45l-7.72 7.72c-.78.78-.78 2.05 0 2.83L4 21.41c.39.39.9.59 1.41.59.51 0 1.02-.2 1.41-.59l7.78-7.78 2.81-2.81c.8-.78.8-2.07 0-2.86zM5.41 20L4 18.59l7.72-7.72 1.47 1.35L5.41 20z\"/>\n",
              "  </svg>\n",
              "      </button>\n",
              "      \n",
              "  <style>\n",
              "    .colab-df-container {\n",
              "      display:flex;\n",
              "      flex-wrap:wrap;\n",
              "      gap: 12px;\n",
              "    }\n",
              "\n",
              "    .colab-df-convert {\n",
              "      background-color: #E8F0FE;\n",
              "      border: none;\n",
              "      border-radius: 50%;\n",
              "      cursor: pointer;\n",
              "      display: none;\n",
              "      fill: #1967D2;\n",
              "      height: 32px;\n",
              "      padding: 0 0 0 0;\n",
              "      width: 32px;\n",
              "    }\n",
              "\n",
              "    .colab-df-convert:hover {\n",
              "      background-color: #E2EBFA;\n",
              "      box-shadow: 0px 1px 2px rgba(60, 64, 67, 0.3), 0px 1px 3px 1px rgba(60, 64, 67, 0.15);\n",
              "      fill: #174EA6;\n",
              "    }\n",
              "\n",
              "    [theme=dark] .colab-df-convert {\n",
              "      background-color: #3B4455;\n",
              "      fill: #D2E3FC;\n",
              "    }\n",
              "\n",
              "    [theme=dark] .colab-df-convert:hover {\n",
              "      background-color: #434B5C;\n",
              "      box-shadow: 0px 1px 3px 1px rgba(0, 0, 0, 0.15);\n",
              "      filter: drop-shadow(0px 1px 2px rgba(0, 0, 0, 0.3));\n",
              "      fill: #FFFFFF;\n",
              "    }\n",
              "  </style>\n",
              "\n",
              "      <script>\n",
              "        const buttonEl =\n",
              "          document.querySelector('#df-963f326b-16e6-4932-9599-eeb31372f708 button.colab-df-convert');\n",
              "        buttonEl.style.display =\n",
              "          google.colab.kernel.accessAllowed ? 'block' : 'none';\n",
              "\n",
              "        async function convertToInteractive(key) {\n",
              "          const element = document.querySelector('#df-963f326b-16e6-4932-9599-eeb31372f708');\n",
              "          const dataTable =\n",
              "            await google.colab.kernel.invokeFunction('convertToInteractive',\n",
              "                                                     [key], {});\n",
              "          if (!dataTable) return;\n",
              "\n",
              "          const docLinkHtml = 'Like what you see? Visit the ' +\n",
              "            '<a target=\"_blank\" href=https://colab.research.google.com/notebooks/data_table.ipynb>data table notebook</a>'\n",
              "            + ' to learn more about interactive tables.';\n",
              "          element.innerHTML = '';\n",
              "          dataTable['output_type'] = 'display_data';\n",
              "          await google.colab.output.renderOutput(dataTable, element);\n",
              "          const docLink = document.createElement('div');\n",
              "          docLink.innerHTML = docLinkHtml;\n",
              "          element.appendChild(docLink);\n",
              "        }\n",
              "      </script>\n",
              "    </div>\n",
              "  </div>\n",
              "  "
            ],
            "text/plain": [
              "artistID  1      2         3      4      5         6      7      8      9      \\\n",
              "userID                                                                          \n",
              "2           NaN    NaN       NaN    NaN    NaN       NaN    NaN    NaN    NaN   \n",
              "3           NaN    NaN       NaN    NaN    NaN       NaN    NaN    NaN    NaN   \n",
              "4           NaN    NaN       NaN    NaN    NaN       NaN    NaN    NaN    NaN   \n",
              "5           NaN    NaN       NaN    NaN    NaN       NaN    NaN    NaN    NaN   \n",
              "6           NaN    NaN       NaN    NaN    NaN       NaN    NaN    NaN    NaN   \n",
              "...         ...    ...       ...    ...    ...       ...    ...    ...    ...   \n",
              "2095        NaN    NaN       NaN    NaN    NaN       NaN    NaN    NaN    NaN   \n",
              "2096        NaN    NaN       NaN    NaN    NaN       NaN    NaN    NaN    NaN   \n",
              "2097        NaN    NaN       NaN    NaN    NaN       NaN    NaN    NaN    NaN   \n",
              "2099        NaN    NaN       NaN    NaN    NaN       NaN    NaN    NaN    NaN   \n",
              "2100        NaN    NaN  0.001154    NaN    NaN  0.001143    NaN    NaN    NaN   \n",
              "\n",
              "artistID  10     ...  18736  18737  18738  18739  18740  18741  18742  18743  \\\n",
              "userID           ...                                                           \n",
              "2           NaN  ...    NaN    NaN    NaN    NaN    NaN    NaN    NaN    NaN   \n",
              "3           NaN  ...    NaN    NaN    NaN    NaN    NaN    NaN    NaN    NaN   \n",
              "4           NaN  ...    NaN    NaN    NaN    NaN    NaN    NaN    NaN    NaN   \n",
              "5           NaN  ...    NaN    NaN    NaN    NaN    NaN    NaN    NaN    NaN   \n",
              "6           NaN  ...    NaN    NaN    NaN    NaN    NaN    NaN    NaN    NaN   \n",
              "...         ...  ...    ...    ...    ...    ...    ...    ...    ...    ...   \n",
              "2095        NaN  ...    NaN    NaN    NaN    NaN    NaN    NaN    NaN    NaN   \n",
              "2096        NaN  ...    NaN    NaN    NaN    NaN    NaN    NaN    NaN    NaN   \n",
              "2097        NaN  ...    NaN    NaN    NaN    NaN    NaN    NaN    NaN    NaN   \n",
              "2099        NaN  ...    NaN    NaN    NaN    NaN    NaN    NaN    NaN    NaN   \n",
              "2100        NaN  ...    NaN    NaN    NaN    NaN    NaN    NaN    NaN    NaN   \n",
              "\n",
              "artistID  18744  18745  \n",
              "userID                  \n",
              "2           NaN    NaN  \n",
              "3           NaN    NaN  \n",
              "4           NaN    NaN  \n",
              "5           NaN    NaN  \n",
              "6           NaN    NaN  \n",
              "...         ...    ...  \n",
              "2095        NaN    NaN  \n",
              "2096        NaN    NaN  \n",
              "2097        NaN    NaN  \n",
              "2099        NaN    NaN  \n",
              "2100        NaN    NaN  \n",
              "\n",
              "[1892 rows x 17632 columns]"
            ]
          },
          "metadata": {},
          "output_type": "display_data"
        }
      ],
      "source": [
        "ratings_df"
      ]
    },
    {
      "cell_type": "code",
      "execution_count": null,
      "metadata": {
        "id": "bxPa6T-33lnX"
      },
      "outputs": [],
      "source": [
        "###############################################################################\n",
        "# TODO: Fill each NaN value with 0 and return a numpy array corresponding modified DataFrame\n",
        "###############################################################################\n",
        "\n",
        "\n",
        "ratings = # Your Code"
      ]
    },
    {
      "cell_type": "code",
      "execution_count": null,
      "metadata": {
        "id": "cMXg9PaC3lnX"
      },
      "outputs": [],
      "source": [
        "###############################################################################\n",
        "# TODO : Calculate how sparse your data is (in percent) and print it, meaning\n",
        "# what fraction of the above table is filled with observed values.\n",
        "###############################################################################\n",
        "\n",
        "## Your Code\n",
        "\n",
        "\n",
        "\n",
        "## END"
      ]
    },
    {
      "cell_type": "markdown",
      "metadata": {
        "id": "IyU1MDgH5YqD"
      },
      "source": [
        "<font color=3C99D size=5>\n",
        "Question Three: Eigenvalues and Eigenvectors"
      ]
    },
    {
      "cell_type": "markdown",
      "metadata": {
        "id": "jBgRfCp3qhYZ"
      },
      "source": [
        "## Libraries"
      ]
    },
    {
      "cell_type": "code",
      "execution_count": null,
      "metadata": {
        "id": "7yFESkUXqhYZ"
      },
      "outputs": [],
      "source": [
        "import numpy as np\n",
        "from IPython.display import display, HTML\n",
        "import matplotlib.pyplot as plt\n",
        "import timeit"
      ]
    },
    {
      "cell_type": "markdown",
      "metadata": {
        "id": "uiIQDlFNqhYZ"
      },
      "source": [
        "## Eigenvalues and Eigenvectors\n",
        "Eigenvalues and eigenvectors are fundamental concepts in linear algebra. For a given square matrix A, if there is a non-zero vector v such that Av = λv, then λ is called the eigenvalue and v is the corresponding eigenvector.\n",
        "\n",
        "## Functions for Eigenvalues and Eigenvectors\n",
        "We will define functions to compute eigenvalues and eigenvectors."
      ]
    },
    {
      "cell_type": "code",
      "execution_count": null,
      "metadata": {
        "id": "yRSoPFplqhYa"
      },
      "outputs": [],
      "source": [
        "def compute_eigenvalues(A):\n",
        "    \"\"\"\n",
        "    Computes and returns a list of eigenvalues of the input matrix A.\n",
        "\n",
        "    Args:\n",
        "    A (numpy.ndarray): The input matrix for which eigenvalues are computed.\n",
        "\n",
        "    Returns:\n",
        "    eigenvalues (list): A list containing the eigenvalues of matrix A.\n",
        "    \"\"\"\n",
        "    pass\n",
        "\n",
        "def compute_eigenvector(A, eigenvalue):\n",
        "    \"\"\"\n",
        "    Computes the eigenvector corresponding to the given eigenvalue of matrix A.\n",
        "\n",
        "    Args:\n",
        "    - A (numpy.ndarray): The square matrix.\n",
        "    - eigenvalue (float or complex): The eigenvalue for which the eigenvector is computed.\n",
        "\n",
        "    Returns:\n",
        "    - eigenvector (numpy.ndarray): The eigenvector corresponding to the input eigenvalue.\n",
        "    \"\"\"\n",
        "    pass\n",
        "\n",
        "def compute_eigenvectors(A):\n",
        "    \"\"\"\n",
        "    Computes the eigenvectors of the matrix A.\n",
        "\n",
        "    Args:\n",
        "    - A (numpy.ndarray): The square matrix for which eigenvectors are computed.\n",
        "\n",
        "    Returns:\n",
        "    - eigenvectors (list of numpy.ndarray): A list containing the eigenvectors of matrix A.\n",
        "    \"\"\"\n",
        "    pass\n"
      ]
    },
    {
      "cell_type": "markdown",
      "metadata": {
        "id": "Vxt6IO4HqhYa"
      },
      "source": [
        "## Visualization of Vectors\n",
        "A function to visualize vectors in 2D."
      ]
    },
    {
      "cell_type": "code",
      "execution_count": null,
      "metadata": {
        "id": "FDlmY5qJqhYa"
      },
      "outputs": [],
      "source": [
        "def plot_vectors(vectors, colors, labels, title):\n",
        "    plt.figure()\n",
        "    plt.axhline(0, color='gray', lw=0.5)\n",
        "    plt.axvline(0, color='gray', lw=0.5)\n",
        "    plt.grid()\n",
        "    for vector, color, label in zip(vectors, colors, labels):\n",
        "        plt.quiver(0, 0, vector[0], vector[1], angles='xy', scale_units='xy', scale=1, color=color, label=label)\n",
        "    plt.xlim(-1.5, 1.5)\n",
        "    plt.ylim(-1.5, 1.5)\n",
        "    plt.legend()\n",
        "    plt.title(title)\n",
        "    plt.show()\n"
      ]
    },
    {
      "cell_type": "markdown",
      "metadata": {
        "id": "fOM0C8p5qhYa"
      },
      "source": [
        "## Example with a Random Matrix\n",
        "We will generate a random 2D matrix with two independent eigenvectors and visualize them along with a random vector. Then we apply the transformation and plot them again.\n",
        "### no need to change the below cells"
      ]
    },
    {
      "cell_type": "code",
      "execution_count": null,
      "metadata": {
        "id": "Ab2N-l_zqhYa"
      },
      "outputs": [],
      "source": [
        "def generate_valid_matrix():\n",
        "    while True:\n",
        "        A = np.random.rand(2, 2)\n",
        "        eigenvalues = np.linalg.eigvals(A)\n",
        "        if (np.all(np.isreal(eigenvalues)) and\n",
        "            len(set(eigenvalues)) == 2 and\n",
        "            np.all(np.abs(eigenvalues) > 0.33) and\n",
        "            np.all(np.abs(eigenvalues) < 3)):\n",
        "            return A"
      ]
    },
    {
      "cell_type": "code",
      "execution_count": null,
      "metadata": {
        "id": "o2UUeU6mqhYa"
      },
      "outputs": [],
      "source": [
        "A = generate_valid_matrix()\n",
        "eigenvectors = compute_eigenvectors(A)\n",
        "\n",
        "random_vector = np.random.rand(2)\n",
        "\n",
        "plot_vectors([eigenvectors[:, 0], eigenvectors[:, 1], random_vector],\n",
        "             ['r', 'g', 'b'],\n",
        "             ['Eigenvector 1', 'Eigenvector 2', 'Random Vector'],\n",
        "             'Original Vectors')\n",
        "\n",
        "transformed_vectors = [A @ eigenvectors[:, 0], A @ eigenvectors[:, 1], A @ random_vector]\n",
        "\n",
        "plot_vectors(transformed_vectors,\n",
        "             ['r', 'g', 'b'],\n",
        "             ['Transformed Eigenvector 1', 'Transformed Eigenvector 2', 'Transformed Random Vector'],\n",
        "             'Transformed Vectors')"
      ]
    },
    {
      "cell_type": "markdown",
      "metadata": {
        "id": "TG6-ifiFqhYa"
      },
      "source": [
        "<h3 style='color: red;'>Question</h3>\n",
        "explain this behavior of these vectors in 2D plain\n",
        "\n",
        "<h3 style='color: yellow;'>Your answer</h3>\n",
        "\n",
        "# here\n",
        "\n",
        "## Diagonalization\n",
        "Diagonalization of a matrix involves finding a matrix P and a diagonal matrix D such that A = PDP^(-1). This is possible if A has n linearly independent eigenvectors."
      ]
    },
    {
      "cell_type": "code",
      "execution_count": null,
      "metadata": {
        "id": "wkzwPrtTqhYa"
      },
      "outputs": [],
      "source": [
        "def diagonalize(A):\n",
        "    \"\"\"\n",
        "    Diagonalizes the square matrix A if possible using eigenvectors.\n",
        "\n",
        "    Args:\n",
        "    - A (numpy.ndarray): The square matrix to be diagonalized.\n",
        "\n",
        "    Returns:\n",
        "    - diagonal_matrix (numpy.ndarray): The diagonal matrix D such that A = PDP^-1,\n",
        "      where D is diagonal and P is the matrix of eigenvectors.\n",
        "\n",
        "    Attempts to diagonalize the input square matrix A using eigenvectors.\n",
        "    Returns the diagonal matrix D. You are allowed to use numpy.linalg.inv(P) to compute P^-1.\n",
        "    \"\"\"\n",
        "\n",
        "    pass\n"
      ]
    },
    {
      "cell_type": "markdown",
      "metadata": {
        "id": "TmgNNkkBqhYa"
      },
      "source": [
        "to check your answer use the cells below"
      ]
    },
    {
      "cell_type": "code",
      "execution_count": null,
      "metadata": {
        "id": "DPDvMW0FqhYa"
      },
      "outputs": [],
      "source": [
        "def check_diagonalization(D, A):\n",
        "    is_diagonal = np.allclose(D, np.diag(np.diagonal(D)))\n",
        "    eigenvalues_A = np.linalg.eigvals(A)\n",
        "    diagonal_entries_D = np.diagonal(D)\n",
        "    has_correct_diagonal = np.allclose(np.sort(eigenvalues_A), np.sort(diagonal_entries_D))\n",
        "    has_all_eigenvalues = set(diagonal_entries_D) >= set(eigenvalues_A)\n",
        "\n",
        "    if is_diagonal and has_correct_diagonal and has_all_eigenvalues:\n",
        "        display(HTML('<font color=\"green\">All conditions satisfied:</font> Matrix D properly diagonalizes matrix A.'))\n",
        "    else:\n",
        "        if not is_diagonal:\n",
        "            display(HTML('<font color=\"red\">Error:</font> Matrix D is not diagonal.'))\n",
        "        if not has_correct_diagonal:\n",
        "            display(HTML('<font color=\"red\">Error:</font> Diagonal entries of D are not eigenvalues of A.'))\n",
        "        if not has_all_eigenvalues:\n",
        "            display(HTML('<font color=\"red\">Error:</font> D does not include all eigenvalues of A.'))\n"
      ]
    },
    {
      "cell_type": "code",
      "execution_count": null,
      "metadata": {
        "id": "tHdNUn1yqhYb"
      },
      "outputs": [],
      "source": [
        "A = generate_valid_matrix()\n",
        "\n",
        "D = ... #TODO\n",
        "\n",
        "check_diagonalization(D, A)"
      ]
    },
    {
      "cell_type": "markdown",
      "metadata": {
        "id": "UEakYcRJqhYb"
      },
      "source": [
        "## Properties of Diagonalized Matrix\n",
        "A diagonalized matrix has its eigenvalues on the diagonal. It is easier to compute powers of a diagonal matrix.\n",
        "\n",
        "\n",
        "<h3 style='color: red;'>Question</h3>\n",
        "How do you think we can speed up the process of calculating powers of a matrix by using diagonalization?\n",
        "\n",
        "<h3 style='color: yellow;'>Your answer:</h3>\n",
        "\n",
        "# here\n",
        "\n",
        "## Performance Comparison\n",
        "We will compare the time taken to compute matrix powers using regular methods versus diagonalization.\n",
        "\n",
        "First, we will compute the powers of a matrix using the regular method."
      ]
    },
    {
      "cell_type": "code",
      "execution_count": null,
      "metadata": {
        "id": "yBpOxsKrqhYb"
      },
      "outputs": [],
      "source": [
        "def compute_powers(A, n):\n",
        "    result = A\n",
        "    for _ in range(n-1):\n",
        "        result = result @ A\n",
        "    return result"
      ]
    },
    {
      "cell_type": "code",
      "execution_count": null,
      "metadata": {
        "id": "DDhDK9NLqhYb"
      },
      "outputs": [],
      "source": [
        "n_values = range(1, 200)"
      ]
    },
    {
      "cell_type": "code",
      "execution_count": null,
      "metadata": {
        "id": "C-HPiZacqhYb"
      },
      "outputs": [],
      "source": [
        "regular_times = []\n",
        "\n",
        "for n in n_values:\n",
        "    timer = timeit.Timer(lambda: compute_powers(A, n))\n",
        "    regular_times.append(timer.timeit(number=1))"
      ]
    },
    {
      "cell_type": "markdown",
      "metadata": {
        "id": "HGtCwIhTqhYb"
      },
      "source": [
        "Next, we will use your method for calculating power of a matrix."
      ]
    },
    {
      "cell_type": "code",
      "execution_count": null,
      "metadata": {
        "id": "Tbv5M5NIqhYb"
      },
      "outputs": [],
      "source": [
        "def compute_powers_your_way(A, n):\n",
        "    \"\"\"\n",
        "    Computes the power of a square matrix A to the nth degree.\n",
        "\n",
        "    Args:\n",
        "    - A (numpy.ndarray): The square matrix for which powers are computed.\n",
        "    - n (int): The exponent to which A is raised.\n",
        "\n",
        "    Returns:\n",
        "    - result (numpy.ndarray): The matrix A raised to the power of n.\n",
        "\n",
        "    \"\"\"\n",
        "\n",
        "    pass"
      ]
    },
    {
      "cell_type": "code",
      "execution_count": null,
      "metadata": {
        "id": "yMEsl4s-qhYb"
      },
      "outputs": [],
      "source": [
        "diagonal_times = []\n",
        "\n",
        "for n in n_values:\n",
        "    timer = timeit.Timer(lambda: compute_powers_your_way(A, n))\n",
        "    diagonal_times.append(timer.timeit(number=1))"
      ]
    },
    {
      "cell_type": "markdown",
      "metadata": {
        "id": "sqn7qgGMqhYc"
      },
      "source": [
        "Finally, we will plot the results to compare the performance of both methods."
      ]
    },
    {
      "cell_type": "code",
      "execution_count": null,
      "metadata": {
        "id": "PYJ1P7PXqhYc"
      },
      "outputs": [],
      "source": [
        "plt.plot(n_values, regular_times, label='Regular Method')\n",
        "plt.plot(n_values, diagonal_times, label='Diagonalization Method')\n",
        "plt.xlabel('Exponent (n)')\n",
        "plt.ylabel('Time (s)')\n",
        "plt.legend()\n",
        "plt.title('Performance Comparison')\n",
        "plt.show()"
      ]
    },
    {
      "cell_type": "markdown",
      "metadata": {
        "id": "EaTNpmnKqhYc"
      },
      "source": [
        "<font color=3C99D size=5>\n",
        "Question Four: KNN\n"
      ]
    },
    {
      "cell_type": "markdown",
      "metadata": {
        "id": "m_5CPTgxqhYc"
      },
      "source": [
        "A supervised machine learning approach called k-Nearest Neighbors (KNN) can be applied\n",
        "to classification or regression problems. The approach does not make any assumptions about the underlying distributions of the data since KNN is non-parametric. As opposed to a parametric methodology like linear regression, which calls for us to identify a function that captures the connection between the dependent and independent variables, our method does not need th is. KNN has the benefit of being simple to comprehend. A query point (or test point) is categorized using the k labeled training points that are closest to it when utilized for classification.\n",
        "\n",
        "This Iris dataset includes three iris species with 50 samples each as well as some properties\n",
        "about each flower. One flower species is linearly separable from the other two, but the other\n",
        "two are not linearly separable from each other."
      ]
    },
    {
      "cell_type": "markdown",
      "metadata": {
        "id": "AmUs-FuTqhYc"
      },
      "source": [
        "load the Iris dataset from scikit-learn and convert it into a pandas DataFrame, including the target variable, and display the first few rows."
      ]
    },
    {
      "cell_type": "code",
      "execution_count": null,
      "metadata": {
        "id": "F5LMs7FmqhYc"
      },
      "outputs": [],
      "source": [
        "#code here"
      ]
    },
    {
      "cell_type": "markdown",
      "metadata": {
        "id": "3Be_lAoBqhYc"
      },
      "source": [
        "Is the the dataset balanced or not?\n",
        "\n",
        "Answer:"
      ]
    },
    {
      "cell_type": "code",
      "execution_count": null,
      "metadata": {
        "id": "tVJx93DnqhYc"
      },
      "outputs": [],
      "source": [
        "df.groupby('target').size().plot(kind='barh')"
      ]
    },
    {
      "cell_type": "markdown",
      "metadata": {
        "id": "ipw820BDqhYc"
      },
      "source": [
        "Now we need a distance function. In KNN we find the distance between the test data with\n",
        "all our dataset. We can use eucledean or manhattan distance. Here a generalized function is\n",
        "used, with using a parameter p, when p = 1, it’s manhattan distance and when p = 2, it’s\n",
        "eulclidean distance.\n",
        "\n",
        "\n",
        "Write function that calculates the p-norm distance between two lists, a and b, with a default value of p=1:"
      ]
    },
    {
      "cell_type": "code",
      "execution_count": null,
      "metadata": {
        "id": "48bpccwbqhYc"
      },
      "outputs": [],
      "source": [
        "def dis(a, b, p=1):\n",
        "        #scode here\n",
        "    return d"
      ]
    },
    {
      "cell_type": "markdown",
      "metadata": {
        "id": "gh3_Ksg2qhYc"
      },
      "source": [
        "Now one test point will be executed before splitting data for train and test, it’s to check all\n",
        "implementation, that have been so far. Here the test point that used is test_pt = [4.8, 2.7, 2.5,\n",
        "0.7]. Here after taking the test point the code should measure distance from this data point with\n",
        "all those 150 data points. Then it’ll convert that list to a python DataFrame for further\n",
        "convenience"
      ]
    },
    {
      "cell_type": "code",
      "execution_count": null,
      "metadata": {
        "id": "JUzo8xwiqhYd"
      },
      "outputs": [],
      "source": [
        "test_pt = [4.8, 2.7, 2.5, 0.7]\n",
        "# code here\n",
        "dists.head()"
      ]
    },
    {
      "cell_type": "markdown",
      "metadata": {
        "id": "Ci18ppHYqhYd"
      },
      "source": [
        "Distance DataFrame is sorted to measure which class the nearest"
      ]
    },
    {
      "cell_type": "code",
      "execution_count": null,
      "metadata": {
        "id": "CSyyTzdgqhYd"
      },
      "outputs": [],
      "source": [
        "def knn_sort(k,dists):\n",
        "    return dists.sort_values(by = 'dist')[:k]"
      ]
    },
    {
      "cell_type": "markdown",
      "metadata": {
        "id": "0_y_UayCqhYd"
      },
      "source": [
        "Here k is 5. And taking top k distance the majority of\n",
        "the class will be measure.\n",
        "\n",
        "Find the most common class label among the k nearest neighbors after sorting their distances and counting occurrences.\n"
      ]
    },
    {
      "cell_type": "code",
      "execution_count": null,
      "metadata": {
        "id": "DM3MIzNuqhYd"
      },
      "outputs": [],
      "source": [
        "# code here\n",
        "print(max(count_set))"
      ]
    },
    {
      "cell_type": "markdown",
      "metadata": {
        "id": "QT7SnKUyqhYd"
      },
      "source": [
        "Now determine the accurate prediction for that data point and now all the data\n",
        "can be splitted for training and testing.\n",
        "- 75% train, 25% test"
      ]
    },
    {
      "cell_type": "code",
      "execution_count": null,
      "metadata": {
        "id": "EeFGreUaqhYd"
      },
      "outputs": [],
      "source": [
        "# code here"
      ]
    },
    {
      "cell_type": "markdown",
      "metadata": {
        "id": "ujgu05pCqhYd"
      },
      "source": [
        "Implements the K-Nearest Neighbors (KNN) algorithm using a custom distance function, with missing parts that need to be filled in"
      ]
    },
    {
      "cell_type": "code",
      "execution_count": null,
      "metadata": {
        "id": "zJWhVyNcqhYd"
      },
      "outputs": [],
      "source": [
        "def KNN(X_train, X_test, y_train, y_test, k, p):\n",
        "    y_predict = []\n",
        "    for test_pt in X_test:\n",
        "        distances = []\n",
        "        for i in X_train:\n",
        "            a = ...  # Missing: Calculate the distance between test_pt and i\n",
        "            distances.append(a)\n",
        "        dists = pd.DataFrame(data=distances, index=y_train.index, columns=['dist'])\n",
        "        sorted_dists = ...  # Missing: Sort the distances and select the k nearest\n",
        "\n",
        "        count_set = {}\n",
        "        for i in sorted_dists.index:\n",
        "            if y_train[i] not in count_set:\n",
        "                count_set[y_train[i]] = 1\n",
        "            else:\n",
        "                count_set[y_train[i]] += 1\n",
        "\n",
        "        y_predict.append(...)  # Missing: Determine the most common class among the nearest neighbors\n",
        "\n",
        "    accr = ...  # Missing: Calculate the accuracy of predictions\n",
        "    return accr\n"
      ]
    },
    {
      "cell_type": "code",
      "execution_count": null,
      "metadata": {
        "id": "EupdpvDWqhYd"
      },
      "outputs": [],
      "source": [
        "KNN(X_train, X_test, y_train, y_test, 5,1)"
      ]
    },
    {
      "cell_type": "markdown",
      "metadata": {
        "id": "TZQFFg5dqhYd"
      },
      "source": [
        "See how the model accuracy varies with respect to k value. A\n",
        "simple loop should be used to call KNN few times:"
      ]
    },
    {
      "cell_type": "code",
      "execution_count": null,
      "metadata": {
        "id": "u3y_G9CYqhYd"
      },
      "outputs": [],
      "source": [
        "accuracies = []\n",
        "for i in range(1,100):\n",
        "    accuracies.append(KNN(X_train, X_test, y_train, y_test, i,1))\n",
        "\n",
        "print(max(accuracies))\n",
        "\n",
        "fig, ax = plt.subplots(figsize=(8,6))\n",
        "ax.plot(range(1,100), accuracies)\n",
        "ax.set_xlabel('# of Nearest Neighbors (k)')\n",
        "ax.set_ylabel('Accuracy (%)')"
      ]
    },
    {
      "cell_type": "markdown",
      "metadata": {
        "id": "8fOwQsFCqhYd"
      },
      "source": [
        "What is the best K value?\n",
        "\n",
        "Answer:"
      ]
    },
    {
      "cell_type": "markdown",
      "metadata": {
        "id": "GHHXStTE3lnZ"
      },
      "source": [
        "<font color=3C99D size=5>\n",
        "Question Five: Estimators of variance\n",
        "\n",
        "In this question, we examine two common estimators of variance. The first estimator is related to the Maximum Likelihood Estimation (MLE):\n",
        "\n",
        "$$\n",
        "\\hat{\\sigma}^2_{\\text{MLE}} = \\frac{1}{n} \\sum_{i=1}^{n} (x_i - \\bar{x})^2\n",
        "$$\n",
        "\n",
        "The next estimator includes Bessel's correction:\n",
        "\n",
        "$$\n",
        "\\hat{\\sigma}^2_{\\text{Bessel}} = \\frac{1}{n - 1} \\sum_{i=1}^{n} (x_i - \\bar{x})^2\n",
        "$$\n",
        "\n",
        "Generate samples from a Normal distribution \\(\\mathcal{N}(2, 2)\\) with sample sizes ranging from 2 to 1000, and for each, calculate the bias of both estimators.\n"
      ]
    },
    {
      "cell_type": "code",
      "execution_count": null,
      "metadata": {
        "id": "-OaZeMB33lna"
      },
      "outputs": [],
      "source": [
        "# TODO"
      ]
    },
    {
      "cell_type": "markdown",
      "metadata": {
        "id": "d4AsNAjn3lna"
      },
      "source": [
        "Now, plot the bias values for each of the estimators.\n",
        "\n",
        "Based on these plots, determine whether the two estimators are consistent."
      ]
    },
    {
      "cell_type": "code",
      "execution_count": null,
      "metadata": {
        "id": "dYaB0iZU3lna"
      },
      "outputs": [],
      "source": [
        "# TODO"
      ]
    },
    {
      "cell_type": "markdown",
      "metadata": {
        "id": "zinVa6cT3lna"
      },
      "source": [
        "**Answer**:"
      ]
    },
    {
      "cell_type": "markdown",
      "metadata": {
        "id": "gFGDFhYN3lna"
      },
      "source": [
        "This time, generate 100,000 samples, each of size 10, from the same Normal distribution $\\mathcal{N}(2, 2)$, and calculate the mean bias for each estimator.\n"
      ]
    },
    {
      "cell_type": "code",
      "execution_count": null,
      "metadata": {
        "id": "x6NvERbU3lna"
      },
      "outputs": [],
      "source": [
        "#code here"
      ]
    },
    {
      "cell_type": "markdown",
      "metadata": {
        "id": "ts2pnnx33lna"
      },
      "source": [
        "Based on these values, determine whether the two estimators are unbiased. explain\n",
        "\n",
        "**Answer:**"
      ]
    },
    {
      "cell_type": "markdown",
      "metadata": {
        "id": "M4aAKsH43lnb"
      },
      "source": [
        "\n",
        "<font color=3C99D size=5>\n",
        "Question Six*: Latent Semantic Analysis (LSA) with Singular Value Decomposition (SVD)\n",
        "\n",
        "\n",
        "\n"
      ]
    },
    {
      "cell_type": "markdown",
      "metadata": {
        "id": "NJ6-_xkb6zM9"
      },
      "source": [
        "## Introduction\n",
        "\n",
        "Latent Semantic Analysis (LSA) is a powerful technique in natural language processing and information retrieval that helps to uncover the underlying structure in a collection of texts. By using Singular Value Decomposition (SVD), LSA transforms high-dimensional textual data into a lower-dimensional space, capturing the most important patterns in the data.\n",
        "\n",
        "### Objectives\n",
        "\n",
        "In this homework, we will explore how LSA can be used to obtain vectors for words and documents, which can then be used for various tasks such as information retrieval, clustering, and semantic analysis. We will achieve this through the following steps:\n",
        "\n",
        "1. **Preparing the Data**: We will start by gathering and preprocessing the text data to construct a term-document matrix.\n",
        "2. **Singular Value Decomposition (SVD)**: We will apply SVD to the term-document matrix to obtain the latent semantic structure.\n",
        "3. **Visualization**: Finally, we will visualize the word and document vectors to understand the relationships between them."
      ]
    },
    {
      "cell_type": "markdown",
      "metadata": {
        "id": "a-E0lxab613y"
      },
      "source": [
        "## Libraries"
      ]
    },
    {
      "cell_type": "code",
      "execution_count": null,
      "metadata": {
        "id": "6KTkDSco3lnb"
      },
      "outputs": [],
      "source": [
        "import pandas as pd\n",
        "import numpy as np\n",
        "import re\n",
        "\n",
        "from nltk.corpus import stopwords\n",
        "from nltk.stem import WordNetLemmatizer\n",
        "\n",
        "from scipy.linalg import svd\n",
        "import matplotlib.pyplot as plt"
      ]
    },
    {
      "cell_type": "markdown",
      "metadata": {
        "id": "AdcbsrKP3lnb"
      },
      "source": [
        "## Data Preparation\n",
        "\n",
        "In this section, we will prepare our dataset for Latent Semantic Analysis (LSA). This involves loading the dataset, preprocessing the texts, and creating the term-document matrix.\n",
        "\n",
        "### 1. Loading the Dataset\n",
        "\n",
        "First, we will load a dataset of news articles along with their labels indicating whether they are relieble or not. This dataset will serve as the foundation for our analysis.\n",
        "\n",
        "### 2. Preprocessing the Texts\n",
        "\n",
        "To prepare the texts for analysis, we need to perform several preprocessing steps:\n",
        "\n",
        "- **Tokenization**: Breaking down the text into individual words or tokens.\n",
        "- **Removing Stopwords**: Filtering out common words that do not carry significant meaning (e.g., \"and\", \"the\", \"is\").\n",
        "- **Lemmatization**: Reducing words to their base or root form (e.g., \"running\" to \"run\").\n",
        "\n",
        "These steps will help us create a clean and meaningful representation of the text data.\n",
        "\n",
        "### 3. Creating the Term-Document Matrix\n",
        "\n",
        "Once the texts are preprocessed, we will construct a term-document matrix. This matrix will have terms (words) as rows and documents (texts) as columns. Each entry in the matrix will represent the frequency of a term in a document. This matrix will be the input for applying Singular Value Decomposition (SVD) in the next section.\n"
      ]
    },
    {
      "cell_type": "markdown",
      "metadata": {
        "id": "5pSHrCik3lnb"
      },
      "source": [
        "### Loading the Dataset"
      ]
    },
    {
      "cell_type": "code",
      "execution_count": null,
      "metadata": {
        "id": "lM5pdEd93lnb"
      },
      "outputs": [],
      "source": [
        "# TODO: Load the dataset\n",
        "\n",
        "# TODO: Show the first 5 rows of the dataset\n"
      ]
    },
    {
      "cell_type": "markdown",
      "metadata": {
        "id": "BXPKouti3lnb"
      },
      "source": [
        "### Preprocessing the Texts"
      ]
    },
    {
      "cell_type": "code",
      "execution_count": null,
      "metadata": {
        "id": "_svf1kA33lnb"
      },
      "outputs": [],
      "source": [
        "def preprocess_text(text):\n",
        "    \"\"\"\n",
        "    Preprocess the input text by performing tokenization, stop words removal, and lemmatization.\n",
        "\n",
        "    Args:\n",
        "        text (str): The input text to be preprocessed.\n",
        "\n",
        "    Returns:\n",
        "        str: The preprocessed text.\n",
        "    \"\"\"\n",
        "    # Initialize the WordNetLemmatizer\n",
        "    lemmatizer = WordNetLemmatizer()\n",
        "    # Convert to lowercase\n",
        "    text = text.lower()\n",
        "    # Remove special characters and numbers\n",
        "    text = re.sub(r'[^a-zA-Z\\s]', '', text)\n",
        "    # Tokenize the text\n",
        "    tokens = text.split()\n",
        "    # Remove stop words and lemmatize the tokens\n",
        "    stop_words = stopwords.words('english')\n",
        "    tokens = [lemmatizer.lemmatize(token) for token in tokens if token not in stop_words]\n",
        "    # Join the tokens back into a single string\n",
        "    preprocessed_text = ' '.join(tokens)\n",
        "    return preprocessed_text\n",
        "\n",
        "\n",
        "# TODO: Apply the preprocess_text function to the 'text' column of the DataFrame\n",
        "\n",
        "# TODO: Show the first 5 rows of the dataset\n"
      ]
    },
    {
      "cell_type": "markdown",
      "metadata": {
        "id": "LSeP7I--3lnc"
      },
      "source": [
        "### Creating the Term-Document Matrix"
      ]
    },
    {
      "cell_type": "code",
      "execution_count": null,
      "metadata": {
        "id": "sIUayJQR3lnc"
      },
      "outputs": [],
      "source": [
        "# TODO: Create the term-document matrix"
      ]
    },
    {
      "cell_type": "markdown",
      "metadata": {
        "id": "IervEFpe3lnc"
      },
      "source": [
        "## Applying Singular Value Decomposition (SVD)\n",
        "\n",
        "In this section, we will apply Singular Value Decomposition (SVD) to the term-document matrix to extract the latent semantic structure of the data. The right singular vectors obtained from SVD will be used as the embeddings for our documents.\n",
        "\n",
        "### Singular Value Decomposition (SVD)\n",
        "\n",
        "Singular Value Decomposition is a matrix factorization technique that decomposes a matrix $A$ into three matrices:\n",
        "\n",
        "$$\n",
        "A = U \\Sigma V^T\n",
        "$$\n",
        "\n",
        "where:\n",
        "- $U$ is an orthogonal matrix containing the left singular vectors.\n",
        "- $\\Sigma$ is a diagonal matrix containing the singular values.\n",
        "- $V^T$ is the transpose of an orthogonal matrix containing the right singular vectors.\n",
        "\n",
        "In the context of text data, the term-document matrix $A$ can be decomposed using SVD to reveal the underlying semantic structure.\n",
        "\n",
        "### Extracting Document Embeddings\n",
        "\n",
        "The right singular vectors obtained from the SVD are particularly useful for our analysis. These vectors, which are the columns of the matrix $V$, represent the documents in a reduced-dimensional semantic space. These document embeddings capture the essential features of the texts and can be used for various downstream tasks such as clustering, classification, and visualization.\n",
        "\n",
        "By applying SVD to the term-document matrix, we will obtain a set of document embeddings that can be visualized and analyzed to gain insights into the relationships between different documents.\n"
      ]
    },
    {
      "cell_type": "code",
      "execution_count": null,
      "metadata": {
        "id": "cXN2miC53lnc"
      },
      "outputs": [],
      "source": [
        "# TODO: Perform Singular Value Decomposition (SVD) on the term-document matrix (this might take a few minutes)"
      ]
    },
    {
      "cell_type": "markdown",
      "metadata": {
        "id": "Mn0cidq03lnc"
      },
      "source": [
        "## Visualization\n",
        "\n",
        "In this section, we will visualize the document embeddings obtained from Singular Value Decomposition (SVD). By plotting the first two singular vectors, we can create a 2D scatter plot of the documents. Each document will be colored based on its respective label (reliable or unreliable) to help us visually analyze the separation between different classes.\n",
        "\n",
        "### 2D Embeddings\n",
        "\n",
        "To visualize the document embeddings, we will use the first two right singular vectors obtained from SVD. These vectors correspond to the two largest singular values and capture the most significant features of the data.\n",
        "\n",
        "### Scatter Plot\n",
        "\n",
        "We will create a scatter plot where:\n",
        "- Each point represents a document.\n",
        "- The x-coordinate of a point corresponds to its first singular vector value.\n",
        "- The y-coordinate of a point corresponds to its second singular vector value.\n",
        "- The color of each point indicates whether the document is labeled as fake news or true news.\n",
        "\n",
        "This visualization will allow us to see how well the SVD has separated the different classes of documents in a 2D space. It can also provide insights into the structure and distribution of the documents based on their latent semantic features.\n"
      ]
    },
    {
      "cell_type": "code",
      "execution_count": null,
      "metadata": {
        "id": "PGpzzj_F3lnc"
      },
      "outputs": [],
      "source": [
        "# TODO: Plot the terms in the 2D space\n"
      ]
    },
    {
      "cell_type": "markdown",
      "metadata": {
        "id": "HEPNYi-e3lnc"
      },
      "source": [
        "## Conclusion\n",
        "\n",
        "In this homework, we explored the use of Latent Semantic Analysis (LSA) with Singular Value Decomposition (SVD) to obtain word and document vectors from a dataset of texts labeled as fake news or true news. We went through the steps of loading and preprocessing the data, applying SVD, and visualizing the document embeddings in a 2D space.\n",
        "\n",
        "### Answer these questions:\n",
        "\n",
        "1. **Why do you think reliable and unreliable news separated without using sample labels?**\n",
        "\n",
        "2. **What do the left singular vectors mean?**\n",
        "\n",
        "\n"
      ]
    }
  ],
  "metadata": {
    "colab": {
      "provenance": []
    },
    "kernelspec": {
      "display_name": "Python 3",
      "language": "python",
      "name": "python3"
    },
    "language_info": {
      "codemirror_mode": {
        "name": "ipython",
        "version": 3
      },
      "file_extension": ".py",
      "mimetype": "text/x-python",
      "name": "python",
      "nbconvert_exporter": "python",
      "pygments_lexer": "ipython3",
      "version": "3.12.0"
    }
  },
  "nbformat": 4,
  "nbformat_minor": 0
}
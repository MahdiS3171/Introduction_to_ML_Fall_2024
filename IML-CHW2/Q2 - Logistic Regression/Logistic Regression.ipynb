{
  "cells": [
    {
      "cell_type": "markdown",
      "metadata": {
        "id": "ChC3RF8meAlK"
      },
      "source": [
        "<h1 align=\"center\">An Introduction to Machine Learning - 25737</h1>\n",
        "<h4 align=\"center\">Dr. Yassaee</h4>\n",
        "<h4 align=\"center\">Sharif University of Technology, Autumn 2024</h4>\n",
        "\n",
        "**Student Name**: Seyyed Amirmahdi Sadrzadeh\n",
        "\n",
        "**Student ID**: 401102015"
      ]
    },
    {
      "cell_type": "code",
      "source": [
        "from google.colab import drive\n",
        "drive.mount('/content/drive')"
      ],
      "metadata": {
        "colab": {
          "base_uri": "https://localhost:8080/"
        },
        "id": "059QhwVTGdku",
        "outputId": "35d43c74-69f2-4f00-fde3-b3e11efaf571"
      },
      "execution_count": 1,
      "outputs": [
        {
          "output_type": "stream",
          "name": "stdout",
          "text": [
            "Mounted at /content/drive\n"
          ]
        }
      ]
    },
    {
      "cell_type": "markdown",
      "metadata": {
        "id": "IraiR0SbeDi_"
      },
      "source": [
        "# Logistic Regression"
      ]
    },
    {
      "cell_type": "markdown",
      "source": [
        "Logistic regression is a **supervised machine learning algorithm** primarily used for **binary classification tasks**. It predicts the probability of an outcome belonging to one of two classes (0 or 1) using a logistic function, specifically the **sigmoid function**, which maps any real-valued number into the range [0, 1].\n",
        "\n",
        "### Key Features:\n",
        "- **Binary Outcomes**: Logistic regression is suitable when the dependent variable is binary, such as yes/no or pass/fail.\n",
        "- **Maximum Likelihood Estimation (MLE)**: Coefficients are estimated using MLE to maximize the likelihood of the observed data.\n",
        "- **Interpretation**: The output can be interpreted as odds ratios, indicating how changes in independent variables affect the likelihood of an event.\n",
        "\n",
        "### Types:\n",
        "1. **Binary Logistic Regression**: Two possible outcomes.\n",
        "2. **Multinomial Logistic Regression**: More than two categories.\n",
        "3. **Ordinal Logistic Regression**: Ordered categories.\n",
        "\n",
        "Logistic regression is widely used in fields like finance, healthcare, and social sciences for tasks such as risk assessment and disease diagnosis."
      ],
      "metadata": {
        "id": "lwFjioTPW4G6"
      }
    },
    {
      "cell_type": "markdown",
      "metadata": {
        "id": "nRQjwWC3eDnc"
      },
      "source": [
        "**Task:** Implement your own Logistic Regression model, and test it on the given dataset of Logistic_question.csv!"
      ]
    },
    {
      "cell_type": "code",
      "execution_count": 2,
      "metadata": {
        "id": "VwIHOWAHVA4c"
      },
      "outputs": [],
      "source": [
        "# import necessary libraries\n",
        "import numpy as np\n",
        "\n",
        "class MyLogisticRegression:\n",
        "    # TODO: Initialize the class with necessary attributes, such as learning rate, number of iterations, and parameters (weights and bias).\n",
        "    def __init__(self, learning_rate=0.01, num_iterations=1000):\n",
        "        self.learning_rate = learning_rate\n",
        "        self.num_iterations = num_iterations\n",
        "        self.weights = None\n",
        "        self.bias = None\n",
        "\n",
        "    # TODO: Implement a loss function for logistic regression, using binary cross-entropy as the loss metric.\n",
        "    def loss(self, y_true, y_pred):\n",
        "        m = len(y_true)\n",
        "        return -1/m * np.sum(y_true * np.log(y_pred) + (1 - y_true) * np.log(1 - y_pred))\n",
        "\n",
        "    # TODO: Implement the fit method to train the model. Use gradient descent to update the weights and bias based on the training data.\n",
        "    # Ensure that the code is optimized to run on GPU if available (e.g., by using torch tensors on GPU).\n",
        "    def fit(self, X, y):\n",
        "        m, n = X.shape\n",
        "        self.weights = np.zeros(n)\n",
        "        self.bias = 0\n",
        "\n",
        "        for i in range(self.num_iterations):\n",
        "            linear_model = np.dot(X, self.weights) + self.bias\n",
        "            # prdicting using sigmoid\n",
        "            y_pred = 1 / (1 + np.exp(-linear_model))\n",
        "\n",
        "            dw = (1/m) * np.dot(X.T, (y_pred - y))\n",
        "            db = (1/m) * np.sum(y_pred - y)\n",
        "\n",
        "            self.weights -= self.learning_rate * dw\n",
        "            self.bias -= self.learning_rate * db\n",
        "\n",
        "    # TODO: Implement the predict function that uses the learned weights and bias to output predictions on new data.\n",
        "    # Apply a sigmoid function and set a threshold (e.g., 0.5) to determine the binary outcome.\n",
        "    def predict(self, X):\n",
        "        linear_model = np.dot(X, self.weights) + self.bias\n",
        "        y_pred = 1 / (1 + np.exp(-linear_model))\n",
        "        return (y_pred >= 0.5).astype(int)"
      ]
    },
    {
      "cell_type": "markdown",
      "metadata": {
        "id": "S-i-oubUlZ6e"
      },
      "source": [
        "**Task:** Test your model on the given dataset. You must split your data into train and test, with a 0.2 split, then normalize your data using X_train data. Finally, report 4 different evaluation metrics of the model on the test set. (You might want to first make the Target column binary!)"
      ]
    },
    {
      "cell_type": "code",
      "execution_count": 3,
      "metadata": {
        "id": "0KXzIy_2u-pG",
        "colab": {
          "base_uri": "https://localhost:8080/"
        },
        "outputId": "6499f2f2-bedf-4e0c-b7d8-84c1ff9b3d1b"
      },
      "outputs": [
        {
          "output_type": "stream",
          "name": "stdout",
          "text": [
            "Model Evaluation Metrics:\n",
            "Accuracy: 0.88\n",
            "Precision: 0.88\n",
            "Recall: 1.00\n",
            "F1-Score: 0.93\n"
          ]
        }
      ],
      "source": [
        "\n",
        "# TODO: Load the dataset from Logistic_question.csv.\n",
        "# Make sure to import necessary libraries for loading and handling CSV data (e.g., pandas, numpy).\n",
        "import pandas as pd\n",
        "import numpy as np\n",
        "from sklearn.model_selection import train_test_split\n",
        "from sklearn.preprocessing import StandardScaler\n",
        "from sklearn.metrics import accuracy_score, precision_score, recall_score, f1_score\n",
        "\n",
        "data = pd.read_csv(\"/content/drive/MyDrive/Colab Notebooks/Logistic_question.csv\")\n",
        "# TODO: Make the 'Target' column binary if necessary.\n",
        "# For example, you could map specific values to 0 and 1 based on conditions.\n",
        "data['Target'] = data['Target'].apply(lambda x: 1 if x >= 0.5 else 0)\n",
        "# TODO: Split the data into features (X) and target (y).\n",
        "# Then, split the data into training and testing sets with an 80-20 split.\n",
        "X = data.drop(columns=\"Target\").values\n",
        "y = data[\"Target\"].values\n",
        "X_train, X_test, y_train, y_test = train_test_split(X, y, test_size=0.2, random_state=42)\n",
        "# TODO: Normalize the training data (X_train) and use the same scaling parameters to normalize X_test.\n",
        "scaler = StandardScaler()\n",
        "X_train = scaler.fit_transform(X_train)\n",
        "X_test = scaler.transform(X_test)\n",
        "# TODO: Create an instance of MyLogisticRegression.\n",
        "# Fit the model on the training set (X_train, y_train).\n",
        "model = MyLogisticRegression(learning_rate=0.01, num_iterations=1000)\n",
        "model.fit(X_train, y_train)\n",
        "# TODO: Predict the target values on the test set (X_test).\n",
        "y_pred = model.predict(X_test)\n",
        "# TODO: Calculate and print 4 different evaluation metrics on the test set predictions.\n",
        "# Suggested metrics: accuracy, precision, recall, and F1-score.\n",
        "# You may want to import these metrics from sklearn (e.g., accuracy_score, precision_score, recall_score, f1_score).\n",
        "accuracy = accuracy_score(y_test, y_pred)\n",
        "precision = precision_score(y_test, y_pred)\n",
        "recall = recall_score(y_test, y_pred)\n",
        "f1 = f1_score(y_test, y_pred)\n",
        "\n",
        "print(f\"Model Evaluation Metrics:\")\n",
        "print(f\"Accuracy: {accuracy:.2f}\")\n",
        "print(f\"Precision: {precision:.2f}\")\n",
        "print(f\"Recall: {recall:.2f}\")\n",
        "print(f\"F1-Score: {f1:.2f}\")"
      ]
    },
    {
      "cell_type": "markdown",
      "metadata": {
        "id": "Ji0RXNGKv1pa"
      },
      "source": [
        "**Question:** What are each of your used evaluation metrics? And for each one, mention situations in which they convey more data on the model performance in specific tasks."
      ]
    },
    {
      "cell_type": "markdown",
      "metadata": {
        "id": "ldveD35twRRZ"
      },
      "source": [
        "**Your answer:**\n",
        "\n",
        "**Accuracy:**\n",
        "\n",
        "Accuracy measures the ratio of correctly predicted samples (both true positives and true negatives) to the total number of samples.\n",
        "\n",
        "$Accuracy=\n",
        "\\frac{Total \\ Samples \\ True \\ Positives+True \\ Negatives}{Total \\ Samples}$\n",
        "\n",
        "Best suited for datasets with balanced classes (e.g., equal proportions of 0s and 1s). Also provides a general measure of how often the model is correct.\n",
        "\n",
        "This is good for evaluating tasks like spam detection when spam and non-spam emails are equally distributed.\n",
        "\n",
        "**Precision:**\n",
        "\n",
        "Precision measures the ratio of true positives to all predicted positives.\n",
        "\n",
        "$Precision = \\frac{True \\ Positives+False \\ Positives}{True \\ Positives}$\n",
        "\n",
        "Precision is crucial when false positives are costly or undesirable.\n",
        "\n",
        "This measure has medical usage. In diseases like cancer detection, false positives can lead to unnecessary stress, follow-up tests, or treatments.\n",
        "\n",
        "Also, It is good for spam detection. Overclassifying legitimate emails as spam (false positives) can frustrate users.\n",
        "\n",
        "**Recall:**\n",
        "\n",
        "Recall measures the ratio of true positives to all actual positives.\n",
        "\n",
        "$Recall= \\frac{True \\ Positives+False \\ Negatives}{True \\ Positives}$\n",
        "\n",
        "Recall is crucial when false negatives (failing to identify a positive case) are more critical than false positives.\n",
        "\n",
        "We use recall mostly for medical screening. Missing a disease diagnosis (false negatives) can be life-threatening. Also we use it for fraud detection in cases where missing fraudulent transactions may result in financial losses.\n",
        "\n",
        "**F1-Score:**\n",
        "\n",
        "The F1-score is the harmonic mean of precision and recall, providing a balance between the two metrics.\n",
        "\n",
        "$F1-Score=2⋅ \\frac{Precision+Recall}{Precision⋅Recall}$\n",
        "\n",
        "It is particularly useful when the dataset is imbalanced, as it considers both false positives and false negatives.\n",
        "\n",
        "It is useful in search engines, by balancing between retrieving as many relevant results as possible (high recall) and minimizing irrelevant results (high precision).\n",
        "\n",
        "Also useful for fraud detection."
      ]
    },
    {
      "cell_type": "markdown",
      "metadata": {
        "id": "1ZCeRHZSw-mh"
      },
      "source": [
        "**Task:** Now test the built-in function of Python for Logistic Regression, and report all the same metrics used before."
      ]
    },
    {
      "cell_type": "code",
      "execution_count": 4,
      "metadata": {
        "id": "Vb5lRSQXDLR3",
        "colab": {
          "base_uri": "https://localhost:8080/"
        },
        "outputId": "ed78f7f0-42e7-4bb1-93e2-40510d204c45"
      },
      "outputs": [
        {
          "output_type": "stream",
          "name": "stdout",
          "text": [
            "Scikit-learn Logistic Regression Metrics:\n",
            "Accuracy: 0.94\n",
            "Precision: 0.93\n",
            "Recall: 1.00\n",
            "F1-Score: 0.97\n"
          ]
        }
      ],
      "source": [
        "from sklearn.linear_model import LogisticRegression\n",
        "from sklearn.metrics import accuracy_score, precision_score, recall_score, f1_score\n",
        "# TODO: Create an instance of LogisticRegression from scikit-learn.\n",
        "sklearn_model = LogisticRegression()\n",
        "# TODO: Fit the built-in Logistic Regression model on the training set (X_train, y_train).\n",
        "sklearn_model.fit(X_train, y_train)\n",
        "# TODO: Use the trained model to predict on the test set (X_test).\n",
        "y_pred_sklearn = sklearn_model.predict(X_test)\n",
        "# TODO: Calculate and print the same evaluation metrics as before (e.g., accuracy, precision, recall, F1-score)\n",
        "# to compare the performance of the custom model with the built-in Logistic Regression.\n",
        "accuracy_sklearn = accuracy_score(y_test, y_pred_sklearn)\n",
        "precision_sklearn = precision_score(y_test, y_pred_sklearn)\n",
        "recall_sklearn = recall_score(y_test, y_pred_sklearn)\n",
        "f1_sklearn = f1_score(y_test, y_pred_sklearn)\n",
        "\n",
        "print(\"Scikit-learn Logistic Regression Metrics:\")\n",
        "print(f\"Accuracy: {accuracy_sklearn:.2f}\")\n",
        "print(f\"Precision: {precision_sklearn:.2f}\")\n",
        "print(f\"Recall: {recall_sklearn:.2f}\")\n",
        "print(f\"F1-Score: {f1_sklearn:.2f}\")"
      ]
    },
    {
      "cell_type": "markdown",
      "metadata": {
        "id": "RCvIymmMy_ji"
      },
      "source": [
        "**Question:** Compare your function with the built-in function. On the matters of performance and parameters. Briefly explain what the parameters of the built-in function are and how they affect the model's performance?"
      ]
    },
    {
      "cell_type": "markdown",
      "metadata": {
        "id": "EY0ohM16z3De"
      },
      "source": [
        "**Your answer:**\n",
        "\n",
        "The built-in LogisticRegression from scikit-learn slightly outperforms our custom implementation because it is optimized with advanced techniques like regularization, better convergence algorithms, and robust handling of numerical stability.\n",
        "\n",
        "Also, Scikit-learn's implementation is highly optimized for performance, utilizing efficient libraries like BLAS and LAPACK. This leads to faster training and inference times compared to the custom implementation.\n",
        "\n",
        "Scikit-learn has many important parameters. For instance, It has a penalty parameterwhich specifies the type of regularization to apply and a c parameter that Controls the strength of this regularization. Also, it has a parameter called solver which determines the optimization algorithm to use. The algorithms vary based on the size of the input data and its complexity. It also has a class_weight which adjusts weights for each class to handle class imbalance.\n",
        "\n",
        "This parameters along many others, make Scikit-learn a better way."
      ]
    },
    {
      "cell_type": "markdown",
      "metadata": {
        "id": "ClMqoYlr2kr7"
      },
      "source": [
        "# Multinomial Logistic Regression"
      ]
    },
    {
      "cell_type": "markdown",
      "source": [
        "Multinomial logistic regression is a statistical method used for **classifying outcomes** when the dependent variable has **more than two categories**. Unlike binary logistic regression, which handles only two possible outcomes, multinomial logistic regression can predict the probabilities of multiple discrete outcomes based on one or more independent variables, which can be continuous or categorical.\n",
        "\n",
        "### Key Features:\n",
        "- **Generalization of Logistic Regression**: It extends the binary logistic model to handle multiclass problems, making it suitable for scenarios like predicting consumer preferences or classifying types of jobs.\n",
        "- **Probability Estimation**: The model estimates the probability of each category by calculating a score for each potential outcome and applying the softmax function to convert these scores into probabilities.\n",
        "- **Modeling Approach**: It can be conceptualized as running multiple binary logistic regressions, where one category is treated as a reference (or pivot) against which others are compared."
      ],
      "metadata": {
        "id": "2YOQIMPXX_UN"
      }
    },
    {
      "cell_type": "markdown",
      "metadata": {
        "id": "ukvlqDe52xP5"
      },
      "source": [
        "**Task:** Implement your own Multinomial Logistic Regression model. Your model must be able to handle any number of labels!"
      ]
    },
    {
      "cell_type": "code",
      "execution_count": 7,
      "metadata": {
        "id": "5Ir-_hFt286t"
      },
      "outputs": [],
      "source": [
        "class MyMultinomialLogisticRegression:\n",
        "    # TODO: Initialize the class with necessary attributes, such as learning rate, number of iterations, and parameters (weights and bias).\n",
        "    # Remember that, for multinomial logistic regression, weights will be a matrix with shape (n_features, n_classes).\n",
        "    def __init__(self, learning_rate=0.01, num_iterations=1000, n_classes=None):\n",
        "        self.learning_rate = learning_rate\n",
        "        self.num_iterations = num_iterations\n",
        "        self.n_classes = n_classes\n",
        "        self.weights = None\n",
        "        self.bias = None\n",
        "\n",
        "    # TODO: Implement a loss function for multinomial logistic regression, using categorical cross-entropy as the loss metric.\n",
        "    # This will calculate the average log loss across all classes for a given set of predictions.\n",
        "    def loss(self, y_true, y_pred):\n",
        "        m = y_true.shape[0]\n",
        "        log_likelihood = -np.log(y_pred[range(m), y_true])\n",
        "        return np.sum(log_likelihood) / m\n",
        "\n",
        "    # TODO: Implement the fit method to train the model. Use gradient descent to update the weights and bias based on the training data.\n",
        "    # Ensure that the code is optimized to run on GPU if available (e.g., by using torch tensors on GPU).\n",
        "    def fit(self, X, y):\n",
        "        m, n_features = X.shape\n",
        "        self.n_classes = len(np.unique(y))\n",
        "\n",
        "        self.weights = np.zeros((n_features, self.n_classes))\n",
        "        self.bias = np.zeros((1, self.n_classes))\n",
        "\n",
        "        y_one_hot = np.zeros((m, self.n_classes))\n",
        "        y_one_hot[np.arange(m), y] = 1\n",
        "\n",
        "        for i in range(self.num_iterations):\n",
        "            # Compute scores and probabilities\n",
        "            scores = np.dot(X, self.weights) + self.bias\n",
        "            probs = np.exp(scores - np.max(scores, axis=1, keepdims=True))\n",
        "\n",
        "            # Compute gradients\n",
        "            dw = np.dot(X.T, (probs - y_one_hot)) / m\n",
        "            db = np.sum(probs - y_one_hot, axis=0, keepdims=True) / m\n",
        "\n",
        "            # Update weights and bias\n",
        "            self.weights -= self.learning_rate * dw\n",
        "            self.bias -= self.learning_rate * db\n",
        "\n",
        "    # TODO: Implement the predict function that uses the learned weights and bias to output predictions on new data.\n",
        "    # Use the softmax function to generate probabilities for each class, and assign each sample to the class with the highest probability.\n",
        "    def predict(self, X):\n",
        "        scores = np.dot(X, self.weights) + self.bias\n",
        "        probs = np.exp(scores - np.max(scores, axis=1, keepdims=True))\n",
        "        return np.argmax(probs, axis=1)"
      ]
    },
    {
      "cell_type": "markdown",
      "metadata": {
        "id": "zPQ3Rtay3Y2_"
      },
      "source": [
        "**Task:** Test your model on the given dataset. Do the same as the previous part, but here you might want to first make the Target column quantized into $i$ levels. Change $i$ from 2 to 10."
      ]
    },
    {
      "cell_type": "code",
      "execution_count": 8,
      "metadata": {
        "id": "9aP4QJPq29B3",
        "colab": {
          "base_uri": "https://localhost:8080/"
        },
        "outputId": "652d6348-62ce-4575-a530-e6bcdd24a5b5"
      },
      "outputs": [
        {
          "output_type": "stream",
          "name": "stdout",
          "text": [
            "Metrics for 2 levels of quantization:\n",
            "  Accuracy: 0.8750\n",
            "  Precision (macro-averaged): 0.8747\n",
            "  Recall (macro-averaged): 0.8747\n",
            "  F1-Score (macro-averaged): 0.8747\n",
            "Metrics for 3 levels of quantization:\n",
            "  Accuracy: 0.7125\n",
            "  Precision (macro-averaged): 0.7063\n",
            "  Recall (macro-averaged): 0.7151\n",
            "  F1-Score (macro-averaged): 0.6900\n",
            "Metrics for 4 levels of quantization:\n",
            "  Accuracy: 0.6125\n",
            "  Precision (macro-averaged): 0.6042\n",
            "  Recall (macro-averaged): 0.5990\n",
            "  F1-Score (macro-averaged): 0.5558\n",
            "Metrics for 5 levels of quantization:\n",
            "  Accuracy: 0.4500\n",
            "  Precision (macro-averaged): 0.4405\n",
            "  Recall (macro-averaged): 0.4599\n",
            "  F1-Score (macro-averaged): 0.4035\n",
            "Metrics for 6 levels of quantization:\n",
            "  Accuracy: 0.3500\n",
            "  Precision (macro-averaged): 0.2818\n",
            "  Recall (macro-averaged): 0.3501\n",
            "  F1-Score (macro-averaged): 0.2787\n",
            "Metrics for 7 levels of quantization:\n",
            "  Accuracy: 0.3250\n",
            "  Precision (macro-averaged): 0.2115\n",
            "  Recall (macro-averaged): 0.3137\n",
            "  F1-Score (macro-averaged): 0.2185\n",
            "Metrics for 8 levels of quantization:\n",
            "  Accuracy: 0.3375\n",
            "  Precision (macro-averaged): 0.2605\n",
            "  Recall (macro-averaged): 0.3237\n",
            "  F1-Score (macro-averaged): 0.2603\n",
            "Metrics for 9 levels of quantization:\n",
            "  Accuracy: 0.3125\n",
            "  Precision (macro-averaged): 0.3002\n",
            "  Recall (macro-averaged): 0.3105\n",
            "  F1-Score (macro-averaged): 0.2345\n",
            "Metrics for 10 levels of quantization:\n",
            "  Accuracy: 0.3000\n",
            "  Precision (macro-averaged): 0.2078\n",
            "  Recall (macro-averaged): 0.3125\n",
            "  F1-Score (macro-averaged): 0.2390\n"
          ]
        }
      ],
      "source": [
        "import pandas as pd\n",
        "import numpy as np\n",
        "from sklearn.model_selection import train_test_split\n",
        "from sklearn.preprocessing import MinMaxScaler\n",
        "from sklearn.metrics import accuracy_score, precision_score, recall_score, f1_score\n",
        "# TODO: Load the dataset.\n",
        "# Make sure to import necessary libraries for handling CSV data (e.g., pandas, numpy).\n",
        "data = pd.read_csv('/content/drive/MyDrive/Colab Notebooks/Logistic_question.csv')\n",
        "# TODO: Quantize the 'Target' column into `i` levels, where `i` ranges from 2 to 10.\n",
        "# This means dividing the target values into `i` evenly spaced bins and assigning each value to a bin index (label).\n",
        "target_column = 'Target'\n",
        "features = data.drop(columns=[target_column])\n",
        "target = data[target_column]\n",
        "# TODO: For each value of `i` (from 2 to 10):\n",
        "results = {}\n",
        "for i in range(2, 11):\n",
        "#       - Quantize the target column based on the current `i` value.\n",
        "    target_quantized = pd.qcut(target, q=i, labels=range(i)).astype(int)\n",
        "\n",
        "#       - Split the data into features (X) and quantized target (y).\n",
        "    X = features.values\n",
        "    y = target_quantized.values\n",
        "\n",
        "#       - Split the data into training and testing sets with an 80-20 split.\n",
        "    X_train, X_test, y_train, y_test = train_test_split(X, y, test_size=0.2, random_state=42, stratify=y)\n",
        "\n",
        "#       - Normalize the training data (X_train) and use the same scaling parameters to normalize X_test.\n",
        "    scaler = MinMaxScaler()\n",
        "    X_train = scaler.fit_transform(X_train)\n",
        "    X_test = scaler.transform(X_test)\n",
        "# TODO: Create an instance of MyMultinomialLogisticRegression.\n",
        "# Fit the model on the training set (X_train, y_train).\n",
        "    model = MyMultinomialLogisticRegression(learning_rate=0.1, num_iterations=5000)\n",
        "    model.fit(X_train, y_train)\n",
        "\n",
        "# TODO: Predict the target values on the test set (X_test).\n",
        "    y_pred = model.predict(X_test)\n",
        "\n",
        "# TODO: Calculate and print 4 different evaluation metrics on the test set predictions.\n",
        "# Suggested metrics: accuracy, precision (macro-averaged), recall (macro-averaged), and F1-score (macro-averaged).\n",
        "# You may want to import these metrics from sklearn (e.g., accuracy_score, precision_score, recall_score, f1_score).\n",
        "    accuracy = accuracy_score(y_test, y_pred)\n",
        "    precision = precision_score(y_test, y_pred, average='macro', zero_division=0)\n",
        "    recall = recall_score(y_test, y_pred, average='macro', zero_division=0)\n",
        "    f1 = f1_score(y_test, y_pred, average='macro', zero_division=0)\n",
        "\n",
        "    print(f\"Metrics for {i} levels of quantization:\")\n",
        "    print(f\"  Accuracy: {accuracy:.4f}\")\n",
        "    print(f\"  Precision (macro-averaged): {precision:.4f}\")\n",
        "    print(f\"  Recall (macro-averaged): {recall:.4f}\")\n",
        "    print(f\"  F1-Score (macro-averaged): {f1:.4f}\")\n",
        "\n",
        "    results[i] = {\n",
        "        \"accuracy\": accuracy,\n",
        "        \"precision\": precision,\n",
        "        \"recall\": recall,\n",
        "        \"f1_score\": f1\n",
        "    }"
      ]
    },
    {
      "cell_type": "markdown",
      "metadata": {
        "id": "Of2sHl5Z4dXi"
      },
      "source": [
        "**Question:** Report for which $i$ your model performs best. Describe and analyze the results! You could use visualizations or any other method!"
      ]
    },
    {
      "cell_type": "markdown",
      "metadata": {
        "id": "cRLERDAr4wnS"
      },
      "source": [
        "**Your answer:**\n",
        "\n",
        "We use the visualization below:"
      ]
    },
    {
      "cell_type": "code",
      "source": [
        "import matplotlib.pyplot as plt\n",
        "\n",
        "# Create a DataFrame from the results dictionary\n",
        "results_df = pd.DataFrame.from_dict(results, orient='index')\n",
        "\n",
        "# Determine the best quantization level based on F1-Score (can change to other metrics)\n",
        "best_i = results_df['f1_score'].idxmax()\n",
        "print(f\"\\nBest performance achieved at quantization level i={best_i}\")\n",
        "\n",
        "# Display corresponding metrics\n",
        "print(\"\\nPerformance Metrics at Best Quantization Level:\")\n",
        "print(results_df.loc[best_i])\n",
        "\n",
        "# Plot metrics for each quantization level\n",
        "plt.figure(figsize=(12, 6))\n",
        "plt.plot(results_df.index, results_df['accuracy'], label='Accuracy', marker='o')\n",
        "plt.plot(results_df.index, results_df['precision'], label='Precision', marker='o')\n",
        "plt.plot(results_df.index, results_df['recall'], label='Recall', marker='o')\n",
        "plt.plot(results_df.index, results_df['f1_score'], label='F1-Score', marker='o')\n",
        "\n",
        "# Formatting the plot\n",
        "plt.title(\"Model Performance Across Quantization Levels\", fontsize=14)\n",
        "plt.xlabel(\"Quantization Level (i)\", fontsize=12)\n",
        "plt.ylabel(\"Metric Value\", fontsize=12)\n",
        "plt.xticks(results_df.index)\n",
        "plt.legend(fontsize=12)\n",
        "plt.grid(True)\n",
        "plt.show()"
      ],
      "metadata": {
        "colab": {
          "base_uri": "https://localhost:8080/",
          "height": 725
        },
        "id": "so5yxBB09xiA",
        "outputId": "d0adf577-c1a9-4984-fcdc-21bc69c2179c"
      },
      "execution_count": 9,
      "outputs": [
        {
          "output_type": "stream",
          "name": "stdout",
          "text": [
            "\n",
            "Best performance achieved at quantization level i=2\n",
            "\n",
            "Performance Metrics at Best Quantization Level:\n",
            "accuracy     0.875000\n",
            "precision    0.874687\n",
            "recall       0.874687\n",
            "f1_score     0.874687\n",
            "Name: 2, dtype: float64\n"
          ]
        },
        {
          "output_type": "display_data",
          "data": {
            "text/plain": [
              "<Figure size 1200x600 with 1 Axes>"
            ],
            "image/png": "[encoded data removed]"
          },
          "metadata": {}
        }
      ]
    },
    {
      "cell_type": "markdown",
      "source": [
        "You can see that as i increases, the metrics decrease because of the higher classification complexity and potential overfitting. So the the best i is i=2."
      ],
      "metadata": {
        "id": "_2xQ5kto91us"
      }
    },
    {
      "cell_type": "markdown",
      "metadata": {
        "id": "wT43jGKV6CBZ"
      },
      "source": [
        "# Going a little further!(bonus*)"
      ]
    },
    {
      "cell_type": "markdown",
      "metadata": {
        "id": "Vo9uGo0R6GZo"
      },
      "source": [
        "First we download Adult income dataset from Kaggle! In order to do this create an account on this website, and create an API. A file named kaggle.json will be downloaded to your device. Then use the following code:"
      ]
    },
    {
      "cell_type": "code",
      "execution_count": 1,
      "metadata": {
        "id": "o-vrjYBF7u1E",
        "colab": {
          "base_uri": "https://localhost:8080/",
          "height": 377
        },
        "outputId": "8268d9e4-d902-42a0-c47c-1c7e6311a884"
      },
      "outputs": [
        {
          "output_type": "display_data",
          "data": {
            "text/plain": [
              "<IPython.core.display.HTML object>"
            ],
            "text/html": [
              "\n",
              "     <input type=\"file\" id=\"files-1e555807-2aaa-403a-b5c0-24ce2f3d97c7\" name=\"files[]\" multiple disabled\n",
              "        style=\"border:none\" />\n",
              "     <output id=\"result-1e555807-2aaa-403a-b5c0-24ce2f3d97c7\">\n",
              "      Upload widget is only available when the cell has been executed in the\n",
              "      current browser session. Please rerun this cell to enable.\n",
              "      </output>\n",
              "      <script>// Copyright 2017 Google LLC\n",
              "//\n",
              "// Licensed under the Apache License, Version 2.0 (the \"License\");\n",
              "// you may not use this file except in compliance with the License.\n",
              "// You may obtain a copy of the License at\n",
              "//\n",
              "//      http://www.apache.org/licenses/LICENSE-2.0\n",
              "//\n",
              "// Unless required by applicable law or agreed to in writing, software\n",
              "// distributed under the License is distributed on an \"AS IS\" BASIS,\n",
              "// WITHOUT WARRANTIES OR CONDITIONS OF ANY KIND, either express or implied.\n",
              "// See the License for the specific language governing permissions and\n",
              "// limitations under the License.\n",
              "\n",
              "/**\n",
              " * @fileoverview Helpers for google.colab Python module.\n",
              " */\n",
              "(function(scope) {\n",
              "function span(text, styleAttributes = {}) {\n",
              "  const element = document.createElement('span');\n",
              "  element.textContent = text;\n",
              "  for (const key of Object.keys(styleAttributes)) {\n",
              "    element.style[key] = styleAttributes[key];\n",
              "  }\n",
              "  return element;\n",
              "}\n",
              "\n",
              "// Max number of bytes which will be uploaded at a time.\n",
              "const MAX_PAYLOAD_SIZE = 100 * 1024;\n",
              "\n",
              "function _uploadFiles(inputId, outputId) {\n",
              "  const steps = uploadFilesStep(inputId, outputId);\n",
              "  const outputElement = document.getElementById(outputId);\n",
              "  // Cache steps on the outputElement to make it available for the next call\n",
              "  // to uploadFilesContinue from Python.\n",
              "  outputElement.steps = steps;\n",
              "\n",
              "  return _uploadFilesContinue(outputId);\n",
              "}\n",
              "\n",
              "// This is roughly an async generator (not supported in the browser yet),\n",
              "// where there are multiple asynchronous steps and the Python side is going\n",
              "// to poll for completion of each step.\n",
              "// This uses a Promise to block the python side on completion of each step,\n",
              "// then passes the result of the previous step as the input to the next step.\n",
              "function _uploadFilesContinue(outputId) {\n",
              "  const outputElement = document.getElementById(outputId);\n",
              "  const steps = outputElement.steps;\n",
              "\n",
              "  const next = steps.next(outputElement.lastPromiseValue);\n",
              "  return Promise.resolve(next.value.promise).then((value) => {\n",
              "    // Cache the last promise value to make it available to the next\n",
              "    // step of the generator.\n",
              "    outputElement.lastPromiseValue = value;\n",
              "    return next.value.response;\n",
              "  });\n",
              "}\n",
              "\n",
              "/**\n",
              " * Generator function which is called between each async step of the upload\n",
              " * process.\n",
              " * @param {string} inputId Element ID of the input file picker element.\n",
              " * @param {string} outputId Element ID of the output display.\n",
              " * @return {!Iterable<!Object>} Iterable of next steps.\n",
              " */\n",
              "function* uploadFilesStep(inputId, outputId) {\n",
              "  const inputElement = document.getElementById(inputId);\n",
              "  inputElement.disabled = false;\n",
              "\n",
              "  const outputElement = document.getElementById(outputId);\n",
              "  outputElement.innerHTML = '';\n",
              "\n",
              "  const pickedPromise = new Promise((resolve) => {\n",
              "    inputElement.addEventListener('change', (e) => {\n",
              "      resolve(e.target.files);\n",
              "    });\n",
              "  });\n",
              "\n",
              "  const cancel = document.createElement('button');\n",
              "  inputElement.parentElement.appendChild(cancel);\n",
              "  cancel.textContent = 'Cancel upload';\n",
              "  const cancelPromise = new Promise((resolve) => {\n",
              "    cancel.onclick = () => {\n",
              "      resolve(null);\n",
              "    };\n",
              "  });\n",
              "\n",
              "  // Wait for the user to pick the files.\n",
              "  const files = yield {\n",
              "    promise: Promise.race([pickedPromise, cancelPromise]),\n",
              "    response: {\n",
              "      action: 'starting',\n",
              "    }\n",
              "  };\n",
              "\n",
              "  cancel.remove();\n",
              "\n",
              "  // Disable the input element since further picks are not allowed.\n",
              "  inputElement.disabled = true;\n",
              "\n",
              "  if (!files) {\n",
              "    return {\n",
              "      response: {\n",
              "        action: 'complete',\n",
              "      }\n",
              "    };\n",
              "  }\n",
              "\n",
              "  for (const file of files) {\n",
              "    const li = document.createElement('li');\n",
              "    li.append(span(file.name, {fontWeight: 'bold'}));\n",
              "    li.append(span(\n",
              "        `(${file.type || 'n/a'}) - ${file.size} bytes, ` +\n",
              "        `last modified: ${\n",
              "            file.lastModifiedDate ? file.lastModifiedDate.toLocaleDateString() :\n",
              "                                    'n/a'} - `));\n",
              "    const percent = span('0% done');\n",
              "    li.appendChild(percent);\n",
              "\n",
              "    outputElement.appendChild(li);\n",
              "\n",
              "    const fileDataPromise = new Promise((resolve) => {\n",
              "      const reader = new FileReader();\n",
              "      reader.onload = (e) => {\n",
              "        resolve(e.target.result);\n",
              "      };\n",
              "      reader.readAsArrayBuffer(file);\n",
              "    });\n",
              "    // Wait for the data to be ready.\n",
              "    let fileData = yield {\n",
              "      promise: fileDataPromise,\n",
              "      response: {\n",
              "        action: 'continue',\n",
              "      }\n",
              "    };\n",
              "\n",
              "    // Use a chunked sending to avoid message size limits. See b/62115660.\n",
              "    let position = 0;\n",
              "    do {\n",
              "      const length = Math.min(fileData.byteLength - position, MAX_PAYLOAD_SIZE);\n",
              "      const chunk = new Uint8Array(fileData, position, length);\n",
              "      position += length;\n",
              "\n",
              "      const base64 = btoa(String.fromCharCode.apply(null, chunk));\n",
              "      yield {\n",
              "        response: {\n",
              "          action: 'append',\n",
              "          file: file.name,\n",
              "          data: base64,\n",
              "        },\n",
              "      };\n",
              "\n",
              "      let percentDone = fileData.byteLength === 0 ?\n",
              "          100 :\n",
              "          Math.round((position / fileData.byteLength) * 100);\n",
              "      percent.textContent = `${percentDone}% done`;\n",
              "\n",
              "    } while (position < fileData.byteLength);\n",
              "  }\n",
              "\n",
              "  // All done.\n",
              "  yield {\n",
              "    response: {\n",
              "      action: 'complete',\n",
              "    }\n",
              "  };\n",
              "}\n",
              "\n",
              "scope.google = scope.google || {};\n",
              "scope.google.colab = scope.google.colab || {};\n",
              "scope.google.colab._files = {\n",
              "  _uploadFiles,\n",
              "  _uploadFilesContinue,\n",
              "};\n",
              "})(self);\n",
              "</script> "
            ]
          },
          "metadata": {}
        },
        {
          "output_type": "error",
          "ename": "KeyboardInterrupt",
          "evalue": "",
          "traceback": [
            "\u001b[0;31m---------------------------------------------------------------------------\u001b[0m",
            "\u001b[0;31mKeyboardInterrupt\u001b[0m                         Traceback (most recent call last)",
            "\u001b[0;32m<ipython-input-1-900e0af62f3f>\u001b[0m in \u001b[0;36m<cell line: 2>\u001b[0;34m()\u001b[0m\n\u001b[1;32m      1\u001b[0m \u001b[0;32mfrom\u001b[0m \u001b[0mgoogle\u001b[0m\u001b[0;34m.\u001b[0m\u001b[0mcolab\u001b[0m \u001b[0;32mimport\u001b[0m \u001b[0mfiles\u001b[0m\u001b[0;34m\u001b[0m\u001b[0;34m\u001b[0m\u001b[0m\n\u001b[0;32m----> 2\u001b[0;31m \u001b[0mfiles\u001b[0m\u001b[0;34m.\u001b[0m\u001b[0mupload\u001b[0m\u001b[0;34m(\u001b[0m\u001b[0;34m)\u001b[0m  \u001b[0;31m# Use this to select the kaggle.json file from your computer\u001b[0m\u001b[0;34m\u001b[0m\u001b[0;34m\u001b[0m\u001b[0m\n\u001b[0m\u001b[1;32m      3\u001b[0m \u001b[0mget_ipython\u001b[0m\u001b[0;34m(\u001b[0m\u001b[0;34m)\u001b[0m\u001b[0;34m.\u001b[0m\u001b[0msystem\u001b[0m\u001b[0;34m(\u001b[0m\u001b[0;34m'mkdir -p ~/.kaggle'\u001b[0m\u001b[0;34m)\u001b[0m\u001b[0;34m\u001b[0m\u001b[0;34m\u001b[0m\u001b[0m\n\u001b[1;32m      4\u001b[0m \u001b[0mget_ipython\u001b[0m\u001b[0;34m(\u001b[0m\u001b[0;34m)\u001b[0m\u001b[0;34m.\u001b[0m\u001b[0msystem\u001b[0m\u001b[0;34m(\u001b[0m\u001b[0;34m'cp kaggle.json ~/.kaggle/'\u001b[0m\u001b[0;34m)\u001b[0m\u001b[0;34m\u001b[0m\u001b[0;34m\u001b[0m\u001b[0m\n\u001b[1;32m      5\u001b[0m \u001b[0mget_ipython\u001b[0m\u001b[0;34m(\u001b[0m\u001b[0;34m)\u001b[0m\u001b[0;34m.\u001b[0m\u001b[0msystem\u001b[0m\u001b[0;34m(\u001b[0m\u001b[0;34m'chmod 600 ~/.kaggle/kaggle.json'\u001b[0m\u001b[0;34m)\u001b[0m\u001b[0;34m\u001b[0m\u001b[0;34m\u001b[0m\u001b[0m\n",
            "\u001b[0;32m/usr/local/lib/python3.10/dist-packages/google/colab/files.py\u001b[0m in \u001b[0;36mupload\u001b[0;34m(target_dir)\u001b[0m\n\u001b[1;32m     70\u001b[0m   \"\"\"\n\u001b[1;32m     71\u001b[0m \u001b[0;34m\u001b[0m\u001b[0m\n\u001b[0;32m---> 72\u001b[0;31m   \u001b[0muploaded_files\u001b[0m \u001b[0;34m=\u001b[0m \u001b[0m_upload_files\u001b[0m\u001b[0;34m(\u001b[0m\u001b[0mmultiple\u001b[0m\u001b[0;34m=\u001b[0m\u001b[0;32mTrue\u001b[0m\u001b[0;34m)\u001b[0m\u001b[0;34m\u001b[0m\u001b[0;34m\u001b[0m\u001b[0m\n\u001b[0m\u001b[1;32m     73\u001b[0m   \u001b[0;31m# Mapping from original filename to filename as saved locally.\u001b[0m\u001b[0;34m\u001b[0m\u001b[0;34m\u001b[0m\u001b[0m\n\u001b[1;32m     74\u001b[0m   \u001b[0mlocal_filenames\u001b[0m \u001b[0;34m=\u001b[0m \u001b[0mdict\u001b[0m\u001b[0;34m(\u001b[0m\u001b[0;34m)\u001b[0m\u001b[0;34m\u001b[0m\u001b[0;34m\u001b[0m\u001b[0m\n",
            "\u001b[0;32m/usr/local/lib/python3.10/dist-packages/google/colab/files.py\u001b[0m in \u001b[0;36m_upload_files\u001b[0;34m(multiple)\u001b[0m\n\u001b[1;32m    162\u001b[0m \u001b[0;34m\u001b[0m\u001b[0m\n\u001b[1;32m    163\u001b[0m   \u001b[0;31m# First result is always an indication that the file picker has completed.\u001b[0m\u001b[0;34m\u001b[0m\u001b[0;34m\u001b[0m\u001b[0m\n\u001b[0;32m--> 164\u001b[0;31m   result = _output.eval_js(\n\u001b[0m\u001b[1;32m    165\u001b[0m       'google.colab._files._uploadFiles(\"{input_id}\", \"{output_id}\")'.format(\n\u001b[1;32m    166\u001b[0m           \u001b[0minput_id\u001b[0m\u001b[0;34m=\u001b[0m\u001b[0minput_id\u001b[0m\u001b[0;34m,\u001b[0m \u001b[0moutput_id\u001b[0m\u001b[0;34m=\u001b[0m\u001b[0moutput_id\u001b[0m\u001b[0;34m\u001b[0m\u001b[0;34m\u001b[0m\u001b[0m\n",
            "\u001b[0;32m/usr/local/lib/python3.10/dist-packages/google/colab/output/_js.py\u001b[0m in \u001b[0;36meval_js\u001b[0;34m(script, ignore_result, timeout_sec)\u001b[0m\n\u001b[1;32m     38\u001b[0m   \u001b[0;32mif\u001b[0m \u001b[0mignore_result\u001b[0m\u001b[0;34m:\u001b[0m\u001b[0;34m\u001b[0m\u001b[0;34m\u001b[0m\u001b[0m\n\u001b[1;32m     39\u001b[0m     \u001b[0;32mreturn\u001b[0m\u001b[0;34m\u001b[0m\u001b[0;34m\u001b[0m\u001b[0m\n\u001b[0;32m---> 40\u001b[0;31m   \u001b[0;32mreturn\u001b[0m \u001b[0m_message\u001b[0m\u001b[0;34m.\u001b[0m\u001b[0mread_reply_from_input\u001b[0m\u001b[0;34m(\u001b[0m\u001b[0mrequest_id\u001b[0m\u001b[0;34m,\u001b[0m \u001b[0mtimeout_sec\u001b[0m\u001b[0;34m)\u001b[0m\u001b[0;34m\u001b[0m\u001b[0;34m\u001b[0m\u001b[0m\n\u001b[0m\u001b[1;32m     41\u001b[0m \u001b[0;34m\u001b[0m\u001b[0m\n\u001b[1;32m     42\u001b[0m \u001b[0;34m\u001b[0m\u001b[0m\n",
            "\u001b[0;32m/usr/local/lib/python3.10/dist-packages/google/colab/_message.py\u001b[0m in \u001b[0;36mread_reply_from_input\u001b[0;34m(message_id, timeout_sec)\u001b[0m\n\u001b[1;32m     94\u001b[0m     \u001b[0mreply\u001b[0m \u001b[0;34m=\u001b[0m \u001b[0m_read_next_input_message\u001b[0m\u001b[0;34m(\u001b[0m\u001b[0;34m)\u001b[0m\u001b[0;34m\u001b[0m\u001b[0;34m\u001b[0m\u001b[0m\n\u001b[1;32m     95\u001b[0m     \u001b[0;32mif\u001b[0m \u001b[0mreply\u001b[0m \u001b[0;34m==\u001b[0m \u001b[0m_NOT_READY\u001b[0m \u001b[0;32mor\u001b[0m \u001b[0;32mnot\u001b[0m \u001b[0misinstance\u001b[0m\u001b[0;34m(\u001b[0m\u001b[0mreply\u001b[0m\u001b[0;34m,\u001b[0m \u001b[0mdict\u001b[0m\u001b[0;34m)\u001b[0m\u001b[0;34m:\u001b[0m\u001b[0;34m\u001b[0m\u001b[0;34m\u001b[0m\u001b[0m\n\u001b[0;32m---> 96\u001b[0;31m       \u001b[0mtime\u001b[0m\u001b[0;34m.\u001b[0m\u001b[0msleep\u001b[0m\u001b[0;34m(\u001b[0m\u001b[0;36m0.025\u001b[0m\u001b[0;34m)\u001b[0m\u001b[0;34m\u001b[0m\u001b[0;34m\u001b[0m\u001b[0m\n\u001b[0m\u001b[1;32m     97\u001b[0m       \u001b[0;32mcontinue\u001b[0m\u001b[0;34m\u001b[0m\u001b[0;34m\u001b[0m\u001b[0m\n\u001b[1;32m     98\u001b[0m     if (\n",
            "\u001b[0;31mKeyboardInterrupt\u001b[0m: "
          ]
        }
      ],
      "source": [
        "from google.colab import files\n",
        "files.upload()  # Use this to select the kaggle.json file from your computer\n",
        "!mkdir -p ~/.kaggle\n",
        "!cp kaggle.json ~/.kaggle/\n",
        "!chmod 600 ~/.kaggle/kaggle.json"
      ]
    },
    {
      "cell_type": "markdown",
      "metadata": {
        "id": "5i6u6_1v8ftX"
      },
      "source": [
        "Then use this code to automatically download the dataset into Colab."
      ]
    },
    {
      "cell_type": "code",
      "execution_count": null,
      "metadata": {
        "id": "XjyVaVKF29Hx"
      },
      "outputs": [],
      "source": [
        "!kaggle datasets download -d wenruliu/adult-income-dataset\n",
        "!unzip /content/adult-income-dataset.zip"
      ]
    },
    {
      "cell_type": "markdown",
      "metadata": {
        "id": "EXQnbZwt8rJK"
      },
      "source": [
        "**Task:** Determine the number of null entries!"
      ]
    },
    {
      "cell_type": "code",
      "execution_count": null,
      "metadata": {
        "id": "JtuEx6QW29c1"
      },
      "outputs": [],
      "source": [
        "\n",
        "# TODO: Import the pandas library to handle data manipulation and analysis.\n",
        "\n",
        "# TODO: Load the dataset into a pandas DataFrame.\n",
        "\n",
        "# TODO: Check for null entries in each column using the .isnull().sum() method.\n",
        "# This will give the number of null entries for each column.\n",
        "\n",
        "# TODO: Calculate the total number of null entries in the dataset by summing the null values across all columns.\n",
        "\n",
        "# TODO: Print the number of null entries per column and the total number of null entries in the dataset."
      ]
    },
    {
      "cell_type": "markdown",
      "metadata": {
        "id": "JpEcBdTUAYVN"
      },
      "source": [
        "**Question:** In many widely used datasets there are a lot of null entries. Propose 5 methods by which, one could deal with this problem. Briefly explain how do you decide which one to use in this problem."
      ]
    },
    {
      "cell_type": "markdown",
      "metadata": {
        "id": "l1u1pBHuAsSg"
      },
      "source": [
        "**Your answer:**"
      ]
    },
    {
      "cell_type": "markdown",
      "metadata": {
        "id": "eHhH-hkpAxFf"
      },
      "source": [
        "**Task:** Handle null entries using your best method."
      ]
    },
    {
      "cell_type": "code",
      "execution_count": null,
      "metadata": {
        "id": "5fVwWcjK29fk"
      },
      "outputs": [],
      "source": [
        "\n",
        "# TODO: Determine the best method for handling null entries.\n",
        "# Options include:\n",
        "# - Dropping rows with null values using .dropna() if they are few in number.\n",
        "# - Filling null values with a specific value (e.g., mean, median, or mode) using .fillna().\n",
        "# - Consider more sophisticated methods, such as interpolation or model-based imputation, if appropriate.\n",
        "\n",
        "# TODO: Implement the chosen method to handle null entries in the dataset.\n",
        "# For example, if dropping rows, use:\n",
        "# data_cleaned = data.dropna()\n",
        "\n",
        "# TODO: If filling null values, decide on the strategy (mean, median, mode) for each relevant column.\n",
        "# For example:\n",
        "# data['column_name'].fillna(data['column_name'].mean(), inplace=True)\n",
        "\n",
        "# TODO: After handling null entries, verify that there are no more null values in the dataset.\n",
        "# This can be done using the .isnull().sum() method again.\n",
        "\n",
        "# TODO: Print the results to confirm that null entries have been handled successfully."
      ]
    },
    {
      "cell_type": "markdown",
      "metadata": {
        "id": "43k5cTorCJaV"
      },
      "source": [
        "**Task:** Convert categorical features to numerical values. Split the dataset with 80-20 portion. Normalize all the data using X_train. Use the built-in Logistic Regression function and GridSearchCV to train your model, and report the parameters, train and test accuracy of the best model."
      ]
    },
    {
      "cell_type": "code",
      "execution_count": null,
      "metadata": {
        "id": "Agj18Lcd-vyZ"
      },
      "outputs": [],
      "source": [
        "# TODO: Convert categorical features to numerical values using appropriate encoding methods.\n",
        "# Options include one-hot encoding with pd.get_dummies() or label encoding using sklearn's LabelEncoder.\n",
        "\n",
        "# TODO: Split the dataset into features (X) and target (y).\n",
        "# For example, set X to all columns except the target and y to the target column.\n",
        "\n",
        "# TODO: Use train_test_split from sklearn to split the dataset into training and testing sets with an 80-20 ratio.\n",
        "# Set random_state for reproducibility.\n",
        "\n",
        "# TODO: Normalize the features using a method such as StandardScaler or MinMaxScaler.\n",
        "# Fit the scaler on X_train and transform both X_train and X_test.\n",
        "\n",
        "# TODO: Import the LogisticRegression model and GridSearchCV from sklearn.\n",
        "# Create an instance of LogisticRegression and specify the parameters you want to tune.\n",
        "\n",
        "# TODO: Define a parameter grid for GridSearchCV to search over.\n",
        "# This should include hyperparameters such as 'C' (regularization strength), 'solver', etc.\n",
        "\n",
        "# TODO: Fit the GridSearchCV to the training data (X_train, y_train).\n",
        "# Ensure you specify the scoring metric you want to optimize (e.g., accuracy).\n",
        "\n",
        "# TODO: Retrieve the best model and its parameters from GridSearchCV.\n",
        "# Print the best parameters found by GridSearchCV.\n",
        "\n",
        "# TODO: Evaluate the best model on the training set and the test set.\n",
        "# Calculate and print the training and testing accuracy.\n",
        "\n",
        "# TODO: Print the results to summarize the model performance."
      ]
    },
    {
      "cell_type": "markdown",
      "metadata": {
        "id": "6Lzr2lqXDQ1T"
      },
      "source": [
        "**Task:** To try a different route, split X_train into $i$ parts, and train $i$ separate models on these parts. Now propose and implement 3 different *ensemble methods* to derive the global models' prediction for X_test using the results(not necessarily predictions!) of the $i$ models. Firstly, set $i=10$ to find the method with the best test accuracy(the answer is not general!). You must Use your own Logistic Regression model.(You might want to modify it a little bit for this part!)"
      ]
    },
    {
      "cell_type": "code",
      "execution_count": null,
      "metadata": {
        "id": "K9D1jlstF9nF"
      },
      "outputs": [],
      "source": [
        "# TODO: Set the value of i to 10 for splitting the training data into parts.\n",
        "\n",
        "# TODO: Split X_train into i parts. You can use numpy's array_split function or similar methods.\n",
        "# This will create a list of subsets of X_train and the corresponding subsets of y_train.\n",
        "\n",
        "# TODO: Initialize a list to store the models trained on each part of the data.\n",
        "\n",
        "# TODO: For each part (subset) of the training data:\n",
        "#       - Create an instance of your custom MyLogisticRegression model.\n",
        "#       - Fit the model on the subset (X_part, y_part).\n",
        "#       - Store the trained model in the list of models.\n",
        "\n",
        "# TODO: Define the three ensemble methods you want to implement.\n",
        "\n",
        "# TODO: Evaluate and compare the test accuracy of each ensemble method on X_test.\n",
        "# Print the test accuracy for each ensemble method.\n",
        "\n",
        "# TODO: Based on the results, determine which ensemble method performed the best on the test set."
      ]
    },
    {
      "cell_type": "markdown",
      "metadata": {
        "id": "9QS9HYJ5FW1T"
      },
      "source": [
        "**Question:** Explain your proposed methods and the reason you decided to use them!"
      ]
    },
    {
      "cell_type": "markdown",
      "metadata": {
        "id": "6hCBQuAeF46a"
      },
      "source": [
        "**Your answer:**"
      ]
    },
    {
      "cell_type": "markdown",
      "metadata": {
        "id": "jjSREvg4FTHf"
      },
      "source": [
        "**Task:** Now, for your best method, change $i$ from 2 to 100 and report $i$, train and test accuracy of the best model. Also, plot test and train accuracy for $2\\leq i\\leq100$."
      ]
    },
    {
      "cell_type": "code",
      "execution_count": null,
      "metadata": {
        "id": "tfKS-Jq0-v4P"
      },
      "outputs": [],
      "source": [
        "# TODO: Initialize lists to store the values of i, training accuracies, and testing accuracies.\n",
        "\n",
        "# TODO: Create a loop to iterate over the range of i from 2 to 100:\n",
        "\n",
        "# TODO: After the loop, determine the best value of i based on the test accuracy.\n",
        "\n",
        "# TODO: Print the best value of i, along with the corresponding training and test accuracy of the best model.\n",
        "\n",
        "# TODO: Plot the training and testing accuracies against i.\n",
        "# Use a line plot to visualize the performance as i changes from 2 to 100.\n",
        "# Make sure to label the axes and provide a title for the plot."
      ]
    },
    {
      "cell_type": "markdown",
      "metadata": {
        "id": "BWV0YUgRGg1p"
      },
      "source": [
        "**Question:** Analyze the results."
      ]
    },
    {
      "cell_type": "markdown",
      "metadata": {
        "id": "8QzJTD9hVA4l"
      },
      "source": [
        "**Your Answer:**"
      ]
    }
  ],
  "metadata": {
    "colab": {
      "provenance": [],
      "toc_visible": true
    },
    "kernelspec": {
      "display_name": "Python 3 (ipykernel)",
      "language": "python",
      "name": "python3"
    },
    "language_info": {
      "codemirror_mode": {
        "name": "ipython",
        "version": 3
      },
      "file_extension": ".py",
      "mimetype": "text/x-python",
      "name": "python",
      "nbconvert_exporter": "python",
      "pygments_lexer": "ipython3",
      "version": "3.10.9"
    }
  },
  "nbformat": 4,
  "nbformat_minor": 0
}